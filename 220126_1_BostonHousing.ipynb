{
 "cells": [
  {
   "cell_type": "markdown",
   "id": "a3489d9b",
   "metadata": {},
   "source": [
    "# 1. 분석 기획\n",
    "- 미국 인구 조사국에서 수집한 보스턴 시의 주택 가격에 대한 데이터를 통해 주택의 가격에 영향을 미치는 주요 인자를 확인하고, 모델 개발을 통하여 주택 가격을 정확히 예측하고자 한다.\n",
    "- boston_housing.csv \n",
    "- 변수: 14 개, 자료 수 : 506 개\n",
    "\n",
    "- 현장에 적용했을 때 가치가 있는가\n",
    "### *목표: 데이터 분석을 통한 보스턴의 주택 가격 예측 정확도 향상*"
   ]
  },
  {
   "cell_type": "markdown",
   "id": "9b664ff7",
   "metadata": {},
   "source": [
    "# 2. 데이터 수집"
   ]
  },
  {
   "cell_type": "code",
   "execution_count": 1,
   "id": "f4b4806f",
   "metadata": {},
   "outputs": [],
   "source": [
    "import pandas as pd \n",
    "import numpy as np \n",
    "import matplotlib as mpl\n",
    "import matplotlib.pyplot as plt\n",
    "plt.rcParams['axes.unicode_minus'] = False\n",
    "plt.rcParams['font.family'] = 'Malgun Gothic'\n",
    "import seaborn as sns\n",
    "import scipy.stats as stats\n",
    "from scipy.stats import shapiro"
   ]
  },
  {
   "cell_type": "code",
   "execution_count": 2,
   "id": "224584ae",
   "metadata": {},
   "outputs": [
    {
     "data": {
      "text/html": [
       "<div>\n",
       "<style scoped>\n",
       "    .dataframe tbody tr th:only-of-type {\n",
       "        vertical-align: middle;\n",
       "    }\n",
       "\n",
       "    .dataframe tbody tr th {\n",
       "        vertical-align: top;\n",
       "    }\n",
       "\n",
       "    .dataframe thead th {\n",
       "        text-align: right;\n",
       "    }\n",
       "</style>\n",
       "<table border=\"1\" class=\"dataframe\">\n",
       "  <thead>\n",
       "    <tr style=\"text-align: right;\">\n",
       "      <th></th>\n",
       "      <th>MEDV</th>\n",
       "      <th>CRIM</th>\n",
       "      <th>ZN</th>\n",
       "      <th>INDUS</th>\n",
       "      <th>CHAS</th>\n",
       "      <th>NOX</th>\n",
       "      <th>RM</th>\n",
       "      <th>AGE</th>\n",
       "      <th>DIS</th>\n",
       "      <th>RAD</th>\n",
       "      <th>TAX</th>\n",
       "      <th>PTRATIO</th>\n",
       "      <th>B</th>\n",
       "      <th>LSTAT</th>\n",
       "    </tr>\n",
       "  </thead>\n",
       "  <tbody>\n",
       "    <tr>\n",
       "      <th>0</th>\n",
       "      <td>24.000000</td>\n",
       "      <td>0.00632</td>\n",
       "      <td>18.0</td>\n",
       "      <td>2.31</td>\n",
       "      <td>0</td>\n",
       "      <td>0.538</td>\n",
       "      <td>6.575</td>\n",
       "      <td>65.199997</td>\n",
       "      <td>4.0900</td>\n",
       "      <td>1</td>\n",
       "      <td>296</td>\n",
       "      <td>15.300000</td>\n",
       "      <td>396.899994</td>\n",
       "      <td>4.98</td>\n",
       "    </tr>\n",
       "    <tr>\n",
       "      <th>1</th>\n",
       "      <td>21.600000</td>\n",
       "      <td>0.02731</td>\n",
       "      <td>0.0</td>\n",
       "      <td>7.07</td>\n",
       "      <td>0</td>\n",
       "      <td>0.469</td>\n",
       "      <td>6.421</td>\n",
       "      <td>78.900002</td>\n",
       "      <td>4.9671</td>\n",
       "      <td>2</td>\n",
       "      <td>242</td>\n",
       "      <td>17.799999</td>\n",
       "      <td>396.899994</td>\n",
       "      <td>9.14</td>\n",
       "    </tr>\n",
       "    <tr>\n",
       "      <th>2</th>\n",
       "      <td>34.700001</td>\n",
       "      <td>0.02729</td>\n",
       "      <td>0.0</td>\n",
       "      <td>7.07</td>\n",
       "      <td>0</td>\n",
       "      <td>0.469</td>\n",
       "      <td>7.185</td>\n",
       "      <td>61.099998</td>\n",
       "      <td>4.9671</td>\n",
       "      <td>2</td>\n",
       "      <td>242</td>\n",
       "      <td>17.799999</td>\n",
       "      <td>392.829987</td>\n",
       "      <td>4.03</td>\n",
       "    </tr>\n",
       "    <tr>\n",
       "      <th>3</th>\n",
       "      <td>33.400002</td>\n",
       "      <td>0.03237</td>\n",
       "      <td>0.0</td>\n",
       "      <td>2.18</td>\n",
       "      <td>0</td>\n",
       "      <td>0.458</td>\n",
       "      <td>6.998</td>\n",
       "      <td>45.799999</td>\n",
       "      <td>6.0622</td>\n",
       "      <td>3</td>\n",
       "      <td>222</td>\n",
       "      <td>18.700001</td>\n",
       "      <td>394.630005</td>\n",
       "      <td>2.94</td>\n",
       "    </tr>\n",
       "    <tr>\n",
       "      <th>4</th>\n",
       "      <td>36.200001</td>\n",
       "      <td>0.06905</td>\n",
       "      <td>0.0</td>\n",
       "      <td>2.18</td>\n",
       "      <td>0</td>\n",
       "      <td>0.458</td>\n",
       "      <td>7.147</td>\n",
       "      <td>54.200001</td>\n",
       "      <td>6.0622</td>\n",
       "      <td>3</td>\n",
       "      <td>222</td>\n",
       "      <td>18.700001</td>\n",
       "      <td>396.899994</td>\n",
       "      <td>5.33</td>\n",
       "    </tr>\n",
       "  </tbody>\n",
       "</table>\n",
       "</div>"
      ],
      "text/plain": [
       "        MEDV     CRIM    ZN  INDUS  CHAS    NOX     RM        AGE     DIS  \\\n",
       "0  24.000000  0.00632  18.0   2.31     0  0.538  6.575  65.199997  4.0900   \n",
       "1  21.600000  0.02731   0.0   7.07     0  0.469  6.421  78.900002  4.9671   \n",
       "2  34.700001  0.02729   0.0   7.07     0  0.469  7.185  61.099998  4.9671   \n",
       "3  33.400002  0.03237   0.0   2.18     0  0.458  6.998  45.799999  6.0622   \n",
       "4  36.200001  0.06905   0.0   2.18     0  0.458  7.147  54.200001  6.0622   \n",
       "\n",
       "   RAD  TAX    PTRATIO           B  LSTAT  \n",
       "0    1  296  15.300000  396.899994   4.98  \n",
       "1    2  242  17.799999  396.899994   9.14  \n",
       "2    2  242  17.799999  392.829987   4.03  \n",
       "3    3  222  18.700001  394.630005   2.94  \n",
       "4    3  222  18.700001  396.899994   5.33  "
      ]
     },
     "execution_count": 2,
     "metadata": {},
     "output_type": "execute_result"
    }
   ],
   "source": [
    "df_raw = pd.read_csv('data/boston_housing.csv')\n",
    "df_raw.head()"
   ]
  },
  {
   "cell_type": "markdown",
   "id": "97400e6b",
   "metadata": {},
   "source": [
    "###### 데이터 특성 확인"
   ]
  },
  {
   "cell_type": "code",
   "execution_count": 3,
   "id": "e4fd241f",
   "metadata": {},
   "outputs": [
    {
     "name": "stdout",
     "output_type": "stream",
     "text": [
      "<class 'pandas.core.frame.DataFrame'>\n",
      "RangeIndex: 506 entries, 0 to 505\n",
      "Data columns (total 14 columns):\n",
      " #   Column   Non-Null Count  Dtype  \n",
      "---  ------   --------------  -----  \n",
      " 0   MEDV     506 non-null    float64\n",
      " 1   CRIM     506 non-null    float64\n",
      " 2   ZN       506 non-null    float64\n",
      " 3   INDUS    504 non-null    float64\n",
      " 4   CHAS     506 non-null    int64  \n",
      " 5   NOX      504 non-null    float64\n",
      " 6   RM       504 non-null    float64\n",
      " 7   AGE      506 non-null    float64\n",
      " 8   DIS      506 non-null    float64\n",
      " 9   RAD      506 non-null    int64  \n",
      " 10  TAX      506 non-null    int64  \n",
      " 11  PTRATIO  506 non-null    float64\n",
      " 12  B        506 non-null    float64\n",
      " 13  LSTAT    506 non-null    float64\n",
      "dtypes: float64(11), int64(3)\n",
      "memory usage: 55.5 KB\n"
     ]
    }
   ],
   "source": [
    "df_raw.info()"
   ]
  },
  {
   "cell_type": "code",
   "execution_count": 4,
   "id": "16012023",
   "metadata": {},
   "outputs": [
    {
     "data": {
      "text/html": [
       "<div>\n",
       "<style scoped>\n",
       "    .dataframe tbody tr th:only-of-type {\n",
       "        vertical-align: middle;\n",
       "    }\n",
       "\n",
       "    .dataframe tbody tr th {\n",
       "        vertical-align: top;\n",
       "    }\n",
       "\n",
       "    .dataframe thead th {\n",
       "        text-align: right;\n",
       "    }\n",
       "</style>\n",
       "<table border=\"1\" class=\"dataframe\">\n",
       "  <thead>\n",
       "    <tr style=\"text-align: right;\">\n",
       "      <th></th>\n",
       "      <th>MEDV</th>\n",
       "      <th>CRIM</th>\n",
       "      <th>ZN</th>\n",
       "      <th>INDUS</th>\n",
       "      <th>CHAS</th>\n",
       "      <th>NOX</th>\n",
       "      <th>RM</th>\n",
       "      <th>AGE</th>\n",
       "      <th>DIS</th>\n",
       "      <th>RAD</th>\n",
       "      <th>TAX</th>\n",
       "      <th>PTRATIO</th>\n",
       "      <th>B</th>\n",
       "      <th>LSTAT</th>\n",
       "    </tr>\n",
       "  </thead>\n",
       "  <tbody>\n",
       "    <tr>\n",
       "      <th>count</th>\n",
       "      <td>506.000000</td>\n",
       "      <td>506.000000</td>\n",
       "      <td>506.000000</td>\n",
       "      <td>504.000000</td>\n",
       "      <td>506.000000</td>\n",
       "      <td>504.000000</td>\n",
       "      <td>504.000000</td>\n",
       "      <td>506.000000</td>\n",
       "      <td>506.000000</td>\n",
       "      <td>506.000000</td>\n",
       "      <td>506.000000</td>\n",
       "      <td>506.000000</td>\n",
       "      <td>506.000000</td>\n",
       "      <td>506.000000</td>\n",
       "    </tr>\n",
       "    <tr>\n",
       "      <th>mean</th>\n",
       "      <td>22.532806</td>\n",
       "      <td>3.613524</td>\n",
       "      <td>11.363636</td>\n",
       "      <td>11.140099</td>\n",
       "      <td>0.069170</td>\n",
       "      <td>0.554797</td>\n",
       "      <td>6.284825</td>\n",
       "      <td>68.574901</td>\n",
       "      <td>3.795043</td>\n",
       "      <td>9.549407</td>\n",
       "      <td>408.237154</td>\n",
       "      <td>18.455534</td>\n",
       "      <td>356.674030</td>\n",
       "      <td>12.653063</td>\n",
       "    </tr>\n",
       "    <tr>\n",
       "      <th>std</th>\n",
       "      <td>9.197104</td>\n",
       "      <td>8.601545</td>\n",
       "      <td>23.322453</td>\n",
       "      <td>6.873751</td>\n",
       "      <td>0.253994</td>\n",
       "      <td>0.116095</td>\n",
       "      <td>0.703950</td>\n",
       "      <td>28.148862</td>\n",
       "      <td>2.105710</td>\n",
       "      <td>8.707259</td>\n",
       "      <td>168.537116</td>\n",
       "      <td>2.164946</td>\n",
       "      <td>91.294863</td>\n",
       "      <td>7.141062</td>\n",
       "    </tr>\n",
       "    <tr>\n",
       "      <th>min</th>\n",
       "      <td>5.000000</td>\n",
       "      <td>0.006320</td>\n",
       "      <td>0.000000</td>\n",
       "      <td>0.460000</td>\n",
       "      <td>0.000000</td>\n",
       "      <td>0.385000</td>\n",
       "      <td>3.561000</td>\n",
       "      <td>2.900000</td>\n",
       "      <td>1.129600</td>\n",
       "      <td>1.000000</td>\n",
       "      <td>187.000000</td>\n",
       "      <td>12.600000</td>\n",
       "      <td>0.320000</td>\n",
       "      <td>1.730000</td>\n",
       "    </tr>\n",
       "    <tr>\n",
       "      <th>25%</th>\n",
       "      <td>17.025000</td>\n",
       "      <td>0.082045</td>\n",
       "      <td>0.000000</td>\n",
       "      <td>5.175000</td>\n",
       "      <td>0.000000</td>\n",
       "      <td>0.449000</td>\n",
       "      <td>5.884750</td>\n",
       "      <td>45.025000</td>\n",
       "      <td>2.100175</td>\n",
       "      <td>4.000000</td>\n",
       "      <td>279.000000</td>\n",
       "      <td>17.400000</td>\n",
       "      <td>375.377487</td>\n",
       "      <td>6.950000</td>\n",
       "    </tr>\n",
       "    <tr>\n",
       "      <th>50%</th>\n",
       "      <td>21.200001</td>\n",
       "      <td>0.256510</td>\n",
       "      <td>0.000000</td>\n",
       "      <td>9.690000</td>\n",
       "      <td>0.000000</td>\n",
       "      <td>0.538000</td>\n",
       "      <td>6.208500</td>\n",
       "      <td>77.500000</td>\n",
       "      <td>3.207450</td>\n",
       "      <td>5.000000</td>\n",
       "      <td>330.000000</td>\n",
       "      <td>19.050000</td>\n",
       "      <td>391.440002</td>\n",
       "      <td>11.360000</td>\n",
       "    </tr>\n",
       "    <tr>\n",
       "      <th>75%</th>\n",
       "      <td>25.000000</td>\n",
       "      <td>3.677083</td>\n",
       "      <td>12.500000</td>\n",
       "      <td>18.100000</td>\n",
       "      <td>0.000000</td>\n",
       "      <td>0.624000</td>\n",
       "      <td>6.626000</td>\n",
       "      <td>94.074999</td>\n",
       "      <td>5.188425</td>\n",
       "      <td>24.000000</td>\n",
       "      <td>666.000000</td>\n",
       "      <td>20.200001</td>\n",
       "      <td>396.225006</td>\n",
       "      <td>16.954999</td>\n",
       "    </tr>\n",
       "    <tr>\n",
       "      <th>max</th>\n",
       "      <td>50.000000</td>\n",
       "      <td>88.976196</td>\n",
       "      <td>100.000000</td>\n",
       "      <td>27.740000</td>\n",
       "      <td>1.000000</td>\n",
       "      <td>0.871000</td>\n",
       "      <td>8.780000</td>\n",
       "      <td>100.000000</td>\n",
       "      <td>12.126500</td>\n",
       "      <td>24.000000</td>\n",
       "      <td>711.000000</td>\n",
       "      <td>22.000000</td>\n",
       "      <td>396.899994</td>\n",
       "      <td>37.970001</td>\n",
       "    </tr>\n",
       "  </tbody>\n",
       "</table>\n",
       "</div>"
      ],
      "text/plain": [
       "             MEDV        CRIM          ZN       INDUS        CHAS         NOX  \\\n",
       "count  506.000000  506.000000  506.000000  504.000000  506.000000  504.000000   \n",
       "mean    22.532806    3.613524   11.363636   11.140099    0.069170    0.554797   \n",
       "std      9.197104    8.601545   23.322453    6.873751    0.253994    0.116095   \n",
       "min      5.000000    0.006320    0.000000    0.460000    0.000000    0.385000   \n",
       "25%     17.025000    0.082045    0.000000    5.175000    0.000000    0.449000   \n",
       "50%     21.200001    0.256510    0.000000    9.690000    0.000000    0.538000   \n",
       "75%     25.000000    3.677083   12.500000   18.100000    0.000000    0.624000   \n",
       "max     50.000000   88.976196  100.000000   27.740000    1.000000    0.871000   \n",
       "\n",
       "               RM         AGE         DIS         RAD         TAX     PTRATIO  \\\n",
       "count  504.000000  506.000000  506.000000  506.000000  506.000000  506.000000   \n",
       "mean     6.284825   68.574901    3.795043    9.549407  408.237154   18.455534   \n",
       "std      0.703950   28.148862    2.105710    8.707259  168.537116    2.164946   \n",
       "min      3.561000    2.900000    1.129600    1.000000  187.000000   12.600000   \n",
       "25%      5.884750   45.025000    2.100175    4.000000  279.000000   17.400000   \n",
       "50%      6.208500   77.500000    3.207450    5.000000  330.000000   19.050000   \n",
       "75%      6.626000   94.074999    5.188425   24.000000  666.000000   20.200001   \n",
       "max      8.780000  100.000000   12.126500   24.000000  711.000000   22.000000   \n",
       "\n",
       "                B       LSTAT  \n",
       "count  506.000000  506.000000  \n",
       "mean   356.674030   12.653063  \n",
       "std     91.294863    7.141062  \n",
       "min      0.320000    1.730000  \n",
       "25%    375.377487    6.950000  \n",
       "50%    391.440002   11.360000  \n",
       "75%    396.225006   16.954999  \n",
       "max    396.899994   37.970001  "
      ]
     },
     "execution_count": 4,
     "metadata": {},
     "output_type": "execute_result"
    }
   ],
   "source": [
    "df_raw.describe()"
   ]
  },
  {
   "cell_type": "code",
   "execution_count": 5,
   "id": "5269ca43",
   "metadata": {},
   "outputs": [
    {
     "data": {
      "text/plain": [
       "MEDV       0\n",
       "CRIM       0\n",
       "ZN         0\n",
       "INDUS      2\n",
       "CHAS       0\n",
       "NOX        2\n",
       "RM         2\n",
       "AGE        0\n",
       "DIS        0\n",
       "RAD        0\n",
       "TAX        0\n",
       "PTRATIO    0\n",
       "B          0\n",
       "LSTAT      0\n",
       "dtype: int64"
      ]
     },
     "execution_count": 5,
     "metadata": {},
     "output_type": "execute_result"
    }
   ],
   "source": [
    "df_raw.isnull().sum()"
   ]
  },
  {
   "cell_type": "markdown",
   "id": "5825c087",
   "metadata": {},
   "source": [
    "- 결측치 확인"
   ]
  },
  {
   "cell_type": "code",
   "execution_count": 13,
   "id": "478e9544",
   "metadata": {},
   "outputs": [
    {
     "data": {
      "text/plain": [
       "<AxesSubplot:>"
      ]
     },
     "execution_count": 13,
     "metadata": {},
     "output_type": "execute_result"
    },
    {
     "data": {
      "image/png": "[encoded data removed]",
      "text/plain": [
       "<Figure size 720x504 with 1 Axes>"
      ]
     },
     "metadata": {
      "needs_background": "light"
     },
     "output_type": "display_data"
    }
   ],
   "source": [
    "df_raw.boxplot(figsize = (10, 7))"
   ]
  },
  {
   "cell_type": "markdown",
   "id": "b1f04a22",
   "metadata": {},
   "source": [
    "- 연속형 변수의 분포 특성 확인"
   ]
  },
  {
   "cell_type": "code",
   "execution_count": null,
   "id": "60275e65",
   "metadata": {},
   "outputs": [],
   "source": []
  },
  {
   "cell_type": "code",
   "execution_count": 14,
   "id": "e2cbf99b",
   "metadata": {},
   "outputs": [
    {
     "data": {
      "text/plain": [
       "Index(['MEDV', 'CRIM', 'ZN', 'INDUS', 'CHAS', 'NOX', 'RM', 'AGE', 'DIS', 'RAD',\n",
       "       'TAX', 'PTRATIO', 'B', 'LSTAT'],\n",
       "      dtype='object')"
      ]
     },
     "execution_count": 14,
     "metadata": {},
     "output_type": "execute_result"
    }
   ],
   "source": [
    "df_raw.columns"
   ]
  },
  {
   "cell_type": "code",
   "execution_count": 21,
   "id": "6696edab",
   "metadata": {},
   "outputs": [
    {
     "data": {
      "image/png": "[encoded data removed]",
      "text/plain": [
       "<Figure size 720x504 with 6 Axes>"
      ]
     },
     "metadata": {
      "needs_background": "light"
     },
     "output_type": "display_data"
    }
   ],
   "source": [
    "df_raw[['MEDV', 'CRIM', 'ZN', 'INDUS', 'NOX', 'RM']].hist(figsize = (10, 7));"
   ]
  },
  {
   "cell_type": "code",
   "execution_count": 22,
   "id": "6db64543",
   "metadata": {},
   "outputs": [
    {
     "data": {
      "image/png": "[encoded data removed]",
      "text/plain": [
       "<Figure size 720x504 with 9 Axes>"
      ]
     },
     "metadata": {
      "needs_background": "light"
     },
     "output_type": "display_data"
    }
   ],
   "source": [
    "df_raw[['AGE', 'DIS', 'RAD', 'TAX', 'PTRATIO', 'B', 'LSTAT']].hist(figsize = (10, 7));"
   ]
  },
  {
   "cell_type": "markdown",
   "id": "dedb1cba",
   "metadata": {},
   "source": [
    "- 범주형 변수의 특성 확인"
   ]
  },
  {
   "cell_type": "code",
   "execution_count": 23,
   "id": "455acfce",
   "metadata": {},
   "outputs": [
    {
     "data": {
      "text/plain": [
       "array([0, 1], dtype=int64)"
      ]
     },
     "execution_count": 23,
     "metadata": {},
     "output_type": "execute_result"
    }
   ],
   "source": [
    "df_raw['CHAS'].unique()"
   ]
  },
  {
   "cell_type": "markdown",
   "id": "4f67c7a3",
   "metadata": {},
   "source": [
    "###### 결측치 처리"
   ]
  },
  {
   "cell_type": "code",
   "execution_count": 25,
   "id": "74a80e6d",
   "metadata": {},
   "outputs": [
    {
     "data": {
      "text/plain": [
       "MEDV       0\n",
       "CRIM       0\n",
       "ZN         0\n",
       "INDUS      2\n",
       "CHAS       0\n",
       "NOX        2\n",
       "RM         2\n",
       "AGE        0\n",
       "DIS        0\n",
       "RAD        0\n",
       "TAX        0\n",
       "PTRATIO    0\n",
       "B          0\n",
       "LSTAT      0\n",
       "dtype: int64"
      ]
     },
     "execution_count": 25,
     "metadata": {},
     "output_type": "execute_result"
    }
   ],
   "source": [
    "df_raw.isnull().sum()"
   ]
  },
  {
   "cell_type": "code",
   "execution_count": 29,
   "id": "54973469",
   "metadata": {},
   "outputs": [
    {
     "data": {
      "text/plain": [
       "11.14"
      ]
     },
     "execution_count": 29,
     "metadata": {},
     "output_type": "execute_result"
    }
   ],
   "source": [
    "#  평균으로 대체\n",
    "round(df_raw['INDUS'].mean(), 3)"
   ]
  },
  {
   "cell_type": "code",
   "execution_count": 30,
   "id": "fc004ee6",
   "metadata": {},
   "outputs": [],
   "source": [
    "df_raw['INDUS'] = df_raw['INDUS'].fillna(round(df_raw['INDUS'].mean(), 3))"
   ]
  },
  {
   "cell_type": "code",
   "execution_count": 31,
   "id": "01e0ae52",
   "metadata": {},
   "outputs": [],
   "source": [
    "df_raw['NOX'] = df_raw['NOX'].fillna(round(df_raw['NOX'].mean(), 3))"
   ]
  },
  {
   "cell_type": "code",
   "execution_count": 32,
   "id": "d98c05ea",
   "metadata": {},
   "outputs": [],
   "source": [
    "df_raw['RM'] = df_raw['RM'].fillna(round(df_raw['RM'].mean(), 3))"
   ]
  },
  {
   "cell_type": "code",
   "execution_count": 33,
   "id": "0c3e0f0d",
   "metadata": {},
   "outputs": [
    {
     "data": {
      "text/plain": [
       "MEDV       0\n",
       "CRIM       0\n",
       "ZN         0\n",
       "INDUS      0\n",
       "CHAS       0\n",
       "NOX        0\n",
       "RM         0\n",
       "AGE        0\n",
       "DIS        0\n",
       "RAD        0\n",
       "TAX        0\n",
       "PTRATIO    0\n",
       "B          0\n",
       "LSTAT      0\n",
       "dtype: int64"
      ]
     },
     "execution_count": 33,
     "metadata": {},
     "output_type": "execute_result"
    }
   ],
   "source": [
    "df_raw.isnull().sum()"
   ]
  },
  {
   "cell_type": "markdown",
   "id": "5fa2e0e4",
   "metadata": {},
   "source": [
    "# 3. 탐색적 분석"
   ]
  },
  {
   "cell_type": "markdown",
   "id": "6dc85c30",
   "metadata": {},
   "source": [
    "- 목표변수와 설명변수간의 특성 확인"
   ]
  },
  {
   "cell_type": "code",
   "execution_count": 36,
   "id": "eec1339f",
   "metadata": {},
   "outputs": [
    {
     "data": {
      "text/plain": [
       "<seaborn.axisgrid.PairGrid at 0x2e4b48ee190>"
      ]
     },
     "execution_count": 36,
     "metadata": {},
     "output_type": "execute_result"
    },
    {
     "data": {
      "image/png": "[encoded data removed]",
      "text/plain": [
       "<Figure size 900x180 with 5 Axes>"
      ]
     },
     "metadata": {
      "needs_background": "light"
     },
     "output_type": "display_data"
    }
   ],
   "source": [
    "sns.pairplot(x_vars= ['CRIM', 'ZN', 'INDUS', 'NOX', 'RM'], y_vars= ['MEDV'], data = df_raw)"
   ]
  },
  {
   "cell_type": "code",
   "execution_count": 37,
   "id": "a6f8ac7e",
   "metadata": {},
   "outputs": [
    {
     "data": {
      "text/plain": [
       "<seaborn.axisgrid.PairGrid at 0x2e4b5d609a0>"
      ]
     },
     "execution_count": 37,
     "metadata": {},
     "output_type": "execute_result"
    },
    {
     "data": {
      "image/png": "[encoded data removed]",
      "text/plain": [
       "<Figure size 1260x180 with 7 Axes>"
      ]
     },
     "metadata": {
      "needs_background": "light"
     },
     "output_type": "display_data"
    }
   ],
   "source": [
    "sns.pairplot(x_vars= ['AGE', 'DIS', 'RAD', 'TAX', 'PTRATIO', 'B', 'LSTAT'], y_vars= ['MEDV'], data = df_raw)"
   ]
  },
  {
   "cell_type": "markdown",
   "id": "3bcba6f5",
   "metadata": {},
   "source": [
    "- 양의 상관관계: RM, DIS, B  \n",
    "- 음의 상관관계: CRIM, NOX, INDUS, LSTAT, (TAX, AGE)"
   ]
  },
  {
   "cell_type": "markdown",
   "id": "d4c69725",
   "metadata": {},
   "source": [
    "###### 통계적 가설 검정"
   ]
  },
  {
   "cell_type": "markdown",
   "id": "07b05180",
   "metadata": {},
   "source": [
    "- 강조망권에 대한 집값 확인"
   ]
  },
  {
   "cell_type": "code",
   "execution_count": 38,
   "id": "51b62f9b",
   "metadata": {},
   "outputs": [
    {
     "data": {
      "text/plain": [
       "<AxesSubplot:xlabel='CHAS', ylabel='MEDV'>"
      ]
     },
     "execution_count": 38,
     "metadata": {},
     "output_type": "execute_result"
    },
    {
     "data": {
      "image/png": "[encoded data removed]",
      "text/plain": [
       "<Figure size 432x288 with 1 Axes>"
      ]
     },
     "metadata": {
      "needs_background": "light"
     },
     "output_type": "display_data"
    }
   ],
   "source": [
    "sns.boxplot(data = df_raw, x = 'CHAS', y = 'MEDV')"
   ]
  },
  {
   "cell_type": "code",
   "execution_count": 39,
   "id": "0bc6bcd6",
   "metadata": {},
   "outputs": [
    {
     "data": {
      "text/plain": [
       "<AxesSubplot:title={'center':'MEDV'}, xlabel='[CHAS]'>"
      ]
     },
     "execution_count": 39,
     "metadata": {},
     "output_type": "execute_result"
    },
    {
     "data": {
      "image/png": "[encoded data removed]",
      "text/plain": [
       "<Figure size 432x288 with 1 Axes>"
      ]
     },
     "metadata": {
      "needs_background": "light"
     },
     "output_type": "display_data"
    }
   ],
   "source": [
    "df_raw.boxplot(column = 'MEDV', by = ['CHAS'])"
   ]
  },
  {
   "cell_type": "markdown",
   "id": "09d41310",
   "metadata": {},
   "source": [
    "- 통계적 가설 검정을 위한 데이터 분리"
   ]
  },
  {
   "cell_type": "code",
   "execution_count": 41,
   "id": "6d28f689",
   "metadata": {},
   "outputs": [],
   "source": [
    "df_raw_chas1 = df_raw.loc[df_raw['CHAS'] == 0, 'MEDV']\n",
    "df_raw_chas2 = df_raw.loc[df_raw['CHAS'] == 1, 'MEDV']"
   ]
  },
  {
   "cell_type": "code",
   "execution_count": 43,
   "id": "3d94b9b7",
   "metadata": {},
   "outputs": [
    {
     "name": "stdout",
     "output_type": "stream",
     "text": [
      "df_raw_chas1; shapiro - Wilk Test : statistic = 0.9282605051994324, p-value = 3.113930960958397e-14\n",
      "df_raw_chas2; shapiro - Wilk Test : statistic = 0.8359232544898987, p-value = 0.00011230883683310822\n"
     ]
    }
   ],
   "source": [
    "# 정규성 검정\n",
    "\n",
    "statistic, p = shapiro(df_raw_chas1)\n",
    "print(\"df_raw_chas1; shapiro - Wilk Test : statistic = {}, p-value = {}\".format(statistic, p))\n",
    "statistic, p = shapiro(df_raw_chas2)\n",
    "print(\"df_raw_chas2; shapiro - Wilk Test : statistic = {}, p-value = {}\".format(statistic, p))"
   ]
  },
  {
   "cell_type": "markdown",
   "id": "150ae94b",
   "metadata": {},
   "source": [
    "- 둘 다 정규성을 띄지 않음 -> 비모수 평균검정"
   ]
  },
  {
   "cell_type": "code",
   "execution_count": 44,
   "id": "67dd11ea",
   "metadata": {},
   "outputs": [
    {
     "data": {
      "text/plain": [
       "MannwhitneyuResult(statistic=5605.5, pvalue=0.0015816705011294974)"
      ]
     },
     "execution_count": 44,
     "metadata": {},
     "output_type": "execute_result"
    }
   ],
   "source": [
    "# \n",
    "\n",
    "stats.mannwhitneyu(df_raw_chas1, df_raw_chas2)"
   ]
  },
  {
   "cell_type": "markdown",
   "id": "b6df5b1b",
   "metadata": {},
   "source": [
    "- 대립가설 채택, 강조망권에 따른 집값에는 차이가 있다."
   ]
  },
  {
   "cell_type": "code",
   "execution_count": 46,
   "id": "37c18805",
   "metadata": {},
   "outputs": [
    {
     "data": {
      "text/plain": [
       "3.6135235608162057"
      ]
     },
     "execution_count": 46,
     "metadata": {},
     "output_type": "execute_result"
    }
   ],
   "source": [
    "df_raw['CRIM'].mean()"
   ]
  },
  {
   "cell_type": "code",
   "execution_count": 65,
   "id": "3919f04c",
   "metadata": {},
   "outputs": [],
   "source": [
    "df_raw_crim1 = df_raw.loc[df_raw['CRIM'] <= 3.61, 'MEDV']\n",
    "df_raw_crim2 = df_raw.loc[df_raw['CRIM'] > 3.61, 'MEDV']"
   ]
  },
  {
   "cell_type": "code",
   "execution_count": 66,
   "id": "5db03d2d",
   "metadata": {},
   "outputs": [
    {
     "name": "stdout",
     "output_type": "stream",
     "text": [
      "df_raw_crim1; shapiro - Wilk Test : statistic = 0.8874213099479675, p-value = 4.918053286259759e-16\n",
      "df_raw_crim2; shapiro - Wilk Test : statistic = 0.7724092602729797, p-value = 8.216392518613225e-13\n"
     ]
    }
   ],
   "source": [
    "statistic, p = shapiro(df_raw_crim1)\n",
    "print(\"df_raw_crim1; shapiro - Wilk Test : statistic = {}, p-value = {}\".format(statistic, p))\n",
    "statistic, p = shapiro(df_raw_crim2)\n",
    "print(\"df_raw_crim2; shapiro - Wilk Test : statistic = {}, p-value = {}\".format(statistic, p))"
   ]
  },
  {
   "cell_type": "code",
   "execution_count": 67,
   "id": "891686db",
   "metadata": {},
   "outputs": [
    {
     "data": {
      "text/plain": [
       "MannwhitneyuResult(statistic=40108.0, pvalue=8.76692699023472e-29)"
      ]
     },
     "execution_count": 67,
     "metadata": {},
     "output_type": "execute_result"
    }
   ],
   "source": [
    "# 비모수\n",
    "stats.mannwhitneyu(df_raw_crim1, df_raw_crim2)"
   ]
  },
  {
   "cell_type": "markdown",
   "id": "ff27dae3",
   "metadata": {},
   "source": [
    "- 대립가설 채택, 범죄율에 따른 집값에는 차이가 있다."
   ]
  },
  {
   "cell_type": "code",
   "execution_count": 68,
   "id": "ea3b5229",
   "metadata": {},
   "outputs": [
    {
     "data": {
      "text/plain": [
       "11.363636363636363"
      ]
     },
     "execution_count": 68,
     "metadata": {},
     "output_type": "execute_result"
    }
   ],
   "source": [
    "df_raw['ZN'].mean()"
   ]
  },
  {
   "cell_type": "code",
   "execution_count": 70,
   "id": "0a3ec775",
   "metadata": {},
   "outputs": [],
   "source": [
    "df_raw_zn1 = df_raw.loc[df_raw['ZN'] <= 11.36, 'MEDV']\n",
    "df_raw_zn2 = df_raw.loc[df_raw['ZN'] > 11.36, 'MEDV']"
   ]
  },
  {
   "cell_type": "code",
   "execution_count": 71,
   "id": "e2653e6b",
   "metadata": {},
   "outputs": [
    {
     "name": "stdout",
     "output_type": "stream",
     "text": [
      "df_raw_zn1; shapiro - Wilk Test : statistic = 0.8783591389656067, p-value = 1.5093558019810196e-16\n",
      "df_raw_zn2; shapiro - Wilk Test : statistic = 0.9147244691848755, p-value = 3.6262400726627675e-07\n"
     ]
    }
   ],
   "source": [
    "statistic, p = shapiro(df_raw_zn1)\n",
    "print(\"df_raw_zn1; shapiro - Wilk Test : statistic = {}, p-value = {}\".format(statistic, p))\n",
    "statistic, p = shapiro(df_raw_zn2)\n",
    "print(\"df_raw_zn2; shapiro - Wilk Test : statistic = {}, p-value = {}\".format(statistic, p))"
   ]
  },
  {
   "cell_type": "code",
   "execution_count": 72,
   "id": "4a6031b1",
   "metadata": {},
   "outputs": [
    {
     "data": {
      "text/plain": [
       "MannwhitneyuResult(statistic=10852.0, pvalue=3.1171712786065326e-22)"
      ]
     },
     "execution_count": 72,
     "metadata": {},
     "output_type": "execute_result"
    }
   ],
   "source": [
    "# 비모수 검정\n",
    "stats.mannwhitneyu(df_raw_zn1, df_raw_zn2)"
   ]
  },
  {
   "cell_type": "markdown",
   "id": "8c0e9975",
   "metadata": {},
   "source": [
    "- 대립가설 채택, 주거지 비율에 따른 집값에는 차이가 있다."
   ]
  },
  {
   "cell_type": "code",
   "execution_count": 73,
   "id": "50f24ad3",
   "metadata": {},
   "outputs": [
    {
     "data": {
      "text/plain": [
       "11.140098906883406"
      ]
     },
     "execution_count": 73,
     "metadata": {},
     "output_type": "execute_result"
    }
   ],
   "source": [
    "df_raw['INDUS'].mean()"
   ]
  },
  {
   "cell_type": "code",
   "execution_count": 74,
   "id": "48143f72",
   "metadata": {},
   "outputs": [],
   "source": [
    "df_raw_indus1 = df_raw.loc[df_raw['INDUS'] <= 11.14, 'MEDV']\n",
    "df_raw_indus2 = df_raw.loc[df_raw['INDUS'] > 11.14, 'MEDV']"
   ]
  },
  {
   "cell_type": "code",
   "execution_count": 75,
   "id": "fd71d30c",
   "metadata": {},
   "outputs": [
    {
     "name": "stdout",
     "output_type": "stream",
     "text": [
      "df_raw_indus1; shapiro - Wilk Test : statistic = 0.8949769139289856, p-value = 2.1410233612059737e-13\n",
      "df_raw_indus2; shapiro - Wilk Test : statistic = 0.8113635778427124, p-value = 2.67613558707126e-15\n"
     ]
    }
   ],
   "source": [
    "statistic, p = shapiro(df_raw_indus1)\n",
    "print(\"df_raw_indus1; shapiro - Wilk Test : statistic = {}, p-value = {}\".format(statistic, p))\n",
    "statistic, p = shapiro(df_raw_indus2)\n",
    "print(\"df_raw_indus2; shapiro - Wilk Test : statistic = {}, p-value = {}\".format(statistic, p))"
   ]
  },
  {
   "cell_type": "code",
   "execution_count": 76,
   "id": "2b6d5181",
   "metadata": {},
   "outputs": [
    {
     "data": {
      "text/plain": [
       "MannwhitneyuResult(statistic=49333.5, pvalue=4.229247845674243e-29)"
      ]
     },
     "execution_count": 76,
     "metadata": {},
     "output_type": "execute_result"
    }
   ],
   "source": [
    "# 비모수 검정\n",
    "stats.mannwhitneyu(df_raw_indus1, df_raw_indus2)"
   ]
  },
  {
   "cell_type": "markdown",
   "id": "a85f2298",
   "metadata": {},
   "source": [
    "- 대립가설 채택, 비소매업 비율에 따른 집값에는 차이가 있다."
   ]
  },
  {
   "cell_type": "markdown",
   "id": "f8878b63",
   "metadata": {},
   "source": [
    "###### 전부 정규성 안 띈다고 하니까 생략하자 원래는 항목마다 다 정규성 검정 해줘야 됨"
   ]
  },
  {
   "cell_type": "code",
   "execution_count": null,
   "id": "17827962",
   "metadata": {},
   "outputs": [],
   "source": []
  },
  {
   "cell_type": "code",
   "execution_count": 77,
   "id": "65e37ea0",
   "metadata": {},
   "outputs": [
    {
     "data": {
      "text/plain": [
       "0.5547978270909084"
      ]
     },
     "execution_count": 77,
     "metadata": {},
     "output_type": "execute_result"
    }
   ],
   "source": [
    "df_raw['NOX'].mean()"
   ]
  },
  {
   "cell_type": "code",
   "execution_count": 79,
   "id": "16285dee",
   "metadata": {},
   "outputs": [],
   "source": [
    "df_raw_NOX1 = df_raw.loc[df_raw['NOX'] <= 0.55, 'MEDV']\n",
    "df_raw_NOX2 = df_raw.loc[df_raw['NOX'] > 0.55, 'MEDV']"
   ]
  },
  {
   "cell_type": "code",
   "execution_count": 80,
   "id": "52ec0d92",
   "metadata": {},
   "outputs": [
    {
     "data": {
      "text/plain": [
       "MannwhitneyuResult(statistic=48317.0, pvalue=1.0971055655801226e-25)"
      ]
     },
     "execution_count": 80,
     "metadata": {},
     "output_type": "execute_result"
    }
   ],
   "source": [
    "# 비모수 검정\n",
    "stats.mannwhitneyu(df_raw_NOX1, df_raw_NOX2)"
   ]
  },
  {
   "cell_type": "markdown",
   "id": "59298aae",
   "metadata": {},
   "source": [
    "- 대립가설 채택, 집값에 차이 있다"
   ]
  },
  {
   "cell_type": "code",
   "execution_count": null,
   "id": "e297c31c",
   "metadata": {},
   "outputs": [],
   "source": []
  },
  {
   "cell_type": "code",
   "execution_count": 82,
   "id": "c20f2fd9",
   "metadata": {},
   "outputs": [
    {
     "data": {
      "text/plain": [
       "6.2848260884723395"
      ]
     },
     "execution_count": 82,
     "metadata": {},
     "output_type": "execute_result"
    }
   ],
   "source": [
    "df_raw['RM'].mean()"
   ]
  },
  {
   "cell_type": "code",
   "execution_count": 84,
   "id": "0a7d8105",
   "metadata": {},
   "outputs": [],
   "source": [
    "df_raw_RM1 = df_raw.loc[df_raw['RM'] <= 6.28, 'MEDV']\n",
    "df_raw_RM2 = df_raw.loc[df_raw['RM'] > 6.28, 'MEDV']"
   ]
  },
  {
   "cell_type": "code",
   "execution_count": 85,
   "id": "f029011d",
   "metadata": {},
   "outputs": [
    {
     "data": {
      "text/plain": [
       "MannwhitneyuResult(statistic=13142.5, pvalue=7.772083418790219e-30)"
      ]
     },
     "execution_count": 85,
     "metadata": {},
     "output_type": "execute_result"
    }
   ],
   "source": [
    "# 비모수 검정\n",
    "stats.mannwhitneyu(df_raw_RM1, df_raw_RM2)"
   ]
  },
  {
   "cell_type": "markdown",
   "id": "01f265f8",
   "metadata": {},
   "source": [
    "- 대립가설 채택, 집값에 차이 있다"
   ]
  },
  {
   "cell_type": "code",
   "execution_count": null,
   "id": "6d95f412",
   "metadata": {},
   "outputs": [],
   "source": []
  },
  {
   "cell_type": "code",
   "execution_count": 87,
   "id": "2ff19294",
   "metadata": {},
   "outputs": [
    {
     "data": {
      "text/plain": [
       "68.57490120115612"
      ]
     },
     "execution_count": 87,
     "metadata": {},
     "output_type": "execute_result"
    }
   ],
   "source": [
    "df_raw['AGE'].mean()"
   ]
  },
  {
   "cell_type": "code",
   "execution_count": 88,
   "id": "0ec57ff0",
   "metadata": {},
   "outputs": [],
   "source": [
    "df_raw_AGE1 = df_raw.loc[df_raw['AGE'] <= 66.57, 'MEDV']\n",
    "df_raw_AGE2 = df_raw.loc[df_raw['AGE'] > 66.57, 'MEDV']"
   ]
  },
  {
   "cell_type": "code",
   "execution_count": 89,
   "id": "a4711d2c",
   "metadata": {},
   "outputs": [
    {
     "data": {
      "text/plain": [
       "MannwhitneyuResult(statistic=47630.5, pvalue=4.017149296864012e-25)"
      ]
     },
     "execution_count": 89,
     "metadata": {},
     "output_type": "execute_result"
    }
   ],
   "source": [
    "# 비모수 검정\n",
    "stats.mannwhitneyu(df_raw_AGE1, df_raw_AGE2)"
   ]
  },
  {
   "cell_type": "markdown",
   "id": "d4591ca0",
   "metadata": {},
   "source": [
    "- 대립가설 채택, 집값에 차이 있다"
   ]
  },
  {
   "cell_type": "code",
   "execution_count": null,
   "id": "d3a32895",
   "metadata": {},
   "outputs": [],
   "source": []
  },
  {
   "cell_type": "code",
   "execution_count": 90,
   "id": "d0cebe86",
   "metadata": {},
   "outputs": [
    {
     "data": {
      "text/plain": [
       "3.7950426960059325"
      ]
     },
     "execution_count": 90,
     "metadata": {},
     "output_type": "execute_result"
    }
   ],
   "source": [
    "df_raw['DIS'].mean()"
   ]
  },
  {
   "cell_type": "code",
   "execution_count": 91,
   "id": "dbac1105",
   "metadata": {},
   "outputs": [],
   "source": [
    "df_raw_DIS1 = df_raw.loc[df_raw['DIS'] <= 3.79, 'MEDV']\n",
    "df_raw_DIS2 = df_raw.loc[df_raw['DIS'] > 3.79, 'MEDV']"
   ]
  },
  {
   "cell_type": "code",
   "execution_count": 92,
   "id": "71908a67",
   "metadata": {},
   "outputs": [
    {
     "data": {
      "text/plain": [
       "MannwhitneyuResult(statistic=20205.5, pvalue=2.6402010807911286e-11)"
      ]
     },
     "execution_count": 92,
     "metadata": {},
     "output_type": "execute_result"
    }
   ],
   "source": [
    "# 비모수 검정\n",
    "stats.mannwhitneyu(df_raw_DIS1, df_raw_DIS2)"
   ]
  },
  {
   "cell_type": "markdown",
   "id": "5f088c02",
   "metadata": {},
   "source": [
    "- 대립가설 채택, 집값에 차이 있다"
   ]
  },
  {
   "cell_type": "code",
   "execution_count": null,
   "id": "7c33ae2a",
   "metadata": {},
   "outputs": [],
   "source": []
  },
  {
   "cell_type": "code",
   "execution_count": 93,
   "id": "9996b5f3",
   "metadata": {},
   "outputs": [
    {
     "data": {
      "text/plain": [
       "9.549407114624506"
      ]
     },
     "execution_count": 93,
     "metadata": {},
     "output_type": "execute_result"
    }
   ],
   "source": [
    "df_raw['RAD'].mean()"
   ]
  },
  {
   "cell_type": "code",
   "execution_count": 94,
   "id": "02b579ac",
   "metadata": {},
   "outputs": [],
   "source": [
    "df_raw_RAD1 = df_raw.loc[df_raw['RAD'] <= 9.55, 'MEDV']\n",
    "df_raw_RAD2 = df_raw.loc[df_raw['RAD'] > 9.55, 'MEDV']"
   ]
  },
  {
   "cell_type": "code",
   "execution_count": 95,
   "id": "b6aa29b9",
   "metadata": {},
   "outputs": [
    {
     "data": {
      "text/plain": [
       "MannwhitneyuResult(statistic=40401.0, pvalue=1.3939897066397528e-27)"
      ]
     },
     "execution_count": 95,
     "metadata": {},
     "output_type": "execute_result"
    }
   ],
   "source": [
    "# 비모수 검정\n",
    "stats.mannwhitneyu(df_raw_RAD1, df_raw_RAD2)"
   ]
  },
  {
   "cell_type": "markdown",
   "id": "8d8dc92e",
   "metadata": {},
   "source": [
    "- 대립가설 채택, 집값에 차이 있다"
   ]
  },
  {
   "cell_type": "code",
   "execution_count": null,
   "id": "52e185fa",
   "metadata": {},
   "outputs": [],
   "source": []
  },
  {
   "cell_type": "code",
   "execution_count": 96,
   "id": "46d23b78",
   "metadata": {},
   "outputs": [
    {
     "data": {
      "text/plain": [
       "408.2371541501976"
      ]
     },
     "execution_count": 96,
     "metadata": {},
     "output_type": "execute_result"
    }
   ],
   "source": [
    "df_raw['TAX'].mean()"
   ]
  },
  {
   "cell_type": "code",
   "execution_count": 97,
   "id": "e10e02ea",
   "metadata": {},
   "outputs": [],
   "source": [
    "df_raw_TAX1 = df_raw.loc[df_raw['TAX'] <= 408.2, 'MEDV']\n",
    "df_raw_TAX2 = df_raw.loc[df_raw['TAX'] > 408.2, 'MEDV']"
   ]
  },
  {
   "cell_type": "code",
   "execution_count": 98,
   "id": "954cac24",
   "metadata": {},
   "outputs": [
    {
     "data": {
      "text/plain": [
       "MannwhitneyuResult(statistic=47445.0, pvalue=8.941399667554904e-35)"
      ]
     },
     "execution_count": 98,
     "metadata": {},
     "output_type": "execute_result"
    }
   ],
   "source": [
    "# 비모수 검정\n",
    "stats.mannwhitneyu(df_raw_TAX1, df_raw_TAX2)"
   ]
  },
  {
   "cell_type": "markdown",
   "id": "1b6aad7e",
   "metadata": {},
   "source": [
    "- 대립가설 채택, 집값에 차이 있다"
   ]
  },
  {
   "cell_type": "code",
   "execution_count": null,
   "id": "c17944eb",
   "metadata": {},
   "outputs": [],
   "source": []
  },
  {
   "cell_type": "code",
   "execution_count": 99,
   "id": "987bc4f0",
   "metadata": {},
   "outputs": [
    {
     "data": {
      "text/plain": [
       "18.45553382776679"
      ]
     },
     "execution_count": 99,
     "metadata": {},
     "output_type": "execute_result"
    }
   ],
   "source": [
    "df_raw['PTRATIO'].mean()"
   ]
  },
  {
   "cell_type": "code",
   "execution_count": 100,
   "id": "57bfee66",
   "metadata": {},
   "outputs": [],
   "source": [
    "df_raw_PTRATIO1 = df_raw.loc[df_raw['PTRATIO'] <= 18.45, 'MEDV']\n",
    "df_raw_PTRATIO2 = df_raw.loc[df_raw['PTRATIO'] > 18.45, 'MEDV']"
   ]
  },
  {
   "cell_type": "code",
   "execution_count": 101,
   "id": "c02292f9",
   "metadata": {},
   "outputs": [
    {
     "data": {
      "text/plain": [
       "MannwhitneyuResult(statistic=49200.5, pvalue=2.1601347314480263e-28)"
      ]
     },
     "execution_count": 101,
     "metadata": {},
     "output_type": "execute_result"
    }
   ],
   "source": [
    "# 비모수 검정\n",
    "stats.mannwhitneyu(df_raw_PTRATIO1, df_raw_PTRATIO2)"
   ]
  },
  {
   "cell_type": "markdown",
   "id": "876394c4",
   "metadata": {},
   "source": [
    "- 대립가설 채택, 집값에 차이 있다"
   ]
  },
  {
   "cell_type": "code",
   "execution_count": null,
   "id": "3dcdd03b",
   "metadata": {},
   "outputs": [],
   "source": []
  },
  {
   "cell_type": "code",
   "execution_count": 102,
   "id": "b6f731e6",
   "metadata": {},
   "outputs": [
    {
     "data": {
      "text/plain": [
       "356.67402960597883"
      ]
     },
     "execution_count": 102,
     "metadata": {},
     "output_type": "execute_result"
    }
   ],
   "source": [
    "df_raw['B'].mean()"
   ]
  },
  {
   "cell_type": "code",
   "execution_count": 103,
   "id": "920d157d",
   "metadata": {},
   "outputs": [],
   "source": [
    "df_raw_B1 = df_raw.loc[df_raw['B'] <= 356.67, 'MEDV']\n",
    "df_raw_B2 = df_raw.loc[df_raw['B'] > 356.67, 'MEDV']"
   ]
  },
  {
   "cell_type": "code",
   "execution_count": 104,
   "id": "28153504",
   "metadata": {},
   "outputs": [
    {
     "data": {
      "text/plain": [
       "MannwhitneyuResult(statistic=7960.5, pvalue=2.3922022994869505e-18)"
      ]
     },
     "execution_count": 104,
     "metadata": {},
     "output_type": "execute_result"
    }
   ],
   "source": [
    "# 비모수 검정\n",
    "stats.mannwhitneyu(df_raw_B1, df_raw_B2)"
   ]
  },
  {
   "cell_type": "markdown",
   "id": "87524f8e",
   "metadata": {},
   "source": [
    "- 대립가설 채택, 집값에 차이 있다"
   ]
  },
  {
   "cell_type": "code",
   "execution_count": null,
   "id": "5f9eeda5",
   "metadata": {},
   "outputs": [],
   "source": []
  },
  {
   "cell_type": "code",
   "execution_count": null,
   "id": "6f1d181d",
   "metadata": {},
   "outputs": [],
   "source": []
  },
  {
   "cell_type": "code",
   "execution_count": 105,
   "id": "0ce0396d",
   "metadata": {},
   "outputs": [
    {
     "data": {
      "text/plain": [
       "12.653063233922925"
      ]
     },
     "execution_count": 105,
     "metadata": {},
     "output_type": "execute_result"
    }
   ],
   "source": [
    "df_raw['LSTAT'].mean()"
   ]
  },
  {
   "cell_type": "code",
   "execution_count": 106,
   "id": "a6ae0cb4",
   "metadata": {},
   "outputs": [],
   "source": [
    "df_raw_LSTAT1 = df_raw.loc[df_raw['LSTAT'] <= 12.65, 'MEDV']\n",
    "df_raw_LSTAT2 = df_raw.loc[df_raw['LSTAT'] > 12.65, 'MEDV']"
   ]
  },
  {
   "cell_type": "code",
   "execution_count": 107,
   "id": "bee04be2",
   "metadata": {},
   "outputs": [
    {
     "data": {
      "text/plain": [
       "MannwhitneyuResult(statistic=57890.5, pvalue=1.6041345095648517e-58)"
      ]
     },
     "execution_count": 107,
     "metadata": {},
     "output_type": "execute_result"
    }
   ],
   "source": [
    "# 비모수 검정\n",
    "stats.mannwhitneyu(df_raw_LSTAT1, df_raw_LSTAT2)"
   ]
  },
  {
   "cell_type": "markdown",
   "id": "de1e416e",
   "metadata": {},
   "source": [
    "- 대립가설 채택, 집값에 차이 있다"
   ]
  },
  {
   "cell_type": "markdown",
   "id": "d8b4e8dd",
   "metadata": {},
   "source": [
    "###### 상관 분석"
   ]
  },
  {
   "cell_type": "code",
   "execution_count": 108,
   "id": "0c17d5a5",
   "metadata": {},
   "outputs": [
    {
     "data": {
      "text/plain": [
       "<AxesSubplot:>"
      ]
     },
     "execution_count": 108,
     "metadata": {},
     "output_type": "execute_result"
    },
    {
     "data": {
      "image/png": "[encoded data removed]",
      "text/plain": [
       "<Figure size 720x432 with 2 Axes>"
      ]
     },
     "metadata": {
      "needs_background": "light"
     },
     "output_type": "display_data"
    }
   ],
   "source": [
    "df_cor = df_raw.corr()\n",
    "plt.figure(figsize = (10, 6))\n",
    "sns.heatmap(df_cor, annot = True)"
   ]
  },
  {
   "cell_type": "markdown",
   "id": "a329daad",
   "metadata": {},
   "source": [
    "# 4. 모델링"
   ]
  },
  {
   "cell_type": "code",
   "execution_count": 112,
   "id": "f3d80216",
   "metadata": {},
   "outputs": [],
   "source": [
    "# 회귀분석\n",
    "from statsmodels.formula.api import ols\n",
    "# qqplot, 회귀분석의 상수항 추가\n",
    "from statsmodels.api import qqplot, add_constant\n",
    "# 선형 모델 formula9\n",
    "import statsmodels.formula.api as smf\n",
    "# 평가함수\n",
    "from statsmodels.tools.eval_measures import rmse\n",
    "# 다중공선성 확인\n",
    "from statsmodels.stats.outliers_influence import variance_inflation_factor\n",
    "# 결정계수 평가지수\n",
    "from sklearn.metrics import r2_score\n",
    "\n",
    "from sklearn.tree import DecisionTreeRegressor\n",
    "from sklearn.ensemble import RandomForestRegressor\n",
    "from sklearn.ensemble import GradientBoostingRegressor\n",
    "\n",
    "# 최적 모델, 파라미터 탐색\n",
    "from sklearn.model_selection import GridSearchCV\n",
    "\n",
    "from sklearn.tree import plot_tree\n",
    "from sklearn.model_selection import train_test_split"
   ]
  },
  {
   "cell_type": "markdown",
   "id": "e20c2379",
   "metadata": {},
   "source": [
    "###### 다중선형회귀"
   ]
  },
  {
   "cell_type": "code",
   "execution_count": 113,
   "id": "06d84bbe",
   "metadata": {},
   "outputs": [
    {
     "name": "stdout",
     "output_type": "stream",
     "text": [
      "학습용 데이터의 크기: (354, 14)\n",
      "평가용 데이터의 크기: (152, 14)\n"
     ]
    }
   ],
   "source": [
    "df_train, df_test = train_test_split(df_raw, test_size=0.3, random_state=1234)\n",
    "print('학습용 데이터의 크기: {}'.format(df_train.shape))\n",
    "print('평가용 데이터의 크기: {}'.format(df_test.shape))"
   ]
  },
  {
   "cell_type": "code",
   "execution_count": 115,
   "id": "0df47ad1",
   "metadata": {},
   "outputs": [
    {
     "name": "stdout",
     "output_type": "stream",
     "text": [
      "                            OLS Regression Results                            \n",
      "==============================================================================\n",
      "Dep. Variable:                   MEDV   R-squared:                       0.730\n",
      "Model:                            OLS   Adj. R-squared:                  0.720\n",
      "Method:                 Least Squares   F-statistic:                     70.71\n",
      "Date:                Wed, 26 Jan 2022   Prob (F-statistic):           2.75e-88\n",
      "Time:                        10:35:40   Log-Likelihood:                -1048.5\n",
      "No. Observations:                 354   AIC:                             2125.\n",
      "Df Residuals:                     340   BIC:                             2179.\n",
      "Df Model:                          13                                         \n",
      "Covariance Type:            nonrobust                                         \n",
      "==============================================================================\n",
      "                 coef    std err          t      P>|t|      [0.025      0.975]\n",
      "------------------------------------------------------------------------------\n",
      "Intercept     51.1852      6.229      8.217      0.000      38.932      63.438\n",
      "CRIM          -0.0943      0.040     -2.349      0.019      -0.173      -0.015\n",
      "ZN             0.0634      0.017      3.795      0.000       0.031       0.096\n",
      "INDUS         -0.0283      0.078     -0.363      0.717      -0.182       0.125\n",
      "CHAS           2.8077      1.005      2.792      0.006       0.830       4.785\n",
      "NOX          -21.8869      4.528     -4.833      0.000     -30.794     -12.980\n",
      "RM             2.5106      0.514      4.885      0.000       1.500       3.522\n",
      "AGE            0.0070      0.016      0.437      0.663      -0.024       0.038\n",
      "DIS           -1.8721      0.260     -7.189      0.000      -2.384      -1.360\n",
      "RAD            0.3625      0.085      4.251      0.000       0.195       0.530\n",
      "TAX           -0.0135      0.005     -2.695      0.007      -0.023      -0.004\n",
      "PTRATIO       -1.0819      0.156     -6.941      0.000      -1.388      -0.775\n",
      "B              0.0092      0.003      2.868      0.004       0.003       0.016\n",
      "LSTAT         -0.5756      0.058     -9.924      0.000      -0.690      -0.462\n",
      "==============================================================================\n",
      "Omnibus:                      129.093   Durbin-Watson:                   2.073\n",
      "Prob(Omnibus):                  0.000   Jarque-Bera (JB):              539.034\n",
      "Skew:                           1.538   Prob(JB):                    8.92e-118\n",
      "Kurtosis:                       8.204   Cond. No.                     1.50e+04\n",
      "==============================================================================\n",
      "\n",
      "Notes:\n",
      "[1] Standard Errors assume that the covariance matrix of the errors is correctly specified.\n",
      "[2] The condition number is large, 1.5e+04. This might indicate that there are\n",
      "strong multicollinearity or other numerical problems.\n"
     ]
    }
   ],
   "source": [
    "# 선형 회귀 분석\n",
    "\n",
    "reg_model = smf.ols(formula = \"MEDV ~ CRIM + ZN + INDUS + CHAS + NOX + RM + AGE + DIS + RAD + TAX + PTRATIO + B + LSTAT\", data = df_train)\n",
    "\n",
    "# 적합한가\n",
    "reg_result = reg_model.fit()\n",
    "print(reg_result.summary())"
   ]
  },
  {
   "cell_type": "code",
   "execution_count": 116,
   "id": "d8cff982",
   "metadata": {},
   "outputs": [
    {
     "name": "stdout",
     "output_type": "stream",
     "text": [
      "                            OLS Regression Results                            \n",
      "==============================================================================\n",
      "Dep. Variable:                   MEDV   R-squared:                       0.730\n",
      "Model:                            OLS   Adj. R-squared:                  0.720\n",
      "Method:                 Least Squares   F-statistic:                     76.79\n",
      "Date:                Wed, 26 Jan 2022   Prob (F-statistic):           3.27e-89\n",
      "Time:                        10:36:48   Log-Likelihood:                -1048.6\n",
      "No. Observations:                 354   AIC:                             2123.\n",
      "Df Residuals:                     341   BIC:                             2174.\n",
      "Df Model:                          12                                         \n",
      "Covariance Type:            nonrobust                                         \n",
      "==============================================================================\n",
      "                 coef    std err          t      P>|t|      [0.025      0.975]\n",
      "------------------------------------------------------------------------------\n",
      "Intercept     51.2573      6.218      8.243      0.000      39.026      63.488\n",
      "CRIM          -0.0940      0.040     -2.345      0.020      -0.173      -0.015\n",
      "ZN             0.0641      0.017      3.864      0.000       0.031       0.097\n",
      "CHAS           2.7736      1.000      2.774      0.006       0.807       4.740\n",
      "NOX          -22.3335      4.353     -5.131      0.000     -30.895     -13.772\n",
      "RM             2.5316      0.510      4.963      0.000       1.528       3.535\n",
      "AGE            0.0070      0.016      0.438      0.662      -0.024       0.038\n",
      "DIS           -1.8524      0.254     -7.282      0.000      -2.353      -1.352\n",
      "RAD            0.3716      0.081      4.569      0.000       0.212       0.532\n",
      "TAX           -0.0143      0.004     -3.230      0.001      -0.023      -0.006\n",
      "PTRATIO       -1.0870      0.155     -7.012      0.000      -1.392      -0.782\n",
      "B              0.0093      0.003      2.882      0.004       0.003       0.016\n",
      "LSTAT         -0.5767      0.058     -9.967      0.000      -0.690      -0.463\n",
      "==============================================================================\n",
      "Omnibus:                      129.268   Durbin-Watson:                   2.078\n",
      "Prob(Omnibus):                  0.000   Jarque-Bera (JB):              539.397\n",
      "Skew:                           1.541   Prob(JB):                    7.44e-118\n",
      "Kurtosis:                       8.203   Cond. No.                     1.49e+04\n",
      "==============================================================================\n",
      "\n",
      "Notes:\n",
      "[1] Standard Errors assume that the covariance matrix of the errors is correctly specified.\n",
      "[2] The condition number is large, 1.49e+04. This might indicate that there are\n",
      "strong multicollinearity or other numerical problems.\n"
     ]
    }
   ],
   "source": [
    "# 회귀계수 판단, 인더스 제외\n",
    "\n",
    "\n",
    "reg_model = smf.ols(formula = \"MEDV ~ CRIM + ZN + CHAS + NOX + RM + AGE + DIS + RAD + TAX + PTRATIO + B + LSTAT\", data = df_train)\n",
    "\n",
    "# 적합한가\n",
    "reg_result = reg_model.fit()\n",
    "print(reg_result.summary())"
   ]
  },
  {
   "cell_type": "code",
   "execution_count": 117,
   "id": "f28090b0",
   "metadata": {},
   "outputs": [
    {
     "name": "stdout",
     "output_type": "stream",
     "text": [
      "                            OLS Regression Results                            \n",
      "==============================================================================\n",
      "Dep. Variable:                   MEDV   R-squared:                       0.730\n",
      "Model:                            OLS   Adj. R-squared:                  0.721\n",
      "Method:                 Least Squares   F-statistic:                     83.95\n",
      "Date:                Wed, 26 Jan 2022   Prob (F-statistic):           3.83e-90\n",
      "Time:                        10:37:08   Log-Likelihood:                -1048.7\n",
      "No. Observations:                 354   AIC:                             2121.\n",
      "Df Residuals:                     342   BIC:                             2168.\n",
      "Df Model:                          11                                         \n",
      "Covariance Type:            nonrobust                                         \n",
      "==============================================================================\n",
      "                 coef    std err          t      P>|t|      [0.025      0.975]\n",
      "------------------------------------------------------------------------------\n",
      "Intercept     51.1860      6.209      8.244      0.000      38.974      63.398\n",
      "CRIM          -0.0934      0.040     -2.334      0.020      -0.172      -0.015\n",
      "ZN             0.0630      0.016      3.847      0.000       0.031       0.095\n",
      "CHAS           2.7811      0.998      2.785      0.006       0.817       4.745\n",
      "NOX          -21.8899      4.228     -5.178      0.000     -30.206     -13.574\n",
      "RM             2.5673      0.503      5.105      0.000       1.578       3.556\n",
      "DIS           -1.8879      0.241     -7.840      0.000      -2.362      -1.414\n",
      "RAD            0.3687      0.081      4.554      0.000       0.209       0.528\n",
      "TAX           -0.0143      0.004     -3.218      0.001      -0.023      -0.006\n",
      "PTRATIO       -1.0830      0.155     -7.007      0.000      -1.387      -0.779\n",
      "B              0.0093      0.003      2.918      0.004       0.003       0.016\n",
      "LSTAT         -0.5683      0.055    -10.419      0.000      -0.676      -0.461\n",
      "==============================================================================\n",
      "Omnibus:                      131.181   Durbin-Watson:                   2.079\n",
      "Prob(Omnibus):                  0.000   Jarque-Bera (JB):              558.468\n",
      "Skew:                           1.558   Prob(JB):                    5.37e-122\n",
      "Kurtosis:                       8.305   Cond. No.                     1.48e+04\n",
      "==============================================================================\n",
      "\n",
      "Notes:\n",
      "[1] Standard Errors assume that the covariance matrix of the errors is correctly specified.\n",
      "[2] The condition number is large, 1.48e+04. This might indicate that there are\n",
      "strong multicollinearity or other numerical problems.\n"
     ]
    }
   ],
   "source": [
    "# 회귀계수 판단, 에이지도 제외\n",
    "\n",
    "\n",
    "reg_model = smf.ols(formula = \"MEDV ~ CRIM + ZN + CHAS + NOX + RM + DIS + RAD + TAX + PTRATIO + B + LSTAT\", data = df_train)\n",
    "\n",
    "# 적합한가\n",
    "reg_result = reg_model.fit()\n",
    "print(reg_result.summary())"
   ]
  },
  {
   "cell_type": "markdown",
   "id": "31133857",
   "metadata": {},
   "source": [
    "- 조정 결정계수 : 0.721\n",
    "- ANOVA F검정 p 밸류 : 3.83e-90\n",
    "- 잔차 정규성 0.00 -> 정규성 안 띈다???\n",
    "- 독립성 띔.\n",
    "\n",
    "###### 다중회귀는 사용 불가 ㅠㅠ"
   ]
  },
  {
   "cell_type": "code",
   "execution_count": 118,
   "id": "e4ead22f",
   "metadata": {},
   "outputs": [],
   "source": [
    "# 설명변수간의 다중공선성 확인\n",
    "\n",
    "df_raw_x = df_train.drop(columns = ['MEDV', 'INDUS', 'AGE'])"
   ]
  },
  {
   "cell_type": "code",
   "execution_count": 121,
   "id": "dbdfb502",
   "metadata": {},
   "outputs": [
    {
     "name": "stderr",
     "output_type": "stream",
     "text": [
      "C:\\Users\\User\\anaconda3\\lib\\site-packages\\statsmodels\\tsa\\tsatools.py:142: FutureWarning: In a future version of pandas all arguments of concat except for the argument 'objs' will be keyword-only\n",
      "  x = pd.concat(x[::order], 1)\n"
     ]
    },
    {
     "data": {
      "text/html": [
       "<div>\n",
       "<style scoped>\n",
       "    .dataframe tbody tr th:only-of-type {\n",
       "        vertical-align: middle;\n",
       "    }\n",
       "\n",
       "    .dataframe tbody tr th {\n",
       "        vertical-align: top;\n",
       "    }\n",
       "\n",
       "    .dataframe thead th {\n",
       "        text-align: right;\n",
       "    }\n",
       "</style>\n",
       "<table border=\"1\" class=\"dataframe\">\n",
       "  <thead>\n",
       "    <tr style=\"text-align: right;\">\n",
       "      <th></th>\n",
       "      <th>const</th>\n",
       "      <th>CRIM</th>\n",
       "      <th>ZN</th>\n",
       "      <th>CHAS</th>\n",
       "      <th>NOX</th>\n",
       "      <th>RM</th>\n",
       "      <th>DIS</th>\n",
       "      <th>RAD</th>\n",
       "      <th>TAX</th>\n",
       "      <th>PTRATIO</th>\n",
       "      <th>B</th>\n",
       "      <th>LSTAT</th>\n",
       "    </tr>\n",
       "  </thead>\n",
       "  <tbody>\n",
       "    <tr>\n",
       "      <th>99</th>\n",
       "      <td>1.0</td>\n",
       "      <td>0.06860</td>\n",
       "      <td>0.0</td>\n",
       "      <td>0</td>\n",
       "      <td>0.445</td>\n",
       "      <td>7.416</td>\n",
       "      <td>3.4952</td>\n",
       "      <td>2</td>\n",
       "      <td>276</td>\n",
       "      <td>18.000000</td>\n",
       "      <td>396.899994</td>\n",
       "      <td>6.190000</td>\n",
       "    </tr>\n",
       "    <tr>\n",
       "      <th>102</th>\n",
       "      <td>1.0</td>\n",
       "      <td>0.22876</td>\n",
       "      <td>0.0</td>\n",
       "      <td>0</td>\n",
       "      <td>0.520</td>\n",
       "      <td>6.405</td>\n",
       "      <td>2.7147</td>\n",
       "      <td>5</td>\n",
       "      <td>384</td>\n",
       "      <td>20.900000</td>\n",
       "      <td>70.800003</td>\n",
       "      <td>10.630000</td>\n",
       "    </tr>\n",
       "    <tr>\n",
       "      <th>416</th>\n",
       "      <td>1.0</td>\n",
       "      <td>10.83420</td>\n",
       "      <td>0.0</td>\n",
       "      <td>0</td>\n",
       "      <td>0.679</td>\n",
       "      <td>6.782</td>\n",
       "      <td>1.8195</td>\n",
       "      <td>24</td>\n",
       "      <td>666</td>\n",
       "      <td>20.200001</td>\n",
       "      <td>21.570000</td>\n",
       "      <td>25.790001</td>\n",
       "    </tr>\n",
       "    <tr>\n",
       "      <th>266</th>\n",
       "      <td>1.0</td>\n",
       "      <td>0.78570</td>\n",
       "      <td>20.0</td>\n",
       "      <td>0</td>\n",
       "      <td>0.647</td>\n",
       "      <td>7.014</td>\n",
       "      <td>2.1329</td>\n",
       "      <td>5</td>\n",
       "      <td>264</td>\n",
       "      <td>13.000000</td>\n",
       "      <td>384.070007</td>\n",
       "      <td>14.790000</td>\n",
       "    </tr>\n",
       "    <tr>\n",
       "      <th>101</th>\n",
       "      <td>1.0</td>\n",
       "      <td>0.11432</td>\n",
       "      <td>0.0</td>\n",
       "      <td>0</td>\n",
       "      <td>0.520</td>\n",
       "      <td>6.781</td>\n",
       "      <td>2.8561</td>\n",
       "      <td>5</td>\n",
       "      <td>384</td>\n",
       "      <td>20.900000</td>\n",
       "      <td>395.579987</td>\n",
       "      <td>7.670000</td>\n",
       "    </tr>\n",
       "  </tbody>\n",
       "</table>\n",
       "</div>"
      ],
      "text/plain": [
       "     const      CRIM    ZN  CHAS    NOX     RM     DIS  RAD  TAX    PTRATIO  \\\n",
       "99     1.0   0.06860   0.0     0  0.445  7.416  3.4952    2  276  18.000000   \n",
       "102    1.0   0.22876   0.0     0  0.520  6.405  2.7147    5  384  20.900000   \n",
       "416    1.0  10.83420   0.0     0  0.679  6.782  1.8195   24  666  20.200001   \n",
       "266    1.0   0.78570  20.0     0  0.647  7.014  2.1329    5  264  13.000000   \n",
       "101    1.0   0.11432   0.0     0  0.520  6.781  2.8561    5  384  20.900000   \n",
       "\n",
       "              B      LSTAT  \n",
       "99   396.899994   6.190000  \n",
       "102   70.800003  10.630000  \n",
       "416   21.570000  25.790001  \n",
       "266  384.070007  14.790000  \n",
       "101  395.579987   7.670000  "
      ]
     },
     "execution_count": 121,
     "metadata": {},
     "output_type": "execute_result"
    }
   ],
   "source": [
    "# 상수항 추가 함수 적용\n",
    "df_raw_x_const = add_constant(df_raw_x)\n",
    "df_raw_x_const.head()"
   ]
  },
  {
   "cell_type": "code",
   "execution_count": 124,
   "id": "1b28bf52",
   "metadata": {},
   "outputs": [
    {
     "data": {
      "text/html": [
       "<div>\n",
       "<style scoped>\n",
       "    .dataframe tbody tr th:only-of-type {\n",
       "        vertical-align: middle;\n",
       "    }\n",
       "\n",
       "    .dataframe tbody tr th {\n",
       "        vertical-align: top;\n",
       "    }\n",
       "\n",
       "    .dataframe thead th {\n",
       "        text-align: right;\n",
       "    }\n",
       "</style>\n",
       "<table border=\"1\" class=\"dataframe\">\n",
       "  <thead>\n",
       "    <tr style=\"text-align: right;\">\n",
       "      <th></th>\n",
       "      <th>variable</th>\n",
       "      <th>VIF</th>\n",
       "    </tr>\n",
       "  </thead>\n",
       "  <tbody>\n",
       "    <tr>\n",
       "      <th>3</th>\n",
       "      <td>CHAS</td>\n",
       "      <td>1.059</td>\n",
       "    </tr>\n",
       "    <tr>\n",
       "      <th>10</th>\n",
       "      <td>B</td>\n",
       "      <td>1.426</td>\n",
       "    </tr>\n",
       "    <tr>\n",
       "      <th>1</th>\n",
       "      <td>CRIM</td>\n",
       "      <td>1.676</td>\n",
       "    </tr>\n",
       "    <tr>\n",
       "      <th>9</th>\n",
       "      <td>PTRATIO</td>\n",
       "      <td>1.737</td>\n",
       "    </tr>\n",
       "    <tr>\n",
       "      <th>5</th>\n",
       "      <td>RM</td>\n",
       "      <td>1.783</td>\n",
       "    </tr>\n",
       "    <tr>\n",
       "      <th>2</th>\n",
       "      <td>ZN</td>\n",
       "      <td>2.167</td>\n",
       "    </tr>\n",
       "    <tr>\n",
       "      <th>11</th>\n",
       "      <td>LSTAT</td>\n",
       "      <td>2.292</td>\n",
       "    </tr>\n",
       "    <tr>\n",
       "      <th>6</th>\n",
       "      <td>DIS</td>\n",
       "      <td>3.413</td>\n",
       "    </tr>\n",
       "    <tr>\n",
       "      <th>4</th>\n",
       "      <td>NOX</td>\n",
       "      <td>3.790</td>\n",
       "    </tr>\n",
       "    <tr>\n",
       "      <th>7</th>\n",
       "      <td>RAD</td>\n",
       "      <td>7.753</td>\n",
       "    </tr>\n",
       "    <tr>\n",
       "      <th>8</th>\n",
       "      <td>TAX</td>\n",
       "      <td>8.734</td>\n",
       "    </tr>\n",
       "    <tr>\n",
       "      <th>0</th>\n",
       "      <td>const</td>\n",
       "      <td>601.648</td>\n",
       "    </tr>\n",
       "  </tbody>\n",
       "</table>\n",
       "</div>"
      ],
      "text/plain": [
       "   variable      VIF\n",
       "3      CHAS    1.059\n",
       "10        B    1.426\n",
       "1      CRIM    1.676\n",
       "9   PTRATIO    1.737\n",
       "5        RM    1.783\n",
       "2        ZN    2.167\n",
       "11    LSTAT    2.292\n",
       "6       DIS    3.413\n",
       "4       NOX    3.790\n",
       "7       RAD    7.753\n",
       "8       TAX    8.734\n",
       "0     const  601.648"
      ]
     },
     "execution_count": 124,
     "metadata": {},
     "output_type": "execute_result"
    }
   ],
   "source": [
    "# 데이터프레임으로 저장\n",
    "df_vif = pd.DataFrame()\n",
    "df_vif['variable'] = df_raw_x_const.columns\n",
    "df_vif['VIF'] = [variance_inflation_factor(df_raw_x_const.values, i) for i in range(df_raw_x_const.shape[1])]\n",
    "\n",
    "#VIF 정렬\n",
    "df_vif.sort_values('VIF', inplace = True)\n",
    "df_vif.round(3)"
   ]
  },
  {
   "cell_type": "code",
   "execution_count": 126,
   "id": "e2135708",
   "metadata": {},
   "outputs": [
    {
     "data": {
      "text/plain": [
       "<matplotlib.lines.Line2D at 0x2e4bb361700>"
      ]
     },
     "execution_count": 126,
     "metadata": {},
     "output_type": "execute_result"
    },
    {
     "data": {
      "image/png": "[encoded data removed]",
      "text/plain": [
       "<Figure size 432x288 with 1 Axes>"
      ]
     },
     "metadata": {
      "needs_background": "light"
     },
     "output_type": "display_data"
    }
   ],
   "source": [
    "# 오차의 기본 가정 검토\n",
    "\n",
    "# 등분산성 검증\n",
    "\n",
    "plt.scatter(reg_result.fittedvalues, reg_result.resid)\n",
    "plt.xlabel('fitted value')\n",
    "plt.ylabel('residual')\n",
    "plt.axhline(y = 0, linestyle = '--')\n"
   ]
  },
  {
   "cell_type": "code",
   "execution_count": 125,
   "id": "31aa11dd",
   "metadata": {},
   "outputs": [
    {
     "data": {
      "text/plain": [
       "<matplotlib.lines.Line2D at 0x2e4c47db130>"
      ]
     },
     "execution_count": 125,
     "metadata": {},
     "output_type": "execute_result"
    },
    {
     "data": {
      "image/png": "[encoded data removed]",
      "text/plain": [
       "<Figure size 432x288 with 1 Axes>"
      ]
     },
     "metadata": {
      "needs_background": "light"
     },
     "output_type": "display_data"
    }
   ],
   "source": [
    "# 잔차 독립성\n",
    "\n",
    "plt.scatter(df_train.index, reg_result.resid, marker = 'o')\n",
    "plt.xlabel('Data')\n",
    "plt.ylabel('residual')\n",
    "plt.axhline(y = 0, linestyle = '--')\n",
    "plt.axhline(y = 3*np.std(reg_result.resid), linestyle = '--')\n",
    "plt.axhline(y = -3*np.std(reg_result.resid), linestyle = '--')"
   ]
  },
  {
   "cell_type": "code",
   "execution_count": 127,
   "id": "baac940a",
   "metadata": {},
   "outputs": [
    {
     "name": "stderr",
     "output_type": "stream",
     "text": [
      "C:\\Users\\User\\anaconda3\\lib\\site-packages\\statsmodels\\graphics\\gofplots.py:993: UserWarning: marker is redundantly defined by the 'marker' keyword argument and the fmt string \"bo\" (-> marker='o'). The keyword argument will take precedence.\n",
      "  ax.plot(x, y, fmt, **plot_style)\n"
     ]
    },
    {
     "data": {
      "image/png": "[encoded data removed]",
      "text/plain": [
       "<Figure size 432x288 with 1 Axes>"
      ]
     },
     "execution_count": 127,
     "metadata": {},
     "output_type": "execute_result"
    },
    {
     "data": {
      "image/png": "[encoded data removed]",
      "text/plain": [
       "<Figure size 432x288 with 1 Axes>"
      ]
     },
     "metadata": {
      "needs_background": "light"
     },
     "output_type": "display_data"
    }
   ],
   "source": [
    "# 잔차 정규성 검정 : QQplot\n",
    "\n",
    "qqplot(reg_result.resid, line = 'q')"
   ]
  },
  {
   "cell_type": "code",
   "execution_count": null,
   "id": "0fed0090",
   "metadata": {},
   "outputs": [],
   "source": []
  },
  {
   "cell_type": "code",
   "execution_count": null,
   "id": "4c5f3207",
   "metadata": {},
   "outputs": [],
   "source": []
  },
  {
   "cell_type": "markdown",
   "id": "33400644",
   "metadata": {},
   "source": [
    "###### Decision Tree"
   ]
  },
  {
   "cell_type": "code",
   "execution_count": 129,
   "id": "0ceaf9ad",
   "metadata": {},
   "outputs": [
    {
     "name": "stdout",
     "output_type": "stream",
     "text": [
      "학습용 데이터의 X 크기: (354, 13)\n",
      "학습용 데이터의 Y 크기: (354,)\n",
      "평가용 데이터의 X 크기: (152, 13)\n",
      "평가용 데이터의 X 크기: (152,)\n"
     ]
    }
   ],
   "source": [
    "df_raw_y = df_raw['MEDV']\n",
    "df_raw_x = df_raw.drop(columns = 'MEDV', inplace = False)\n",
    "\n",
    "df_train_x, df_test_x, df_train_y, df_test_y = train_test_split(df_raw_x, df_raw_y, test_size = 0.3, random_state=1234)\n",
    "\n",
    "print('학습용 데이터의 X 크기: {}'.format(df_train_x.shape))\n",
    "print('학습용 데이터의 Y 크기: {}'.format(df_train_y.shape))\n",
    "print('평가용 데이터의 X 크기: {}'.format(df_test_x.shape))\n",
    "print('평가용 데이터의 X 크기: {}'.format(df_test_y.shape))"
   ]
  },
  {
   "cell_type": "code",
   "execution_count": 131,
   "id": "098b22af",
   "metadata": {},
   "outputs": [
    {
     "name": "stdout",
     "output_type": "stream",
     "text": [
      "학습용 데이터의 설명력: 1.000\n",
      "평가용 데이터의 설명력: 0.856\n"
     ]
    }
   ],
   "source": [
    "# 모델 생성, 기본 옵션으로 트리 생성\n",
    "\n",
    "tree_uncustomized = DecisionTreeRegressor(random_state=1234)\n",
    "tree_uncustomized.fit(df_train_x, df_train_y)\n",
    "print('학습용 데이터의 설명력: {:.3f}'.format(tree_uncustomized.score(df_train_x, df_train_y)))\n",
    "print('평가용 데이터의 설명력: {:.3f}'.format(tree_uncustomized.score(df_test_x, df_test_y)))"
   ]
  },
  {
   "cell_type": "markdown",
   "id": "775fdc61",
   "metadata": {},
   "source": [
    "- 최적 파라미터 탐색"
   ]
  },
  {
   "cell_type": "code",
   "execution_count": 133,
   "id": "ffcc982b",
   "metadata": {},
   "outputs": [
    {
     "data": {
      "text/html": [
       "<div>\n",
       "<style scoped>\n",
       "    .dataframe tbody tr th:only-of-type {\n",
       "        vertical-align: middle;\n",
       "    }\n",
       "\n",
       "    .dataframe tbody tr th {\n",
       "        vertical-align: top;\n",
       "    }\n",
       "\n",
       "    .dataframe thead th {\n",
       "        text-align: right;\n",
       "    }\n",
       "</style>\n",
       "<table border=\"1\" class=\"dataframe\">\n",
       "  <thead>\n",
       "    <tr style=\"text-align: right;\">\n",
       "      <th></th>\n",
       "      <th>MaxDepth</th>\n",
       "      <th>TrainScore</th>\n",
       "      <th>TestScore</th>\n",
       "    </tr>\n",
       "  </thead>\n",
       "  <tbody>\n",
       "    <tr>\n",
       "      <th>0</th>\n",
       "      <td>1</td>\n",
       "      <td>0.442</td>\n",
       "      <td>0.443</td>\n",
       "    </tr>\n",
       "    <tr>\n",
       "      <th>1</th>\n",
       "      <td>2</td>\n",
       "      <td>0.692</td>\n",
       "      <td>0.711</td>\n",
       "    </tr>\n",
       "    <tr>\n",
       "      <th>2</th>\n",
       "      <td>3</td>\n",
       "      <td>0.812</td>\n",
       "      <td>0.764</td>\n",
       "    </tr>\n",
       "    <tr>\n",
       "      <th>3</th>\n",
       "      <td>4</td>\n",
       "      <td>0.895</td>\n",
       "      <td>0.839</td>\n",
       "    </tr>\n",
       "    <tr>\n",
       "      <th>4</th>\n",
       "      <td>5</td>\n",
       "      <td>0.927</td>\n",
       "      <td>0.850</td>\n",
       "    </tr>\n",
       "    <tr>\n",
       "      <th>5</th>\n",
       "      <td>6</td>\n",
       "      <td>0.947</td>\n",
       "      <td>0.833</td>\n",
       "    </tr>\n",
       "    <tr>\n",
       "      <th>6</th>\n",
       "      <td>7</td>\n",
       "      <td>0.963</td>\n",
       "      <td>0.853</td>\n",
       "    </tr>\n",
       "    <tr>\n",
       "      <th>7</th>\n",
       "      <td>8</td>\n",
       "      <td>0.977</td>\n",
       "      <td>0.847</td>\n",
       "    </tr>\n",
       "    <tr>\n",
       "      <th>8</th>\n",
       "      <td>9</td>\n",
       "      <td>0.984</td>\n",
       "      <td>0.843</td>\n",
       "    </tr>\n",
       "    <tr>\n",
       "      <th>9</th>\n",
       "      <td>10</td>\n",
       "      <td>0.990</td>\n",
       "      <td>0.859</td>\n",
       "    </tr>\n",
       "    <tr>\n",
       "      <th>10</th>\n",
       "      <td>11</td>\n",
       "      <td>0.993</td>\n",
       "      <td>0.853</td>\n",
       "    </tr>\n",
       "    <tr>\n",
       "      <th>11</th>\n",
       "      <td>12</td>\n",
       "      <td>0.996</td>\n",
       "      <td>0.856</td>\n",
       "    </tr>\n",
       "    <tr>\n",
       "      <th>12</th>\n",
       "      <td>13</td>\n",
       "      <td>0.997</td>\n",
       "      <td>0.847</td>\n",
       "    </tr>\n",
       "    <tr>\n",
       "      <th>13</th>\n",
       "      <td>14</td>\n",
       "      <td>0.998</td>\n",
       "      <td>0.856</td>\n",
       "    </tr>\n",
       "    <tr>\n",
       "      <th>14</th>\n",
       "      <td>15</td>\n",
       "      <td>0.999</td>\n",
       "      <td>0.861</td>\n",
       "    </tr>\n",
       "    <tr>\n",
       "      <th>15</th>\n",
       "      <td>16</td>\n",
       "      <td>1.000</td>\n",
       "      <td>0.849</td>\n",
       "    </tr>\n",
       "    <tr>\n",
       "      <th>16</th>\n",
       "      <td>17</td>\n",
       "      <td>1.000</td>\n",
       "      <td>0.849</td>\n",
       "    </tr>\n",
       "    <tr>\n",
       "      <th>17</th>\n",
       "      <td>18</td>\n",
       "      <td>1.000</td>\n",
       "      <td>0.862</td>\n",
       "    </tr>\n",
       "    <tr>\n",
       "      <th>18</th>\n",
       "      <td>19</td>\n",
       "      <td>1.000</td>\n",
       "      <td>0.858</td>\n",
       "    </tr>\n",
       "  </tbody>\n",
       "</table>\n",
       "</div>"
      ],
      "text/plain": [
       "    MaxDepth  TrainScore  TestScore\n",
       "0          1       0.442      0.443\n",
       "1          2       0.692      0.711\n",
       "2          3       0.812      0.764\n",
       "3          4       0.895      0.839\n",
       "4          5       0.927      0.850\n",
       "5          6       0.947      0.833\n",
       "6          7       0.963      0.853\n",
       "7          8       0.977      0.847\n",
       "8          9       0.984      0.843\n",
       "9         10       0.990      0.859\n",
       "10        11       0.993      0.853\n",
       "11        12       0.996      0.856\n",
       "12        13       0.997      0.847\n",
       "13        14       0.998      0.856\n",
       "14        15       0.999      0.861\n",
       "15        16       1.000      0.849\n",
       "16        17       1.000      0.849\n",
       "17        18       1.000      0.862\n",
       "18        19       1.000      0.858"
      ]
     },
     "execution_count": 133,
     "metadata": {},
     "output_type": "execute_result"
    }
   ],
   "source": [
    "# manual search\n",
    "#학습용 및 평가용 설명력 결과 저장\n",
    "train_score = []\n",
    "test_score = []\n",
    "\n",
    "# min samples leaf : 잎사귀 최소 자료 수\n",
    "para_depth = [n_depth for n_depth in range(1, 20)]\n",
    "\n",
    "for v_max_depth in para_depth:\n",
    "    manual_dt = DecisionTreeRegressor(random_state=1234, max_depth = v_max_depth)\n",
    "    manual_dt.fit(df_train_x, df_train_y)\n",
    "    train_score.append(manual_dt.score(df_train_x, df_train_y))\n",
    "    test_score.append(manual_dt.score(df_test_x, df_test_y))   \n",
    "\n",
    "# 결과 저장\n",
    "df_score_depth = pd.DataFrame()\n",
    "df_score_depth['MaxDepth'] = para_depth\n",
    "df_score_depth['TrainScore'] = train_score\n",
    "df_score_depth['TestScore'] = test_score\n",
    "\n",
    "df_score_depth.round(3)"
   ]
  },
  {
   "cell_type": "code",
   "execution_count": 139,
   "id": "6102b902",
   "metadata": {},
   "outputs": [
    {
     "data": {
      "text/plain": [
       "<matplotlib.legend.Legend at 0x2e4bd95d8e0>"
      ]
     },
     "execution_count": 139,
     "metadata": {},
     "output_type": "execute_result"
    },
    {
     "data": {
      "image/png": "[encoded data removed]",
      "text/plain": [
       "<Figure size 432x288 with 1 Axes>"
      ]
     },
     "metadata": {
      "needs_background": "light"
     },
     "output_type": "display_data"
    }
   ],
   "source": [
    "# 모델 설명력 그래프 확인\n",
    "plt.plot(para_depth, train_score, linestyle = '-', label = 'Train Score')\n",
    "plt.plot(para_depth, test_score, linestyle = '--', label = 'Test Score')\n",
    "plt.grid()\n",
    "plt.legend()"
   ]
  },
  {
   "cell_type": "code",
   "execution_count": 207,
   "id": "610b876a",
   "metadata": {},
   "outputs": [
    {
     "name": "stdout",
     "output_type": "stream",
     "text": [
      "0.9236328088161045\n",
      "0.8584058340251741\n"
     ]
    }
   ],
   "source": [
    "# 변수명 저장\n",
    "v_feature_name = df_train_x.columns\n",
    "\n",
    "# depth = 10 으로 지정한 모델, min_samples_leaf=4\n",
    "manual_dt = DecisionTreeRegressor(random_state=1234, max_depth=9, min_samples_leaf=5, min_samples_split= 10)\n",
    "manual_dt.fit(df_train_x, df_train_y)\n",
    "\n",
    "print(manual_dt.score(df_train_x, df_train_y))\n",
    "print(manual_dt.score(df_test_x, df_test_y))"
   ]
  },
  {
   "cell_type": "code",
   "execution_count": null,
   "id": "750feda4",
   "metadata": {},
   "outputs": [],
   "source": [
    "0.9470097440974502\n",
    "0.8529107876091777"
   ]
  },
  {
   "cell_type": "code",
   "execution_count": 201,
   "id": "7bd73391",
   "metadata": {},
   "outputs": [
    {
     "data": {
      "text/plain": [
       "{'ccp_alpha': 0.0,\n",
       " 'criterion': 'mse',\n",
       " 'max_depth': 10,\n",
       " 'max_features': None,\n",
       " 'max_leaf_nodes': None,\n",
       " 'min_impurity_decrease': 0.0,\n",
       " 'min_impurity_split': None,\n",
       " 'min_samples_leaf': 4,\n",
       " 'min_samples_split': 2,\n",
       " 'min_weight_fraction_leaf': 0.0,\n",
       " 'random_state': 1234,\n",
       " 'splitter': 'best'}"
      ]
     },
     "execution_count": 201,
     "metadata": {},
     "output_type": "execute_result"
    }
   ],
   "source": [
    "manual_dt.get_params()"
   ]
  },
  {
   "cell_type": "code",
   "execution_count": 136,
   "id": "ca8407bc",
   "metadata": {
    "collapsed": true
   },
   "outputs": [
    {
     "data": {
      "image/png": "[encoded data removed]",
      "text/plain": [
       "<Figure size 1440x1440 with 1 Axes>"
      ]
     },
     "metadata": {
      "needs_background": "light"
     },
     "output_type": "display_data"
    }
   ],
   "source": [
    "plt.figure(figsize = (20, 20))\n",
    "plot_tree(manual_dt, feature_names=v_feature_name, filled = True);"
   ]
  },
  {
   "cell_type": "code",
   "execution_count": 144,
   "id": "742cdb11",
   "metadata": {},
   "outputs": [],
   "source": [
    "para_depth = list(range(1, 20))\n",
    "para_split = list(range(2, 40, 2))\n",
    "para_leaf = list(range(1, 40))"
   ]
  },
  {
   "cell_type": "code",
   "execution_count": 145,
   "id": "633921b3",
   "metadata": {},
   "outputs": [
    {
     "name": "stdout",
     "output_type": "stream",
     "text": [
      "best estimator model: \n",
      "DecisionTreeRegressor(max_depth=7, max_features='auto', min_samples_split=14)\n",
      "\n",
      "best parameter: \n",
      "{'criterion': 'mse', 'max_depth': 7, 'max_features': 'auto', 'min_samples_leaf': 1, 'min_samples_split': 14}\n",
      "\n",
      "best score: \n",
      "0.762\n"
     ]
    }
   ],
   "source": [
    "estimator = DecisionTreeRegressor()\n",
    "\n",
    "# 구하고자 하는 파라미터와 범위\n",
    "param_grid = {'criterion': ['mse', 'friedman_mse', 'mae'], 'max_features': ['auto', 'sqrt', 'log2'], 'max_depth': para_depth,\n",
    "             'min_samples_split': para_split, 'min_samples_leaf': para_leaf}\n",
    "# 설명력이 높은 최적 파라미터 찾기\n",
    "grid_dt = GridSearchCV(estimator, param_grid, scoring = 'r2', n_jobs= -1) # r2 = 결정계수\n",
    "grid_dt.fit(df_train_x, df_train_y)\n",
    "\n",
    "print('best estimator model: \\n{}'.format(grid_dt.best_estimator_))\n",
    "print('\\nbest parameter: \\n{}'.format(grid_dt.best_params_))\n",
    "print('\\nbest score: \\n{}'.format(grid_dt.best_score_.round(3)))"
   ]
  },
  {
   "cell_type": "code",
   "execution_count": 213,
   "id": "770d2fc4",
   "metadata": {},
   "outputs": [
    {
     "name": "stdout",
     "output_type": "stream",
     "text": [
      "학습용 데이터 평가결과: 0.924\n",
      "평가용 데이터 평가결과: 0.858\n"
     ]
    }
   ],
   "source": [
    "# 최종모델 \n",
    "\n",
    "\n",
    "dt_final = DecisionTreeRegressor(random_state=1234, max_depth=9, min_samples_leaf=5, min_samples_split= 10)\n",
    "dt_final.fit(df_train_x, df_train_y)\n",
    "\n",
    "print('학습용 데이터 평가결과: {:.3f}'.format(dt_final.score(df_train_x, df_train_y)))\n",
    "print('평가용 데이터 평가결과: {:.3f}'.format(dt_final.score(df_test_x, df_test_y)))"
   ]
  },
  {
   "cell_type": "markdown",
   "id": "f39d9534",
   "metadata": {},
   "source": [
    "###### Ramdom Forest"
   ]
  },
  {
   "cell_type": "code",
   "execution_count": 151,
   "id": "a5f3cbd0",
   "metadata": {},
   "outputs": [],
   "source": [
    "# train 및 test 설명력 결과 저장\n",
    "train_score = []\n",
    "test_score = []\n",
    "\n",
    "# n_estimators 트리 수 변경, 100 ~ 300\n",
    "para_n_tree = [n_tree * 10 for n_tree in range(1, 15)] # para_n_tree = [10, 20 30, ... 100]\n",
    "\n",
    "for v_n_estimators in para_n_tree:\n",
    "    rf = RandomForestRegressor(n_estimators=v_n_estimators, random_state=1234)\n",
    "    rf.fit(df_train_x, df_train_y)\n",
    "    train_score.append(rf.score(df_train_x, df_train_y))\n",
    "    test_score.append(rf.score(df_test_x, df_test_y))\n",
    "    \n",
    "# 결과 저장\n",
    "rf_score_n = pd.DataFrame()\n",
    "rf_score_n['n_estimators'] = para_n_tree\n",
    "rf_score_n['TrainScore'] = train_score\n",
    "rf_score_n['TestScore'] = test_score"
   ]
  },
  {
   "cell_type": "code",
   "execution_count": 152,
   "id": "39dfc7d5",
   "metadata": {},
   "outputs": [
    {
     "data": {
      "text/html": [
       "<div>\n",
       "<style scoped>\n",
       "    .dataframe tbody tr th:only-of-type {\n",
       "        vertical-align: middle;\n",
       "    }\n",
       "\n",
       "    .dataframe tbody tr th {\n",
       "        vertical-align: top;\n",
       "    }\n",
       "\n",
       "    .dataframe thead th {\n",
       "        text-align: right;\n",
       "    }\n",
       "</style>\n",
       "<table border=\"1\" class=\"dataframe\">\n",
       "  <thead>\n",
       "    <tr style=\"text-align: right;\">\n",
       "      <th></th>\n",
       "      <th>n_estimators</th>\n",
       "      <th>TrainScore</th>\n",
       "      <th>TestScore</th>\n",
       "    </tr>\n",
       "  </thead>\n",
       "  <tbody>\n",
       "    <tr>\n",
       "      <th>0</th>\n",
       "      <td>10</td>\n",
       "      <td>0.974</td>\n",
       "      <td>0.886</td>\n",
       "    </tr>\n",
       "    <tr>\n",
       "      <th>1</th>\n",
       "      <td>20</td>\n",
       "      <td>0.981</td>\n",
       "      <td>0.905</td>\n",
       "    </tr>\n",
       "    <tr>\n",
       "      <th>2</th>\n",
       "      <td>30</td>\n",
       "      <td>0.980</td>\n",
       "      <td>0.903</td>\n",
       "    </tr>\n",
       "    <tr>\n",
       "      <th>3</th>\n",
       "      <td>40</td>\n",
       "      <td>0.979</td>\n",
       "      <td>0.899</td>\n",
       "    </tr>\n",
       "    <tr>\n",
       "      <th>4</th>\n",
       "      <td>50</td>\n",
       "      <td>0.980</td>\n",
       "      <td>0.898</td>\n",
       "    </tr>\n",
       "    <tr>\n",
       "      <th>5</th>\n",
       "      <td>60</td>\n",
       "      <td>0.981</td>\n",
       "      <td>0.900</td>\n",
       "    </tr>\n",
       "    <tr>\n",
       "      <th>6</th>\n",
       "      <td>70</td>\n",
       "      <td>0.981</td>\n",
       "      <td>0.899</td>\n",
       "    </tr>\n",
       "    <tr>\n",
       "      <th>7</th>\n",
       "      <td>80</td>\n",
       "      <td>0.982</td>\n",
       "      <td>0.900</td>\n",
       "    </tr>\n",
       "    <tr>\n",
       "      <th>8</th>\n",
       "      <td>90</td>\n",
       "      <td>0.983</td>\n",
       "      <td>0.900</td>\n",
       "    </tr>\n",
       "    <tr>\n",
       "      <th>9</th>\n",
       "      <td>100</td>\n",
       "      <td>0.982</td>\n",
       "      <td>0.900</td>\n",
       "    </tr>\n",
       "    <tr>\n",
       "      <th>10</th>\n",
       "      <td>110</td>\n",
       "      <td>0.982</td>\n",
       "      <td>0.900</td>\n",
       "    </tr>\n",
       "    <tr>\n",
       "      <th>11</th>\n",
       "      <td>120</td>\n",
       "      <td>0.982</td>\n",
       "      <td>0.900</td>\n",
       "    </tr>\n",
       "    <tr>\n",
       "      <th>12</th>\n",
       "      <td>130</td>\n",
       "      <td>0.981</td>\n",
       "      <td>0.900</td>\n",
       "    </tr>\n",
       "    <tr>\n",
       "      <th>13</th>\n",
       "      <td>140</td>\n",
       "      <td>0.982</td>\n",
       "      <td>0.899</td>\n",
       "    </tr>\n",
       "  </tbody>\n",
       "</table>\n",
       "</div>"
      ],
      "text/plain": [
       "    n_estimators  TrainScore  TestScore\n",
       "0             10       0.974      0.886\n",
       "1             20       0.981      0.905\n",
       "2             30       0.980      0.903\n",
       "3             40       0.979      0.899\n",
       "4             50       0.980      0.898\n",
       "5             60       0.981      0.900\n",
       "6             70       0.981      0.899\n",
       "7             80       0.982      0.900\n",
       "8             90       0.983      0.900\n",
       "9            100       0.982      0.900\n",
       "10           110       0.982      0.900\n",
       "11           120       0.982      0.900\n",
       "12           130       0.981      0.900\n",
       "13           140       0.982      0.899"
      ]
     },
     "execution_count": 152,
     "metadata": {},
     "output_type": "execute_result"
    }
   ],
   "source": [
    "# 모델 설명력 확인\n",
    "rf_score_n.round(3)"
   ]
  },
  {
   "cell_type": "code",
   "execution_count": 153,
   "id": "2b89a167",
   "metadata": {},
   "outputs": [
    {
     "data": {
      "text/plain": [
       "<matplotlib.legend.Legend at 0x2e4ba07aca0>"
      ]
     },
     "execution_count": 153,
     "metadata": {},
     "output_type": "execute_result"
    },
    {
     "data": {
      "image/png": "[encoded data removed]",
      "text/plain": [
       "<Figure size 432x288 with 1 Axes>"
      ]
     },
     "metadata": {
      "needs_background": "light"
     },
     "output_type": "display_data"
    }
   ],
   "source": [
    "# 모델 설명력 그래프로 확인\n",
    "plt.plot(para_n_tree, train_score, linestyle = '-', label = 'Train Score')\n",
    "plt.plot(para_n_tree, test_score, linestyle = '--', label = 'Test Score')\n",
    "plt.ylabel('score')\n",
    "plt.xlabel('n_estimators')\n",
    "plt.legend()"
   ]
  },
  {
   "cell_type": "code",
   "execution_count": 154,
   "id": "7d56dbb2",
   "metadata": {},
   "outputs": [],
   "source": [
    "# train 및 test 설명력 결과 저장\n",
    "train_score = []\n",
    "test_score = []\n",
    "\n",
    "\n",
    "para_depth = [depth for depth in range(1, 11)] # para_n_tree = [1, 2, 3, 4, ..., 10]\n",
    "\n",
    "for v_max_depth in para_depth:\n",
    "    rf = RandomForestRegressor(random_state=1234, n_estimators = 20, max_depth= v_max_depth)\n",
    "    rf.fit(df_train_x, df_train_y)\n",
    "    train_score.append(rf.score(df_train_x, df_train_y))\n",
    "    test_score.append(rf.score(df_test_x, df_test_y))\n",
    "    \n",
    "# 결과 저장\n",
    "rf_score_depth = pd.DataFrame()\n",
    "rf_score_depth['MinSamplesLeaf'] = para_depth\n",
    "rf_score_depth['TrainScore'] = train_score\n",
    "rf_score_depth['TestScore'] = test_score"
   ]
  },
  {
   "cell_type": "code",
   "execution_count": 155,
   "id": "f2957106",
   "metadata": {},
   "outputs": [
    {
     "data": {
      "text/html": [
       "<div>\n",
       "<style scoped>\n",
       "    .dataframe tbody tr th:only-of-type {\n",
       "        vertical-align: middle;\n",
       "    }\n",
       "\n",
       "    .dataframe tbody tr th {\n",
       "        vertical-align: top;\n",
       "    }\n",
       "\n",
       "    .dataframe thead th {\n",
       "        text-align: right;\n",
       "    }\n",
       "</style>\n",
       "<table border=\"1\" class=\"dataframe\">\n",
       "  <thead>\n",
       "    <tr style=\"text-align: right;\">\n",
       "      <th></th>\n",
       "      <th>MinSamplesLeaf</th>\n",
       "      <th>TrainScore</th>\n",
       "      <th>TestScore</th>\n",
       "    </tr>\n",
       "  </thead>\n",
       "  <tbody>\n",
       "    <tr>\n",
       "      <th>0</th>\n",
       "      <td>1</td>\n",
       "      <td>0.569</td>\n",
       "      <td>0.590</td>\n",
       "    </tr>\n",
       "    <tr>\n",
       "      <th>1</th>\n",
       "      <td>2</td>\n",
       "      <td>0.767</td>\n",
       "      <td>0.785</td>\n",
       "    </tr>\n",
       "    <tr>\n",
       "      <th>2</th>\n",
       "      <td>3</td>\n",
       "      <td>0.878</td>\n",
       "      <td>0.856</td>\n",
       "    </tr>\n",
       "    <tr>\n",
       "      <th>3</th>\n",
       "      <td>4</td>\n",
       "      <td>0.919</td>\n",
       "      <td>0.882</td>\n",
       "    </tr>\n",
       "    <tr>\n",
       "      <th>4</th>\n",
       "      <td>5</td>\n",
       "      <td>0.943</td>\n",
       "      <td>0.894</td>\n",
       "    </tr>\n",
       "    <tr>\n",
       "      <th>5</th>\n",
       "      <td>6</td>\n",
       "      <td>0.959</td>\n",
       "      <td>0.897</td>\n",
       "    </tr>\n",
       "    <tr>\n",
       "      <th>6</th>\n",
       "      <td>7</td>\n",
       "      <td>0.966</td>\n",
       "      <td>0.897</td>\n",
       "    </tr>\n",
       "    <tr>\n",
       "      <th>7</th>\n",
       "      <td>8</td>\n",
       "      <td>0.974</td>\n",
       "      <td>0.903</td>\n",
       "    </tr>\n",
       "    <tr>\n",
       "      <th>8</th>\n",
       "      <td>9</td>\n",
       "      <td>0.977</td>\n",
       "      <td>0.900</td>\n",
       "    </tr>\n",
       "    <tr>\n",
       "      <th>9</th>\n",
       "      <td>10</td>\n",
       "      <td>0.979</td>\n",
       "      <td>0.901</td>\n",
       "    </tr>\n",
       "  </tbody>\n",
       "</table>\n",
       "</div>"
      ],
      "text/plain": [
       "   MinSamplesLeaf  TrainScore  TestScore\n",
       "0               1       0.569      0.590\n",
       "1               2       0.767      0.785\n",
       "2               3       0.878      0.856\n",
       "3               4       0.919      0.882\n",
       "4               5       0.943      0.894\n",
       "5               6       0.959      0.897\n",
       "6               7       0.966      0.897\n",
       "7               8       0.974      0.903\n",
       "8               9       0.977      0.900\n",
       "9              10       0.979      0.901"
      ]
     },
     "execution_count": 155,
     "metadata": {},
     "output_type": "execute_result"
    }
   ],
   "source": [
    "# 모델 설명력 확인\n",
    "rf_score_depth.round(3)"
   ]
  },
  {
   "cell_type": "code",
   "execution_count": 156,
   "id": "feeae4fa",
   "metadata": {},
   "outputs": [
    {
     "data": {
      "text/plain": [
       "<matplotlib.legend.Legend at 0x2e4bcf0c760>"
      ]
     },
     "execution_count": 156,
     "metadata": {},
     "output_type": "execute_result"
    },
    {
     "data": {
      "image/png": "[encoded data removed]",
      "text/plain": [
       "<Figure size 432x288 with 1 Axes>"
      ]
     },
     "metadata": {
      "needs_background": "light"
     },
     "output_type": "display_data"
    }
   ],
   "source": [
    "# 모델 설명력 그래프로 확인\n",
    "plt.plot(para_depth, train_score, linestyle = '-', label = 'Train Score')\n",
    "plt.plot(para_depth, test_score, linestyle = '--', label = 'Test Score')\n",
    "plt.ylabel('score')\n",
    "plt.xlabel('max depth')\n",
    "plt.legend()"
   ]
  },
  {
   "cell_type": "code",
   "execution_count": null,
   "id": "809dbd71",
   "metadata": {},
   "outputs": [],
   "source": []
  },
  {
   "cell_type": "code",
   "execution_count": 198,
   "id": "a42b7524",
   "metadata": {},
   "outputs": [
    {
     "name": "stdout",
     "output_type": "stream",
     "text": [
      "Score on training set: 0.924\n",
      "Score on test set: 0.884\n"
     ]
    }
   ],
   "source": [
    "# 최적 parameter 설정 후 최종 모델 생성\n",
    "\n",
    "rf_final = RandomForestRegressor(random_state=1234, n_estimators = 80, max_depth = 7, min_samples_leaf=4)\n",
    "rf_final.fit(df_train_x, df_train_y)\n",
    "print('Score on training set: {:.3f}'.format(rf_final.score(df_train_x, df_train_y)))\n",
    "print('Score on test set: {:.3f}'.format(rf_final.score(df_test_x, df_test_y)))"
   ]
  },
  {
   "cell_type": "code",
   "execution_count": 199,
   "id": "01755686",
   "metadata": {},
   "outputs": [
    {
     "data": {
      "text/plain": [
       "{'bootstrap': True,\n",
       " 'ccp_alpha': 0.0,\n",
       " 'criterion': 'mse',\n",
       " 'max_depth': 7,\n",
       " 'max_features': 'auto',\n",
       " 'max_leaf_nodes': None,\n",
       " 'max_samples': None,\n",
       " 'min_impurity_decrease': 0.0,\n",
       " 'min_impurity_split': None,\n",
       " 'min_samples_leaf': 4,\n",
       " 'min_samples_split': 2,\n",
       " 'min_weight_fraction_leaf': 0.0,\n",
       " 'n_estimators': 80,\n",
       " 'n_jobs': None,\n",
       " 'oob_score': False,\n",
       " 'random_state': 1234,\n",
       " 'verbose': 0,\n",
       " 'warm_start': False}"
      ]
     },
     "execution_count": 199,
     "metadata": {},
     "output_type": "execute_result"
    }
   ],
   "source": [
    "rf_final.get_params()"
   ]
  },
  {
   "cell_type": "markdown",
   "id": "7c8a9bca",
   "metadata": {},
   "source": [
    "###### Boosting"
   ]
  },
  {
   "cell_type": "code",
   "execution_count": 161,
   "id": "a4aca8c7",
   "metadata": {},
   "outputs": [
    {
     "name": "stdout",
     "output_type": "stream",
     "text": [
      "학습용 데이터의 모델 설명력: 0.981\n",
      "평가용 데이터의 모델 설명력: 0.904\n"
     ]
    }
   ],
   "source": [
    "# 기본 모델 생성\n",
    "\n",
    "gb_uncustomized = GradientBoostingRegressor(random_state = 1234)\n",
    "gb_uncustomized.fit(df_train_x, df_train_y)\n",
    "\n",
    "# 데이터 설명력\n",
    "\n",
    "print('학습용 데이터의 모델 설명력: {:.3f}'.format(gb_uncustomized.score(df_train_x, df_train_y)))\n",
    "print('평가용 데이터의 모델 설명력: {:.3f}'.format(gb_uncustomized.score(df_test_x, df_test_y)))  "
   ]
  },
  {
   "cell_type": "code",
   "execution_count": 162,
   "id": "778d1d29",
   "metadata": {},
   "outputs": [],
   "source": [
    "# train 및 test 설명력 결과 저장\n",
    "train_score = []\n",
    "test_score = []\n",
    "\n",
    "# n_estimators 트리 수 변경, 10 ~ 100\n",
    "para_n_tree = [n_tree * 10 for n_tree in range(1, 25)] # para_n_tree = [10, 20 30, ... 100]\n",
    "\n",
    "for v_n_estimators in para_n_tree:\n",
    "    gb = GradientBoostingRegressor(n_estimators=v_n_estimators, random_state=1234)\n",
    "    gb.fit(df_train_x, df_train_y)\n",
    "    train_score.append(gb.score(df_train_x, df_train_y))\n",
    "    test_score.append(gb.score(df_test_x, df_test_y))\n",
    "    \n",
    "# 결과 저장\n",
    "df_score_n = pd.DataFrame()\n",
    "df_score_n['n_estimators'] = para_n_tree\n",
    "df_score_n['TrainScore'] = train_score\n",
    "df_score_n['TestScore'] = test_score"
   ]
  },
  {
   "cell_type": "code",
   "execution_count": 163,
   "id": "f77910d8",
   "metadata": {},
   "outputs": [
    {
     "data": {
      "text/html": [
       "<div>\n",
       "<style scoped>\n",
       "    .dataframe tbody tr th:only-of-type {\n",
       "        vertical-align: middle;\n",
       "    }\n",
       "\n",
       "    .dataframe tbody tr th {\n",
       "        vertical-align: top;\n",
       "    }\n",
       "\n",
       "    .dataframe thead th {\n",
       "        text-align: right;\n",
       "    }\n",
       "</style>\n",
       "<table border=\"1\" class=\"dataframe\">\n",
       "  <thead>\n",
       "    <tr style=\"text-align: right;\">\n",
       "      <th></th>\n",
       "      <th>n_estimators</th>\n",
       "      <th>TrainScore</th>\n",
       "      <th>TestScore</th>\n",
       "    </tr>\n",
       "  </thead>\n",
       "  <tbody>\n",
       "    <tr>\n",
       "      <th>0</th>\n",
       "      <td>10</td>\n",
       "      <td>0.770</td>\n",
       "      <td>0.753</td>\n",
       "    </tr>\n",
       "    <tr>\n",
       "      <th>1</th>\n",
       "      <td>20</td>\n",
       "      <td>0.907</td>\n",
       "      <td>0.866</td>\n",
       "    </tr>\n",
       "    <tr>\n",
       "      <th>2</th>\n",
       "      <td>30</td>\n",
       "      <td>0.943</td>\n",
       "      <td>0.888</td>\n",
       "    </tr>\n",
       "    <tr>\n",
       "      <th>3</th>\n",
       "      <td>40</td>\n",
       "      <td>0.958</td>\n",
       "      <td>0.896</td>\n",
       "    </tr>\n",
       "    <tr>\n",
       "      <th>4</th>\n",
       "      <td>50</td>\n",
       "      <td>0.965</td>\n",
       "      <td>0.899</td>\n",
       "    </tr>\n",
       "    <tr>\n",
       "      <th>5</th>\n",
       "      <td>60</td>\n",
       "      <td>0.970</td>\n",
       "      <td>0.902</td>\n",
       "    </tr>\n",
       "    <tr>\n",
       "      <th>6</th>\n",
       "      <td>70</td>\n",
       "      <td>0.975</td>\n",
       "      <td>0.904</td>\n",
       "    </tr>\n",
       "    <tr>\n",
       "      <th>7</th>\n",
       "      <td>80</td>\n",
       "      <td>0.978</td>\n",
       "      <td>0.904</td>\n",
       "    </tr>\n",
       "    <tr>\n",
       "      <th>8</th>\n",
       "      <td>90</td>\n",
       "      <td>0.979</td>\n",
       "      <td>0.903</td>\n",
       "    </tr>\n",
       "    <tr>\n",
       "      <th>9</th>\n",
       "      <td>100</td>\n",
       "      <td>0.981</td>\n",
       "      <td>0.904</td>\n",
       "    </tr>\n",
       "    <tr>\n",
       "      <th>10</th>\n",
       "      <td>110</td>\n",
       "      <td>0.983</td>\n",
       "      <td>0.904</td>\n",
       "    </tr>\n",
       "    <tr>\n",
       "      <th>11</th>\n",
       "      <td>120</td>\n",
       "      <td>0.985</td>\n",
       "      <td>0.904</td>\n",
       "    </tr>\n",
       "    <tr>\n",
       "      <th>12</th>\n",
       "      <td>130</td>\n",
       "      <td>0.986</td>\n",
       "      <td>0.905</td>\n",
       "    </tr>\n",
       "    <tr>\n",
       "      <th>13</th>\n",
       "      <td>140</td>\n",
       "      <td>0.987</td>\n",
       "      <td>0.905</td>\n",
       "    </tr>\n",
       "    <tr>\n",
       "      <th>14</th>\n",
       "      <td>150</td>\n",
       "      <td>0.989</td>\n",
       "      <td>0.906</td>\n",
       "    </tr>\n",
       "    <tr>\n",
       "      <th>15</th>\n",
       "      <td>160</td>\n",
       "      <td>0.990</td>\n",
       "      <td>0.907</td>\n",
       "    </tr>\n",
       "    <tr>\n",
       "      <th>16</th>\n",
       "      <td>170</td>\n",
       "      <td>0.991</td>\n",
       "      <td>0.907</td>\n",
       "    </tr>\n",
       "    <tr>\n",
       "      <th>17</th>\n",
       "      <td>180</td>\n",
       "      <td>0.992</td>\n",
       "      <td>0.908</td>\n",
       "    </tr>\n",
       "    <tr>\n",
       "      <th>18</th>\n",
       "      <td>190</td>\n",
       "      <td>0.993</td>\n",
       "      <td>0.907</td>\n",
       "    </tr>\n",
       "    <tr>\n",
       "      <th>19</th>\n",
       "      <td>200</td>\n",
       "      <td>0.994</td>\n",
       "      <td>0.907</td>\n",
       "    </tr>\n",
       "    <tr>\n",
       "      <th>20</th>\n",
       "      <td>210</td>\n",
       "      <td>0.994</td>\n",
       "      <td>0.908</td>\n",
       "    </tr>\n",
       "    <tr>\n",
       "      <th>21</th>\n",
       "      <td>220</td>\n",
       "      <td>0.995</td>\n",
       "      <td>0.908</td>\n",
       "    </tr>\n",
       "    <tr>\n",
       "      <th>22</th>\n",
       "      <td>230</td>\n",
       "      <td>0.995</td>\n",
       "      <td>0.908</td>\n",
       "    </tr>\n",
       "    <tr>\n",
       "      <th>23</th>\n",
       "      <td>240</td>\n",
       "      <td>0.995</td>\n",
       "      <td>0.908</td>\n",
       "    </tr>\n",
       "  </tbody>\n",
       "</table>\n",
       "</div>"
      ],
      "text/plain": [
       "    n_estimators  TrainScore  TestScore\n",
       "0             10       0.770      0.753\n",
       "1             20       0.907      0.866\n",
       "2             30       0.943      0.888\n",
       "3             40       0.958      0.896\n",
       "4             50       0.965      0.899\n",
       "5             60       0.970      0.902\n",
       "6             70       0.975      0.904\n",
       "7             80       0.978      0.904\n",
       "8             90       0.979      0.903\n",
       "9            100       0.981      0.904\n",
       "10           110       0.983      0.904\n",
       "11           120       0.985      0.904\n",
       "12           130       0.986      0.905\n",
       "13           140       0.987      0.905\n",
       "14           150       0.989      0.906\n",
       "15           160       0.990      0.907\n",
       "16           170       0.991      0.907\n",
       "17           180       0.992      0.908\n",
       "18           190       0.993      0.907\n",
       "19           200       0.994      0.907\n",
       "20           210       0.994      0.908\n",
       "21           220       0.995      0.908\n",
       "22           230       0.995      0.908\n",
       "23           240       0.995      0.908"
      ]
     },
     "execution_count": 163,
     "metadata": {},
     "output_type": "execute_result"
    }
   ],
   "source": [
    "# 모델 설명력 확인\n",
    "df_score_n.round(3)"
   ]
  },
  {
   "cell_type": "code",
   "execution_count": 164,
   "id": "d3775d26",
   "metadata": {},
   "outputs": [
    {
     "data": {
      "text/plain": [
       "<matplotlib.legend.Legend at 0x2e4b7c60400>"
      ]
     },
     "execution_count": 164,
     "metadata": {},
     "output_type": "execute_result"
    },
    {
     "data": {
      "image/png": "[encoded data removed]",
      "text/plain": [
       "<Figure size 432x288 with 1 Axes>"
      ]
     },
     "metadata": {
      "needs_background": "light"
     },
     "output_type": "display_data"
    }
   ],
   "source": [
    "# 모델 설명력 그래프로 확인\n",
    "plt.plot(para_n_tree, train_score, linestyle = '-', label = 'Train Score')\n",
    "plt.plot(para_n_tree, test_score, linestyle = '--', label = 'Test Score')\n",
    "plt.ylabel('score')\n",
    "plt.xlabel('n_estimators')\n",
    "plt.legend()"
   ]
  },
  {
   "cell_type": "code",
   "execution_count": null,
   "id": "e2461513",
   "metadata": {},
   "outputs": [],
   "source": [
    "# n 50"
   ]
  },
  {
   "cell_type": "code",
   "execution_count": 165,
   "id": "b20145ba",
   "metadata": {},
   "outputs": [],
   "source": [
    "# train 및 test 설명력 결과 저장\n",
    "train_score = []\n",
    "test_score = []\n",
    "\n",
    "\n",
    "para_depth = [depth for depth in range(1, 21)] # para_n_tree = [1, 2, 3, 4, ..., 10]\n",
    "\n",
    "for v_max_depth in para_depth:\n",
    "    gb = GradientBoostingRegressor(min_samples_leaf= 11, random_state=1234, n_estimators = 30, min_samples_split=22, max_depth= v_max_depth)\n",
    "    gb.fit(df_train_x, df_train_y)\n",
    "    train_score.append(gb.score(df_train_x, df_train_y))\n",
    "    test_score.append(gb.score(df_test_x, df_test_y))\n",
    "    \n",
    "# 결과 저장\n",
    "df_score_depth = pd.DataFrame()\n",
    "df_score_depth['Depth'] = para_depth\n",
    "df_score_depth['TrainScore'] = train_score\n",
    "df_score_depth['TestScore'] = test_score"
   ]
  },
  {
   "cell_type": "code",
   "execution_count": 167,
   "id": "26b12df5",
   "metadata": {},
   "outputs": [
    {
     "data": {
      "text/html": [
       "<div>\n",
       "<style scoped>\n",
       "    .dataframe tbody tr th:only-of-type {\n",
       "        vertical-align: middle;\n",
       "    }\n",
       "\n",
       "    .dataframe tbody tr th {\n",
       "        vertical-align: top;\n",
       "    }\n",
       "\n",
       "    .dataframe thead th {\n",
       "        text-align: right;\n",
       "    }\n",
       "</style>\n",
       "<table border=\"1\" class=\"dataframe\">\n",
       "  <thead>\n",
       "    <tr style=\"text-align: right;\">\n",
       "      <th></th>\n",
       "      <th>Depth</th>\n",
       "      <th>TrainScore</th>\n",
       "      <th>TestScore</th>\n",
       "    </tr>\n",
       "  </thead>\n",
       "  <tbody>\n",
       "    <tr>\n",
       "      <th>0</th>\n",
       "      <td>1</td>\n",
       "      <td>0.759</td>\n",
       "      <td>0.769</td>\n",
       "    </tr>\n",
       "    <tr>\n",
       "      <th>1</th>\n",
       "      <td>2</td>\n",
       "      <td>0.856</td>\n",
       "      <td>0.842</td>\n",
       "    </tr>\n",
       "    <tr>\n",
       "      <th>2</th>\n",
       "      <td>3</td>\n",
       "      <td>0.904</td>\n",
       "      <td>0.878</td>\n",
       "    </tr>\n",
       "    <tr>\n",
       "      <th>3</th>\n",
       "      <td>4</td>\n",
       "      <td>0.932</td>\n",
       "      <td>0.890</td>\n",
       "    </tr>\n",
       "    <tr>\n",
       "      <th>4</th>\n",
       "      <td>5</td>\n",
       "      <td>0.938</td>\n",
       "      <td>0.887</td>\n",
       "    </tr>\n",
       "    <tr>\n",
       "      <th>5</th>\n",
       "      <td>6</td>\n",
       "      <td>0.945</td>\n",
       "      <td>0.891</td>\n",
       "    </tr>\n",
       "    <tr>\n",
       "      <th>6</th>\n",
       "      <td>7</td>\n",
       "      <td>0.949</td>\n",
       "      <td>0.888</td>\n",
       "    </tr>\n",
       "    <tr>\n",
       "      <th>7</th>\n",
       "      <td>8</td>\n",
       "      <td>0.949</td>\n",
       "      <td>0.893</td>\n",
       "    </tr>\n",
       "    <tr>\n",
       "      <th>8</th>\n",
       "      <td>9</td>\n",
       "      <td>0.950</td>\n",
       "      <td>0.891</td>\n",
       "    </tr>\n",
       "    <tr>\n",
       "      <th>9</th>\n",
       "      <td>10</td>\n",
       "      <td>0.951</td>\n",
       "      <td>0.891</td>\n",
       "    </tr>\n",
       "    <tr>\n",
       "      <th>10</th>\n",
       "      <td>11</td>\n",
       "      <td>0.951</td>\n",
       "      <td>0.892</td>\n",
       "    </tr>\n",
       "    <tr>\n",
       "      <th>11</th>\n",
       "      <td>12</td>\n",
       "      <td>0.950</td>\n",
       "      <td>0.890</td>\n",
       "    </tr>\n",
       "    <tr>\n",
       "      <th>12</th>\n",
       "      <td>13</td>\n",
       "      <td>0.950</td>\n",
       "      <td>0.890</td>\n",
       "    </tr>\n",
       "    <tr>\n",
       "      <th>13</th>\n",
       "      <td>14</td>\n",
       "      <td>0.950</td>\n",
       "      <td>0.890</td>\n",
       "    </tr>\n",
       "    <tr>\n",
       "      <th>14</th>\n",
       "      <td>15</td>\n",
       "      <td>0.950</td>\n",
       "      <td>0.890</td>\n",
       "    </tr>\n",
       "    <tr>\n",
       "      <th>15</th>\n",
       "      <td>16</td>\n",
       "      <td>0.950</td>\n",
       "      <td>0.890</td>\n",
       "    </tr>\n",
       "    <tr>\n",
       "      <th>16</th>\n",
       "      <td>17</td>\n",
       "      <td>0.950</td>\n",
       "      <td>0.890</td>\n",
       "    </tr>\n",
       "    <tr>\n",
       "      <th>17</th>\n",
       "      <td>18</td>\n",
       "      <td>0.950</td>\n",
       "      <td>0.890</td>\n",
       "    </tr>\n",
       "    <tr>\n",
       "      <th>18</th>\n",
       "      <td>19</td>\n",
       "      <td>0.950</td>\n",
       "      <td>0.890</td>\n",
       "    </tr>\n",
       "    <tr>\n",
       "      <th>19</th>\n",
       "      <td>20</td>\n",
       "      <td>0.950</td>\n",
       "      <td>0.890</td>\n",
       "    </tr>\n",
       "  </tbody>\n",
       "</table>\n",
       "</div>"
      ],
      "text/plain": [
       "    Depth  TrainScore  TestScore\n",
       "0       1       0.759      0.769\n",
       "1       2       0.856      0.842\n",
       "2       3       0.904      0.878\n",
       "3       4       0.932      0.890\n",
       "4       5       0.938      0.887\n",
       "5       6       0.945      0.891\n",
       "6       7       0.949      0.888\n",
       "7       8       0.949      0.893\n",
       "8       9       0.950      0.891\n",
       "9      10       0.951      0.891\n",
       "10     11       0.951      0.892\n",
       "11     12       0.950      0.890\n",
       "12     13       0.950      0.890\n",
       "13     14       0.950      0.890\n",
       "14     15       0.950      0.890\n",
       "15     16       0.950      0.890\n",
       "16     17       0.950      0.890\n",
       "17     18       0.950      0.890\n",
       "18     19       0.950      0.890\n",
       "19     20       0.950      0.890"
      ]
     },
     "execution_count": 167,
     "metadata": {},
     "output_type": "execute_result"
    }
   ],
   "source": [
    "# 모델 설명력 확인\n",
    "df_score_depth.round(3)"
   ]
  },
  {
   "cell_type": "code",
   "execution_count": 166,
   "id": "f3a491ac",
   "metadata": {},
   "outputs": [
    {
     "data": {
      "text/plain": [
       "<matplotlib.legend.Legend at 0x2e4b18e6a60>"
      ]
     },
     "execution_count": 166,
     "metadata": {},
     "output_type": "execute_result"
    },
    {
     "data": {
      "image/png": "[encoded data removed]",
      "text/plain": [
       "<Figure size 432x288 with 1 Axes>"
      ]
     },
     "metadata": {
      "needs_background": "light"
     },
     "output_type": "display_data"
    }
   ],
   "source": [
    "# 모델 설명력 그래프로 확인\n",
    "plt.plot(para_depth, train_score, linestyle = '-', label = 'Train Score')\n",
    "plt.plot(para_depth, test_score, linestyle = '--', label = 'Test Score')\n",
    "plt.ylabel('score')\n",
    "plt.xlabel('max depth')\n",
    "plt.legend()"
   ]
  },
  {
   "cell_type": "code",
   "execution_count": null,
   "id": "f9d5fba6",
   "metadata": {},
   "outputs": [],
   "source": [
    "# depth 8"
   ]
  },
  {
   "cell_type": "code",
   "execution_count": null,
   "id": "261f70c8",
   "metadata": {},
   "outputs": [],
   "source": []
  },
  {
   "cell_type": "code",
   "execution_count": null,
   "id": "1482e8b8",
   "metadata": {},
   "outputs": [],
   "source": [
    "gb_final = GradientBoostingRegressor(random_state=1234, n_estimators = 60, max_depth = 5)\n",
    "     Score on training set: 0.995\n",
    "Score on test set: 0.897                                "
   ]
  },
  {
   "cell_type": "code",
   "execution_count": 187,
   "id": "9fb80396",
   "metadata": {},
   "outputs": [
    {
     "name": "stdout",
     "output_type": "stream",
     "text": [
      "Score on training set: 0.997\n",
      "Score on test set: 0.909\n"
     ]
    }
   ],
   "source": [
    "# 최적 parameter 설정 후 최종 모델 생성\n",
    "\n",
    "gb_final = GradientBoostingRegressor(random_state=1234, n_estimators = 100, max_depth = 5, min_samples_leaf=4)\n",
    "gb_final.fit(df_train_x, df_train_y)\n",
    "\n",
    "print('Score on training set: {:.3f}'.format(gb_final.score(df_train_x, df_train_y)))\n",
    "print('Score on test set: {:.3f}'.format(gb_final.score(df_test_x, df_test_y)))"
   ]
  },
  {
   "cell_type": "code",
   "execution_count": 185,
   "id": "5dd84977",
   "metadata": {},
   "outputs": [
    {
     "data": {
      "text/plain": [
       "{'alpha': 0.9,\n",
       " 'ccp_alpha': 0.0,\n",
       " 'criterion': 'friedman_mse',\n",
       " 'init': None,\n",
       " 'learning_rate': 0.1,\n",
       " 'loss': 'ls',\n",
       " 'max_depth': 5,\n",
       " 'max_features': None,\n",
       " 'max_leaf_nodes': None,\n",
       " 'min_impurity_decrease': 0.0,\n",
       " 'min_impurity_split': None,\n",
       " 'min_samples_leaf': 4,\n",
       " 'min_samples_split': 2,\n",
       " 'min_weight_fraction_leaf': 0.0,\n",
       " 'n_estimators': 60,\n",
       " 'n_iter_no_change': None,\n",
       " 'random_state': 1234,\n",
       " 'subsample': 1.0,\n",
       " 'tol': 0.0001,\n",
       " 'validation_fraction': 0.1,\n",
       " 'verbose': 0,\n",
       " 'warm_start': False}"
      ]
     },
     "execution_count": 185,
     "metadata": {},
     "output_type": "execute_result"
    }
   ],
   "source": [
    "gb_final.get_params()"
   ]
  },
  {
   "cell_type": "markdown",
   "id": "cd046b97",
   "metadata": {},
   "source": [
    "# 5. 모델 평가하기"
   ]
  },
  {
   "cell_type": "code",
   "execution_count": 209,
   "id": "abba44bf",
   "metadata": {},
   "outputs": [],
   "source": [
    "from sklearn.metrics import mean_squared_error\n",
    "from sklearn.metrics import mean_absolute_error\n",
    "from sklearn.metrics import mean_absolute_percentage_error"
   ]
  },
  {
   "cell_type": "code",
   "execution_count": 210,
   "id": "86ae0ca5",
   "metadata": {},
   "outputs": [],
   "source": [
    "def root_mean_squared_error(y_true, y_pred):\n",
    "    return np.sqrt(mean_squared_error(y_true, y_pred))"
   ]
  },
  {
   "cell_type": "code",
   "execution_count": 215,
   "id": "8c8afd76",
   "metadata": {},
   "outputs": [
    {
     "name": "stdout",
     "output_type": "stream",
     "text": [
      "학습용 데이터 평가결과: 0.924\n",
      "평가용 데이터 평가결과: 0.858\n"
     ]
    }
   ],
   "source": [
    "# Decison tree\n",
    "dt_final = DecisionTreeRegressor(random_state=1234, max_depth=9, min_samples_leaf=5, min_samples_split= 10)\n",
    "dt_final.fit(df_train_x, df_train_y)\n",
    "print('학습용 데이터 평가결과: {:.3f}'.format(dt_final.score(df_train_x, df_train_y)))\n",
    "print('평가용 데이터 평가결과: {:.3f}'.format(dt_final.score(df_test_x, df_test_y)))"
   ]
  },
  {
   "cell_type": "code",
   "execution_count": 219,
   "id": "a00119c2",
   "metadata": {},
   "outputs": [
    {
     "name": "stdout",
     "output_type": "stream",
     "text": [
      "Score on training set: 0.924\n",
      "Score on test set: 0.884\n"
     ]
    },
    {
     "data": {
      "text/plain": [
       "{'bootstrap': True,\n",
       " 'ccp_alpha': 0.0,\n",
       " 'criterion': 'mse',\n",
       " 'max_depth': 7,\n",
       " 'max_features': 'auto',\n",
       " 'max_leaf_nodes': None,\n",
       " 'max_samples': None,\n",
       " 'min_impurity_decrease': 0.0,\n",
       " 'min_impurity_split': None,\n",
       " 'min_samples_leaf': 4,\n",
       " 'min_samples_split': 2,\n",
       " 'min_weight_fraction_leaf': 0.0,\n",
       " 'n_estimators': 80,\n",
       " 'n_jobs': None,\n",
       " 'oob_score': False,\n",
       " 'random_state': 1234,\n",
       " 'verbose': 0,\n",
       " 'warm_start': False}"
      ]
     },
     "execution_count": 219,
     "metadata": {},
     "output_type": "execute_result"
    }
   ],
   "source": [
    "# Random Forest\n",
    "rf_final = RandomForestRegressor(random_state=1234, n_estimators = 80, max_depth = 7, min_samples_leaf=4)\n",
    "rf_final.fit(df_train_x, df_train_y)\n",
    "print('Score on training set: {:.3f}'.format(rf_final.score(df_train_x, df_train_y)))\n",
    "print('Score on test set: {:.3f}'.format(rf_final.score(df_test_x, df_test_y)))\n",
    "\n",
    "rf_final.get_params()"
   ]
  },
  {
   "cell_type": "code",
   "execution_count": 218,
   "id": "198c08bc",
   "metadata": {},
   "outputs": [
    {
     "name": "stdout",
     "output_type": "stream",
     "text": [
      "Score on training set: 0.997\n",
      "Score on test set: 0.909\n"
     ]
    }
   ],
   "source": [
    "# Gradient boosting\n",
    "\n",
    "gb_final = GradientBoostingRegressor(random_state=1234, n_estimators = 100, max_depth = 5, min_samples_leaf=4)\n",
    "gb_final.fit(df_train_x, df_train_y)\n",
    "\n",
    "print('Score on training set: {:.3f}'.format(gb_final.score(df_train_x, df_train_y)))\n",
    "print('Score on test set: {:.3f}'.format(gb_final.score(df_test_x, df_test_y)))"
   ]
  },
  {
   "cell_type": "markdown",
   "id": "45e30588",
   "metadata": {},
   "source": [
    "- 모델 평가지표 계산"
   ]
  },
  {
   "cell_type": "code",
   "execution_count": 222,
   "id": "5758a67b",
   "metadata": {},
   "outputs": [],
   "source": [
    "models = ['의사결정나무', '랜덤포레스트', '그래디언트부스팅']\n",
    "mse, mae, mape, rmse = [], [], [], []\n",
    "\n",
    "# 의사결정나무 옟측\n",
    "dt_y_pred = dt_final.predict(df_test_x)\n",
    "# 의사결정나무 평가\n",
    "mse.append(mean_absolute_error(df_test_y, dt_y_pred))\n",
    "mae.append(mean_absolute_error(df_test_y, dt_y_pred))\n",
    "mape.append(mean_absolute_percentage_error(df_test_y, dt_y_pred))\n",
    "rmse.append(root_mean_squared_error(df_test_y, dt_y_pred))\n",
    "\n",
    "# 랜덤포레스트 예측\n",
    "rf_y_pred = rf_final.predict(df_test_x)\n",
    "# 랜덤포레스트 평가\n",
    "mse.append(mean_absolute_error(df_test_y, rf_y_pred))\n",
    "mae.append(mean_absolute_error(df_test_y, rf_y_pred))\n",
    "mape.append(mean_absolute_percentage_error(df_test_y, rf_y_pred))\n",
    "rmse.append(root_mean_squared_error(df_test_y, rf_y_pred))\n",
    "\n",
    "# 그래디언트 부스팅 예측\n",
    "gb_y_pred =  gb_final.predict(df_test_x)\n",
    "# 그래디언트 부스팅 평가\n",
    "mse.append(mean_absolute_error(df_test_y, gb_y_pred))\n",
    "mae.append(mean_absolute_error(df_test_y, gb_y_pred))\n",
    "mape.append(mean_absolute_percentage_error(df_test_y, gb_y_pred))\n",
    "rmse.append(root_mean_squared_error(df_test_y, gb_y_pred))\n"
   ]
  },
  {
   "cell_type": "code",
   "execution_count": 223,
   "id": "d4b47a7d",
   "metadata": {},
   "outputs": [],
   "source": [
    "from sklearn.metrics import r2_score"
   ]
  },
  {
   "cell_type": "code",
   "execution_count": 225,
   "id": "5e47574a",
   "metadata": {},
   "outputs": [],
   "source": [
    "r2_train, r2_test = [], []\n",
    "r2_train.append(r2_score(df_train_y, dt_final.predict(df_train_x)))\n",
    "r2_test.append(r2_score(df_test_y, dt_y_pred))\n",
    "\n",
    "r2_train.append(r2_score(df_train_y, rf_final.predict(df_train_x)))\n",
    "r2_test.append(r2_score(df_test_y, rf_y_pred))\n",
    "\n",
    "r2_train.append(r2_score(df_train_y, gb_final.predict(df_train_x)))\n",
    "r2_test.append(r2_score(df_test_y, gb_y_pred))"
   ]
  },
  {
   "cell_type": "code",
   "execution_count": 226,
   "id": "1840c84f",
   "metadata": {},
   "outputs": [
    {
     "data": {
      "text/html": [
       "<div>\n",
       "<style scoped>\n",
       "    .dataframe tbody tr th:only-of-type {\n",
       "        vertical-align: middle;\n",
       "    }\n",
       "\n",
       "    .dataframe tbody tr th {\n",
       "        vertical-align: top;\n",
       "    }\n",
       "\n",
       "    .dataframe thead th {\n",
       "        text-align: right;\n",
       "    }\n",
       "</style>\n",
       "<table border=\"1\" class=\"dataframe\">\n",
       "  <thead>\n",
       "    <tr style=\"text-align: right;\">\n",
       "      <th></th>\n",
       "      <th>모델명</th>\n",
       "      <th>MSE</th>\n",
       "      <th>MAE</th>\n",
       "      <th>MAPE</th>\n",
       "      <th>RMSE</th>\n",
       "      <th>학습설명력</th>\n",
       "      <th>평가설명력</th>\n",
       "    </tr>\n",
       "  </thead>\n",
       "  <tbody>\n",
       "    <tr>\n",
       "      <th>0</th>\n",
       "      <td>의사결정나무</td>\n",
       "      <td>2.546788</td>\n",
       "      <td>2.546788</td>\n",
       "      <td>0.131153</td>\n",
       "      <td>3.612775</td>\n",
       "      <td>0.923633</td>\n",
       "      <td>0.858406</td>\n",
       "    </tr>\n",
       "    <tr>\n",
       "      <th>1</th>\n",
       "      <td>랜덤포레스트</td>\n",
       "      <td>2.253093</td>\n",
       "      <td>2.253093</td>\n",
       "      <td>0.118591</td>\n",
       "      <td>3.273073</td>\n",
       "      <td>0.924046</td>\n",
       "      <td>0.883782</td>\n",
       "    </tr>\n",
       "    <tr>\n",
       "      <th>2</th>\n",
       "      <td>그래디언트부스팅</td>\n",
       "      <td>1.941552</td>\n",
       "      <td>1.941552</td>\n",
       "      <td>0.100493</td>\n",
       "      <td>2.903213</td>\n",
       "      <td>0.996639</td>\n",
       "      <td>0.908563</td>\n",
       "    </tr>\n",
       "  </tbody>\n",
       "</table>\n",
       "</div>"
      ],
      "text/plain": [
       "        모델명       MSE       MAE      MAPE      RMSE     학습설명력     평가설명력\n",
       "0    의사결정나무  2.546788  2.546788  0.131153  3.612775  0.923633  0.858406\n",
       "1    랜덤포레스트  2.253093  2.253093  0.118591  3.273073  0.924046  0.883782\n",
       "2  그래디언트부스팅  1.941552  1.941552  0.100493  2.903213  0.996639  0.908563"
      ]
     },
     "execution_count": 226,
     "metadata": {},
     "output_type": "execute_result"
    }
   ],
   "source": [
    "model_df = pd.DataFrame({'모델명': models, 'MSE': mse, 'MAE': mae, 'MAPE': mape, 'RMSE': rmse, '학습설명력': r2_train, '평가설명력': r2_test})\n",
    "model_df"
   ]
  },
  {
   "cell_type": "code",
   "execution_count": 227,
   "id": "c5810023",
   "metadata": {},
   "outputs": [
    {
     "data": {
      "image/png": "[encoded data removed]",
      "text/plain": [
       "<Figure size 936x720 with 4 Axes>"
      ]
     },
     "metadata": {
      "needs_background": "light"
     },
     "output_type": "display_data"
    }
   ],
   "source": [
    "fig, ax = plt.subplots(2, 2, figsize = (13, 10))\n",
    "ax[0, 0].bar(models, mse)\n",
    "ax[0, 0].set_title('MSE').set_fontsize(15)\n",
    "\n",
    "ax[0, 1].bar(models, mae)\n",
    "ax[0, 1].set_title('MAE').set_fontsize(15)\n",
    "\n",
    "ax[1, 0].bar(models, mape)\n",
    "ax[1, 0].set_title('MAPE').set_fontsize(15)\n",
    "\n",
    "ax[1, 1].bar(models, rmse)\n",
    "ax[1, 1].set_title('RMSE').set_fontsize(15)"
   ]
  },
  {
   "cell_type": "code",
   "execution_count": 253,
   "id": "2a6de71e",
   "metadata": {},
   "outputs": [
    {
     "data": {
      "image/png": "[encoded data removed]",
      "text/plain": [
       "<Figure size 432x288 with 1 Axes>"
      ]
     },
     "metadata": {
      "needs_background": "light"
     },
     "output_type": "display_data"
    }
   ],
   "source": [
    "plt.plot(model_df['모델명'], model_df['학습설명력'])\n",
    "plt.plot(model_df['모델명'], model_df['평가설명력'])\n",
    "plt.legend(['train', 'test'])\n",
    "plt.xlabel('model')\n",
    "plt.ylabel('r2 score')\n",
    "plt.show()"
   ]
  },
  {
   "cell_type": "code",
   "execution_count": null,
   "id": "c967b84f",
   "metadata": {},
   "outputs": [],
   "source": []
  },
  {
   "cell_type": "code",
   "execution_count": null,
   "id": "fc4cac4a",
   "metadata": {},
   "outputs": [],
   "source": []
  },
  {
   "cell_type": "code",
   "execution_count": null,
   "id": "822b31d3",
   "metadata": {},
   "outputs": [],
   "source": []
  }
 ],
 "metadata": {
  "kernelspec": {
   "display_name": "Python 3 (ipykernel)",
   "language": "python",
   "name": "python3"
  },
  "language_info": {
   "codemirror_mode": {
    "name": "ipython",
    "version": 3
   },
   "file_extension": ".py",
   "mimetype": "text/x-python",
   "name": "python",
   "nbconvert_exporter": "python",
   "pygments_lexer": "ipython3",
   "version": "3.8.12"
  }
 },
 "nbformat": 4,
 "nbformat_minor": 5
}
