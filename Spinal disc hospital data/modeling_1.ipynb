{
 "cells": [
  {
   "cell_type": "code",
   "execution_count": 1,
   "id": "6e631896",
   "metadata": {},
   "outputs": [],
   "source": [
    "import pandas as pd \n",
    "import numpy as np \n",
    "import seaborn as sns \n",
    "import matplotlib as mpl\n",
    "import matplotlib.pyplot as plt\n",
    "import scipy.stats as stats \n",
    "\n",
    "mpl.rc('font',family='Malgun Gothic')\n",
    "# 음수 표시\n",
    "mpl.rc('axes', unicode_minus=False)\n",
    "import warnings\n",
    "warnings.filterwarnings('ignore')"
   ]
  },
  {
   "cell_type": "code",
   "execution_count": 2,
   "id": "f147d289",
   "metadata": {},
   "outputs": [],
   "source": [
    "from imblearn.over_sampling import SMOTE\n",
    "from sklearn.model_selection import train_test_split\n",
    "# 분류 Decision Tree\n",
    "from sklearn.tree import DecisionTreeClassifier\n",
    "# 분류 Random Forest\n",
    "from sklearn.ensemble import RandomForestClassifier\n",
    "# 분류 Gradient Boosting, XGBoosting\n",
    "from sklearn.ensemble import GradientBoostingClassifier\n",
    "from xgboost import XGBClassifier\n",
    "# 데이터 scaling\n",
    "from sklearn.preprocessing import StandardScaler\n",
    "# 분류 SVM\n",
    "from sklearn.svm import SVC\n",
    "# 분류 KNN\n",
    "from sklearn.neighbors import KNeighborsClassifier\n",
    "\n",
    "# 최적 모델, 파라미터 탐색\n",
    "from sklearn.model_selection import GridSearchCV\n",
    "from sklearn.model_selection import RandomizedSearchCV\n",
    "# 모델 성능 평가\n",
    "from sklearn.metrics import accuracy_score\n",
    "from sklearn.metrics import f1_score, roc_curve, roc_auc_score\n",
    "\n",
    "from statsmodels.api import Logit\n",
    "from sklearn.metrics import confusion_matrix\n",
    "from sklearn.metrics import classification_report\n",
    "from sklearn.linear_model import LogisticRegression"
   ]
  },
  {
   "cell_type": "code",
   "execution_count": 3,
   "id": "2067a5a7",
   "metadata": {},
   "outputs": [],
   "source": [
    "df_raw = pd.read_csv('df_raw.csv', encoding = 'cp949')"
   ]
  },
  {
   "cell_type": "code",
   "execution_count": 4,
   "id": "a659626a",
   "metadata": {},
   "outputs": [
    {
     "data": {
      "text/plain": [
       "Unnamed: 0                  0\n",
       "환자ID                        0\n",
       "Large Lymphocyte            0\n",
       "Location of herniation      0\n",
       "가족력                        51\n",
       "간질성폐질환                      0\n",
       "고혈압여부                       0\n",
       "과거수술횟수                      0\n",
       "당뇨여부                        0\n",
       "말초동맥질환여부                    0\n",
       "빈혈여부                        0\n",
       "성별                          0\n",
       "스테로이드치료                     0\n",
       "신부전여부                       0\n",
       "신장                          0\n",
       "심혈관질환                       0\n",
       "암발병여부                       0\n",
       "연령                          0\n",
       "우울증여부                       0\n",
       "입원기간                        0\n",
       "입원일자                        0\n",
       "종양진행여부                      0\n",
       "직업                          0\n",
       "체중                          0\n",
       "퇴원일자                        0\n",
       "헤모글로빈수치                     1\n",
       "혈전합병증여부                     0\n",
       "환자통증정도                      0\n",
       "흡연여부                        0\n",
       "통증기간(월)                     4\n",
       "수술기법                       81\n",
       "수술시간                       54\n",
       "수술실패여부                      0\n",
       "수술일자                        0\n",
       "재발여부                        0\n",
       "혈액형                         0\n",
       "전방디스크높이(mm)                 0\n",
       "후방디스크높이(mm)                 0\n",
       "지방축적도                       3\n",
       "Instability                 0\n",
       "MF + ES                     0\n",
       "Modic change                0\n",
       "PI                          4\n",
       "PT                          4\n",
       "Seg Angle(raw)              1\n",
       "Vaccum disc                 0\n",
       "골밀도                       896\n",
       "디스크단면적                      1\n",
       "디스크위치                       0\n",
       "척추이동척도                      0\n",
       "척추전방위증                      0\n",
       "연령대                         0\n",
       "BMI                         0\n",
       "퇴원일자(dt)                    0\n",
       "입원일자(dt)                    0\n",
       "비만여부                        0\n",
       "dtype: int64"
      ]
     },
     "execution_count": 4,
     "metadata": {},
     "output_type": "execute_result"
    }
   ],
   "source": [
    "df_raw.isnull().sum()"
   ]
  },
  {
   "cell_type": "code",
   "execution_count": 5,
   "id": "0d63da04",
   "metadata": {},
   "outputs": [],
   "source": [
    "df_final = df_raw[['재발여부', '고혈압여부', '당뇨여부', '성별', '신장', '체중', '심혈관질환', '연령', '직업', '헤모글로빈수치',\n",
    "                    '흡연여부', '통증기간(월)', 'BMI', '수술기법', 'MF + ES', 'PI', '디스크단면적']]\n",
    "df_final = df_final.dropna(subset = ['헤모글로빈수치', '통증기간(월)', '수술기법', 'PI', '디스크단면적'])\n",
    "\n",
    "df_final.to_csv('df_final.csv', encoding = 'cp949')"
   ]
  },
  {
   "cell_type": "code",
   "execution_count": 6,
   "id": "14b8f8d7",
   "metadata": {
    "scrolled": true
   },
   "outputs": [
    {
     "data": {
      "text/plain": [
       "재발여부       0\n",
       "고혈압여부      0\n",
       "당뇨여부       0\n",
       "성별         0\n",
       "신장         0\n",
       "체중         0\n",
       "심혈관질환      0\n",
       "연령         0\n",
       "직업         0\n",
       "헤모글로빈수치    0\n",
       "흡연여부       0\n",
       "통증기간(월)    0\n",
       "BMI        0\n",
       "수술기법       0\n",
       "MF + ES    0\n",
       "PI         0\n",
       "디스크단면적     0\n",
       "dtype: int64"
      ]
     },
     "execution_count": 6,
     "metadata": {},
     "output_type": "execute_result"
    }
   ],
   "source": [
    "df_final.isnull().sum()"
   ]
  },
  {
   "cell_type": "code",
   "execution_count": 7,
   "id": "5ea0d9a3",
   "metadata": {
    "scrolled": false
   },
   "outputs": [
    {
     "data": {
      "text/plain": [
       "사무직      424\n",
       "기타       399\n",
       "자영업      164\n",
       "무직       148\n",
       "학생       127\n",
       "주부       108\n",
       "군인        90\n",
       "운수업       50\n",
       "공무원       50\n",
       "노동직       41\n",
       "의료직       39\n",
       "사업가       37\n",
       "농업        36\n",
       "교사        28\n",
       "특수전문직     22\n",
       "건설업       17\n",
       "운동선수      13\n",
       "예술가       10\n",
       "Name: 직업, dtype: int64"
      ]
     },
     "execution_count": 7,
     "metadata": {},
     "output_type": "execute_result"
    }
   ],
   "source": [
    "df_final['직업'].value_counts()"
   ]
  },
  {
   "cell_type": "code",
   "execution_count": 8,
   "id": "544c8519",
   "metadata": {},
   "outputs": [
    {
     "data": {
      "text/plain": [
       "1     424\n",
       "2     399\n",
       "3     164\n",
       "4     148\n",
       "5     127\n",
       "6     108\n",
       "7      90\n",
       "8      50\n",
       "9      50\n",
       "10     41\n",
       "11     39\n",
       "12     37\n",
       "13     36\n",
       "14     28\n",
       "15     22\n",
       "16     17\n",
       "17     13\n",
       "18     10\n",
       "Name: 직업, dtype: int64"
      ]
     },
     "execution_count": 8,
     "metadata": {},
     "output_type": "execute_result"
    }
   ],
   "source": [
    "def func1(x):\n",
    "    if x == '사무직': return 1\n",
    "    elif x == '기타': return 2\n",
    "    elif x == '자영업': return 3\n",
    "    elif x == '무직': return 4\n",
    "    elif x == '학생': return 5\n",
    "    elif x == '주부': return 6\n",
    "    elif x == '군인': return 7\n",
    "    elif x == '운수업': return 8\n",
    "    elif x == '공무원': return 9\n",
    "    elif x == '노동직': return 10\n",
    "    elif x == '의료직': return 11\n",
    "    elif x == '사업가': return 12\n",
    "    elif x == '농업': return 13\n",
    "    elif x == '교사': return 14\n",
    "    elif x == '특수전문직': return 15\n",
    "    elif x == '건설업': return 16\n",
    "    elif x == '운동선수': return 17\n",
    "    else: return 18\n",
    "    \n",
    "df_final['직업'] = df_raw['직업'].apply(func1)\n",
    "df_final['직업'].value_counts()"
   ]
  },
  {
   "cell_type": "code",
   "execution_count": 9,
   "id": "ede0488a",
   "metadata": {},
   "outputs": [],
   "source": [
    "df_final.loc[df_final['수술기법'] == 'TELD', '수술기법'] = 0\n",
    "df_final.loc[df_final['수술기법'] == 'IELD', '수술기법'] = 1\n",
    "\n",
    "df_final['수술기법'] = df_final['수술기법'].astype('int')"
   ]
  },
  {
   "cell_type": "markdown",
   "id": "41247264",
   "metadata": {},
   "source": [
    "def func1(x) :\n",
    "    if x =='TELD':\n",
    "        return 0\n",
    "    else:\n",
    "        return 1\n",
    "df_final['수술기법'] = df_final['수술기법'].apply(func1)"
   ]
  },
  {
   "cell_type": "code",
   "execution_count": 10,
   "id": "a8d7d388",
   "metadata": {},
   "outputs": [
    {
     "data": {
      "text/html": [
       "<div>\n",
       "<style scoped>\n",
       "    .dataframe tbody tr th:only-of-type {\n",
       "        vertical-align: middle;\n",
       "    }\n",
       "\n",
       "    .dataframe tbody tr th {\n",
       "        vertical-align: top;\n",
       "    }\n",
       "\n",
       "    .dataframe thead th {\n",
       "        text-align: right;\n",
       "    }\n",
       "</style>\n",
       "<table border=\"1\" class=\"dataframe\">\n",
       "  <thead>\n",
       "    <tr style=\"text-align: right;\">\n",
       "      <th></th>\n",
       "      <th>재발여부</th>\n",
       "      <th>고혈압여부</th>\n",
       "      <th>당뇨여부</th>\n",
       "      <th>성별</th>\n",
       "      <th>신장</th>\n",
       "      <th>체중</th>\n",
       "      <th>심혈관질환</th>\n",
       "      <th>연령</th>\n",
       "      <th>직업</th>\n",
       "      <th>헤모글로빈수치</th>\n",
       "      <th>흡연여부</th>\n",
       "      <th>통증기간_월</th>\n",
       "      <th>BMI</th>\n",
       "      <th>수술기법</th>\n",
       "      <th>MF_ES</th>\n",
       "      <th>PI</th>\n",
       "      <th>디스크단면적</th>\n",
       "    </tr>\n",
       "  </thead>\n",
       "  <tbody>\n",
       "    <tr>\n",
       "      <th>0</th>\n",
       "      <td>0</td>\n",
       "      <td>0</td>\n",
       "      <td>0</td>\n",
       "      <td>2</td>\n",
       "      <td>163</td>\n",
       "      <td>60.3</td>\n",
       "      <td>0</td>\n",
       "      <td>66</td>\n",
       "      <td>3</td>\n",
       "      <td>13.66</td>\n",
       "      <td>0</td>\n",
       "      <td>1.0</td>\n",
       "      <td>22.695623</td>\n",
       "      <td>0</td>\n",
       "      <td>1824.6</td>\n",
       "      <td>51.6</td>\n",
       "      <td>2048.50</td>\n",
       "    </tr>\n",
       "    <tr>\n",
       "      <th>1</th>\n",
       "      <td>0</td>\n",
       "      <td>0</td>\n",
       "      <td>0</td>\n",
       "      <td>1</td>\n",
       "      <td>171</td>\n",
       "      <td>71.7</td>\n",
       "      <td>0</td>\n",
       "      <td>47</td>\n",
       "      <td>17</td>\n",
       "      <td>13.73</td>\n",
       "      <td>0</td>\n",
       "      <td>1.0</td>\n",
       "      <td>24.520365</td>\n",
       "      <td>0</td>\n",
       "      <td>1737.5</td>\n",
       "      <td>40.8</td>\n",
       "      <td>1753.10</td>\n",
       "    </tr>\n",
       "    <tr>\n",
       "      <th>2</th>\n",
       "      <td>0</td>\n",
       "      <td>0</td>\n",
       "      <td>0</td>\n",
       "      <td>1</td>\n",
       "      <td>178</td>\n",
       "      <td>77.1</td>\n",
       "      <td>0</td>\n",
       "      <td>39</td>\n",
       "      <td>15</td>\n",
       "      <td>15.34</td>\n",
       "      <td>0</td>\n",
       "      <td>1.0</td>\n",
       "      <td>24.334049</td>\n",
       "      <td>0</td>\n",
       "      <td>1188.5</td>\n",
       "      <td>67.5</td>\n",
       "      <td>1749.00</td>\n",
       "    </tr>\n",
       "    <tr>\n",
       "      <th>3</th>\n",
       "      <td>0</td>\n",
       "      <td>1</td>\n",
       "      <td>0</td>\n",
       "      <td>1</td>\n",
       "      <td>174</td>\n",
       "      <td>74.2</td>\n",
       "      <td>0</td>\n",
       "      <td>40</td>\n",
       "      <td>6</td>\n",
       "      <td>15.38</td>\n",
       "      <td>0</td>\n",
       "      <td>2.0</td>\n",
       "      <td>24.507861</td>\n",
       "      <td>0</td>\n",
       "      <td>2534.5</td>\n",
       "      <td>49.2</td>\n",
       "      <td>1796.20</td>\n",
       "    </tr>\n",
       "    <tr>\n",
       "      <th>4</th>\n",
       "      <td>0</td>\n",
       "      <td>1</td>\n",
       "      <td>0</td>\n",
       "      <td>1</td>\n",
       "      <td>183</td>\n",
       "      <td>80.7</td>\n",
       "      <td>0</td>\n",
       "      <td>42</td>\n",
       "      <td>15</td>\n",
       "      <td>13.08</td>\n",
       "      <td>0</td>\n",
       "      <td>1.0</td>\n",
       "      <td>24.097465</td>\n",
       "      <td>0</td>\n",
       "      <td>1840.6</td>\n",
       "      <td>58.8</td>\n",
       "      <td>2021.48</td>\n",
       "    </tr>\n",
       "    <tr>\n",
       "      <th>...</th>\n",
       "      <td>...</td>\n",
       "      <td>...</td>\n",
       "      <td>...</td>\n",
       "      <td>...</td>\n",
       "      <td>...</td>\n",
       "      <td>...</td>\n",
       "      <td>...</td>\n",
       "      <td>...</td>\n",
       "      <td>...</td>\n",
       "      <td>...</td>\n",
       "      <td>...</td>\n",
       "      <td>...</td>\n",
       "      <td>...</td>\n",
       "      <td>...</td>\n",
       "      <td>...</td>\n",
       "      <td>...</td>\n",
       "      <td>...</td>\n",
       "    </tr>\n",
       "    <tr>\n",
       "      <th>1870</th>\n",
       "      <td>0</td>\n",
       "      <td>0</td>\n",
       "      <td>0</td>\n",
       "      <td>2</td>\n",
       "      <td>163</td>\n",
       "      <td>52.0</td>\n",
       "      <td>0</td>\n",
       "      <td>29</td>\n",
       "      <td>4</td>\n",
       "      <td>13.70</td>\n",
       "      <td>0</td>\n",
       "      <td>24.0</td>\n",
       "      <td>19.571681</td>\n",
       "      <td>0</td>\n",
       "      <td>1919.5</td>\n",
       "      <td>31.7</td>\n",
       "      <td>1813.00</td>\n",
       "    </tr>\n",
       "    <tr>\n",
       "      <th>1872</th>\n",
       "      <td>0</td>\n",
       "      <td>0</td>\n",
       "      <td>0</td>\n",
       "      <td>1</td>\n",
       "      <td>185</td>\n",
       "      <td>64.0</td>\n",
       "      <td>0</td>\n",
       "      <td>21</td>\n",
       "      <td>5</td>\n",
       "      <td>15.70</td>\n",
       "      <td>1</td>\n",
       "      <td>36.0</td>\n",
       "      <td>18.699781</td>\n",
       "      <td>0</td>\n",
       "      <td>2398.9</td>\n",
       "      <td>39.4</td>\n",
       "      <td>2167.60</td>\n",
       "    </tr>\n",
       "    <tr>\n",
       "      <th>1874</th>\n",
       "      <td>0</td>\n",
       "      <td>0</td>\n",
       "      <td>0</td>\n",
       "      <td>1</td>\n",
       "      <td>160</td>\n",
       "      <td>60.0</td>\n",
       "      <td>0</td>\n",
       "      <td>43</td>\n",
       "      <td>3</td>\n",
       "      <td>15.60</td>\n",
       "      <td>1</td>\n",
       "      <td>6.0</td>\n",
       "      <td>23.437500</td>\n",
       "      <td>0</td>\n",
       "      <td>1970.3</td>\n",
       "      <td>43.6</td>\n",
       "      <td>2250.80</td>\n",
       "    </tr>\n",
       "    <tr>\n",
       "      <th>1879</th>\n",
       "      <td>0</td>\n",
       "      <td>0</td>\n",
       "      <td>0</td>\n",
       "      <td>1</td>\n",
       "      <td>173</td>\n",
       "      <td>70.0</td>\n",
       "      <td>0</td>\n",
       "      <td>20</td>\n",
       "      <td>7</td>\n",
       "      <td>13.00</td>\n",
       "      <td>0</td>\n",
       "      <td>4.0</td>\n",
       "      <td>23.388687</td>\n",
       "      <td>0</td>\n",
       "      <td>2220.1</td>\n",
       "      <td>34.0</td>\n",
       "      <td>2258.80</td>\n",
       "    </tr>\n",
       "    <tr>\n",
       "      <th>1891</th>\n",
       "      <td>0</td>\n",
       "      <td>0</td>\n",
       "      <td>0</td>\n",
       "      <td>1</td>\n",
       "      <td>167</td>\n",
       "      <td>70.0</td>\n",
       "      <td>0</td>\n",
       "      <td>61</td>\n",
       "      <td>4</td>\n",
       "      <td>14.40</td>\n",
       "      <td>0</td>\n",
       "      <td>1.0</td>\n",
       "      <td>25.099502</td>\n",
       "      <td>1</td>\n",
       "      <td>3864.1</td>\n",
       "      <td>44.6</td>\n",
       "      <td>2624.40</td>\n",
       "    </tr>\n",
       "  </tbody>\n",
       "</table>\n",
       "<p>1803 rows × 17 columns</p>\n",
       "</div>"
      ],
      "text/plain": [
       "      재발여부  고혈압여부  당뇨여부  성별   신장    체중  심혈관질환  연령  직업  헤모글로빈수치  흡연여부  통증기간_월  \\\n",
       "0        0      0     0   2  163  60.3      0  66   3    13.66     0     1.0   \n",
       "1        0      0     0   1  171  71.7      0  47  17    13.73     0     1.0   \n",
       "2        0      0     0   1  178  77.1      0  39  15    15.34     0     1.0   \n",
       "3        0      1     0   1  174  74.2      0  40   6    15.38     0     2.0   \n",
       "4        0      1     0   1  183  80.7      0  42  15    13.08     0     1.0   \n",
       "...    ...    ...   ...  ..  ...   ...    ...  ..  ..      ...   ...     ...   \n",
       "1870     0      0     0   2  163  52.0      0  29   4    13.70     0    24.0   \n",
       "1872     0      0     0   1  185  64.0      0  21   5    15.70     1    36.0   \n",
       "1874     0      0     0   1  160  60.0      0  43   3    15.60     1     6.0   \n",
       "1879     0      0     0   1  173  70.0      0  20   7    13.00     0     4.0   \n",
       "1891     0      0     0   1  167  70.0      0  61   4    14.40     0     1.0   \n",
       "\n",
       "            BMI  수술기법   MF_ES    PI   디스크단면적  \n",
       "0     22.695623     0  1824.6  51.6  2048.50  \n",
       "1     24.520365     0  1737.5  40.8  1753.10  \n",
       "2     24.334049     0  1188.5  67.5  1749.00  \n",
       "3     24.507861     0  2534.5  49.2  1796.20  \n",
       "4     24.097465     0  1840.6  58.8  2021.48  \n",
       "...         ...   ...     ...   ...      ...  \n",
       "1870  19.571681     0  1919.5  31.7  1813.00  \n",
       "1872  18.699781     0  2398.9  39.4  2167.60  \n",
       "1874  23.437500     0  1970.3  43.6  2250.80  \n",
       "1879  23.388687     0  2220.1  34.0  2258.80  \n",
       "1891  25.099502     1  3864.1  44.6  2624.40  \n",
       "\n",
       "[1803 rows x 17 columns]"
      ]
     },
     "execution_count": 10,
     "metadata": {},
     "output_type": "execute_result"
    }
   ],
   "source": [
    "df_final = df_final.rename(columns = {'통증기간(월)':'통증기간_월', 'MF + ES':'MF_ES'})\n",
    "df_final"
   ]
  },
  {
   "cell_type": "markdown",
   "id": "75017a75",
   "metadata": {},
   "source": [
    "## SMOTE 기법"
   ]
  },
  {
   "cell_type": "code",
   "execution_count": 11,
   "id": "2f851858",
   "metadata": {},
   "outputs": [
    {
     "name": "stdout",
     "output_type": "stream",
     "text": [
      "학습용 데이터 크기: (1262, 17)\n",
      "평가용 데이터 크기: (541, 17)\n"
     ]
    }
   ],
   "source": [
    "# 학습용 / 평가용 데이터 분리\n",
    "df_train, df_test = train_test_split(df_final, test_size = 0.3, random_state = 1234)\n",
    "print('학습용 데이터 크기: {}'.format(df_train.shape))\n",
    "print('평가용 데이터 크기: {}'.format(df_test.shape))"
   ]
  },
  {
   "cell_type": "code",
   "execution_count": 12,
   "id": "7b3c6aaf",
   "metadata": {},
   "outputs": [],
   "source": [
    "# 설명변수와 목표변수를 분리\n",
    "df_train_y = df_train['재발여부']\n",
    "df_train_x = df_train.drop('재발여부', axis = 1, inplace = False)\n",
    "df_test_y = df_test['재발여부']\n",
    "df_test_x = df_test.drop('재발여부', axis = 1, inplace = False)"
   ]
  },
  {
   "cell_type": "code",
   "execution_count": 13,
   "id": "83cb4560",
   "metadata": {},
   "outputs": [
    {
     "name": "stdout",
     "output_type": "stream",
     "text": [
      "SMOTE 적용 전 학습용 피처/레이블 데이터 세트:  (1262, 16) (1262,)\n",
      "SMOTE 적용 후 학습용 피처/레이블 데이터 세트:  (2228, 16) (2228,)\n"
     ]
    }
   ],
   "source": [
    "smote = SMOTE(random_state=0)\n",
    "df_train_x_s, df_train_y_s = smote.fit_resample(df_train_x, df_train_y)\n",
    "print('SMOTE 적용 전 학습용 피처/레이블 데이터 세트: ', df_train_x.shape, df_train_y.shape)\n",
    "print('SMOTE 적용 후 학습용 피처/레이블 데이터 세트: ', df_train_x_s.shape, df_train_y_s.shape)"
   ]
  },
  {
   "cell_type": "code",
   "execution_count": 14,
   "id": "ec388e0a",
   "metadata": {},
   "outputs": [
    {
     "name": "stdout",
     "output_type": "stream",
     "text": [
      "SMOTE 적용 전 학습용 피처/레이블 데이터 세트:  (541, 16) (541,)\n",
      "SMOTE 적용 후 학습용 피처/레이블 데이터 세트:  (958, 16) (958,)\n"
     ]
    }
   ],
   "source": [
    "smote = SMOTE(random_state=0)\n",
    "df_test_x_s, df_test_y_s = smote.fit_resample(df_test_x, df_test_y)\n",
    "print('SMOTE 적용 전 학습용 피처/레이블 데이터 세트: ', df_test_x.shape, df_test_y.shape)\n",
    "print('SMOTE 적용 후 학습용 피처/레이블 데이터 세트: ', df_test_x_s.shape, df_test_y_s.shape)"
   ]
  },
  {
   "cell_type": "code",
   "execution_count": 15,
   "id": "4c75c6de",
   "metadata": {},
   "outputs": [
    {
     "data": {
      "text/html": [
       "<div>\n",
       "<style scoped>\n",
       "    .dataframe tbody tr th:only-of-type {\n",
       "        vertical-align: middle;\n",
       "    }\n",
       "\n",
       "    .dataframe tbody tr th {\n",
       "        vertical-align: top;\n",
       "    }\n",
       "\n",
       "    .dataframe thead th {\n",
       "        text-align: right;\n",
       "    }\n",
       "</style>\n",
       "<table border=\"1\" class=\"dataframe\">\n",
       "  <thead>\n",
       "    <tr style=\"text-align: right;\">\n",
       "      <th></th>\n",
       "      <th>고혈압여부</th>\n",
       "      <th>당뇨여부</th>\n",
       "      <th>성별</th>\n",
       "      <th>신장</th>\n",
       "      <th>체중</th>\n",
       "      <th>심혈관질환</th>\n",
       "      <th>연령</th>\n",
       "      <th>직업</th>\n",
       "      <th>헤모글로빈수치</th>\n",
       "      <th>흡연여부</th>\n",
       "      <th>통증기간_월</th>\n",
       "      <th>BMI</th>\n",
       "      <th>수술기법</th>\n",
       "      <th>MF_ES</th>\n",
       "      <th>PI</th>\n",
       "      <th>디스크단면적</th>\n",
       "      <th>재발여부</th>\n",
       "    </tr>\n",
       "  </thead>\n",
       "  <tbody>\n",
       "    <tr>\n",
       "      <th>0</th>\n",
       "      <td>0</td>\n",
       "      <td>0</td>\n",
       "      <td>2</td>\n",
       "      <td>158</td>\n",
       "      <td>48.000000</td>\n",
       "      <td>0</td>\n",
       "      <td>18</td>\n",
       "      <td>5</td>\n",
       "      <td>13.700000</td>\n",
       "      <td>0</td>\n",
       "      <td>24.000000</td>\n",
       "      <td>19.227688</td>\n",
       "      <td>1</td>\n",
       "      <td>1464.100000</td>\n",
       "      <td>14.000000</td>\n",
       "      <td>1209.500000</td>\n",
       "      <td>0</td>\n",
       "    </tr>\n",
       "    <tr>\n",
       "      <th>1</th>\n",
       "      <td>0</td>\n",
       "      <td>0</td>\n",
       "      <td>1</td>\n",
       "      <td>173</td>\n",
       "      <td>55.000000</td>\n",
       "      <td>0</td>\n",
       "      <td>18</td>\n",
       "      <td>5</td>\n",
       "      <td>15.000000</td>\n",
       "      <td>0</td>\n",
       "      <td>12.000000</td>\n",
       "      <td>18.376825</td>\n",
       "      <td>0</td>\n",
       "      <td>1602.300000</td>\n",
       "      <td>46.600000</td>\n",
       "      <td>1985.500000</td>\n",
       "      <td>0</td>\n",
       "    </tr>\n",
       "    <tr>\n",
       "      <th>2</th>\n",
       "      <td>0</td>\n",
       "      <td>0</td>\n",
       "      <td>1</td>\n",
       "      <td>176</td>\n",
       "      <td>89.000000</td>\n",
       "      <td>0</td>\n",
       "      <td>19</td>\n",
       "      <td>5</td>\n",
       "      <td>14.300000</td>\n",
       "      <td>0</td>\n",
       "      <td>48.000000</td>\n",
       "      <td>28.731921</td>\n",
       "      <td>0</td>\n",
       "      <td>2511.700000</td>\n",
       "      <td>32.800000</td>\n",
       "      <td>2154.100000</td>\n",
       "      <td>0</td>\n",
       "    </tr>\n",
       "    <tr>\n",
       "      <th>3</th>\n",
       "      <td>0</td>\n",
       "      <td>0</td>\n",
       "      <td>2</td>\n",
       "      <td>167</td>\n",
       "      <td>61.600000</td>\n",
       "      <td>0</td>\n",
       "      <td>35</td>\n",
       "      <td>6</td>\n",
       "      <td>14.920000</td>\n",
       "      <td>0</td>\n",
       "      <td>2.000000</td>\n",
       "      <td>22.087561</td>\n",
       "      <td>0</td>\n",
       "      <td>1883.220000</td>\n",
       "      <td>35.100000</td>\n",
       "      <td>2288.000000</td>\n",
       "      <td>0</td>\n",
       "    </tr>\n",
       "    <tr>\n",
       "      <th>4</th>\n",
       "      <td>0</td>\n",
       "      <td>0</td>\n",
       "      <td>1</td>\n",
       "      <td>175</td>\n",
       "      <td>93.000000</td>\n",
       "      <td>0</td>\n",
       "      <td>18</td>\n",
       "      <td>5</td>\n",
       "      <td>15.700000</td>\n",
       "      <td>0</td>\n",
       "      <td>3.000000</td>\n",
       "      <td>30.367347</td>\n",
       "      <td>0</td>\n",
       "      <td>2481.300000</td>\n",
       "      <td>52.100000</td>\n",
       "      <td>1957.800000</td>\n",
       "      <td>0</td>\n",
       "    </tr>\n",
       "    <tr>\n",
       "      <th>...</th>\n",
       "      <td>...</td>\n",
       "      <td>...</td>\n",
       "      <td>...</td>\n",
       "      <td>...</td>\n",
       "      <td>...</td>\n",
       "      <td>...</td>\n",
       "      <td>...</td>\n",
       "      <td>...</td>\n",
       "      <td>...</td>\n",
       "      <td>...</td>\n",
       "      <td>...</td>\n",
       "      <td>...</td>\n",
       "      <td>...</td>\n",
       "      <td>...</td>\n",
       "      <td>...</td>\n",
       "      <td>...</td>\n",
       "      <td>...</td>\n",
       "    </tr>\n",
       "    <tr>\n",
       "      <th>2223</th>\n",
       "      <td>0</td>\n",
       "      <td>0</td>\n",
       "      <td>2</td>\n",
       "      <td>163</td>\n",
       "      <td>59.862996</td>\n",
       "      <td>0</td>\n",
       "      <td>30</td>\n",
       "      <td>3</td>\n",
       "      <td>12.741101</td>\n",
       "      <td>0</td>\n",
       "      <td>8.835596</td>\n",
       "      <td>22.531144</td>\n",
       "      <td>0</td>\n",
       "      <td>1162.253698</td>\n",
       "      <td>51.972574</td>\n",
       "      <td>1813.028442</td>\n",
       "      <td>1</td>\n",
       "    </tr>\n",
       "    <tr>\n",
       "      <th>2224</th>\n",
       "      <td>0</td>\n",
       "      <td>0</td>\n",
       "      <td>1</td>\n",
       "      <td>172</td>\n",
       "      <td>77.299729</td>\n",
       "      <td>0</td>\n",
       "      <td>33</td>\n",
       "      <td>7</td>\n",
       "      <td>13.427809</td>\n",
       "      <td>0</td>\n",
       "      <td>2.000000</td>\n",
       "      <td>25.935703</td>\n",
       "      <td>0</td>\n",
       "      <td>2336.890321</td>\n",
       "      <td>37.979024</td>\n",
       "      <td>2067.634730</td>\n",
       "      <td>1</td>\n",
       "    </tr>\n",
       "    <tr>\n",
       "      <th>2225</th>\n",
       "      <td>0</td>\n",
       "      <td>0</td>\n",
       "      <td>1</td>\n",
       "      <td>165</td>\n",
       "      <td>59.463030</td>\n",
       "      <td>0</td>\n",
       "      <td>34</td>\n",
       "      <td>1</td>\n",
       "      <td>14.911329</td>\n",
       "      <td>0</td>\n",
       "      <td>15.310015</td>\n",
       "      <td>21.966502</td>\n",
       "      <td>0</td>\n",
       "      <td>2067.750000</td>\n",
       "      <td>47.100000</td>\n",
       "      <td>1813.250000</td>\n",
       "      <td>1</td>\n",
       "    </tr>\n",
       "    <tr>\n",
       "      <th>2226</th>\n",
       "      <td>1</td>\n",
       "      <td>0</td>\n",
       "      <td>1</td>\n",
       "      <td>178</td>\n",
       "      <td>87.195214</td>\n",
       "      <td>0</td>\n",
       "      <td>55</td>\n",
       "      <td>8</td>\n",
       "      <td>15.201610</td>\n",
       "      <td>0</td>\n",
       "      <td>1.938093</td>\n",
       "      <td>27.280638</td>\n",
       "      <td>0</td>\n",
       "      <td>2085.470000</td>\n",
       "      <td>35.600000</td>\n",
       "      <td>2124.280000</td>\n",
       "      <td>1</td>\n",
       "    </tr>\n",
       "    <tr>\n",
       "      <th>2227</th>\n",
       "      <td>0</td>\n",
       "      <td>0</td>\n",
       "      <td>1</td>\n",
       "      <td>172</td>\n",
       "      <td>64.172446</td>\n",
       "      <td>0</td>\n",
       "      <td>44</td>\n",
       "      <td>1</td>\n",
       "      <td>14.873900</td>\n",
       "      <td>0</td>\n",
       "      <td>2.782496</td>\n",
       "      <td>21.477861</td>\n",
       "      <td>0</td>\n",
       "      <td>2073.033176</td>\n",
       "      <td>46.186483</td>\n",
       "      <td>1800.932740</td>\n",
       "      <td>1</td>\n",
       "    </tr>\n",
       "  </tbody>\n",
       "</table>\n",
       "<p>2228 rows × 17 columns</p>\n",
       "</div>"
      ],
      "text/plain": [
       "      고혈압여부  당뇨여부  성별   신장         체중  심혈관질환  연령  직업    헤모글로빈수치  흡연여부  \\\n",
       "0         0     0   2  158  48.000000      0  18   5  13.700000     0   \n",
       "1         0     0   1  173  55.000000      0  18   5  15.000000     0   \n",
       "2         0     0   1  176  89.000000      0  19   5  14.300000     0   \n",
       "3         0     0   2  167  61.600000      0  35   6  14.920000     0   \n",
       "4         0     0   1  175  93.000000      0  18   5  15.700000     0   \n",
       "...     ...   ...  ..  ...        ...    ...  ..  ..        ...   ...   \n",
       "2223      0     0   2  163  59.862996      0  30   3  12.741101     0   \n",
       "2224      0     0   1  172  77.299729      0  33   7  13.427809     0   \n",
       "2225      0     0   1  165  59.463030      0  34   1  14.911329     0   \n",
       "2226      1     0   1  178  87.195214      0  55   8  15.201610     0   \n",
       "2227      0     0   1  172  64.172446      0  44   1  14.873900     0   \n",
       "\n",
       "         통증기간_월        BMI  수술기법        MF_ES         PI       디스크단면적  재발여부  \n",
       "0     24.000000  19.227688     1  1464.100000  14.000000  1209.500000     0  \n",
       "1     12.000000  18.376825     0  1602.300000  46.600000  1985.500000     0  \n",
       "2     48.000000  28.731921     0  2511.700000  32.800000  2154.100000     0  \n",
       "3      2.000000  22.087561     0  1883.220000  35.100000  2288.000000     0  \n",
       "4      3.000000  30.367347     0  2481.300000  52.100000  1957.800000     0  \n",
       "...         ...        ...   ...          ...        ...          ...   ...  \n",
       "2223   8.835596  22.531144     0  1162.253698  51.972574  1813.028442     1  \n",
       "2224   2.000000  25.935703     0  2336.890321  37.979024  2067.634730     1  \n",
       "2225  15.310015  21.966502     0  2067.750000  47.100000  1813.250000     1  \n",
       "2226   1.938093  27.280638     0  2085.470000  35.600000  2124.280000     1  \n",
       "2227   2.782496  21.477861     0  2073.033176  46.186483  1800.932740     1  \n",
       "\n",
       "[2228 rows x 17 columns]"
      ]
     },
     "execution_count": 15,
     "metadata": {},
     "output_type": "execute_result"
    }
   ],
   "source": [
    "df_train_s = pd.concat([df_train_x_s, df_train_y_s], axis = 1)\n",
    "df_train_s"
   ]
  },
  {
   "cell_type": "code",
   "execution_count": 16,
   "id": "90e29943",
   "metadata": {},
   "outputs": [
    {
     "data": {
      "text/html": [
       "<div>\n",
       "<style scoped>\n",
       "    .dataframe tbody tr th:only-of-type {\n",
       "        vertical-align: middle;\n",
       "    }\n",
       "\n",
       "    .dataframe tbody tr th {\n",
       "        vertical-align: top;\n",
       "    }\n",
       "\n",
       "    .dataframe thead th {\n",
       "        text-align: right;\n",
       "    }\n",
       "</style>\n",
       "<table border=\"1\" class=\"dataframe\">\n",
       "  <thead>\n",
       "    <tr style=\"text-align: right;\">\n",
       "      <th></th>\n",
       "      <th>고혈압여부</th>\n",
       "      <th>당뇨여부</th>\n",
       "      <th>성별</th>\n",
       "      <th>신장</th>\n",
       "      <th>체중</th>\n",
       "      <th>심혈관질환</th>\n",
       "      <th>연령</th>\n",
       "      <th>직업</th>\n",
       "      <th>헤모글로빈수치</th>\n",
       "      <th>흡연여부</th>\n",
       "      <th>통증기간_월</th>\n",
       "      <th>BMI</th>\n",
       "      <th>수술기법</th>\n",
       "      <th>MF_ES</th>\n",
       "      <th>PI</th>\n",
       "      <th>디스크단면적</th>\n",
       "      <th>재발여부</th>\n",
       "    </tr>\n",
       "  </thead>\n",
       "  <tbody>\n",
       "    <tr>\n",
       "      <th>0</th>\n",
       "      <td>0</td>\n",
       "      <td>0</td>\n",
       "      <td>2</td>\n",
       "      <td>170</td>\n",
       "      <td>85.000000</td>\n",
       "      <td>0</td>\n",
       "      <td>40</td>\n",
       "      <td>2</td>\n",
       "      <td>12.600000</td>\n",
       "      <td>0</td>\n",
       "      <td>9.000000</td>\n",
       "      <td>29.411765</td>\n",
       "      <td>0</td>\n",
       "      <td>1896.700000</td>\n",
       "      <td>40.700000</td>\n",
       "      <td>1931.100000</td>\n",
       "      <td>1</td>\n",
       "    </tr>\n",
       "    <tr>\n",
       "      <th>1</th>\n",
       "      <td>1</td>\n",
       "      <td>0</td>\n",
       "      <td>1</td>\n",
       "      <td>169</td>\n",
       "      <td>70.500000</td>\n",
       "      <td>1</td>\n",
       "      <td>21</td>\n",
       "      <td>7</td>\n",
       "      <td>14.860000</td>\n",
       "      <td>1</td>\n",
       "      <td>1.000000</td>\n",
       "      <td>24.684010</td>\n",
       "      <td>0</td>\n",
       "      <td>1899.900000</td>\n",
       "      <td>40.600000</td>\n",
       "      <td>2174.800000</td>\n",
       "      <td>0</td>\n",
       "    </tr>\n",
       "    <tr>\n",
       "      <th>2</th>\n",
       "      <td>0</td>\n",
       "      <td>1</td>\n",
       "      <td>2</td>\n",
       "      <td>153</td>\n",
       "      <td>49.000000</td>\n",
       "      <td>0</td>\n",
       "      <td>61</td>\n",
       "      <td>2</td>\n",
       "      <td>13.300000</td>\n",
       "      <td>0</td>\n",
       "      <td>12.000000</td>\n",
       "      <td>20.932120</td>\n",
       "      <td>0</td>\n",
       "      <td>2028.960000</td>\n",
       "      <td>46.000000</td>\n",
       "      <td>1738.260000</td>\n",
       "      <td>0</td>\n",
       "    </tr>\n",
       "    <tr>\n",
       "      <th>3</th>\n",
       "      <td>0</td>\n",
       "      <td>0</td>\n",
       "      <td>1</td>\n",
       "      <td>183</td>\n",
       "      <td>70.000000</td>\n",
       "      <td>0</td>\n",
       "      <td>28</td>\n",
       "      <td>3</td>\n",
       "      <td>15.900000</td>\n",
       "      <td>0</td>\n",
       "      <td>3.000000</td>\n",
       "      <td>20.902386</td>\n",
       "      <td>0</td>\n",
       "      <td>2453.100000</td>\n",
       "      <td>42.300000</td>\n",
       "      <td>2046.900000</td>\n",
       "      <td>0</td>\n",
       "    </tr>\n",
       "    <tr>\n",
       "      <th>4</th>\n",
       "      <td>0</td>\n",
       "      <td>0</td>\n",
       "      <td>1</td>\n",
       "      <td>181</td>\n",
       "      <td>94.000000</td>\n",
       "      <td>0</td>\n",
       "      <td>46</td>\n",
       "      <td>3</td>\n",
       "      <td>15.750000</td>\n",
       "      <td>0</td>\n",
       "      <td>1.000000</td>\n",
       "      <td>28.692653</td>\n",
       "      <td>0</td>\n",
       "      <td>2342.700000</td>\n",
       "      <td>46.000000</td>\n",
       "      <td>1778.700000</td>\n",
       "      <td>1</td>\n",
       "    </tr>\n",
       "    <tr>\n",
       "      <th>...</th>\n",
       "      <td>...</td>\n",
       "      <td>...</td>\n",
       "      <td>...</td>\n",
       "      <td>...</td>\n",
       "      <td>...</td>\n",
       "      <td>...</td>\n",
       "      <td>...</td>\n",
       "      <td>...</td>\n",
       "      <td>...</td>\n",
       "      <td>...</td>\n",
       "      <td>...</td>\n",
       "      <td>...</td>\n",
       "      <td>...</td>\n",
       "      <td>...</td>\n",
       "      <td>...</td>\n",
       "      <td>...</td>\n",
       "      <td>...</td>\n",
       "    </tr>\n",
       "    <tr>\n",
       "      <th>953</th>\n",
       "      <td>0</td>\n",
       "      <td>0</td>\n",
       "      <td>1</td>\n",
       "      <td>156</td>\n",
       "      <td>61.085744</td>\n",
       "      <td>0</td>\n",
       "      <td>43</td>\n",
       "      <td>1</td>\n",
       "      <td>15.249352</td>\n",
       "      <td>0</td>\n",
       "      <td>58.058821</td>\n",
       "      <td>24.831460</td>\n",
       "      <td>0</td>\n",
       "      <td>2092.367697</td>\n",
       "      <td>43.261915</td>\n",
       "      <td>1759.692327</td>\n",
       "      <td>1</td>\n",
       "    </tr>\n",
       "    <tr>\n",
       "      <th>954</th>\n",
       "      <td>0</td>\n",
       "      <td>0</td>\n",
       "      <td>1</td>\n",
       "      <td>169</td>\n",
       "      <td>71.777297</td>\n",
       "      <td>0</td>\n",
       "      <td>53</td>\n",
       "      <td>6</td>\n",
       "      <td>13.181795</td>\n",
       "      <td>1</td>\n",
       "      <td>1.574054</td>\n",
       "      <td>24.769732</td>\n",
       "      <td>0</td>\n",
       "      <td>1946.545135</td>\n",
       "      <td>33.220432</td>\n",
       "      <td>2674.643935</td>\n",
       "      <td>1</td>\n",
       "    </tr>\n",
       "    <tr>\n",
       "      <th>955</th>\n",
       "      <td>0</td>\n",
       "      <td>0</td>\n",
       "      <td>1</td>\n",
       "      <td>169</td>\n",
       "      <td>83.779372</td>\n",
       "      <td>0</td>\n",
       "      <td>43</td>\n",
       "      <td>2</td>\n",
       "      <td>12.581221</td>\n",
       "      <td>0</td>\n",
       "      <td>9.281683</td>\n",
       "      <td>29.074201</td>\n",
       "      <td>0</td>\n",
       "      <td>1891.432520</td>\n",
       "      <td>42.399490</td>\n",
       "      <td>1939.586182</td>\n",
       "      <td>1</td>\n",
       "    </tr>\n",
       "    <tr>\n",
       "      <th>956</th>\n",
       "      <td>0</td>\n",
       "      <td>0</td>\n",
       "      <td>1</td>\n",
       "      <td>173</td>\n",
       "      <td>74.486636</td>\n",
       "      <td>0</td>\n",
       "      <td>29</td>\n",
       "      <td>2</td>\n",
       "      <td>13.578020</td>\n",
       "      <td>0</td>\n",
       "      <td>1.235977</td>\n",
       "      <td>24.645293</td>\n",
       "      <td>0</td>\n",
       "      <td>2713.338874</td>\n",
       "      <td>83.638930</td>\n",
       "      <td>2277.533452</td>\n",
       "      <td>1</td>\n",
       "    </tr>\n",
       "    <tr>\n",
       "      <th>957</th>\n",
       "      <td>0</td>\n",
       "      <td>0</td>\n",
       "      <td>1</td>\n",
       "      <td>164</td>\n",
       "      <td>63.823088</td>\n",
       "      <td>0</td>\n",
       "      <td>39</td>\n",
       "      <td>2</td>\n",
       "      <td>15.106102</td>\n",
       "      <td>0</td>\n",
       "      <td>1.000000</td>\n",
       "      <td>23.413084</td>\n",
       "      <td>0</td>\n",
       "      <td>2191.962506</td>\n",
       "      <td>59.275864</td>\n",
       "      <td>2230.542208</td>\n",
       "      <td>1</td>\n",
       "    </tr>\n",
       "  </tbody>\n",
       "</table>\n",
       "<p>958 rows × 17 columns</p>\n",
       "</div>"
      ],
      "text/plain": [
       "     고혈압여부  당뇨여부  성별   신장         체중  심혈관질환  연령  직업    헤모글로빈수치  흡연여부  \\\n",
       "0        0     0   2  170  85.000000      0  40   2  12.600000     0   \n",
       "1        1     0   1  169  70.500000      1  21   7  14.860000     1   \n",
       "2        0     1   2  153  49.000000      0  61   2  13.300000     0   \n",
       "3        0     0   1  183  70.000000      0  28   3  15.900000     0   \n",
       "4        0     0   1  181  94.000000      0  46   3  15.750000     0   \n",
       "..     ...   ...  ..  ...        ...    ...  ..  ..        ...   ...   \n",
       "953      0     0   1  156  61.085744      0  43   1  15.249352     0   \n",
       "954      0     0   1  169  71.777297      0  53   6  13.181795     1   \n",
       "955      0     0   1  169  83.779372      0  43   2  12.581221     0   \n",
       "956      0     0   1  173  74.486636      0  29   2  13.578020     0   \n",
       "957      0     0   1  164  63.823088      0  39   2  15.106102     0   \n",
       "\n",
       "        통증기간_월        BMI  수술기법        MF_ES         PI       디스크단면적  재발여부  \n",
       "0     9.000000  29.411765     0  1896.700000  40.700000  1931.100000     1  \n",
       "1     1.000000  24.684010     0  1899.900000  40.600000  2174.800000     0  \n",
       "2    12.000000  20.932120     0  2028.960000  46.000000  1738.260000     0  \n",
       "3     3.000000  20.902386     0  2453.100000  42.300000  2046.900000     0  \n",
       "4     1.000000  28.692653     0  2342.700000  46.000000  1778.700000     1  \n",
       "..         ...        ...   ...          ...        ...          ...   ...  \n",
       "953  58.058821  24.831460     0  2092.367697  43.261915  1759.692327     1  \n",
       "954   1.574054  24.769732     0  1946.545135  33.220432  2674.643935     1  \n",
       "955   9.281683  29.074201     0  1891.432520  42.399490  1939.586182     1  \n",
       "956   1.235977  24.645293     0  2713.338874  83.638930  2277.533452     1  \n",
       "957   1.000000  23.413084     0  2191.962506  59.275864  2230.542208     1  \n",
       "\n",
       "[958 rows x 17 columns]"
      ]
     },
     "execution_count": 16,
     "metadata": {},
     "output_type": "execute_result"
    }
   ],
   "source": [
    "df_test_s = pd.concat([df_test_x_s, df_test_y_s],axis = 1)\n",
    "df_test_s"
   ]
  },
  {
   "cell_type": "markdown",
   "id": "8d05989e",
   "metadata": {},
   "source": [
    "## 로지스틱"
   ]
  },
  {
   "cell_type": "code",
   "execution_count": 17,
   "id": "63d6e9d6",
   "metadata": {},
   "outputs": [
    {
     "name": "stdout",
     "output_type": "stream",
     "text": [
      "<class 'pandas.core.frame.DataFrame'>\n",
      "Int64Index: 1803 entries, 0 to 1891\n",
      "Data columns (total 17 columns):\n",
      " #   Column   Non-Null Count  Dtype  \n",
      "---  ------   --------------  -----  \n",
      " 0   재발여부     1803 non-null   int64  \n",
      " 1   고혈압여부    1803 non-null   int64  \n",
      " 2   당뇨여부     1803 non-null   int64  \n",
      " 3   성별       1803 non-null   int64  \n",
      " 4   신장       1803 non-null   int64  \n",
      " 5   체중       1803 non-null   float64\n",
      " 6   심혈관질환    1803 non-null   int64  \n",
      " 7   연령       1803 non-null   int64  \n",
      " 8   직업       1803 non-null   int64  \n",
      " 9   헤모글로빈수치  1803 non-null   float64\n",
      " 10  흡연여부     1803 non-null   int64  \n",
      " 11  통증기간_월   1803 non-null   float64\n",
      " 12  BMI      1803 non-null   float64\n",
      " 13  수술기법     1803 non-null   int32  \n",
      " 14  MF_ES    1803 non-null   float64\n",
      " 15  PI       1803 non-null   float64\n",
      " 16  디스크단면적   1803 non-null   float64\n",
      "dtypes: float64(7), int32(1), int64(9)\n",
      "memory usage: 246.5 KB\n"
     ]
    }
   ],
   "source": [
    "df_final.info()"
   ]
  },
  {
   "cell_type": "code",
   "execution_count": 18,
   "id": "1a711392",
   "metadata": {
    "scrolled": false
   },
   "outputs": [
    {
     "name": "stdout",
     "output_type": "stream",
     "text": [
      "Optimization terminated successfully.\n",
      "         Current function value: 0.542808\n",
      "         Iterations 6\n",
      "                           Logit Regression Results                           \n",
      "==============================================================================\n",
      "Dep. Variable:                   재발여부   No. Observations:                 2228\n",
      "Model:                          Logit   Df Residuals:                     2218\n",
      "Method:                           MLE   Df Model:                            9\n",
      "Date:                Mon, 28 Feb 2022   Pseudo R-squ.:                  0.2169\n",
      "Time:                        16:18:19   Log-Likelihood:                -1209.4\n",
      "converged:                       True   LL-Null:                       -1544.3\n",
      "Covariance Type:            nonrobust   LLR p-value:                2.029e-138\n",
      "==============================================================================\n",
      "                 coef    std err          z      P>|z|      [0.025      0.975]\n",
      "------------------------------------------------------------------------------\n",
      "Intercept    120.1034      9.357     12.835      0.000     101.763     138.444\n",
      "고혈압여부         -0.5167      0.171     -3.024      0.002      -0.852      -0.182\n",
      "성별            -2.4520      0.174    -14.088      0.000      -2.793      -2.111\n",
      "신장            -0.7140      0.055    -12.958      0.000      -0.822      -0.606\n",
      "체중             0.7999      0.065     12.362      0.000       0.673       0.927\n",
      "심혈관질환         -1.2167      0.392     -3.105      0.002      -1.985      -0.449\n",
      "연령             0.0106      0.004      2.538      0.011       0.002       0.019\n",
      "직업            -0.0766      0.013     -5.705      0.000      -0.103      -0.050\n",
      "헤모글로빈수치       -0.1201      0.039     -3.107      0.002      -0.196      -0.044\n",
      "BMI           -2.0855      0.184    -11.364      0.000      -2.445      -1.726\n",
      "==============================================================================\n"
     ]
    }
   ],
   "source": [
    "log_model = Logit.from_formula('재발여부 ~ 고혈압여부 + 성별 + 신장 + 체중 + 심혈관질환 + 연령 + 직업 + 헤모글로빈수치 + BMI', df_train_s)\n",
    "\n",
    "log_result = log_model.fit()\n",
    "\n",
    "print(log_result.summary())"
   ]
  },
  {
   "cell_type": "code",
   "execution_count": 19,
   "id": "98622bf0",
   "metadata": {},
   "outputs": [
    {
     "name": "stdout",
     "output_type": "stream",
     "text": [
      "학습용 데이터 정확도: 0.738\n",
      "평가용 데이터 정확도: 0.734\n"
     ]
    }
   ],
   "source": [
    "y_pred = log_result.predict(df_train_s)\n",
    "\n",
    "y_pred_class = (y_pred > 0.5).astype(int)\n",
    "print('학습용 데이터 정확도: {0:.3f}'.format(accuracy_score(df_train_s['재발여부'], y_pred_class)))\n",
    "# 평가용 데이터 예측\n",
    "y_pred = log_result.predict(df_test_s)\n",
    "\n",
    "y_pred_class = (y_pred > 0.5).astype(int)\n",
    "print('평가용 데이터 정확도: {0:.3f}'.format(accuracy_score(df_test_s['재발여부'], y_pred_class)))"
   ]
  },
  {
   "cell_type": "code",
   "execution_count": 20,
   "id": "b464700a",
   "metadata": {},
   "outputs": [
    {
     "name": "stdout",
     "output_type": "stream",
     "text": [
      "Confusion Matrix: \n",
      "[[345 134]\n",
      " [121 358]]\n"
     ]
    }
   ],
   "source": [
    "print(\"Confusion Matrix: \\n{}\".format(confusion_matrix(df_test_s['재발여부'],y_pred_class)))"
   ]
  },
  {
   "cell_type": "code",
   "execution_count": 21,
   "id": "7684a4e4",
   "metadata": {},
   "outputs": [
    {
     "name": "stdout",
     "output_type": "stream",
     "text": [
      "Classification Report: \n",
      "               precision    recall  f1-score   support\n",
      "\n",
      "           0       0.74      0.72      0.73       479\n",
      "           1       0.73      0.75      0.74       479\n",
      "\n",
      "    accuracy                           0.73       958\n",
      "   macro avg       0.73      0.73      0.73       958\n",
      "weighted avg       0.73      0.73      0.73       958\n",
      "\n"
     ]
    }
   ],
   "source": [
    "print(\"Classification Report: \\n\", classification_report(df_test_s[\"재발여부\"], y_pred_class))"
   ]
  },
  {
   "cell_type": "markdown",
   "id": "81764165",
   "metadata": {},
   "source": [
    "## XGBoost"
   ]
  },
  {
   "cell_type": "code",
   "execution_count": 22,
   "id": "820cda5d",
   "metadata": {},
   "outputs": [
    {
     "name": "stdout",
     "output_type": "stream",
     "text": [
      "학습용 데이터 크기: (1262, 17)\n",
      "평가용 데이터 크기: (541, 17)\n"
     ]
    }
   ],
   "source": [
    "df_train_1, df_test_1 = train_test_split(df_final, test_size = 0.3, random_state = 1234)\n",
    "print('학습용 데이터 크기: {}'.format(df_train_1.shape))\n",
    "print('평가용 데이터 크기: {}'.format(df_test_1.shape))"
   ]
  },
  {
   "cell_type": "code",
   "execution_count": 23,
   "id": "5f4412ca",
   "metadata": {},
   "outputs": [],
   "source": [
    "# 설명변수와 목표변수를 분리\n",
    "df_train_1_y = df_train_1['재발여부']\n",
    "df_train_1_x = df_train_1.drop('재발여부', axis = 1, inplace = False)\n",
    "df_test_1_y = df_test_1['재발여부']\n",
    "df_test_1_x = df_test_1.drop('재발여부', axis = 1, inplace = False)"
   ]
  },
  {
   "cell_type": "code",
   "execution_count": 24,
   "id": "808b2ba6",
   "metadata": {},
   "outputs": [
    {
     "name": "stdout",
     "output_type": "stream",
     "text": [
      "SMOTE 적용 전 학습용 피처/레이블 데이터 세트:  (1262, 16) (1262,)\n",
      "SMOTE 적용 후 학습용 피처/레이블 데이터 세트:  (2228, 16) (2228,)\n"
     ]
    }
   ],
   "source": [
    "smote = SMOTE(random_state=0)\n",
    "df_train_x_s, df_train_y_s = smote.fit_resample(df_train_1_x, df_train_1_y)\n",
    "print('SMOTE 적용 전 학습용 피처/레이블 데이터 세트: ', df_train_1_x.shape, df_train_1_y.shape)\n",
    "print('SMOTE 적용 후 학습용 피처/레이블 데이터 세트: ', df_train_x_s.shape, df_train_y_s.shape)"
   ]
  },
  {
   "cell_type": "code",
   "execution_count": 25,
   "id": "e8983ece",
   "metadata": {},
   "outputs": [
    {
     "name": "stdout",
     "output_type": "stream",
     "text": [
      "SMOTE 적용 전 학습용 피처/레이블 데이터 세트:  (541, 16) (541,)\n",
      "SMOTE 적용 후 학습용 피처/레이블 데이터 세트:  (958, 16) (958,)\n"
     ]
    }
   ],
   "source": [
    "smote = SMOTE(random_state=0)\n",
    "df_test_x_s, df_test_y_s = smote.fit_resample(df_test_1_x, df_test_1_y)\n",
    "print('SMOTE 적용 전 학습용 피처/레이블 데이터 세트: ', df_test_1_x.shape, df_test_1_y.shape)\n",
    "print('SMOTE 적용 후 학습용 피처/레이블 데이터 세트: ', df_test_x_s.shape, df_test_y_s.shape)"
   ]
  },
  {
   "cell_type": "code",
   "execution_count": 26,
   "id": "a0d6eca9",
   "metadata": {},
   "outputs": [
    {
     "name": "stdout",
     "output_type": "stream",
     "text": [
      "[16:18:19] WARNING: C:/Users/Administrator/workspace/xgboost-win64_release_1.5.1/src/learner.cc:1115: Starting in XGBoost 1.3.0, the default evaluation metric used with the objective 'binary:logistic' was changed from 'error' to 'logloss'. Explicitly set eval_metric if you'd like to restore the old behavior.\n",
      "학습용 데이터의 정확도 : 1.000\n",
      "평가용 데이터의 정확도 : 0.718\n"
     ]
    }
   ],
   "source": [
    "# 기본 모델 생성\n",
    "xgb_uncustomized = XGBClassifier(random_state = 1234)\n",
    "xgb_uncustomized.fit(df_train_x_s, df_train_y_s)\n",
    "# 데이터 정확도\n",
    "print('학습용 데이터의 정확도 : {:.3f}'.format(xgb_uncustomized.score(df_train_x_s, df_train_y_s)))\n",
    "print('평가용 데이터의 정확도 : {:.3f}'.format(xgb_uncustomized.score(df_test_x_s, df_test_y_s)))"
   ]
  },
  {
   "cell_type": "code",
   "execution_count": 27,
   "id": "4a1a1e96",
   "metadata": {},
   "outputs": [
    {
     "name": "stdout",
     "output_type": "stream",
     "text": [
      "[16:18:19] WARNING: C:/Users/Administrator/workspace/xgboost-win64_release_1.5.1/src/learner.cc:1115: Starting in XGBoost 1.3.0, the default evaluation metric used with the objective 'binary:logistic' was changed from 'error' to 'logloss'. Explicitly set eval_metric if you'd like to restore the old behavior.\n",
      "[16:18:19] WARNING: C:/Users/Administrator/workspace/xgboost-win64_release_1.5.1/src/learner.cc:1115: Starting in XGBoost 1.3.0, the default evaluation metric used with the objective 'binary:logistic' was changed from 'error' to 'logloss'. Explicitly set eval_metric if you'd like to restore the old behavior.\n",
      "[16:18:19] WARNING: C:/Users/Administrator/workspace/xgboost-win64_release_1.5.1/src/learner.cc:1115: Starting in XGBoost 1.3.0, the default evaluation metric used with the objective 'binary:logistic' was changed from 'error' to 'logloss'. Explicitly set eval_metric if you'd like to restore the old behavior.\n",
      "[16:18:20] WARNING: C:/Users/Administrator/workspace/xgboost-win64_release_1.5.1/src/learner.cc:1115: Starting in XGBoost 1.3.0, the default evaluation metric used with the objective 'binary:logistic' was changed from 'error' to 'logloss'. Explicitly set eval_metric if you'd like to restore the old behavior.\n",
      "[16:18:20] WARNING: C:/Users/Administrator/workspace/xgboost-win64_release_1.5.1/src/learner.cc:1115: Starting in XGBoost 1.3.0, the default evaluation metric used with the objective 'binary:logistic' was changed from 'error' to 'logloss'. Explicitly set eval_metric if you'd like to restore the old behavior.\n",
      "[16:18:20] WARNING: C:/Users/Administrator/workspace/xgboost-win64_release_1.5.1/src/learner.cc:1115: Starting in XGBoost 1.3.0, the default evaluation metric used with the objective 'binary:logistic' was changed from 'error' to 'logloss'. Explicitly set eval_metric if you'd like to restore the old behavior.\n",
      "[16:18:20] WARNING: C:/Users/Administrator/workspace/xgboost-win64_release_1.5.1/src/learner.cc:1115: Starting in XGBoost 1.3.0, the default evaluation metric used with the objective 'binary:logistic' was changed from 'error' to 'logloss'. Explicitly set eval_metric if you'd like to restore the old behavior.\n",
      "[16:18:20] WARNING: C:/Users/Administrator/workspace/xgboost-win64_release_1.5.1/src/learner.cc:1115: Starting in XGBoost 1.3.0, the default evaluation metric used with the objective 'binary:logistic' was changed from 'error' to 'logloss'. Explicitly set eval_metric if you'd like to restore the old behavior.\n",
      "[16:18:21] WARNING: C:/Users/Administrator/workspace/xgboost-win64_release_1.5.1/src/learner.cc:1115: Starting in XGBoost 1.3.0, the default evaluation metric used with the objective 'binary:logistic' was changed from 'error' to 'logloss'. Explicitly set eval_metric if you'd like to restore the old behavior.\n"
     ]
    }
   ],
   "source": [
    "# train 및 test 정확도 결과 저장용\n",
    "train_accuracy = []; test_accuracy = []\n",
    "# learning_rate 학습률 변경: 0.1 ~ 0.9\n",
    "para_lr = [lr * 0.1 for lr in range(1, 10)]\n",
    "\n",
    "for v_learning_rate in para_lr:\n",
    "    xgb = XGBClassifier(learning_rate = v_learning_rate, random_state = 1234)\n",
    "    xgb.fit(df_train_x_s, df_train_y_s)\n",
    "    y_pred = xgb.predict(df_train_x_s)\n",
    "    train_accuracy.append(f1_score(df_train_y_s, y_pred))\n",
    "    y_pred = xgb.predict(df_test_x_s)\n",
    "    test_accuracy.append(f1_score(df_test_y_s, y_pred))\n",
    "\n",
    "# 데이터 테이블로 저장\n",
    "df_accuracy_lr = pd.DataFrame()\n",
    "df_accuracy_lr['LearningRate'] = para_lr\n",
    "df_accuracy_lr['TrainAccuracy'] = train_accuracy\n",
    "df_accuracy_lr['TestAccuracy'] = test_accuracy"
   ]
  },
  {
   "cell_type": "code",
   "execution_count": 28,
   "id": "2cb71855",
   "metadata": {},
   "outputs": [
    {
     "data": {
      "text/html": [
       "<div>\n",
       "<style scoped>\n",
       "    .dataframe tbody tr th:only-of-type {\n",
       "        vertical-align: middle;\n",
       "    }\n",
       "\n",
       "    .dataframe tbody tr th {\n",
       "        vertical-align: top;\n",
       "    }\n",
       "\n",
       "    .dataframe thead th {\n",
       "        text-align: right;\n",
       "    }\n",
       "</style>\n",
       "<table border=\"1\" class=\"dataframe\">\n",
       "  <thead>\n",
       "    <tr style=\"text-align: right;\">\n",
       "      <th></th>\n",
       "      <th>LearningRate</th>\n",
       "      <th>TrainAccuracy</th>\n",
       "      <th>TestAccuracy</th>\n",
       "    </tr>\n",
       "  </thead>\n",
       "  <tbody>\n",
       "    <tr>\n",
       "      <th>0</th>\n",
       "      <td>0.1</td>\n",
       "      <td>0.998</td>\n",
       "      <td>0.661</td>\n",
       "    </tr>\n",
       "    <tr>\n",
       "      <th>1</th>\n",
       "      <td>0.2</td>\n",
       "      <td>1.000</td>\n",
       "      <td>0.649</td>\n",
       "    </tr>\n",
       "    <tr>\n",
       "      <th>2</th>\n",
       "      <td>0.3</td>\n",
       "      <td>1.000</td>\n",
       "      <td>0.649</td>\n",
       "    </tr>\n",
       "    <tr>\n",
       "      <th>3</th>\n",
       "      <td>0.4</td>\n",
       "      <td>1.000</td>\n",
       "      <td>0.656</td>\n",
       "    </tr>\n",
       "    <tr>\n",
       "      <th>4</th>\n",
       "      <td>0.5</td>\n",
       "      <td>1.000</td>\n",
       "      <td>0.649</td>\n",
       "    </tr>\n",
       "    <tr>\n",
       "      <th>5</th>\n",
       "      <td>0.6</td>\n",
       "      <td>1.000</td>\n",
       "      <td>0.653</td>\n",
       "    </tr>\n",
       "    <tr>\n",
       "      <th>6</th>\n",
       "      <td>0.7</td>\n",
       "      <td>1.000</td>\n",
       "      <td>0.643</td>\n",
       "    </tr>\n",
       "    <tr>\n",
       "      <th>7</th>\n",
       "      <td>0.8</td>\n",
       "      <td>1.000</td>\n",
       "      <td>0.649</td>\n",
       "    </tr>\n",
       "    <tr>\n",
       "      <th>8</th>\n",
       "      <td>0.9</td>\n",
       "      <td>1.000</td>\n",
       "      <td>0.639</td>\n",
       "    </tr>\n",
       "  </tbody>\n",
       "</table>\n",
       "</div>"
      ],
      "text/plain": [
       "   LearningRate  TrainAccuracy  TestAccuracy\n",
       "0           0.1          0.998         0.661\n",
       "1           0.2          1.000         0.649\n",
       "2           0.3          1.000         0.649\n",
       "3           0.4          1.000         0.656\n",
       "4           0.5          1.000         0.649\n",
       "5           0.6          1.000         0.653\n",
       "6           0.7          1.000         0.643\n",
       "7           0.8          1.000         0.649\n",
       "8           0.9          1.000         0.639"
      ]
     },
     "execution_count": 28,
     "metadata": {},
     "output_type": "execute_result"
    }
   ],
   "source": [
    "df_accuracy_lr.round(3)"
   ]
  },
  {
   "cell_type": "code",
   "execution_count": 29,
   "id": "6594ac48",
   "metadata": {
    "scrolled": true
   },
   "outputs": [
    {
     "data": {
      "text/plain": [
       "<matplotlib.legend.Legend at 0x1711d24bd90>"
      ]
     },
     "execution_count": 29,
     "metadata": {},
     "output_type": "execute_result"
    },
    {
     "data": {
      "image/png": "[encoded data removed]",
      "text/plain": [
       "<Figure size 432x288 with 1 Axes>"
      ]
     },
     "metadata": {
      "needs_background": "light"
     },
     "output_type": "display_data"
    }
   ],
   "source": [
    "plt.plot(para_lr, train_accuracy, linestyle = '-', label = 'Train Accuracy')\n",
    "plt.plot(para_lr, test_accuracy, linestyle = '--', label = 'Test Accuracy')\n",
    "plt.ylabel('accuracy'); plt.xlabel('learning rate')\n",
    "plt.legend()"
   ]
  },
  {
   "cell_type": "markdown",
   "id": "c29b4117",
   "metadata": {},
   "source": [
    "- learning rate = 0.4"
   ]
  },
  {
   "cell_type": "code",
   "execution_count": 30,
   "id": "e1e1f78e",
   "metadata": {},
   "outputs": [
    {
     "name": "stdout",
     "output_type": "stream",
     "text": [
      "[16:18:21] WARNING: C:/Users/Administrator/workspace/xgboost-win64_release_1.5.1/src/learner.cc:1115: Starting in XGBoost 1.3.0, the default evaluation metric used with the objective 'binary:logistic' was changed from 'error' to 'logloss'. Explicitly set eval_metric if you'd like to restore the old behavior.\n",
      "[16:18:21] WARNING: C:/Users/Administrator/workspace/xgboost-win64_release_1.5.1/src/learner.cc:1115: Starting in XGBoost 1.3.0, the default evaluation metric used with the objective 'binary:logistic' was changed from 'error' to 'logloss'. Explicitly set eval_metric if you'd like to restore the old behavior.\n",
      "[16:18:21] WARNING: C:/Users/Administrator/workspace/xgboost-win64_release_1.5.1/src/learner.cc:1115: Starting in XGBoost 1.3.0, the default evaluation metric used with the objective 'binary:logistic' was changed from 'error' to 'logloss'. Explicitly set eval_metric if you'd like to restore the old behavior.\n",
      "[16:18:21] WARNING: C:/Users/Administrator/workspace/xgboost-win64_release_1.5.1/src/learner.cc:1115: Starting in XGBoost 1.3.0, the default evaluation metric used with the objective 'binary:logistic' was changed from 'error' to 'logloss'. Explicitly set eval_metric if you'd like to restore the old behavior.\n",
      "[16:18:21] WARNING: C:/Users/Administrator/workspace/xgboost-win64_release_1.5.1/src/learner.cc:1115: Starting in XGBoost 1.3.0, the default evaluation metric used with the objective 'binary:logistic' was changed from 'error' to 'logloss'. Explicitly set eval_metric if you'd like to restore the old behavior.\n",
      "[16:18:21] WARNING: C:/Users/Administrator/workspace/xgboost-win64_release_1.5.1/src/learner.cc:1115: Starting in XGBoost 1.3.0, the default evaluation metric used with the objective 'binary:logistic' was changed from 'error' to 'logloss'. Explicitly set eval_metric if you'd like to restore the old behavior.\n",
      "[16:18:21] WARNING: C:/Users/Administrator/workspace/xgboost-win64_release_1.5.1/src/learner.cc:1115: Starting in XGBoost 1.3.0, the default evaluation metric used with the objective 'binary:logistic' was changed from 'error' to 'logloss'. Explicitly set eval_metric if you'd like to restore the old behavior.\n",
      "[16:18:21] WARNING: C:/Users/Administrator/workspace/xgboost-win64_release_1.5.1/src/learner.cc:1115: Starting in XGBoost 1.3.0, the default evaluation metric used with the objective 'binary:logistic' was changed from 'error' to 'logloss'. Explicitly set eval_metric if you'd like to restore the old behavior.\n",
      "[16:18:22] WARNING: C:/Users/Administrator/workspace/xgboost-win64_release_1.5.1/src/learner.cc:1115: Starting in XGBoost 1.3.0, the default evaluation metric used with the objective 'binary:logistic' was changed from 'error' to 'logloss'. Explicitly set eval_metric if you'd like to restore the old behavior.\n",
      "[16:18:22] WARNING: C:/Users/Administrator/workspace/xgboost-win64_release_1.5.1/src/learner.cc:1115: Starting in XGBoost 1.3.0, the default evaluation metric used with the objective 'binary:logistic' was changed from 'error' to 'logloss'. Explicitly set eval_metric if you'd like to restore the old behavior.\n",
      "[16:18:22] WARNING: C:/Users/Administrator/workspace/xgboost-win64_release_1.5.1/src/learner.cc:1115: Starting in XGBoost 1.3.0, the default evaluation metric used with the objective 'binary:logistic' was changed from 'error' to 'logloss'. Explicitly set eval_metric if you'd like to restore the old behavior.\n",
      "[16:18:22] WARNING: C:/Users/Administrator/workspace/xgboost-win64_release_1.5.1/src/learner.cc:1115: Starting in XGBoost 1.3.0, the default evaluation metric used with the objective 'binary:logistic' was changed from 'error' to 'logloss'. Explicitly set eval_metric if you'd like to restore the old behavior.\n",
      "[16:18:22] WARNING: C:/Users/Administrator/workspace/xgboost-win64_release_1.5.1/src/learner.cc:1115: Starting in XGBoost 1.3.0, the default evaluation metric used with the objective 'binary:logistic' was changed from 'error' to 'logloss'. Explicitly set eval_metric if you'd like to restore the old behavior.\n",
      "[16:18:23] WARNING: C:/Users/Administrator/workspace/xgboost-win64_release_1.5.1/src/learner.cc:1115: Starting in XGBoost 1.3.0, the default evaluation metric used with the objective 'binary:logistic' was changed from 'error' to 'logloss'. Explicitly set eval_metric if you'd like to restore the old behavior.\n",
      "[16:18:23] WARNING: C:/Users/Administrator/workspace/xgboost-win64_release_1.5.1/src/learner.cc:1115: Starting in XGBoost 1.3.0, the default evaluation metric used with the objective 'binary:logistic' was changed from 'error' to 'logloss'. Explicitly set eval_metric if you'd like to restore the old behavior.\n"
     ]
    }
   ],
   "source": [
    "# train 및 test 정확도 결과 저장용\n",
    "train_accuracy = []; test_accuracy = []\n",
    "\n",
    "para_n_tree = [n_tree * 10 for n_tree in range(1, 16)]\n",
    "\n",
    "for v_n_estimators in para_n_tree:\n",
    "    xgb = XGBClassifier(n_estimators = v_n_estimators, learning_rate = 0.4, random_state = 1234)\n",
    "    xgb.fit(df_train_x_s, df_train_y_s)\n",
    "    y_pred = xgb.predict(df_train_x_s)\n",
    "    train_accuracy.append(f1_score(df_train_y_s, y_pred))\n",
    "    y_pred = xgb.predict(df_test_x_s)\n",
    "    test_accuracy.append(f1_score(df_test_y_s, y_pred))\n",
    "\n",
    "# 데이터 테이블로 저장\n",
    "df_accuracy_n = pd.DataFrame()\n",
    "df_accuracy_n['Estimators'] = para_n_tree\n",
    "df_accuracy_n['TrainAccuracy'] = train_accuracy\n",
    "df_accuracy_n['TestAccuracy'] = test_accuracy"
   ]
  },
  {
   "cell_type": "code",
   "execution_count": 31,
   "id": "d6a99df6",
   "metadata": {},
   "outputs": [
    {
     "data": {
      "text/html": [
       "<div>\n",
       "<style scoped>\n",
       "    .dataframe tbody tr th:only-of-type {\n",
       "        vertical-align: middle;\n",
       "    }\n",
       "\n",
       "    .dataframe tbody tr th {\n",
       "        vertical-align: top;\n",
       "    }\n",
       "\n",
       "    .dataframe thead th {\n",
       "        text-align: right;\n",
       "    }\n",
       "</style>\n",
       "<table border=\"1\" class=\"dataframe\">\n",
       "  <thead>\n",
       "    <tr style=\"text-align: right;\">\n",
       "      <th></th>\n",
       "      <th>Estimators</th>\n",
       "      <th>TrainAccuracy</th>\n",
       "      <th>TestAccuracy</th>\n",
       "    </tr>\n",
       "  </thead>\n",
       "  <tbody>\n",
       "    <tr>\n",
       "      <th>0</th>\n",
       "      <td>10</td>\n",
       "      <td>0.962</td>\n",
       "      <td>0.689</td>\n",
       "    </tr>\n",
       "    <tr>\n",
       "      <th>1</th>\n",
       "      <td>20</td>\n",
       "      <td>0.992</td>\n",
       "      <td>0.649</td>\n",
       "    </tr>\n",
       "    <tr>\n",
       "      <th>2</th>\n",
       "      <td>30</td>\n",
       "      <td>0.999</td>\n",
       "      <td>0.657</td>\n",
       "    </tr>\n",
       "    <tr>\n",
       "      <th>3</th>\n",
       "      <td>40</td>\n",
       "      <td>1.000</td>\n",
       "      <td>0.638</td>\n",
       "    </tr>\n",
       "    <tr>\n",
       "      <th>4</th>\n",
       "      <td>50</td>\n",
       "      <td>1.000</td>\n",
       "      <td>0.642</td>\n",
       "    </tr>\n",
       "    <tr>\n",
       "      <th>5</th>\n",
       "      <td>60</td>\n",
       "      <td>1.000</td>\n",
       "      <td>0.647</td>\n",
       "    </tr>\n",
       "    <tr>\n",
       "      <th>6</th>\n",
       "      <td>70</td>\n",
       "      <td>1.000</td>\n",
       "      <td>0.650</td>\n",
       "    </tr>\n",
       "    <tr>\n",
       "      <th>7</th>\n",
       "      <td>80</td>\n",
       "      <td>1.000</td>\n",
       "      <td>0.649</td>\n",
       "    </tr>\n",
       "    <tr>\n",
       "      <th>8</th>\n",
       "      <td>90</td>\n",
       "      <td>1.000</td>\n",
       "      <td>0.650</td>\n",
       "    </tr>\n",
       "    <tr>\n",
       "      <th>9</th>\n",
       "      <td>100</td>\n",
       "      <td>1.000</td>\n",
       "      <td>0.656</td>\n",
       "    </tr>\n",
       "    <tr>\n",
       "      <th>10</th>\n",
       "      <td>110</td>\n",
       "      <td>1.000</td>\n",
       "      <td>0.654</td>\n",
       "    </tr>\n",
       "    <tr>\n",
       "      <th>11</th>\n",
       "      <td>120</td>\n",
       "      <td>1.000</td>\n",
       "      <td>0.656</td>\n",
       "    </tr>\n",
       "    <tr>\n",
       "      <th>12</th>\n",
       "      <td>130</td>\n",
       "      <td>1.000</td>\n",
       "      <td>0.651</td>\n",
       "    </tr>\n",
       "    <tr>\n",
       "      <th>13</th>\n",
       "      <td>140</td>\n",
       "      <td>1.000</td>\n",
       "      <td>0.648</td>\n",
       "    </tr>\n",
       "    <tr>\n",
       "      <th>14</th>\n",
       "      <td>150</td>\n",
       "      <td>1.000</td>\n",
       "      <td>0.647</td>\n",
       "    </tr>\n",
       "  </tbody>\n",
       "</table>\n",
       "</div>"
      ],
      "text/plain": [
       "    Estimators  TrainAccuracy  TestAccuracy\n",
       "0           10          0.962         0.689\n",
       "1           20          0.992         0.649\n",
       "2           30          0.999         0.657\n",
       "3           40          1.000         0.638\n",
       "4           50          1.000         0.642\n",
       "5           60          1.000         0.647\n",
       "6           70          1.000         0.650\n",
       "7           80          1.000         0.649\n",
       "8           90          1.000         0.650\n",
       "9          100          1.000         0.656\n",
       "10         110          1.000         0.654\n",
       "11         120          1.000         0.656\n",
       "12         130          1.000         0.651\n",
       "13         140          1.000         0.648\n",
       "14         150          1.000         0.647"
      ]
     },
     "execution_count": 31,
     "metadata": {},
     "output_type": "execute_result"
    }
   ],
   "source": [
    "df_accuracy_n.round(3)"
   ]
  },
  {
   "cell_type": "code",
   "execution_count": 32,
   "id": "d5f86d4a",
   "metadata": {},
   "outputs": [
    {
     "data": {
      "text/plain": [
       "<matplotlib.legend.Legend at 0x1711f412a30>"
      ]
     },
     "execution_count": 32,
     "metadata": {},
     "output_type": "execute_result"
    },
    {
     "data": {
      "image/png": "[encoded data removed]",
      "text/plain": [
       "<Figure size 432x288 with 1 Axes>"
      ]
     },
     "metadata": {
      "needs_background": "light"
     },
     "output_type": "display_data"
    }
   ],
   "source": [
    "plt.plot(para_n_tree, train_accuracy, linestyle = '-', label = 'Train Accuracy')\n",
    "plt.plot(para_n_tree, test_accuracy, linestyle = '--', label = 'Test Accuracy')\n",
    "plt.ylabel('accuracy'); plt.xlabel('n_estimators')\n",
    "plt.legend()"
   ]
  },
  {
   "cell_type": "markdown",
   "id": "89e1ff25",
   "metadata": {},
   "source": [
    "- n_estimators = 10 or 30"
   ]
  },
  {
   "cell_type": "code",
   "execution_count": 33,
   "id": "f6b48520",
   "metadata": {},
   "outputs": [
    {
     "name": "stdout",
     "output_type": "stream",
     "text": [
      "[16:18:23] WARNING: C:/Users/Administrator/workspace/xgboost-win64_release_1.5.1/src/learner.cc:1115: Starting in XGBoost 1.3.0, the default evaluation metric used with the objective 'binary:logistic' was changed from 'error' to 'logloss'. Explicitly set eval_metric if you'd like to restore the old behavior.\n",
      "[16:18:23] WARNING: C:/Users/Administrator/workspace/xgboost-win64_release_1.5.1/src/learner.cc:1115: Starting in XGBoost 1.3.0, the default evaluation metric used with the objective 'binary:logistic' was changed from 'error' to 'logloss'. Explicitly set eval_metric if you'd like to restore the old behavior.\n",
      "[16:18:23] WARNING: C:/Users/Administrator/workspace/xgboost-win64_release_1.5.1/src/learner.cc:1115: Starting in XGBoost 1.3.0, the default evaluation metric used with the objective 'binary:logistic' was changed from 'error' to 'logloss'. Explicitly set eval_metric if you'd like to restore the old behavior.\n",
      "[16:18:24] WARNING: C:/Users/Administrator/workspace/xgboost-win64_release_1.5.1/src/learner.cc:1115: Starting in XGBoost 1.3.0, the default evaluation metric used with the objective 'binary:logistic' was changed from 'error' to 'logloss'. Explicitly set eval_metric if you'd like to restore the old behavior.\n",
      "[16:18:24] WARNING: C:/Users/Administrator/workspace/xgboost-win64_release_1.5.1/src/learner.cc:1115: Starting in XGBoost 1.3.0, the default evaluation metric used with the objective 'binary:logistic' was changed from 'error' to 'logloss'. Explicitly set eval_metric if you'd like to restore the old behavior.\n",
      "[16:18:24] WARNING: C:/Users/Administrator/workspace/xgboost-win64_release_1.5.1/src/learner.cc:1115: Starting in XGBoost 1.3.0, the default evaluation metric used with the objective 'binary:logistic' was changed from 'error' to 'logloss'. Explicitly set eval_metric if you'd like to restore the old behavior.\n",
      "[16:18:24] WARNING: C:/Users/Administrator/workspace/xgboost-win64_release_1.5.1/src/learner.cc:1115: Starting in XGBoost 1.3.0, the default evaluation metric used with the objective 'binary:logistic' was changed from 'error' to 'logloss'. Explicitly set eval_metric if you'd like to restore the old behavior.\n",
      "[16:18:24] WARNING: C:/Users/Administrator/workspace/xgboost-win64_release_1.5.1/src/learner.cc:1115: Starting in XGBoost 1.3.0, the default evaluation metric used with the objective 'binary:logistic' was changed from 'error' to 'logloss'. Explicitly set eval_metric if you'd like to restore the old behavior.\n",
      "[16:18:24] WARNING: C:/Users/Administrator/workspace/xgboost-win64_release_1.5.1/src/learner.cc:1115: Starting in XGBoost 1.3.0, the default evaluation metric used with the objective 'binary:logistic' was changed from 'error' to 'logloss'. Explicitly set eval_metric if you'd like to restore the old behavior.\n",
      "[16:18:25] WARNING: C:/Users/Administrator/workspace/xgboost-win64_release_1.5.1/src/learner.cc:1115: Starting in XGBoost 1.3.0, the default evaluation metric used with the objective 'binary:logistic' was changed from 'error' to 'logloss'. Explicitly set eval_metric if you'd like to restore the old behavior.\n"
     ]
    }
   ],
   "source": [
    "# train 및 test 정확도 결과 저장용\n",
    "train_accuracy = []; test_accuracy = []\n",
    "\n",
    "para_depth = [depth for depth in range(1, 11)]\n",
    "\n",
    "for v_max_depth in para_depth:\n",
    "    xgb = XGBClassifier(max_depth = v_max_depth, n_estimators = 100, learning_rate = 0.4, random_state = 1234)\n",
    "    xgb.fit(df_train_x_s, df_train_y_s)\n",
    "    y_pred = xgb.predict(df_train_x_s)\n",
    "    train_accuracy.append(f1_score(df_train_y_s, y_pred))\n",
    "    y_pred = xgb.predict(df_test_x_s)\n",
    "    test_accuracy.append(f1_score(df_test_y_s, y_pred))\n",
    "\n",
    "# 데이터 테이블로 저장\n",
    "df_accuracy_depth = pd.DataFrame()\n",
    "df_accuracy_depth['Depth'] = para_depth\n",
    "df_accuracy_depth['TrainAccuracy'] = train_accuracy\n",
    "df_accuracy_depth['TestAccuracy'] = test_accuracy"
   ]
  },
  {
   "cell_type": "code",
   "execution_count": 34,
   "id": "106618e5",
   "metadata": {},
   "outputs": [
    {
     "data": {
      "text/html": [
       "<div>\n",
       "<style scoped>\n",
       "    .dataframe tbody tr th:only-of-type {\n",
       "        vertical-align: middle;\n",
       "    }\n",
       "\n",
       "    .dataframe tbody tr th {\n",
       "        vertical-align: top;\n",
       "    }\n",
       "\n",
       "    .dataframe thead th {\n",
       "        text-align: right;\n",
       "    }\n",
       "</style>\n",
       "<table border=\"1\" class=\"dataframe\">\n",
       "  <thead>\n",
       "    <tr style=\"text-align: right;\">\n",
       "      <th></th>\n",
       "      <th>Depth</th>\n",
       "      <th>TrainAccuracy</th>\n",
       "      <th>TestAccuracy</th>\n",
       "    </tr>\n",
       "  </thead>\n",
       "  <tbody>\n",
       "    <tr>\n",
       "      <th>0</th>\n",
       "      <td>1</td>\n",
       "      <td>0.824</td>\n",
       "      <td>0.703</td>\n",
       "    </tr>\n",
       "    <tr>\n",
       "      <th>1</th>\n",
       "      <td>2</td>\n",
       "      <td>0.939</td>\n",
       "      <td>0.745</td>\n",
       "    </tr>\n",
       "    <tr>\n",
       "      <th>2</th>\n",
       "      <td>3</td>\n",
       "      <td>0.993</td>\n",
       "      <td>0.727</td>\n",
       "    </tr>\n",
       "    <tr>\n",
       "      <th>3</th>\n",
       "      <td>4</td>\n",
       "      <td>1.000</td>\n",
       "      <td>0.682</td>\n",
       "    </tr>\n",
       "    <tr>\n",
       "      <th>4</th>\n",
       "      <td>5</td>\n",
       "      <td>1.000</td>\n",
       "      <td>0.666</td>\n",
       "    </tr>\n",
       "    <tr>\n",
       "      <th>5</th>\n",
       "      <td>6</td>\n",
       "      <td>1.000</td>\n",
       "      <td>0.656</td>\n",
       "    </tr>\n",
       "    <tr>\n",
       "      <th>6</th>\n",
       "      <td>7</td>\n",
       "      <td>1.000</td>\n",
       "      <td>0.654</td>\n",
       "    </tr>\n",
       "    <tr>\n",
       "      <th>7</th>\n",
       "      <td>8</td>\n",
       "      <td>1.000</td>\n",
       "      <td>0.623</td>\n",
       "    </tr>\n",
       "    <tr>\n",
       "      <th>8</th>\n",
       "      <td>9</td>\n",
       "      <td>1.000</td>\n",
       "      <td>0.654</td>\n",
       "    </tr>\n",
       "    <tr>\n",
       "      <th>9</th>\n",
       "      <td>10</td>\n",
       "      <td>1.000</td>\n",
       "      <td>0.664</td>\n",
       "    </tr>\n",
       "  </tbody>\n",
       "</table>\n",
       "</div>"
      ],
      "text/plain": [
       "   Depth  TrainAccuracy  TestAccuracy\n",
       "0      1          0.824         0.703\n",
       "1      2          0.939         0.745\n",
       "2      3          0.993         0.727\n",
       "3      4          1.000         0.682\n",
       "4      5          1.000         0.666\n",
       "5      6          1.000         0.656\n",
       "6      7          1.000         0.654\n",
       "7      8          1.000         0.623\n",
       "8      9          1.000         0.654\n",
       "9     10          1.000         0.664"
      ]
     },
     "execution_count": 34,
     "metadata": {},
     "output_type": "execute_result"
    }
   ],
   "source": [
    "df_accuracy_depth.round(3)"
   ]
  },
  {
   "cell_type": "code",
   "execution_count": 35,
   "id": "0f2550c6",
   "metadata": {},
   "outputs": [
    {
     "data": {
      "text/plain": [
       "<matplotlib.legend.Legend at 0x1711f486430>"
      ]
     },
     "execution_count": 35,
     "metadata": {},
     "output_type": "execute_result"
    },
    {
     "data": {
      "image/png": "[encoded data removed]",
      "text/plain": [
       "<Figure size 432x288 with 1 Axes>"
      ]
     },
     "metadata": {
      "needs_background": "light"
     },
     "output_type": "display_data"
    }
   ],
   "source": [
    "plt.plot(para_depth, train_accuracy, linestyle = '-', label = 'Train Accuracy')\n",
    "plt.plot(para_depth, test_accuracy, linestyle = '--', label = 'Test Accuracy')\n",
    "plt.ylabel('accuracy'); plt.xlabel('depth')\n",
    "plt.legend()"
   ]
  },
  {
   "cell_type": "markdown",
   "id": "d441a194",
   "metadata": {},
   "source": [
    "- max_depth = 2"
   ]
  },
  {
   "cell_type": "code",
   "execution_count": 36,
   "id": "6120b2a3",
   "metadata": {},
   "outputs": [
    {
     "name": "stdout",
     "output_type": "stream",
     "text": [
      "[16:18:25] WARNING: C:/Users/Administrator/workspace/xgboost-win64_release_1.5.1/src/learner.cc:1115: Starting in XGBoost 1.3.0, the default evaluation metric used with the objective 'binary:logistic' was changed from 'error' to 'logloss'. Explicitly set eval_metric if you'd like to restore the old behavior.\n",
      "[16:18:25] WARNING: C:/Users/Administrator/workspace/xgboost-win64_release_1.5.1/src/learner.cc:1115: Starting in XGBoost 1.3.0, the default evaluation metric used with the objective 'binary:logistic' was changed from 'error' to 'logloss'. Explicitly set eval_metric if you'd like to restore the old behavior.\n",
      "[16:18:25] WARNING: C:/Users/Administrator/workspace/xgboost-win64_release_1.5.1/src/learner.cc:1115: Starting in XGBoost 1.3.0, the default evaluation metric used with the objective 'binary:logistic' was changed from 'error' to 'logloss'. Explicitly set eval_metric if you'd like to restore the old behavior.\n",
      "[16:18:25] WARNING: C:/Users/Administrator/workspace/xgboost-win64_release_1.5.1/src/learner.cc:1115: Starting in XGBoost 1.3.0, the default evaluation metric used with the objective 'binary:logistic' was changed from 'error' to 'logloss'. Explicitly set eval_metric if you'd like to restore the old behavior.\n"
     ]
    }
   ],
   "source": [
    "# train 및 test 정확도 결과 저장용\n",
    "train_accuracy = []; test_accuracy = []\n",
    "\n",
    "para_gamma = [10 **gamma for gamma in range(-2, 2)]\n",
    "\n",
    "for v_gamma in para_gamma:\n",
    "    xgb = XGBClassifier(gamma = v_gamma, n_estimators = 100, learning_rate = 0.4, max_depth = 2, random_state = 1234)\n",
    "    xgb.fit(df_train_x_s, df_train_y_s)\n",
    "    y_pred = xgb.predict(df_train_x_s)\n",
    "    train_accuracy.append(f1_score(df_train_y_s, y_pred))\n",
    "    y_pred = xgb.predict(df_test_x_s)\n",
    "    test_accuracy.append(f1_score(df_test_y_s, y_pred))\n",
    "\n",
    "# 데이터 테이블로 저장\n",
    "df_accuracy_gamma = pd.DataFrame()\n",
    "df_accuracy_gamma[\"gamma\"] = para_gamma\n",
    "df_accuracy_gamma[\"TrainAccuracy\"] = train_accuracy\n",
    "df_accuracy_gamma[\"TestAccuracy\"] = test_accuracy"
   ]
  },
  {
   "cell_type": "code",
   "execution_count": 37,
   "id": "0b1ff7c5",
   "metadata": {},
   "outputs": [
    {
     "data": {
      "text/html": [
       "<div>\n",
       "<style scoped>\n",
       "    .dataframe tbody tr th:only-of-type {\n",
       "        vertical-align: middle;\n",
       "    }\n",
       "\n",
       "    .dataframe tbody tr th {\n",
       "        vertical-align: top;\n",
       "    }\n",
       "\n",
       "    .dataframe thead th {\n",
       "        text-align: right;\n",
       "    }\n",
       "</style>\n",
       "<table border=\"1\" class=\"dataframe\">\n",
       "  <thead>\n",
       "    <tr style=\"text-align: right;\">\n",
       "      <th></th>\n",
       "      <th>gamma</th>\n",
       "      <th>TrainAccuracy</th>\n",
       "      <th>TestAccuracy</th>\n",
       "    </tr>\n",
       "  </thead>\n",
       "  <tbody>\n",
       "    <tr>\n",
       "      <th>0</th>\n",
       "      <td>0.01</td>\n",
       "      <td>0.939</td>\n",
       "      <td>0.745</td>\n",
       "    </tr>\n",
       "    <tr>\n",
       "      <th>1</th>\n",
       "      <td>0.10</td>\n",
       "      <td>0.939</td>\n",
       "      <td>0.745</td>\n",
       "    </tr>\n",
       "    <tr>\n",
       "      <th>2</th>\n",
       "      <td>1.00</td>\n",
       "      <td>0.939</td>\n",
       "      <td>0.745</td>\n",
       "    </tr>\n",
       "    <tr>\n",
       "      <th>3</th>\n",
       "      <td>10.00</td>\n",
       "      <td>0.822</td>\n",
       "      <td>0.682</td>\n",
       "    </tr>\n",
       "  </tbody>\n",
       "</table>\n",
       "</div>"
      ],
      "text/plain": [
       "   gamma  TrainAccuracy  TestAccuracy\n",
       "0   0.01          0.939         0.745\n",
       "1   0.10          0.939         0.745\n",
       "2   1.00          0.939         0.745\n",
       "3  10.00          0.822         0.682"
      ]
     },
     "execution_count": 37,
     "metadata": {},
     "output_type": "execute_result"
    }
   ],
   "source": [
    "df_accuracy_gamma.round(3)"
   ]
  },
  {
   "cell_type": "code",
   "execution_count": 38,
   "id": "2ea727a8",
   "metadata": {},
   "outputs": [
    {
     "data": {
      "text/plain": [
       "<matplotlib.legend.Legend at 0x1711f50f9a0>"
      ]
     },
     "execution_count": 38,
     "metadata": {},
     "output_type": "execute_result"
    },
    {
     "data": {
      "image/png": "[encoded data removed]",
      "text/plain": [
       "<Figure size 432x288 with 1 Axes>"
      ]
     },
     "metadata": {
      "needs_background": "light"
     },
     "output_type": "display_data"
    }
   ],
   "source": [
    "plt.plot(para_gamma, train_accuracy, linestyle = '-', label = 'Train Accuracy')\n",
    "plt.plot(para_gamma, test_accuracy, linestyle = '--', label = 'Test Accuracy')\n",
    "plt.ylabel('accuracy'); plt.xlabel('gamma')\n",
    "plt.legend()"
   ]
  },
  {
   "cell_type": "markdown",
   "id": "5ef63ac3",
   "metadata": {},
   "source": [
    "- gamma = 0.01"
   ]
  },
  {
   "cell_type": "code",
   "execution_count": 39,
   "id": "8649872d",
   "metadata": {},
   "outputs": [
    {
     "name": "stdout",
     "output_type": "stream",
     "text": [
      "[16:18:26] WARNING: C:/Users/Administrator/workspace/xgboost-win64_release_1.5.1/src/learner.cc:1115: Starting in XGBoost 1.3.0, the default evaluation metric used with the objective 'binary:logistic' was changed from 'error' to 'logloss'. Explicitly set eval_metric if you'd like to restore the old behavior.\n",
      "학습용 데이터의 정확도 : 0.940\n",
      "평가용 데이터의 정확도 : 0.776\n",
      "Confusion matrix: \n",
      "[[429  50]\n",
      " [165 314]]\n"
     ]
    }
   ],
   "source": [
    "# manual 모델\n",
    "xgb_manual = XGBClassifier(max_depth = 2, n_estimators = 100, learning_rate = 0.4, gamma = 0.01, booster = 'gbtree',\n",
    "                          objective = 'binary:logistic', random_state = 1234)\n",
    "xgb_manual.fit(df_train_x_s, df_train_y_s)\n",
    "# 예측\n",
    "y_pred = xgb_manual.predict(df_test_x_s)\n",
    "\n",
    "# 데이터 정확도\n",
    "print('학습용 데이터의 정확도 : {:.3f}'.format(xgb_manual.score(df_train_x_s, df_train_y_s)))\n",
    "print('평가용 데이터의 정확도 : {:.3f}'.format(xgb_manual.score(df_test_x_s, df_test_y_s)))\n",
    "# 혼동행렬\n",
    "print('Confusion matrix: \\n{}'.format(confusion_matrix(df_test_y_s, y_pred)))"
   ]
  },
  {
   "cell_type": "code",
   "execution_count": 40,
   "id": "2117827c",
   "metadata": {},
   "outputs": [
    {
     "name": "stdout",
     "output_type": "stream",
     "text": [
      "[16:18:26] WARNING: C:/Users/Administrator/workspace/xgboost-win64_release_1.5.1/src/learner.cc:1115: Starting in XGBoost 1.3.0, the default evaluation metric used with the objective 'binary:logistic' was changed from 'error' to 'logloss'. Explicitly set eval_metric if you'd like to restore the old behavior.\n",
      "학습용 데이터의 정확도 : 0.940\n",
      "평가용 데이터의 정확도 : 0.776\n",
      "Confusion matrix: \n",
      "[[429  50]\n",
      " [165 314]]\n"
     ]
    }
   ],
   "source": [
    "# 최종 모델\n",
    "xgb_final = XGBClassifier(max_depth = 2, n_estimators = 100, learning_rate = 0.4, gamma = 0.01, booster = 'gbtree',\n",
    "                          objective = 'binary:logistic', random_state = 1234)\n",
    "xgb_final.fit(df_train_x_s, df_train_y_s)\n",
    "# 예측\n",
    "test_pred_y = xgb_final.predict(df_test_x_s)\n",
    "# 데이터 정확도\n",
    "print('학습용 데이터의 정확도 : {:.3f}'.format(xgb_final.score(df_train_x_s, df_train_y_s)))\n",
    "print('평가용 데이터의 정확도 : {:.3f}'.format(xgb_final.score(df_test_x_s, df_test_y_s)))\n",
    "# 혼동행렬\n",
    "print('Confusion matrix: \\n{}'.format(confusion_matrix(df_test_y_s, test_pred_y)))"
   ]
  },
  {
   "cell_type": "code",
   "execution_count": 41,
   "id": "149b2cba",
   "metadata": {},
   "outputs": [
    {
     "name": "stdout",
     "output_type": "stream",
     "text": [
      "Classification Report: \n",
      "               precision    recall  f1-score   support\n",
      "\n",
      "           0       0.72      0.90      0.80       479\n",
      "           1       0.86      0.66      0.74       479\n",
      "\n",
      "    accuracy                           0.78       958\n",
      "   macro avg       0.79      0.78      0.77       958\n",
      "weighted avg       0.79      0.78      0.77       958\n",
      "\n"
     ]
    }
   ],
   "source": [
    "# classification Report\n",
    "print('Classification Report: \\n', classification_report(df_test_y_s, test_pred_y))"
   ]
  },
  {
   "cell_type": "markdown",
   "id": "c324bb23",
   "metadata": {},
   "source": [
    "## LGBM"
   ]
  },
  {
   "cell_type": "code",
   "execution_count": 42,
   "id": "3c360944",
   "metadata": {},
   "outputs": [],
   "source": [
    "from lightgbm import LGBMClassifier"
   ]
  },
  {
   "cell_type": "code",
   "execution_count": 43,
   "id": "1e6511ef",
   "metadata": {},
   "outputs": [
    {
     "name": "stdout",
     "output_type": "stream",
     "text": [
      "학습용 데이터 정확도: 1.000\n",
      "평가용 데이터 정확도: 0.728\n"
     ]
    }
   ],
   "source": [
    "# 기본 모델 생성\n",
    "lgbm_uncustomized = LGBMClassifier(random_state = 1234)\n",
    "lgbm_uncustomized.fit(df_train_x_s, df_train_y_s)\n",
    "# 데이터 정확도\n",
    "print('학습용 데이터 정확도: {:.3f}'.format(lgbm_uncustomized.score(df_train_x_s, df_train_y_s)))\n",
    "print('평가용 데이터 정확도: {:.3f}'.format(lgbm_uncustomized.score(df_test_x_s, df_test_y_s)))"
   ]
  },
  {
   "cell_type": "code",
   "execution_count": 44,
   "id": "fd6ac064",
   "metadata": {},
   "outputs": [],
   "source": [
    "# train 및 test 정확도 결과 저장용\n",
    "train_accuracy = []; test_accuracy = []\n",
    "# learning_rate 학습률 변경: 0.1 ~ 0.9\n",
    "para_lr = [lr * 0.1 for lr in range(1, 10)]\n",
    "\n",
    "for v_learning_rate in para_lr:\n",
    "    lgbm = LGBMClassifier(learning_rate = v_learning_rate, random_state = 1234)\n",
    "    lgbm.fit(df_train_x_s, df_train_y_s)\n",
    "    y_pred = lgbm.predict(df_train_x_s)\n",
    "    train_accuracy.append(f1_score(df_train_y_s, y_pred))\n",
    "    y_pred = lgbm.predict(df_test_x_s)\n",
    "    test_accuracy.append(f1_score(df_test_y_s, y_pred))\n",
    "\n",
    "# 데이터 테이블로 저장\n",
    "df_accuracy_lr = pd.DataFrame()\n",
    "df_accuracy_lr['LearningRate'] = para_lr\n",
    "df_accuracy_lr['TrainAccuracy'] = train_accuracy\n",
    "df_accuracy_lr['TestAccuracy'] = test_accuracy"
   ]
  },
  {
   "cell_type": "code",
   "execution_count": 45,
   "id": "2e61dd2f",
   "metadata": {},
   "outputs": [
    {
     "data": {
      "text/html": [
       "<div>\n",
       "<style scoped>\n",
       "    .dataframe tbody tr th:only-of-type {\n",
       "        vertical-align: middle;\n",
       "    }\n",
       "\n",
       "    .dataframe tbody tr th {\n",
       "        vertical-align: top;\n",
       "    }\n",
       "\n",
       "    .dataframe thead th {\n",
       "        text-align: right;\n",
       "    }\n",
       "</style>\n",
       "<table border=\"1\" class=\"dataframe\">\n",
       "  <thead>\n",
       "    <tr style=\"text-align: right;\">\n",
       "      <th></th>\n",
       "      <th>LearningRate</th>\n",
       "      <th>TrainAccuracy</th>\n",
       "      <th>TestAccuracy</th>\n",
       "    </tr>\n",
       "  </thead>\n",
       "  <tbody>\n",
       "    <tr>\n",
       "      <th>0</th>\n",
       "      <td>0.1</td>\n",
       "      <td>1.0</td>\n",
       "      <td>0.660</td>\n",
       "    </tr>\n",
       "    <tr>\n",
       "      <th>1</th>\n",
       "      <td>0.2</td>\n",
       "      <td>1.0</td>\n",
       "      <td>0.644</td>\n",
       "    </tr>\n",
       "    <tr>\n",
       "      <th>2</th>\n",
       "      <td>0.3</td>\n",
       "      <td>1.0</td>\n",
       "      <td>0.644</td>\n",
       "    </tr>\n",
       "    <tr>\n",
       "      <th>3</th>\n",
       "      <td>0.4</td>\n",
       "      <td>1.0</td>\n",
       "      <td>0.643</td>\n",
       "    </tr>\n",
       "    <tr>\n",
       "      <th>4</th>\n",
       "      <td>0.5</td>\n",
       "      <td>1.0</td>\n",
       "      <td>0.647</td>\n",
       "    </tr>\n",
       "    <tr>\n",
       "      <th>5</th>\n",
       "      <td>0.6</td>\n",
       "      <td>1.0</td>\n",
       "      <td>0.627</td>\n",
       "    </tr>\n",
       "    <tr>\n",
       "      <th>6</th>\n",
       "      <td>0.7</td>\n",
       "      <td>1.0</td>\n",
       "      <td>0.636</td>\n",
       "    </tr>\n",
       "    <tr>\n",
       "      <th>7</th>\n",
       "      <td>0.8</td>\n",
       "      <td>1.0</td>\n",
       "      <td>0.659</td>\n",
       "    </tr>\n",
       "    <tr>\n",
       "      <th>8</th>\n",
       "      <td>0.9</td>\n",
       "      <td>1.0</td>\n",
       "      <td>0.634</td>\n",
       "    </tr>\n",
       "  </tbody>\n",
       "</table>\n",
       "</div>"
      ],
      "text/plain": [
       "   LearningRate  TrainAccuracy  TestAccuracy\n",
       "0           0.1            1.0         0.660\n",
       "1           0.2            1.0         0.644\n",
       "2           0.3            1.0         0.644\n",
       "3           0.4            1.0         0.643\n",
       "4           0.5            1.0         0.647\n",
       "5           0.6            1.0         0.627\n",
       "6           0.7            1.0         0.636\n",
       "7           0.8            1.0         0.659\n",
       "8           0.9            1.0         0.634"
      ]
     },
     "execution_count": 45,
     "metadata": {},
     "output_type": "execute_result"
    }
   ],
   "source": [
    "df_accuracy_lr.round(3)"
   ]
  },
  {
   "cell_type": "code",
   "execution_count": 46,
   "id": "ca83f76e",
   "metadata": {},
   "outputs": [
    {
     "data": {
      "text/plain": [
       "<matplotlib.legend.Legend at 0x1712114d7c0>"
      ]
     },
     "execution_count": 46,
     "metadata": {},
     "output_type": "execute_result"
    },
    {
     "data": {
      "image/png": "[encoded data removed]",
      "text/plain": [
       "<Figure size 432x288 with 1 Axes>"
      ]
     },
     "metadata": {
      "needs_background": "light"
     },
     "output_type": "display_data"
    }
   ],
   "source": [
    "plt.plot(para_lr, train_accuracy, linestyle = '-', label = 'Train Accuracy')\n",
    "plt.plot(para_lr, test_accuracy, linestyle = '--', label = 'Test Accuracy')\n",
    "plt.ylabel('accuracy'); plt.xlabel('learning rate')\n",
    "plt.legend()"
   ]
  },
  {
   "cell_type": "markdown",
   "id": "e2a81d5c",
   "metadata": {},
   "source": [
    "- learning_rate = 0.8"
   ]
  },
  {
   "cell_type": "code",
   "execution_count": 47,
   "id": "5176fd40",
   "metadata": {},
   "outputs": [],
   "source": [
    "# train 및 test 정확도 결과 저장용\n",
    "train_accuracy = []; test_accuracy = []\n",
    "\n",
    "para_num_leaves = [num_leaves * 10 for num_leaves in range(1, 16)]\n",
    "\n",
    "for v_num_leaves in para_num_leaves:\n",
    "    lgbm = LGBMClassifier(num_leaves = v_num_leaves, learning_rate = 0.8, random_state = 1234)\n",
    "    lgbm.fit(df_train_x_s, df_train_y_s)\n",
    "    y_pred = lgbm.predict(df_train_x_s)\n",
    "    train_accuracy.append(f1_score(df_train_y_s, y_pred))\n",
    "    y_pred = lgbm.predict(df_test_x_s)\n",
    "    test_accuracy.append(f1_score(df_test_y_s, y_pred))\n",
    "\n",
    "# 데이터 테이블로 저장\n",
    "df_accuracy_n = pd.DataFrame()\n",
    "df_accuracy_n['Estimators'] = para_num_leaves\n",
    "df_accuracy_n['TrainAccuracy'] = train_accuracy\n",
    "df_accuracy_n['TestAccuracy'] = test_accuracy"
   ]
  },
  {
   "cell_type": "code",
   "execution_count": 48,
   "id": "b710eac2",
   "metadata": {},
   "outputs": [
    {
     "data": {
      "text/html": [
       "<div>\n",
       "<style scoped>\n",
       "    .dataframe tbody tr th:only-of-type {\n",
       "        vertical-align: middle;\n",
       "    }\n",
       "\n",
       "    .dataframe tbody tr th {\n",
       "        vertical-align: top;\n",
       "    }\n",
       "\n",
       "    .dataframe thead th {\n",
       "        text-align: right;\n",
       "    }\n",
       "</style>\n",
       "<table border=\"1\" class=\"dataframe\">\n",
       "  <thead>\n",
       "    <tr style=\"text-align: right;\">\n",
       "      <th></th>\n",
       "      <th>Estimators</th>\n",
       "      <th>TrainAccuracy</th>\n",
       "      <th>TestAccuracy</th>\n",
       "    </tr>\n",
       "  </thead>\n",
       "  <tbody>\n",
       "    <tr>\n",
       "      <th>0</th>\n",
       "      <td>10</td>\n",
       "      <td>1.0</td>\n",
       "      <td>0.656</td>\n",
       "    </tr>\n",
       "    <tr>\n",
       "      <th>1</th>\n",
       "      <td>20</td>\n",
       "      <td>1.0</td>\n",
       "      <td>0.652</td>\n",
       "    </tr>\n",
       "    <tr>\n",
       "      <th>2</th>\n",
       "      <td>30</td>\n",
       "      <td>1.0</td>\n",
       "      <td>0.627</td>\n",
       "    </tr>\n",
       "    <tr>\n",
       "      <th>3</th>\n",
       "      <td>40</td>\n",
       "      <td>1.0</td>\n",
       "      <td>0.634</td>\n",
       "    </tr>\n",
       "    <tr>\n",
       "      <th>4</th>\n",
       "      <td>50</td>\n",
       "      <td>1.0</td>\n",
       "      <td>0.608</td>\n",
       "    </tr>\n",
       "    <tr>\n",
       "      <th>5</th>\n",
       "      <td>60</td>\n",
       "      <td>1.0</td>\n",
       "      <td>0.607</td>\n",
       "    </tr>\n",
       "    <tr>\n",
       "      <th>6</th>\n",
       "      <td>70</td>\n",
       "      <td>1.0</td>\n",
       "      <td>0.630</td>\n",
       "    </tr>\n",
       "    <tr>\n",
       "      <th>7</th>\n",
       "      <td>80</td>\n",
       "      <td>1.0</td>\n",
       "      <td>0.619</td>\n",
       "    </tr>\n",
       "    <tr>\n",
       "      <th>8</th>\n",
       "      <td>90</td>\n",
       "      <td>1.0</td>\n",
       "      <td>0.626</td>\n",
       "    </tr>\n",
       "    <tr>\n",
       "      <th>9</th>\n",
       "      <td>100</td>\n",
       "      <td>1.0</td>\n",
       "      <td>0.615</td>\n",
       "    </tr>\n",
       "    <tr>\n",
       "      <th>10</th>\n",
       "      <td>110</td>\n",
       "      <td>1.0</td>\n",
       "      <td>0.615</td>\n",
       "    </tr>\n",
       "    <tr>\n",
       "      <th>11</th>\n",
       "      <td>120</td>\n",
       "      <td>1.0</td>\n",
       "      <td>0.615</td>\n",
       "    </tr>\n",
       "    <tr>\n",
       "      <th>12</th>\n",
       "      <td>130</td>\n",
       "      <td>1.0</td>\n",
       "      <td>0.615</td>\n",
       "    </tr>\n",
       "    <tr>\n",
       "      <th>13</th>\n",
       "      <td>140</td>\n",
       "      <td>1.0</td>\n",
       "      <td>0.615</td>\n",
       "    </tr>\n",
       "    <tr>\n",
       "      <th>14</th>\n",
       "      <td>150</td>\n",
       "      <td>1.0</td>\n",
       "      <td>0.615</td>\n",
       "    </tr>\n",
       "  </tbody>\n",
       "</table>\n",
       "</div>"
      ],
      "text/plain": [
       "    Estimators  TrainAccuracy  TestAccuracy\n",
       "0           10            1.0         0.656\n",
       "1           20            1.0         0.652\n",
       "2           30            1.0         0.627\n",
       "3           40            1.0         0.634\n",
       "4           50            1.0         0.608\n",
       "5           60            1.0         0.607\n",
       "6           70            1.0         0.630\n",
       "7           80            1.0         0.619\n",
       "8           90            1.0         0.626\n",
       "9          100            1.0         0.615\n",
       "10         110            1.0         0.615\n",
       "11         120            1.0         0.615\n",
       "12         130            1.0         0.615\n",
       "13         140            1.0         0.615\n",
       "14         150            1.0         0.615"
      ]
     },
     "execution_count": 48,
     "metadata": {},
     "output_type": "execute_result"
    }
   ],
   "source": [
    "df_accuracy_n.round(3)"
   ]
  },
  {
   "cell_type": "code",
   "execution_count": 49,
   "id": "613813e2",
   "metadata": {},
   "outputs": [
    {
     "data": {
      "text/plain": [
       "<matplotlib.legend.Legend at 0x171211deb20>"
      ]
     },
     "execution_count": 49,
     "metadata": {},
     "output_type": "execute_result"
    },
    {
     "data": {
      "image/png": "[encoded data removed]",
      "text/plain": [
       "<Figure size 432x288 with 1 Axes>"
      ]
     },
     "metadata": {
      "needs_background": "light"
     },
     "output_type": "display_data"
    }
   ],
   "source": [
    "plt.plot(para_num_leaves, train_accuracy, linestyle = '-', label = 'Train Accuracy')\n",
    "plt.plot(para_num_leaves, test_accuracy, linestyle = '--', label = 'Test Accuracy')\n",
    "plt.ylabel('accuracy'); plt.xlabel('Estimators')\n",
    "plt.legend()"
   ]
  },
  {
   "cell_type": "markdown",
   "id": "f0f71061",
   "metadata": {},
   "source": [
    "num_leaves = 20"
   ]
  },
  {
   "cell_type": "code",
   "execution_count": 50,
   "id": "1216dfde",
   "metadata": {},
   "outputs": [],
   "source": [
    "# train 및 test 정확도 결과 저장용\n",
    "train_accuracy = []; test_accuracy = []\n",
    "# max_depth: 최대 깊이 변경\n",
    "para_depth = [depth for depth in range(1, 11)]\n",
    "\n",
    "for v_max_depth in para_depth:\n",
    "    lgbm = LGBMClassifier(max_depth = v_max_depth, num_leaves = 20, learning_rate = 0.8, random_state = 1234)\n",
    "    lgbm.fit(df_train_x_s, df_train_y_s)\n",
    "    y_pred = lgbm.predict(df_train_x_s)\n",
    "    train_accuracy.append(f1_score(df_train_y_s, y_pred))\n",
    "    y_pred = lgbm.predict(df_test_x_s)\n",
    "    test_accuracy.append(f1_score(df_test_y_s, y_pred))\n",
    "\n",
    "# 데이터 테이블로 저장\n",
    "df_accuracy_depth = pd.DataFrame()\n",
    "df_accuracy_depth['Depth'] = para_depth\n",
    "df_accuracy_depth['TrainAccuracy'] = train_accuracy\n",
    "df_accuracy_depth['TestAccuracy'] = test_accuracy"
   ]
  },
  {
   "cell_type": "code",
   "execution_count": 51,
   "id": "96ef5dfc",
   "metadata": {},
   "outputs": [
    {
     "data": {
      "text/html": [
       "<div>\n",
       "<style scoped>\n",
       "    .dataframe tbody tr th:only-of-type {\n",
       "        vertical-align: middle;\n",
       "    }\n",
       "\n",
       "    .dataframe tbody tr th {\n",
       "        vertical-align: top;\n",
       "    }\n",
       "\n",
       "    .dataframe thead th {\n",
       "        text-align: right;\n",
       "    }\n",
       "</style>\n",
       "<table border=\"1\" class=\"dataframe\">\n",
       "  <thead>\n",
       "    <tr style=\"text-align: right;\">\n",
       "      <th></th>\n",
       "      <th>Depth</th>\n",
       "      <th>TrainAccuracy</th>\n",
       "      <th>TestAccuracy</th>\n",
       "    </tr>\n",
       "  </thead>\n",
       "  <tbody>\n",
       "    <tr>\n",
       "      <th>0</th>\n",
       "      <td>1</td>\n",
       "      <td>0.849</td>\n",
       "      <td>0.728</td>\n",
       "    </tr>\n",
       "    <tr>\n",
       "      <th>1</th>\n",
       "      <td>2</td>\n",
       "      <td>0.976</td>\n",
       "      <td>0.759</td>\n",
       "    </tr>\n",
       "    <tr>\n",
       "      <th>2</th>\n",
       "      <td>3</td>\n",
       "      <td>1.000</td>\n",
       "      <td>0.674</td>\n",
       "    </tr>\n",
       "    <tr>\n",
       "      <th>3</th>\n",
       "      <td>4</td>\n",
       "      <td>1.000</td>\n",
       "      <td>0.695</td>\n",
       "    </tr>\n",
       "    <tr>\n",
       "      <th>4</th>\n",
       "      <td>5</td>\n",
       "      <td>1.000</td>\n",
       "      <td>0.668</td>\n",
       "    </tr>\n",
       "    <tr>\n",
       "      <th>5</th>\n",
       "      <td>6</td>\n",
       "      <td>1.000</td>\n",
       "      <td>0.687</td>\n",
       "    </tr>\n",
       "    <tr>\n",
       "      <th>6</th>\n",
       "      <td>7</td>\n",
       "      <td>1.000</td>\n",
       "      <td>0.650</td>\n",
       "    </tr>\n",
       "    <tr>\n",
       "      <th>7</th>\n",
       "      <td>8</td>\n",
       "      <td>1.000</td>\n",
       "      <td>0.629</td>\n",
       "    </tr>\n",
       "    <tr>\n",
       "      <th>8</th>\n",
       "      <td>9</td>\n",
       "      <td>1.000</td>\n",
       "      <td>0.627</td>\n",
       "    </tr>\n",
       "    <tr>\n",
       "      <th>9</th>\n",
       "      <td>10</td>\n",
       "      <td>1.000</td>\n",
       "      <td>0.669</td>\n",
       "    </tr>\n",
       "  </tbody>\n",
       "</table>\n",
       "</div>"
      ],
      "text/plain": [
       "   Depth  TrainAccuracy  TestAccuracy\n",
       "0      1          0.849         0.728\n",
       "1      2          0.976         0.759\n",
       "2      3          1.000         0.674\n",
       "3      4          1.000         0.695\n",
       "4      5          1.000         0.668\n",
       "5      6          1.000         0.687\n",
       "6      7          1.000         0.650\n",
       "7      8          1.000         0.629\n",
       "8      9          1.000         0.627\n",
       "9     10          1.000         0.669"
      ]
     },
     "execution_count": 51,
     "metadata": {},
     "output_type": "execute_result"
    }
   ],
   "source": [
    "df_accuracy_depth.round(3)"
   ]
  },
  {
   "cell_type": "code",
   "execution_count": 52,
   "id": "f682fd06",
   "metadata": {},
   "outputs": [
    {
     "data": {
      "text/plain": [
       "<matplotlib.legend.Legend at 0x17121263a00>"
      ]
     },
     "execution_count": 52,
     "metadata": {},
     "output_type": "execute_result"
    },
    {
     "data": {
      "image/png": "[encoded data removed]",
      "text/plain": [
       "<Figure size 432x288 with 1 Axes>"
      ]
     },
     "metadata": {
      "needs_background": "light"
     },
     "output_type": "display_data"
    }
   ],
   "source": [
    "plt.plot(para_depth, train_accuracy, linestyle = '-', label = 'Train Accuracy')\n",
    "plt.plot(para_depth, test_accuracy, linestyle = '--', label = 'Test Accuracy')\n",
    "plt.ylabel('accuracy'); plt.xlabel('depth')\n",
    "plt.legend()"
   ]
  },
  {
   "cell_type": "markdown",
   "id": "864dd14f",
   "metadata": {},
   "source": [
    "- depth = 2"
   ]
  },
  {
   "cell_type": "code",
   "execution_count": 53,
   "id": "63240ccb",
   "metadata": {},
   "outputs": [
    {
     "name": "stdout",
     "output_type": "stream",
     "text": [
      "학습용 데이터의 정확도 : 0.976\n",
      "평가용 데이터의 정확도 : 0.785\n",
      "Confusion matrix: \n",
      "[[427  52]\n",
      " [154 325]]\n"
     ]
    }
   ],
   "source": [
    "# manual 모델\n",
    "lgbm_manual = LGBMClassifier(max_depth = 2, num_leaves = 20, learning_rate = 0.8, random_state = 1234)\n",
    "lgbm_manual.fit(df_train_x_s, df_train_y_s)\n",
    "# 예측\n",
    "y_pred = lgbm_manual.predict(df_test_x_s)\n",
    "\n",
    "# 데이터 정확도\n",
    "print('학습용 데이터의 정확도 : {:.3f}'.format(lgbm_manual.score(df_train_x_s, df_train_y_s)))\n",
    "print('평가용 데이터의 정확도 : {:.3f}'.format(lgbm_manual.score(df_test_x_s, df_test_y_s)))\n",
    "# 혼동행렬\n",
    "print('Confusion matrix: \\n{}'.format(confusion_matrix(df_test_y_s, y_pred)))"
   ]
  },
  {
   "cell_type": "code",
   "execution_count": 54,
   "id": "6f895ab8",
   "metadata": {},
   "outputs": [
    {
     "name": "stdout",
     "output_type": "stream",
     "text": [
      "학습용 데이터의 정확도: 0.976\n",
      "평가용 데이터의 정확도: 0.785\n",
      "\n"
     ]
    }
   ],
   "source": [
    "# 최종 모델\n",
    "lgbm_final = LGBMClassifier(max_depth = 2, num_leaves = 20, learning_rate = 0.8, random_state = 1234)\n",
    "lgbm_final.fit(df_train_x_s, df_train_y_s)\n",
    "# 예측\n",
    "test_pred_y = lgbm_final.predict(df_test_x_s)\n",
    "# 데이터 정확도\n",
    "print('학습용 데이터의 정확도: {:.3f}'.format(lgbm_final.score(df_train_x_s, df_train_y_s)))\n",
    "print('평가용 데이터의 정확도: {:.3f}\\n'.format(lgbm_final.score(df_test_x_s, df_test_y_s)))"
   ]
  },
  {
   "cell_type": "code",
   "execution_count": 55,
   "id": "58699fb0",
   "metadata": {},
   "outputs": [
    {
     "name": "stdout",
     "output_type": "stream",
     "text": [
      "Confusion matrix: \n",
      "[[427  52]\n",
      " [154 325]]\n"
     ]
    }
   ],
   "source": [
    "# 혼동행렬\n",
    "print('Confusion matrix: \\n{}'.format(confusion_matrix(df_test_y_s, test_pred_y)))"
   ]
  },
  {
   "cell_type": "code",
   "execution_count": 56,
   "id": "c62f2fd3",
   "metadata": {},
   "outputs": [
    {
     "name": "stdout",
     "output_type": "stream",
     "text": [
      "Classification Report: \n",
      "               precision    recall  f1-score   support\n",
      "\n",
      "           0       0.73      0.89      0.81       479\n",
      "           1       0.86      0.68      0.76       479\n",
      "\n",
      "    accuracy                           0.78       958\n",
      "   macro avg       0.80      0.78      0.78       958\n",
      "weighted avg       0.80      0.78      0.78       958\n",
      "\n"
     ]
    }
   ],
   "source": [
    "# Classification Report\n",
    "print('Classification Report: \\n', classification_report(df_test_y_s, test_pred_y))"
   ]
  },
  {
   "cell_type": "markdown",
   "id": "8ef7ad0d",
   "metadata": {},
   "source": [
    "## SVM"
   ]
  },
  {
   "cell_type": "code",
   "execution_count": 57,
   "id": "9005192d",
   "metadata": {},
   "outputs": [
    {
     "name": "stdout",
     "output_type": "stream",
     "text": [
      "학습용 데이터의 정확도 : 0.593\n",
      "평가용 데이터의 정확도 : 0.577\n"
     ]
    }
   ],
   "source": [
    "svm_uncustomized = SVC(random_state = 1234)\n",
    "svm_uncustomized.fit(df_train_x_s, df_train_y_s)\n",
    "# 데이터 정확도\n",
    "print(\"학습용 데이터의 정확도 : {:.3f}\".format(svm_uncustomized.score(df_train_x_s, df_train_y_s)))\n",
    "print(\"평가용 데이터의 정확도 : {:.3f}\".format(svm_uncustomized.score(df_test_x_s, df_test_y_s)))"
   ]
  },
  {
   "cell_type": "code",
   "execution_count": 58,
   "id": "8f185868",
   "metadata": {},
   "outputs": [
    {
     "data": {
      "text/html": [
       "<div>\n",
       "<style scoped>\n",
       "    .dataframe tbody tr th:only-of-type {\n",
       "        vertical-align: middle;\n",
       "    }\n",
       "\n",
       "    .dataframe tbody tr th {\n",
       "        vertical-align: top;\n",
       "    }\n",
       "\n",
       "    .dataframe thead th {\n",
       "        text-align: right;\n",
       "    }\n",
       "</style>\n",
       "<table border=\"1\" class=\"dataframe\">\n",
       "  <thead>\n",
       "    <tr style=\"text-align: right;\">\n",
       "      <th></th>\n",
       "      <th>고혈압여부</th>\n",
       "      <th>당뇨여부</th>\n",
       "      <th>성별</th>\n",
       "      <th>신장</th>\n",
       "      <th>체중</th>\n",
       "      <th>심혈관질환</th>\n",
       "      <th>연령</th>\n",
       "      <th>직업</th>\n",
       "      <th>헤모글로빈수치</th>\n",
       "      <th>흡연여부</th>\n",
       "      <th>통증기간_월</th>\n",
       "      <th>BMI</th>\n",
       "      <th>수술기법</th>\n",
       "      <th>MF_ES</th>\n",
       "      <th>PI</th>\n",
       "      <th>디스크단면적</th>\n",
       "    </tr>\n",
       "  </thead>\n",
       "  <tbody>\n",
       "    <tr>\n",
       "      <th>0</th>\n",
       "      <td>-0.332668</td>\n",
       "      <td>-0.235423</td>\n",
       "      <td>1.736207</td>\n",
       "      <td>-1.254169</td>\n",
       "      <td>-1.963922</td>\n",
       "      <td>-0.148386</td>\n",
       "      <td>-1.940270</td>\n",
       "      <td>0.201285</td>\n",
       "      <td>-0.715787</td>\n",
       "      <td>-0.491851</td>\n",
       "      <td>0.852207</td>\n",
       "      <td>-1.857402</td>\n",
       "      <td>3.861902</td>\n",
       "      <td>-1.463884</td>\n",
       "      <td>-1.529601</td>\n",
       "      <td>-2.595094</td>\n",
       "    </tr>\n",
       "    <tr>\n",
       "      <th>1</th>\n",
       "      <td>-0.332668</td>\n",
       "      <td>-0.235423</td>\n",
       "      <td>-0.575968</td>\n",
       "      <td>0.495542</td>\n",
       "      <td>-1.358704</td>\n",
       "      <td>-0.148386</td>\n",
       "      <td>-1.940270</td>\n",
       "      <td>0.201285</td>\n",
       "      <td>0.232907</td>\n",
       "      <td>-0.491851</td>\n",
       "      <td>0.264405</td>\n",
       "      <td>-2.148343</td>\n",
       "      <td>-0.258940</td>\n",
       "      <td>-1.162678</td>\n",
       "      <td>0.030894</td>\n",
       "      <td>-0.143152</td>\n",
       "    </tr>\n",
       "    <tr>\n",
       "      <th>2</th>\n",
       "      <td>-0.332668</td>\n",
       "      <td>-0.235423</td>\n",
       "      <td>-0.575968</td>\n",
       "      <td>0.845485</td>\n",
       "      <td>1.580925</td>\n",
       "      <td>-0.148386</td>\n",
       "      <td>-1.859446</td>\n",
       "      <td>0.201285</td>\n",
       "      <td>-0.277928</td>\n",
       "      <td>-0.491851</td>\n",
       "      <td>2.027810</td>\n",
       "      <td>1.392443</td>\n",
       "      <td>-0.258940</td>\n",
       "      <td>0.819355</td>\n",
       "      <td>-0.629684</td>\n",
       "      <td>0.389576</td>\n",
       "    </tr>\n",
       "    <tr>\n",
       "      <th>3</th>\n",
       "      <td>-0.332668</td>\n",
       "      <td>-0.235423</td>\n",
       "      <td>1.736207</td>\n",
       "      <td>-0.204342</td>\n",
       "      <td>-0.788070</td>\n",
       "      <td>-0.148386</td>\n",
       "      <td>-0.566272</td>\n",
       "      <td>0.466962</td>\n",
       "      <td>0.174525</td>\n",
       "      <td>-0.491851</td>\n",
       "      <td>-0.225430</td>\n",
       "      <td>-0.879507</td>\n",
       "      <td>-0.258940</td>\n",
       "      <td>-0.550414</td>\n",
       "      <td>-0.519588</td>\n",
       "      <td>0.812663</td>\n",
       "    </tr>\n",
       "    <tr>\n",
       "      <th>4</th>\n",
       "      <td>-0.332668</td>\n",
       "      <td>-0.235423</td>\n",
       "      <td>-0.575968</td>\n",
       "      <td>0.728837</td>\n",
       "      <td>1.926764</td>\n",
       "      <td>-0.148386</td>\n",
       "      <td>-1.940270</td>\n",
       "      <td>0.201285</td>\n",
       "      <td>0.743742</td>\n",
       "      <td>-0.491851</td>\n",
       "      <td>-0.176447</td>\n",
       "      <td>1.951655</td>\n",
       "      <td>-0.258940</td>\n",
       "      <td>0.753098</td>\n",
       "      <td>0.294167</td>\n",
       "      <td>-0.230676</td>\n",
       "    </tr>\n",
       "  </tbody>\n",
       "</table>\n",
       "</div>"
      ],
      "text/plain": [
       "      고혈압여부      당뇨여부        성별        신장        체중     심혈관질환        연령  \\\n",
       "0 -0.332668 -0.235423  1.736207 -1.254169 -1.963922 -0.148386 -1.940270   \n",
       "1 -0.332668 -0.235423 -0.575968  0.495542 -1.358704 -0.148386 -1.940270   \n",
       "2 -0.332668 -0.235423 -0.575968  0.845485  1.580925 -0.148386 -1.859446   \n",
       "3 -0.332668 -0.235423  1.736207 -0.204342 -0.788070 -0.148386 -0.566272   \n",
       "4 -0.332668 -0.235423 -0.575968  0.728837  1.926764 -0.148386 -1.940270   \n",
       "\n",
       "         직업   헤모글로빈수치      흡연여부    통증기간_월       BMI      수술기법     MF_ES  \\\n",
       "0  0.201285 -0.715787 -0.491851  0.852207 -1.857402  3.861902 -1.463884   \n",
       "1  0.201285  0.232907 -0.491851  0.264405 -2.148343 -0.258940 -1.162678   \n",
       "2  0.201285 -0.277928 -0.491851  2.027810  1.392443 -0.258940  0.819355   \n",
       "3  0.466962  0.174525 -0.491851 -0.225430 -0.879507 -0.258940 -0.550414   \n",
       "4  0.201285  0.743742 -0.491851 -0.176447  1.951655 -0.258940  0.753098   \n",
       "\n",
       "         PI    디스크단면적  \n",
       "0 -1.529601 -2.595094  \n",
       "1  0.030894 -0.143152  \n",
       "2 -0.629684  0.389576  \n",
       "3 -0.519588  0.812663  \n",
       "4  0.294167 -0.230676  "
      ]
     },
     "execution_count": 58,
     "metadata": {},
     "output_type": "execute_result"
    }
   ],
   "source": [
    "# 변수명 저장\n",
    "v_feature_name = df_train_x_s.columns\n",
    "# StandardScaler 적용\n",
    "scaler = StandardScaler()\n",
    "df_train_scaled_x = scaler.fit_transform(df_train_x_s)\n",
    "df_test_scaled_x = scaler.transform(df_test_x_s)\n",
    "df_train_scaled_x = pd.DataFrame(df_train_scaled_x, columns = v_feature_name)\n",
    "df_test_scaled_x = pd.DataFrame(df_test_scaled_x, columns = v_feature_name)\n",
    "df_train_scaled_x.head()"
   ]
  },
  {
   "cell_type": "code",
   "execution_count": 59,
   "id": "60cfd7ef",
   "metadata": {},
   "outputs": [
    {
     "name": "stdout",
     "output_type": "stream",
     "text": [
      "학습용 데이터의 정확도 : 0.820\n",
      "평가용 데이터의 정확도 : 0.687\n"
     ]
    }
   ],
   "source": [
    "svm_scaled = SVC(random_state = 1234)\n",
    "svm_scaled.fit(df_train_scaled_x, df_train_y_s)\n",
    "# 데이터 정확도\n",
    "print('학습용 데이터의 정확도 : {:.3f}'.format(svm_scaled.score(df_train_scaled_x, df_train_y_s)))\n",
    "print('평가용 데이터의 정확도 : {:.3f}'.format(svm_scaled.score(df_test_scaled_x, df_test_y_s)))"
   ]
  },
  {
   "cell_type": "code",
   "execution_count": 60,
   "id": "6293e5f4",
   "metadata": {},
   "outputs": [],
   "source": [
    "# train 및 test 정확도 결과 저장용\n",
    "train_accuracy = []; test_accuracy = []\n",
    "\n",
    "# c: 규제(0.01, 0.1, 1, 10)\n",
    "para_c = [10 **c for c in range(-2, 2)]\n",
    "\n",
    "for v_C in para_c:\n",
    "    svm = SVC(C = v_C, random_state = 1234)\n",
    "    svm.fit(df_train_scaled_x, df_train_y_s)\n",
    "    y_pred = svm.predict(df_train_scaled_x)\n",
    "    train_accuracy.append(f1_score(df_train_y_s, y_pred))\n",
    "    y_pred = svm.predict(df_test_scaled_x)\n",
    "    test_accuracy.append(f1_score(df_test_y_s, y_pred))\n",
    "    \n",
    "# 데이터 테이블로 저장\n",
    "df_accuracy_c = pd.DataFrame()\n",
    "df_accuracy_c[\"C\"] = para_c\n",
    "df_accuracy_c[\"TrainAccuracy\"] = train_accuracy\n",
    "df_accuracy_c[\"TestAccuracy\"] = test_accuracy"
   ]
  },
  {
   "cell_type": "code",
   "execution_count": 61,
   "id": "8d90fddb",
   "metadata": {},
   "outputs": [
    {
     "data": {
      "text/html": [
       "<div>\n",
       "<style scoped>\n",
       "    .dataframe tbody tr th:only-of-type {\n",
       "        vertical-align: middle;\n",
       "    }\n",
       "\n",
       "    .dataframe tbody tr th {\n",
       "        vertical-align: top;\n",
       "    }\n",
       "\n",
       "    .dataframe thead th {\n",
       "        text-align: right;\n",
       "    }\n",
       "</style>\n",
       "<table border=\"1\" class=\"dataframe\">\n",
       "  <thead>\n",
       "    <tr style=\"text-align: right;\">\n",
       "      <th></th>\n",
       "      <th>C</th>\n",
       "      <th>TrainAccuracy</th>\n",
       "      <th>TestAccuracy</th>\n",
       "    </tr>\n",
       "  </thead>\n",
       "  <tbody>\n",
       "    <tr>\n",
       "      <th>0</th>\n",
       "      <td>0.01</td>\n",
       "      <td>0.698</td>\n",
       "      <td>0.669</td>\n",
       "    </tr>\n",
       "    <tr>\n",
       "      <th>1</th>\n",
       "      <td>0.10</td>\n",
       "      <td>0.769</td>\n",
       "      <td>0.692</td>\n",
       "    </tr>\n",
       "    <tr>\n",
       "      <th>2</th>\n",
       "      <td>1.00</td>\n",
       "      <td>0.824</td>\n",
       "      <td>0.667</td>\n",
       "    </tr>\n",
       "    <tr>\n",
       "      <th>3</th>\n",
       "      <td>10.00</td>\n",
       "      <td>0.904</td>\n",
       "      <td>0.645</td>\n",
       "    </tr>\n",
       "  </tbody>\n",
       "</table>\n",
       "</div>"
      ],
      "text/plain": [
       "       C  TrainAccuracy  TestAccuracy\n",
       "0   0.01          0.698         0.669\n",
       "1   0.10          0.769         0.692\n",
       "2   1.00          0.824         0.667\n",
       "3  10.00          0.904         0.645"
      ]
     },
     "execution_count": 61,
     "metadata": {},
     "output_type": "execute_result"
    }
   ],
   "source": [
    "# C별 정확도 테이블\n",
    "df_accuracy_c.round(3)"
   ]
  },
  {
   "cell_type": "code",
   "execution_count": 62,
   "id": "ce26129d",
   "metadata": {
    "scrolled": true
   },
   "outputs": [
    {
     "data": {
      "text/plain": [
       "<matplotlib.legend.Legend at 0x171222bbf10>"
      ]
     },
     "execution_count": 62,
     "metadata": {},
     "output_type": "execute_result"
    },
    {
     "data": {
      "image/png": "[encoded data removed]",
      "text/plain": [
       "<Figure size 432x288 with 1 Axes>"
      ]
     },
     "metadata": {
      "needs_background": "light"
     },
     "output_type": "display_data"
    }
   ],
   "source": [
    "# 모델 정확도 그래프 확인\n",
    "plt.plot(para_c, train_accuracy, linestyle = \"-\", label = \"Train Accuracy\")\n",
    "plt.plot(para_c, test_accuracy, linestyle = \"--\", label = \"Test Accuracy\")\n",
    "plt.ylabel(\"accuracy\"); plt.xlabel(\"C\")\n",
    "plt.legend()"
   ]
  },
  {
   "cell_type": "markdown",
   "id": "8126cd58",
   "metadata": {},
   "source": [
    "- C = 0.1"
   ]
  },
  {
   "cell_type": "code",
   "execution_count": 63,
   "id": "2d8406e7",
   "metadata": {},
   "outputs": [],
   "source": [
    "# train 및 test 정확도 결과 저장용\n",
    "train_accuracy = []; test_accuracy = []\n",
    "\n",
    "# gamma: 규제(0.01, 0.1, 1, 10)\n",
    "para_gamma = [10 **gamma for gamma in range(-2, 2)]\n",
    "\n",
    "for v_gamma in para_gamma:\n",
    "    svm = SVC(gamma = v_gamma, C = 0.1, random_state = 1234)\n",
    "    svm.fit(df_train_scaled_x, df_train_y_s)\n",
    "    y_pred = svm.predict(df_train_scaled_x)\n",
    "    train_accuracy.append(f1_score(df_train_y_s, y_pred))\n",
    "    y_pred = svm.predict(df_test_scaled_x)\n",
    "    test_accuracy.append(f1_score(df_test_y_s, y_pred))\n",
    "    \n",
    "# 데이터 테이블로 저장\n",
    "df_accuracy_gamma = pd.DataFrame()\n",
    "df_accuracy_gamma[\"gamma\"] = para_gamma\n",
    "df_accuracy_gamma[\"TrainAccuracy\"] = train_accuracy\n",
    "df_accuracy_gamma[\"TestAccuracy\"] = test_accuracy"
   ]
  },
  {
   "cell_type": "code",
   "execution_count": 64,
   "id": "7f6d36d7",
   "metadata": {},
   "outputs": [
    {
     "data": {
      "text/html": [
       "<div>\n",
       "<style scoped>\n",
       "    .dataframe tbody tr th:only-of-type {\n",
       "        vertical-align: middle;\n",
       "    }\n",
       "\n",
       "    .dataframe tbody tr th {\n",
       "        vertical-align: top;\n",
       "    }\n",
       "\n",
       "    .dataframe thead th {\n",
       "        text-align: right;\n",
       "    }\n",
       "</style>\n",
       "<table border=\"1\" class=\"dataframe\">\n",
       "  <thead>\n",
       "    <tr style=\"text-align: right;\">\n",
       "      <th></th>\n",
       "      <th>gamma</th>\n",
       "      <th>TrainAccuracy</th>\n",
       "      <th>TestAccuracy</th>\n",
       "    </tr>\n",
       "  </thead>\n",
       "  <tbody>\n",
       "    <tr>\n",
       "      <th>0</th>\n",
       "      <td>0.01</td>\n",
       "      <td>0.728</td>\n",
       "      <td>0.692</td>\n",
       "    </tr>\n",
       "    <tr>\n",
       "      <th>1</th>\n",
       "      <td>0.10</td>\n",
       "      <td>0.773</td>\n",
       "      <td>0.674</td>\n",
       "    </tr>\n",
       "    <tr>\n",
       "      <th>2</th>\n",
       "      <td>1.00</td>\n",
       "      <td>0.468</td>\n",
       "      <td>0.090</td>\n",
       "    </tr>\n",
       "    <tr>\n",
       "      <th>3</th>\n",
       "      <td>10.00</td>\n",
       "      <td>0.064</td>\n",
       "      <td>0.004</td>\n",
       "    </tr>\n",
       "  </tbody>\n",
       "</table>\n",
       "</div>"
      ],
      "text/plain": [
       "   gamma  TrainAccuracy  TestAccuracy\n",
       "0   0.01          0.728         0.692\n",
       "1   0.10          0.773         0.674\n",
       "2   1.00          0.468         0.090\n",
       "3  10.00          0.064         0.004"
      ]
     },
     "execution_count": 64,
     "metadata": {},
     "output_type": "execute_result"
    }
   ],
   "source": [
    "# Gamma별 정확도 테이블\n",
    "df_accuracy_gamma.round(3)"
   ]
  },
  {
   "cell_type": "code",
   "execution_count": 65,
   "id": "e8fa9433",
   "metadata": {},
   "outputs": [
    {
     "data": {
      "text/plain": [
       "<matplotlib.legend.Legend at 0x171223347c0>"
      ]
     },
     "execution_count": 65,
     "metadata": {},
     "output_type": "execute_result"
    },
    {
     "data": {
      "image/png": "[encoded data removed]",
      "text/plain": [
       "<Figure size 432x288 with 1 Axes>"
      ]
     },
     "metadata": {
      "needs_background": "light"
     },
     "output_type": "display_data"
    }
   ],
   "source": [
    "# Gamma별 정확도 그래프로 확인\n",
    "plt.plot(para_gamma, train_accuracy, linestyle = \"-\", label = \"Train Accuracy\")\n",
    "plt.plot(para_gamma, test_accuracy, linestyle = \"--\", label = \"Test Accuracy\")\n",
    "plt.ylabel(\"accuracy\"); plt.xlabel(\"gamma\")\n",
    "plt.legend()"
   ]
  },
  {
   "cell_type": "markdown",
   "id": "d88b77df",
   "metadata": {},
   "source": [
    "- gamma = 0.01"
   ]
  },
  {
   "cell_type": "code",
   "execution_count": 66,
   "id": "e7c018f7",
   "metadata": {},
   "outputs": [
    {
     "name": "stdout",
     "output_type": "stream",
     "text": [
      "학습용 데이터의 정확도 : 0.671\n",
      "평가용 데이터의 정확도 : 0.640\n"
     ]
    }
   ],
   "source": [
    "svc_manual = SVC(gamma = 0.01, C = 0.1, random_state=1234)\n",
    "svc_manual.fit(df_train_scaled_x, df_train_y_s)\n",
    "# 평가\n",
    "y_pred = svc_manual.predict(df_test_scaled_x)\n",
    "# 데이터 정확도\n",
    "print(\"학습용 데이터의 정확도 : {:.3f}\".format(svc_manual.score(df_train_scaled_x, df_train_y_s)))\n",
    "print(\"평가용 데이터의 정확도 : {:.3f}\".format(svc_manual.score(df_test_scaled_x, df_test_y_s)))"
   ]
  },
  {
   "cell_type": "code",
   "execution_count": 67,
   "id": "7b0e7b91",
   "metadata": {},
   "outputs": [
    {
     "name": "stdout",
     "output_type": "stream",
     "text": [
      "학습용 데이터의 정확도 : 0.671\n",
      "평가용 데이터의 정확도 : 0.640\n",
      "Confusion matrix: \n",
      "[[226 253]\n",
      " [ 92 387]]\n",
      "Classification Report : \n",
      "               precision    recall  f1-score   support\n",
      "\n",
      "           0       0.71      0.47      0.57       479\n",
      "           1       0.60      0.81      0.69       479\n",
      "\n",
      "    accuracy                           0.64       958\n",
      "   macro avg       0.66      0.64      0.63       958\n",
      "weighted avg       0.66      0.64      0.63       958\n",
      "\n"
     ]
    }
   ],
   "source": [
    "# 최종 모델\n",
    "svc_final = SVC(gamma = 0.01, C = 0.1, random_state = 1234)\n",
    "svc_final.fit(df_train_scaled_x, df_train_y_s)\n",
    "# 평가\n",
    "y_pred = svc_final.predict(df_test_scaled_x)\n",
    "# 데이터 정확도\n",
    "print(\"학습용 데이터의 정확도 : {:.3f}\".format(svc_final.score(df_train_scaled_x, df_train_y_s)))\n",
    "print(\"평가용 데이터의 정확도 : {:.3f}\".format(svc_final.score(df_test_scaled_x, df_test_y_s)))\n",
    "# 혼동행렬\n",
    "print(\"Confusion matrix: \\n{}\".format(confusion_matrix(df_test_y_s, y_pred)))\n",
    "# classification Report\n",
    "print('Classification Report : \\n', classification_report(df_test_y_s, y_pred))"
   ]
  },
  {
   "cell_type": "code",
   "execution_count": 68,
   "id": "7a71ef4b",
   "metadata": {},
   "outputs": [],
   "source": [
    "from sklearn.metrics import f1_score, roc_curve, roc_auc_score"
   ]
  },
  {
   "cell_type": "code",
   "execution_count": 69,
   "id": "4bd67d61",
   "metadata": {},
   "outputs": [],
   "source": [
    "# 분석 모델\n",
    "model = ['Logistic', 'XGBoost', 'LGBM', 'SVM']\n",
    "# 정확도 저장\n",
    "train_accuracy = []; test_accuracy = []\n",
    "# f1 score 저장\n",
    "model_f1_score = []\n",
    "# auc score 저장\n",
    "model_auc = []"
   ]
  },
  {
   "cell_type": "code",
   "execution_count": 70,
   "id": "406c55a5",
   "metadata": {},
   "outputs": [
    {
     "name": "stdout",
     "output_type": "stream",
     "text": [
      "Optimization terminated successfully.\n",
      "         Current function value: 0.542808\n",
      "         Iterations 6\n"
     ]
    }
   ],
   "source": [
    "# 모델 생성\n",
    "log_model = Logit.from_formula('재발여부 ~ 고혈압여부 + 성별 + 신장 + 체중 + 심혈관질환 + 연령 + 직업 + 헤모글로빈수치 + BMI', df_train_s)\n",
    "log_result = log_model.fit()\n",
    "\n",
    "y_pred = log_result.predict(df_train_s)\n",
    "# 0과 1의 값을 가진 class로 변환\n",
    "y_pred_class = (y_pred > 0.25).astype(int)\n",
    "train_accuracy.append(accuracy_score(df_train_s['재발여부'], y_pred_class))\n",
    "\n",
    "# 평가용 데이터 예측\n",
    "y_pred = log_result.predict(df_test_s)\n",
    "y_pred_class = (y_pred > 0.25).astype(int)\n",
    "test_accuracy.append(accuracy_score(df_test_s['재발여부'], y_pred_class))\n",
    "\n",
    "# roc_auc 계산\n",
    "roc_auc = roc_auc_score(df_test_s['재발여부'], y_pred_class)\n",
    "# auc 저장\n",
    "model_auc.append(roc_auc)\n",
    "# f1 스코어\n",
    "model_f1_score.append(f1_score(df_test_s['재발여부'], y_pred_class))"
   ]
  },
  {
   "cell_type": "code",
   "execution_count": 71,
   "id": "1d2ac2e4",
   "metadata": {},
   "outputs": [
    {
     "name": "stdout",
     "output_type": "stream",
     "text": [
      "[16:18:41] WARNING: C:/Users/Administrator/workspace/xgboost-win64_release_1.5.1/src/learner.cc:1115: Starting in XGBoost 1.3.0, the default evaluation metric used with the objective 'binary:logistic' was changed from 'error' to 'logloss'. Explicitly set eval_metric if you'd like to restore the old behavior.\n"
     ]
    }
   ],
   "source": [
    "# 모델 생성\n",
    "xgb_final = XGBClassifier(max_depth = 2, n_estimators = 30, learning_rate = 0.4, gamma = 0.01, booster = 'gbtree',\n",
    "                          objective = 'binary:logistic', random_state = 1234)\n",
    "xgb_final.fit(df_train_x_s, df_train_y_s)\n",
    "\n",
    "# train 정확도\n",
    "train_accuracy.append(xgb_final.score(df_train_x_s, df_train_y_s))\n",
    "# test 정확도\n",
    "test_accuracy.append(xgb_final.score(df_test_x_s, df_test_y_s))\n",
    "\n",
    "# 예측\n",
    "test_pred_y = xgb_final.predict(df_test_x_s)\n",
    "\n",
    "# roc_auc 계산\n",
    "roc_auc = roc_auc_score(df_test_y_s, test_pred_y)\n",
    "# auc 저장\n",
    "model_auc.append(roc_auc)\n",
    "# f1 스코어\n",
    "model_f1_score.append(f1_score(df_test_y_s, test_pred_y))"
   ]
  },
  {
   "cell_type": "code",
   "execution_count": 72,
   "id": "185decc7",
   "metadata": {},
   "outputs": [],
   "source": [
    "# 모델 생성\n",
    "lgbm_final = LGBMClassifier(max_depth = 2, num_leaves = 20, learning_rate = 0.8, random_state = 1234)\n",
    "lgbm_final.fit(df_train_x_s, df_train_y_s)\n",
    "\n",
    "# train 정확도\n",
    "train_accuracy.append(lgbm_final.score(df_train_x_s, df_train_y_s))\n",
    "# test 정확도\n",
    "test_accuracy.append(lgbm_final.score(df_test_x_s, df_test_y_s))\n",
    "\n",
    "# 예측\n",
    "test_pred_y = lgbm_final.predict(df_test_x_s)\n",
    "\n",
    "# roc_auc 계산\n",
    "roc_auc = roc_auc_score(df_test_y_s, test_pred_y)\n",
    "# auc 저장\n",
    "model_auc.append(roc_auc)\n",
    "# f1 스코어\n",
    "model_f1_score.append(f1_score(df_test_y_s, test_pred_y))"
   ]
  },
  {
   "cell_type": "code",
   "execution_count": 73,
   "id": "31c52039",
   "metadata": {},
   "outputs": [],
   "source": [
    "# 모델 생성\n",
    "svc_final = SVC(gamma = 0.01, C = 0.1, random_state = 1234)\n",
    "svc_final.fit(df_train_scaled_x, df_train_y_s)\n",
    "\n",
    "# train 정확도\n",
    "train_accuracy.append(svc_final.score(df_train_scaled_x, df_train_y_s))\n",
    "# test 정확도\n",
    "test_accuracy.append(svc_final.score(df_test_scaled_x, df_test_y_s))\n",
    "\n",
    "# 예측\n",
    "y_pred = svc_final.predict(df_test_scaled_x)\n",
    "\n",
    "# roc_auc 계산\n",
    "roc_auc = roc_auc_score(df_test_y_s, y_pred)\n",
    "# auc 저장\n",
    "model_auc.append(roc_auc)\n",
    "# f1 스코어\n",
    "model_f1_score.append(f1_score(df_test_y_s, y_pred))"
   ]
  },
  {
   "cell_type": "code",
   "execution_count": 74,
   "id": "bc3f1902",
   "metadata": {},
   "outputs": [
    {
     "data": {
      "text/html": [
       "<div>\n",
       "<style scoped>\n",
       "    .dataframe tbody tr th:only-of-type {\n",
       "        vertical-align: middle;\n",
       "    }\n",
       "\n",
       "    .dataframe tbody tr th {\n",
       "        vertical-align: top;\n",
       "    }\n",
       "\n",
       "    .dataframe thead th {\n",
       "        text-align: right;\n",
       "    }\n",
       "</style>\n",
       "<table border=\"1\" class=\"dataframe\">\n",
       "  <thead>\n",
       "    <tr style=\"text-align: right;\">\n",
       "      <th></th>\n",
       "      <th>TrainAccuracy</th>\n",
       "      <th>TestAccuracy</th>\n",
       "      <th>F1Score</th>\n",
       "      <th>AUC</th>\n",
       "    </tr>\n",
       "  </thead>\n",
       "  <tbody>\n",
       "    <tr>\n",
       "      <th>Logistic</th>\n",
       "      <td>0.644</td>\n",
       "      <td>0.634</td>\n",
       "      <td>0.714</td>\n",
       "      <td>0.634</td>\n",
       "    </tr>\n",
       "    <tr>\n",
       "      <th>XGBoost</th>\n",
       "      <td>0.868</td>\n",
       "      <td>0.752</td>\n",
       "      <td>0.720</td>\n",
       "      <td>0.752</td>\n",
       "    </tr>\n",
       "    <tr>\n",
       "      <th>LGBM</th>\n",
       "      <td>0.976</td>\n",
       "      <td>0.785</td>\n",
       "      <td>0.759</td>\n",
       "      <td>0.785</td>\n",
       "    </tr>\n",
       "    <tr>\n",
       "      <th>SVM</th>\n",
       "      <td>0.671</td>\n",
       "      <td>0.640</td>\n",
       "      <td>0.692</td>\n",
       "      <td>0.640</td>\n",
       "    </tr>\n",
       "  </tbody>\n",
       "</table>\n",
       "</div>"
      ],
      "text/plain": [
       "          TrainAccuracy  TestAccuracy  F1Score    AUC\n",
       "Logistic          0.644         0.634    0.714  0.634\n",
       "XGBoost           0.868         0.752    0.720  0.752\n",
       "LGBM              0.976         0.785    0.759  0.785\n",
       "SVM               0.671         0.640    0.692  0.640"
      ]
     },
     "execution_count": 74,
     "metadata": {},
     "output_type": "execute_result"
    }
   ],
   "source": [
    "# 모델별 정확도 표\n",
    "df_eval = pd.DataFrame(index = model)\n",
    "df_eval['TrainAccuracy'] = train_accuracy\n",
    "df_eval['TestAccuracy'] = test_accuracy\n",
    "df_eval['F1Score'] = model_f1_score\n",
    "df_eval['AUC'] = model_auc\n",
    "df_eval.round(3)"
   ]
  },
  {
   "cell_type": "code",
   "execution_count": 75,
   "id": "12abfd4d",
   "metadata": {},
   "outputs": [
    {
     "data": {
      "image/png": "[encoded data removed]",
      "text/plain": [
       "<Figure size 720x360 with 1 Axes>"
      ]
     },
     "metadata": {
      "needs_background": "light"
     },
     "output_type": "display_data"
    }
   ],
   "source": [
    "# 정확도 bar plot 생성\n",
    "df_eval.plot.bar(rot = 0, figsize = (10, 5))\n",
    "plt.legend(loc = 'lower right')\n",
    "plt.grid(axis = 'y')"
   ]
  },
  {
   "cell_type": "markdown",
   "id": "f38454a0",
   "metadata": {},
   "source": [
    "### F1Score기준으로 LGBM 선정"
   ]
  },
  {
   "cell_type": "code",
   "execution_count": null,
   "id": "95f8c83c",
   "metadata": {},
   "outputs": [],
   "source": []
  }
 ],
 "metadata": {
  "kernelspec": {
   "display_name": "Python 3 (ipykernel)",
   "language": "python",
   "name": "python3"
  },
  "language_info": {
   "codemirror_mode": {
    "name": "ipython",
    "version": 3
   },
   "file_extension": ".py",
   "mimetype": "text/x-python",
   "name": "python",
   "nbconvert_exporter": "python",
   "pygments_lexer": "ipython3",
   "version": "3.9.7"
  }
 },
 "nbformat": 4,
 "nbformat_minor": 5
}
