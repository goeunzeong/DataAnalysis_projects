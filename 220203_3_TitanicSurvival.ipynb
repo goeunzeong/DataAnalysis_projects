{
 "cells": [
  {
   "cell_type": "markdown",
   "id": "ce88208e",
   "metadata": {},
   "source": [
    "# 2. 데이터 수집"
   ]
  },
  {
   "cell_type": "code",
   "execution_count": 3,
   "id": "57f2b4b8",
   "metadata": {},
   "outputs": [],
   "source": [
    "import pandas as pd \n",
    "import numpy as np \n",
    "import matplotlib as mpl\n",
    "import matplotlib.pyplot as plt\n",
    "mpl.rc('font', family = 'Malgun Gothic')\n",
    "plt.rcParams['axes.unicode_minus'] = False\n",
    "plt.rcParams['font.family'] = 'Malgun Gothic'\n",
    "import seaborn as sns\n",
    "import scipy.stats as stats"
   ]
  },
  {
   "cell_type": "code",
   "execution_count": 4,
   "id": "f5c4b011",
   "metadata": {},
   "outputs": [
    {
     "data": {
      "text/html": [
       "<div>\n",
       "<style scoped>\n",
       "    .dataframe tbody tr th:only-of-type {\n",
       "        vertical-align: middle;\n",
       "    }\n",
       "\n",
       "    .dataframe tbody tr th {\n",
       "        vertical-align: top;\n",
       "    }\n",
       "\n",
       "    .dataframe thead th {\n",
       "        text-align: right;\n",
       "    }\n",
       "</style>\n",
       "<table border=\"1\" class=\"dataframe\">\n",
       "  <thead>\n",
       "    <tr style=\"text-align: right;\">\n",
       "      <th></th>\n",
       "      <th>PassengerId</th>\n",
       "      <th>Survived</th>\n",
       "      <th>Pclass</th>\n",
       "      <th>Name</th>\n",
       "      <th>Sex</th>\n",
       "      <th>Age</th>\n",
       "      <th>SibSp</th>\n",
       "      <th>Parch</th>\n",
       "      <th>Ticket</th>\n",
       "      <th>Fare</th>\n",
       "      <th>Cabin</th>\n",
       "      <th>Embarked</th>\n",
       "    </tr>\n",
       "  </thead>\n",
       "  <tbody>\n",
       "    <tr>\n",
       "      <th>0</th>\n",
       "      <td>1</td>\n",
       "      <td>0</td>\n",
       "      <td>3</td>\n",
       "      <td>Braund, Mr. Owen Harris</td>\n",
       "      <td>male</td>\n",
       "      <td>22.0</td>\n",
       "      <td>1</td>\n",
       "      <td>0</td>\n",
       "      <td>A/5 21171</td>\n",
       "      <td>7.2500</td>\n",
       "      <td>NaN</td>\n",
       "      <td>S</td>\n",
       "    </tr>\n",
       "    <tr>\n",
       "      <th>1</th>\n",
       "      <td>2</td>\n",
       "      <td>1</td>\n",
       "      <td>1</td>\n",
       "      <td>Cumings, Mrs. John Bradley (Florence Briggs Th...</td>\n",
       "      <td>female</td>\n",
       "      <td>38.0</td>\n",
       "      <td>1</td>\n",
       "      <td>0</td>\n",
       "      <td>PC 17599</td>\n",
       "      <td>71.2833</td>\n",
       "      <td>C85</td>\n",
       "      <td>C</td>\n",
       "    </tr>\n",
       "    <tr>\n",
       "      <th>2</th>\n",
       "      <td>3</td>\n",
       "      <td>1</td>\n",
       "      <td>3</td>\n",
       "      <td>Heikkinen, Miss. Laina</td>\n",
       "      <td>female</td>\n",
       "      <td>26.0</td>\n",
       "      <td>0</td>\n",
       "      <td>0</td>\n",
       "      <td>STON/O2. 3101282</td>\n",
       "      <td>7.9250</td>\n",
       "      <td>NaN</td>\n",
       "      <td>S</td>\n",
       "    </tr>\n",
       "    <tr>\n",
       "      <th>3</th>\n",
       "      <td>4</td>\n",
       "      <td>1</td>\n",
       "      <td>1</td>\n",
       "      <td>Futrelle, Mrs. Jacques Heath (Lily May Peel)</td>\n",
       "      <td>female</td>\n",
       "      <td>35.0</td>\n",
       "      <td>1</td>\n",
       "      <td>0</td>\n",
       "      <td>113803</td>\n",
       "      <td>53.1000</td>\n",
       "      <td>C123</td>\n",
       "      <td>S</td>\n",
       "    </tr>\n",
       "    <tr>\n",
       "      <th>4</th>\n",
       "      <td>5</td>\n",
       "      <td>0</td>\n",
       "      <td>3</td>\n",
       "      <td>Allen, Mr. William Henry</td>\n",
       "      <td>male</td>\n",
       "      <td>35.0</td>\n",
       "      <td>0</td>\n",
       "      <td>0</td>\n",
       "      <td>373450</td>\n",
       "      <td>8.0500</td>\n",
       "      <td>NaN</td>\n",
       "      <td>S</td>\n",
       "    </tr>\n",
       "    <tr>\n",
       "      <th>...</th>\n",
       "      <td>...</td>\n",
       "      <td>...</td>\n",
       "      <td>...</td>\n",
       "      <td>...</td>\n",
       "      <td>...</td>\n",
       "      <td>...</td>\n",
       "      <td>...</td>\n",
       "      <td>...</td>\n",
       "      <td>...</td>\n",
       "      <td>...</td>\n",
       "      <td>...</td>\n",
       "      <td>...</td>\n",
       "    </tr>\n",
       "    <tr>\n",
       "      <th>886</th>\n",
       "      <td>887</td>\n",
       "      <td>0</td>\n",
       "      <td>2</td>\n",
       "      <td>Montvila, Rev. Juozas</td>\n",
       "      <td>male</td>\n",
       "      <td>27.0</td>\n",
       "      <td>0</td>\n",
       "      <td>0</td>\n",
       "      <td>211536</td>\n",
       "      <td>13.0000</td>\n",
       "      <td>NaN</td>\n",
       "      <td>S</td>\n",
       "    </tr>\n",
       "    <tr>\n",
       "      <th>887</th>\n",
       "      <td>888</td>\n",
       "      <td>1</td>\n",
       "      <td>1</td>\n",
       "      <td>Graham, Miss. Margaret Edith</td>\n",
       "      <td>female</td>\n",
       "      <td>19.0</td>\n",
       "      <td>0</td>\n",
       "      <td>0</td>\n",
       "      <td>112053</td>\n",
       "      <td>30.0000</td>\n",
       "      <td>B42</td>\n",
       "      <td>S</td>\n",
       "    </tr>\n",
       "    <tr>\n",
       "      <th>888</th>\n",
       "      <td>889</td>\n",
       "      <td>0</td>\n",
       "      <td>3</td>\n",
       "      <td>Johnston, Miss. Catherine Helen \"Carrie\"</td>\n",
       "      <td>female</td>\n",
       "      <td>NaN</td>\n",
       "      <td>1</td>\n",
       "      <td>2</td>\n",
       "      <td>W./C. 6607</td>\n",
       "      <td>23.4500</td>\n",
       "      <td>NaN</td>\n",
       "      <td>S</td>\n",
       "    </tr>\n",
       "    <tr>\n",
       "      <th>889</th>\n",
       "      <td>890</td>\n",
       "      <td>1</td>\n",
       "      <td>1</td>\n",
       "      <td>Behr, Mr. Karl Howell</td>\n",
       "      <td>male</td>\n",
       "      <td>26.0</td>\n",
       "      <td>0</td>\n",
       "      <td>0</td>\n",
       "      <td>111369</td>\n",
       "      <td>30.0000</td>\n",
       "      <td>C148</td>\n",
       "      <td>C</td>\n",
       "    </tr>\n",
       "    <tr>\n",
       "      <th>890</th>\n",
       "      <td>891</td>\n",
       "      <td>0</td>\n",
       "      <td>3</td>\n",
       "      <td>Dooley, Mr. Patrick</td>\n",
       "      <td>male</td>\n",
       "      <td>32.0</td>\n",
       "      <td>0</td>\n",
       "      <td>0</td>\n",
       "      <td>370376</td>\n",
       "      <td>7.7500</td>\n",
       "      <td>NaN</td>\n",
       "      <td>Q</td>\n",
       "    </tr>\n",
       "  </tbody>\n",
       "</table>\n",
       "<p>891 rows × 12 columns</p>\n",
       "</div>"
      ],
      "text/plain": [
       "     PassengerId  Survived  Pclass  \\\n",
       "0              1         0       3   \n",
       "1              2         1       1   \n",
       "2              3         1       3   \n",
       "3              4         1       1   \n",
       "4              5         0       3   \n",
       "..           ...       ...     ...   \n",
       "886          887         0       2   \n",
       "887          888         1       1   \n",
       "888          889         0       3   \n",
       "889          890         1       1   \n",
       "890          891         0       3   \n",
       "\n",
       "                                                  Name     Sex   Age  SibSp  \\\n",
       "0                              Braund, Mr. Owen Harris    male  22.0      1   \n",
       "1    Cumings, Mrs. John Bradley (Florence Briggs Th...  female  38.0      1   \n",
       "2                               Heikkinen, Miss. Laina  female  26.0      0   \n",
       "3         Futrelle, Mrs. Jacques Heath (Lily May Peel)  female  35.0      1   \n",
       "4                             Allen, Mr. William Henry    male  35.0      0   \n",
       "..                                                 ...     ...   ...    ...   \n",
       "886                              Montvila, Rev. Juozas    male  27.0      0   \n",
       "887                       Graham, Miss. Margaret Edith  female  19.0      0   \n",
       "888           Johnston, Miss. Catherine Helen \"Carrie\"  female   NaN      1   \n",
       "889                              Behr, Mr. Karl Howell    male  26.0      0   \n",
       "890                                Dooley, Mr. Patrick    male  32.0      0   \n",
       "\n",
       "     Parch            Ticket     Fare Cabin Embarked  \n",
       "0        0         A/5 21171   7.2500   NaN        S  \n",
       "1        0          PC 17599  71.2833   C85        C  \n",
       "2        0  STON/O2. 3101282   7.9250   NaN        S  \n",
       "3        0            113803  53.1000  C123        S  \n",
       "4        0            373450   8.0500   NaN        S  \n",
       "..     ...               ...      ...   ...      ...  \n",
       "886      0            211536  13.0000   NaN        S  \n",
       "887      0            112053  30.0000   B42        S  \n",
       "888      2        W./C. 6607  23.4500   NaN        S  \n",
       "889      0            111369  30.0000  C148        C  \n",
       "890      0            370376   7.7500   NaN        Q  \n",
       "\n",
       "[891 rows x 12 columns]"
      ]
     },
     "execution_count": 4,
     "metadata": {},
     "output_type": "execute_result"
    }
   ],
   "source": [
    "df_raw = pd.read_csv('data/titanic.csv')\n",
    "df_raw"
   ]
  },
  {
   "cell_type": "markdown",
   "id": "fa139d84",
   "metadata": {},
   "source": [
    "### 데이터 특성 확인"
   ]
  },
  {
   "cell_type": "code",
   "execution_count": 6,
   "id": "81eeda4d",
   "metadata": {},
   "outputs": [
    {
     "data": {
      "text/plain": [
       "(891, 12)"
      ]
     },
     "execution_count": 6,
     "metadata": {},
     "output_type": "execute_result"
    }
   ],
   "source": [
    "df_raw.shape"
   ]
  },
  {
   "cell_type": "code",
   "execution_count": 7,
   "id": "51d88aef",
   "metadata": {},
   "outputs": [
    {
     "name": "stdout",
     "output_type": "stream",
     "text": [
      "<class 'pandas.core.frame.DataFrame'>\n",
      "RangeIndex: 891 entries, 0 to 890\n",
      "Data columns (total 12 columns):\n",
      " #   Column       Non-Null Count  Dtype  \n",
      "---  ------       --------------  -----  \n",
      " 0   PassengerId  891 non-null    int64  \n",
      " 1   Survived     891 non-null    int64  \n",
      " 2   Pclass       891 non-null    int64  \n",
      " 3   Name         891 non-null    object \n",
      " 4   Sex          891 non-null    object \n",
      " 5   Age          714 non-null    float64\n",
      " 6   SibSp        891 non-null    int64  \n",
      " 7   Parch        891 non-null    int64  \n",
      " 8   Ticket       891 non-null    object \n",
      " 9   Fare         891 non-null    float64\n",
      " 10  Cabin        204 non-null    object \n",
      " 11  Embarked     889 non-null    object \n",
      "dtypes: float64(2), int64(5), object(5)\n",
      "memory usage: 83.7+ KB\n"
     ]
    }
   ],
   "source": [
    "df_raw.info()"
   ]
  },
  {
   "cell_type": "code",
   "execution_count": 10,
   "id": "abbbfddf",
   "metadata": {},
   "outputs": [
    {
     "data": {
      "text/html": [
       "<div>\n",
       "<style scoped>\n",
       "    .dataframe tbody tr th:only-of-type {\n",
       "        vertical-align: middle;\n",
       "    }\n",
       "\n",
       "    .dataframe tbody tr th {\n",
       "        vertical-align: top;\n",
       "    }\n",
       "\n",
       "    .dataframe thead th {\n",
       "        text-align: right;\n",
       "    }\n",
       "</style>\n",
       "<table border=\"1\" class=\"dataframe\">\n",
       "  <thead>\n",
       "    <tr style=\"text-align: right;\">\n",
       "      <th></th>\n",
       "      <th>PassengerId</th>\n",
       "      <th>Survived</th>\n",
       "      <th>Pclass</th>\n",
       "      <th>Age</th>\n",
       "      <th>SibSp</th>\n",
       "      <th>Parch</th>\n",
       "      <th>Fare</th>\n",
       "    </tr>\n",
       "  </thead>\n",
       "  <tbody>\n",
       "    <tr>\n",
       "      <th>count</th>\n",
       "      <td>891.000000</td>\n",
       "      <td>891.000000</td>\n",
       "      <td>891.000000</td>\n",
       "      <td>714.000000</td>\n",
       "      <td>891.000000</td>\n",
       "      <td>891.000000</td>\n",
       "      <td>891.000000</td>\n",
       "    </tr>\n",
       "    <tr>\n",
       "      <th>mean</th>\n",
       "      <td>446.000000</td>\n",
       "      <td>0.383838</td>\n",
       "      <td>2.308642</td>\n",
       "      <td>29.699118</td>\n",
       "      <td>0.523008</td>\n",
       "      <td>0.381594</td>\n",
       "      <td>32.204208</td>\n",
       "    </tr>\n",
       "    <tr>\n",
       "      <th>std</th>\n",
       "      <td>257.353842</td>\n",
       "      <td>0.486592</td>\n",
       "      <td>0.836071</td>\n",
       "      <td>14.526497</td>\n",
       "      <td>1.102743</td>\n",
       "      <td>0.806057</td>\n",
       "      <td>49.693429</td>\n",
       "    </tr>\n",
       "    <tr>\n",
       "      <th>min</th>\n",
       "      <td>1.000000</td>\n",
       "      <td>0.000000</td>\n",
       "      <td>1.000000</td>\n",
       "      <td>0.420000</td>\n",
       "      <td>0.000000</td>\n",
       "      <td>0.000000</td>\n",
       "      <td>0.000000</td>\n",
       "    </tr>\n",
       "    <tr>\n",
       "      <th>25%</th>\n",
       "      <td>223.500000</td>\n",
       "      <td>0.000000</td>\n",
       "      <td>2.000000</td>\n",
       "      <td>20.125000</td>\n",
       "      <td>0.000000</td>\n",
       "      <td>0.000000</td>\n",
       "      <td>7.910400</td>\n",
       "    </tr>\n",
       "    <tr>\n",
       "      <th>50%</th>\n",
       "      <td>446.000000</td>\n",
       "      <td>0.000000</td>\n",
       "      <td>3.000000</td>\n",
       "      <td>28.000000</td>\n",
       "      <td>0.000000</td>\n",
       "      <td>0.000000</td>\n",
       "      <td>14.454200</td>\n",
       "    </tr>\n",
       "    <tr>\n",
       "      <th>75%</th>\n",
       "      <td>668.500000</td>\n",
       "      <td>1.000000</td>\n",
       "      <td>3.000000</td>\n",
       "      <td>38.000000</td>\n",
       "      <td>1.000000</td>\n",
       "      <td>0.000000</td>\n",
       "      <td>31.000000</td>\n",
       "    </tr>\n",
       "    <tr>\n",
       "      <th>max</th>\n",
       "      <td>891.000000</td>\n",
       "      <td>1.000000</td>\n",
       "      <td>3.000000</td>\n",
       "      <td>80.000000</td>\n",
       "      <td>8.000000</td>\n",
       "      <td>6.000000</td>\n",
       "      <td>512.329200</td>\n",
       "    </tr>\n",
       "  </tbody>\n",
       "</table>\n",
       "</div>"
      ],
      "text/plain": [
       "       PassengerId    Survived      Pclass         Age       SibSp  \\\n",
       "count   891.000000  891.000000  891.000000  714.000000  891.000000   \n",
       "mean    446.000000    0.383838    2.308642   29.699118    0.523008   \n",
       "std     257.353842    0.486592    0.836071   14.526497    1.102743   \n",
       "min       1.000000    0.000000    1.000000    0.420000    0.000000   \n",
       "25%     223.500000    0.000000    2.000000   20.125000    0.000000   \n",
       "50%     446.000000    0.000000    3.000000   28.000000    0.000000   \n",
       "75%     668.500000    1.000000    3.000000   38.000000    1.000000   \n",
       "max     891.000000    1.000000    3.000000   80.000000    8.000000   \n",
       "\n",
       "            Parch        Fare  \n",
       "count  891.000000  891.000000  \n",
       "mean     0.381594   32.204208  \n",
       "std      0.806057   49.693429  \n",
       "min      0.000000    0.000000  \n",
       "25%      0.000000    7.910400  \n",
       "50%      0.000000   14.454200  \n",
       "75%      0.000000   31.000000  \n",
       "max      6.000000  512.329200  "
      ]
     },
     "execution_count": 10,
     "metadata": {},
     "output_type": "execute_result"
    }
   ],
   "source": [
    "df_raw.describe()"
   ]
  },
  {
   "cell_type": "code",
   "execution_count": 9,
   "id": "0a080b38",
   "metadata": {},
   "outputs": [
    {
     "data": {
      "text/html": [
       "<div>\n",
       "<style scoped>\n",
       "    .dataframe tbody tr th:only-of-type {\n",
       "        vertical-align: middle;\n",
       "    }\n",
       "\n",
       "    .dataframe tbody tr th {\n",
       "        vertical-align: top;\n",
       "    }\n",
       "\n",
       "    .dataframe thead th {\n",
       "        text-align: right;\n",
       "    }\n",
       "</style>\n",
       "<table border=\"1\" class=\"dataframe\">\n",
       "  <thead>\n",
       "    <tr style=\"text-align: right;\">\n",
       "      <th></th>\n",
       "      <th>Name</th>\n",
       "      <th>Sex</th>\n",
       "      <th>Ticket</th>\n",
       "      <th>Cabin</th>\n",
       "      <th>Embarked</th>\n",
       "    </tr>\n",
       "  </thead>\n",
       "  <tbody>\n",
       "    <tr>\n",
       "      <th>count</th>\n",
       "      <td>891</td>\n",
       "      <td>891</td>\n",
       "      <td>891</td>\n",
       "      <td>204</td>\n",
       "      <td>889</td>\n",
       "    </tr>\n",
       "    <tr>\n",
       "      <th>unique</th>\n",
       "      <td>891</td>\n",
       "      <td>2</td>\n",
       "      <td>681</td>\n",
       "      <td>147</td>\n",
       "      <td>3</td>\n",
       "    </tr>\n",
       "    <tr>\n",
       "      <th>top</th>\n",
       "      <td>Braund, Mr. Owen Harris</td>\n",
       "      <td>male</td>\n",
       "      <td>347082</td>\n",
       "      <td>B96 B98</td>\n",
       "      <td>S</td>\n",
       "    </tr>\n",
       "    <tr>\n",
       "      <th>freq</th>\n",
       "      <td>1</td>\n",
       "      <td>577</td>\n",
       "      <td>7</td>\n",
       "      <td>4</td>\n",
       "      <td>644</td>\n",
       "    </tr>\n",
       "  </tbody>\n",
       "</table>\n",
       "</div>"
      ],
      "text/plain": [
       "                           Name   Sex  Ticket    Cabin Embarked\n",
       "count                       891   891     891      204      889\n",
       "unique                      891     2     681      147        3\n",
       "top     Braund, Mr. Owen Harris  male  347082  B96 B98        S\n",
       "freq                          1   577       7        4      644"
      ]
     },
     "execution_count": 9,
     "metadata": {},
     "output_type": "execute_result"
    }
   ],
   "source": [
    "df_raw.describe(include=[object])"
   ]
  },
  {
   "cell_type": "code",
   "execution_count": 11,
   "id": "81cad6c0",
   "metadata": {},
   "outputs": [
    {
     "data": {
      "text/plain": [
       "PassengerId      0\n",
       "Survived         0\n",
       "Pclass           0\n",
       "Name             0\n",
       "Sex              0\n",
       "Age            177\n",
       "SibSp            0\n",
       "Parch            0\n",
       "Ticket           0\n",
       "Fare             0\n",
       "Cabin          687\n",
       "Embarked         2\n",
       "dtype: int64"
      ]
     },
     "execution_count": 11,
     "metadata": {},
     "output_type": "execute_result"
    }
   ],
   "source": [
    "df_raw.isnull().sum()"
   ]
  },
  {
   "cell_type": "markdown",
   "id": "b76fb0b5",
   "metadata": {},
   "source": [
    "###### 연속형 변수 특성 및 이상치 확인"
   ]
  },
  {
   "cell_type": "code",
   "execution_count": 31,
   "id": "f4702fe6",
   "metadata": {},
   "outputs": [
    {
     "data": {
      "text/plain": [
       "<AxesSubplot:>"
      ]
     },
     "execution_count": 31,
     "metadata": {},
     "output_type": "execute_result"
    },
    {
     "data": {
      "image/png": "[encoded data removed]",
      "text/plain": [
       "<Figure size 720x432 with 1 Axes>"
      ]
     },
     "metadata": {
      "needs_background": "light"
     },
     "output_type": "display_data"
    }
   ],
   "source": [
    "df_raw[['Pclass', 'Age', 'SibSp', 'Parch', 'Fare']].boxplot(figsize=(10, 6))"
   ]
  },
  {
   "cell_type": "markdown",
   "id": "4c79fa41",
   "metadata": {},
   "source": [
    "###### 범주형 변수의 특성 확인"
   ]
  },
  {
   "cell_type": "code",
   "execution_count": 28,
   "id": "72b24022",
   "metadata": {},
   "outputs": [
    {
     "data": {
      "text/plain": [
       "<AxesSubplot:ylabel='Sex'>"
      ]
     },
     "execution_count": 28,
     "metadata": {},
     "output_type": "execute_result"
    },
    {
     "data": {
      "image/png": "[encoded data removed]",
      "text/plain": [
       "<Figure size 432x288 with 1 Axes>"
      ]
     },
     "metadata": {},
     "output_type": "display_data"
    }
   ],
   "source": [
    "df_raw['Sex'].value_counts().plot.pie(y = 'Sex', autopct = '%.1f%%')"
   ]
  },
  {
   "cell_type": "code",
   "execution_count": 32,
   "id": "127a9c71",
   "metadata": {},
   "outputs": [
    {
     "data": {
      "text/plain": [
       "<AxesSubplot:ylabel='Embarked'>"
      ]
     },
     "execution_count": 32,
     "metadata": {},
     "output_type": "execute_result"
    },
    {
     "data": {
      "image/png": "[encoded data removed]",
      "text/plain": [
       "<Figure size 432x288 with 1 Axes>"
      ]
     },
     "metadata": {},
     "output_type": "display_data"
    }
   ],
   "source": [
    "df_raw['Embarked'].value_counts().plot.pie(y = 'Sex', autopct = '%.1f%%')"
   ]
  },
  {
   "cell_type": "markdown",
   "id": "aad53569",
   "metadata": {},
   "source": [
    "### 결측치 처리"
   ]
  },
  {
   "cell_type": "markdown",
   "id": "e200bb82",
   "metadata": {},
   "source": [
    "###### 탑승지"
   ]
  },
  {
   "cell_type": "code",
   "execution_count": 34,
   "id": "381c45eb",
   "metadata": {},
   "outputs": [
    {
     "data": {
      "text/plain": [
       "2"
      ]
     },
     "execution_count": 34,
     "metadata": {},
     "output_type": "execute_result"
    }
   ],
   "source": [
    "df_raw['Embarked'].isnull().sum()"
   ]
  },
  {
   "cell_type": "markdown",
   "id": "ec451cd9",
   "metadata": {},
   "source": [
    "- 최빈값으로 대체하기로 결정"
   ]
  },
  {
   "cell_type": "code",
   "execution_count": 35,
   "id": "ed713569",
   "metadata": {},
   "outputs": [
    {
     "data": {
      "text/plain": [
       "S    644\n",
       "C    168\n",
       "Q     77\n",
       "Name: Embarked, dtype: int64"
      ]
     },
     "execution_count": 35,
     "metadata": {},
     "output_type": "execute_result"
    }
   ],
   "source": [
    "df_raw['Embarked'].value_counts()"
   ]
  },
  {
   "cell_type": "code",
   "execution_count": 36,
   "id": "6077d5ab",
   "metadata": {},
   "outputs": [],
   "source": [
    "df_raw['Embarked'].fillna('S', inplace=True)"
   ]
  },
  {
   "cell_type": "markdown",
   "id": "3f3023bf",
   "metadata": {},
   "source": [
    "###### 나이\n",
    "- 평균으로 대체하기로 결정"
   ]
  },
  {
   "cell_type": "code",
   "execution_count": 38,
   "id": "715875d7",
   "metadata": {},
   "outputs": [],
   "source": [
    "df_raw['Age'].fillna(df_raw['Age'].mean(), inplace = True)"
   ]
  },
  {
   "cell_type": "markdown",
   "id": "71b5ef13",
   "metadata": {},
   "source": [
    "- 소수점 반올림"
   ]
  },
  {
   "cell_type": "code",
   "execution_count": 39,
   "id": "7bf9ceb0",
   "metadata": {},
   "outputs": [],
   "source": [
    "df_raw['Age'] = df_raw['Age'].astype(int)"
   ]
  },
  {
   "cell_type": "markdown",
   "id": "54b50527",
   "metadata": {},
   "source": [
    "###### 객실 번호\n",
    "- Gita로 대체"
   ]
  },
  {
   "cell_type": "code",
   "execution_count": 40,
   "id": "5c681de3",
   "metadata": {},
   "outputs": [],
   "source": [
    "df_raw['Cabin'].fillna('Gita', inplace = True)"
   ]
  },
  {
   "cell_type": "code",
   "execution_count": 41,
   "id": "0daeeda5",
   "metadata": {},
   "outputs": [
    {
     "data": {
      "text/plain": [
       "PassengerId    0\n",
       "Survived       0\n",
       "Pclass         0\n",
       "Name           0\n",
       "Sex            0\n",
       "Age            0\n",
       "SibSp          0\n",
       "Parch          0\n",
       "Ticket         0\n",
       "Fare           0\n",
       "Cabin          0\n",
       "Embarked       0\n",
       "dtype: int64"
      ]
     },
     "execution_count": 41,
     "metadata": {},
     "output_type": "execute_result"
    }
   ],
   "source": [
    "df_raw.isnull().sum()"
   ]
  },
  {
   "cell_type": "markdown",
   "id": "66e5e4dc",
   "metadata": {},
   "source": [
    "### 파생변수 생성"
   ]
  },
  {
   "cell_type": "markdown",
   "id": "0f3b9f08",
   "metadata": {},
   "source": [
    "- Cabin 앞자리만 추출"
   ]
  },
  {
   "cell_type": "code",
   "execution_count": 45,
   "id": "4b48f63d",
   "metadata": {},
   "outputs": [],
   "source": [
    "df_raw['Cabin_gb'] = df_raw['Cabin'].str.get(0)"
   ]
  },
  {
   "cell_type": "markdown",
   "id": "aff07bfb",
   "metadata": {},
   "source": [
    "- 나이를 기준으로 파생변수 생성"
   ]
  },
  {
   "cell_type": "code",
   "execution_count": 57,
   "id": "061a45f8",
   "metadata": {},
   "outputs": [],
   "source": [
    "df_raw.loc[df_raw['Age'] <= 14, 'Age_gb'] = 'Child'\n",
    "df_raw.loc[(df_raw['Age'] > 14) & (df_raw['Age'] <= 28), 'Age_gb'] = \"Young\"\n",
    "df_raw.loc[(df_raw['Age'] > 28) & (df_raw['Age'] <= 42), 'Age_gb'] = \"Middle\"\n",
    "df_raw.loc[(df_raw['Age'] > 42) & (df_raw['Age'] <= 56), 'Age_gb'] = \"Prime\"\n",
    "df_raw.loc[df_raw['Age'] > 56, 'Age_gb'] = 'OLD'"
   ]
  },
  {
   "cell_type": "markdown",
   "id": "6e9132a8",
   "metadata": {},
   "source": [
    "- 요금을 구간화"
   ]
  },
  {
   "cell_type": "code",
   "execution_count": 59,
   "id": "b91e5874",
   "metadata": {},
   "outputs": [],
   "source": [
    "df_raw.loc[df_raw['Fare'] <= 50, 'Fare_gb'] = 0\n",
    "df_raw.loc[(df_raw['Fare'] > 50) & (df_raw['Fare'] <= 100), 'Fare_gb'] = 1\n",
    "df_raw.loc[(df_raw['Fare'] > 100) & (df_raw['Fare'] <= 150), 'Fare_gb'] = 2\n",
    "df_raw.loc[(df_raw['Fare'] > 150) & (df_raw['Fare'] <= 200), 'Fare_gb'] = 3\n",
    "df_raw.loc[df_raw['Fare'] > 200, 'Fare_gb'] = 4"
   ]
  },
  {
   "cell_type": "markdown",
   "id": "a020d71d",
   "metadata": {},
   "source": [
    "- 가족수 계산"
   ]
  },
  {
   "cell_type": "code",
   "execution_count": 60,
   "id": "92943236",
   "metadata": {},
   "outputs": [],
   "source": [
    "df_raw['Family'] = df_raw['Parch'] + df_raw['SibSp']"
   ]
  },
  {
   "cell_type": "code",
   "execution_count": 61,
   "id": "b481c1a9",
   "metadata": {},
   "outputs": [
    {
     "data": {
      "text/html": [
       "<div>\n",
       "<style scoped>\n",
       "    .dataframe tbody tr th:only-of-type {\n",
       "        vertical-align: middle;\n",
       "    }\n",
       "\n",
       "    .dataframe tbody tr th {\n",
       "        vertical-align: top;\n",
       "    }\n",
       "\n",
       "    .dataframe thead th {\n",
       "        text-align: right;\n",
       "    }\n",
       "</style>\n",
       "<table border=\"1\" class=\"dataframe\">\n",
       "  <thead>\n",
       "    <tr style=\"text-align: right;\">\n",
       "      <th></th>\n",
       "      <th>PassengerId</th>\n",
       "      <th>Survived</th>\n",
       "      <th>Pclass</th>\n",
       "      <th>Name</th>\n",
       "      <th>Sex</th>\n",
       "      <th>Age</th>\n",
       "      <th>SibSp</th>\n",
       "      <th>Parch</th>\n",
       "      <th>Ticket</th>\n",
       "      <th>Fare</th>\n",
       "      <th>Cabin</th>\n",
       "      <th>Embarked</th>\n",
       "      <th>Cabin_gb</th>\n",
       "      <th>Age_gb</th>\n",
       "      <th>Fare_gb</th>\n",
       "      <th>Family</th>\n",
       "    </tr>\n",
       "  </thead>\n",
       "  <tbody>\n",
       "    <tr>\n",
       "      <th>0</th>\n",
       "      <td>1</td>\n",
       "      <td>0</td>\n",
       "      <td>3</td>\n",
       "      <td>Braund, Mr. Owen Harris</td>\n",
       "      <td>male</td>\n",
       "      <td>22</td>\n",
       "      <td>1</td>\n",
       "      <td>0</td>\n",
       "      <td>A/5 21171</td>\n",
       "      <td>7.2500</td>\n",
       "      <td>Gita</td>\n",
       "      <td>S</td>\n",
       "      <td>G</td>\n",
       "      <td>Young</td>\n",
       "      <td>0.0</td>\n",
       "      <td>1</td>\n",
       "    </tr>\n",
       "    <tr>\n",
       "      <th>1</th>\n",
       "      <td>2</td>\n",
       "      <td>1</td>\n",
       "      <td>1</td>\n",
       "      <td>Cumings, Mrs. John Bradley (Florence Briggs Th...</td>\n",
       "      <td>female</td>\n",
       "      <td>38</td>\n",
       "      <td>1</td>\n",
       "      <td>0</td>\n",
       "      <td>PC 17599</td>\n",
       "      <td>71.2833</td>\n",
       "      <td>C85</td>\n",
       "      <td>C</td>\n",
       "      <td>C</td>\n",
       "      <td>Middle</td>\n",
       "      <td>1.0</td>\n",
       "      <td>1</td>\n",
       "    </tr>\n",
       "    <tr>\n",
       "      <th>2</th>\n",
       "      <td>3</td>\n",
       "      <td>1</td>\n",
       "      <td>3</td>\n",
       "      <td>Heikkinen, Miss. Laina</td>\n",
       "      <td>female</td>\n",
       "      <td>26</td>\n",
       "      <td>0</td>\n",
       "      <td>0</td>\n",
       "      <td>STON/O2. 3101282</td>\n",
       "      <td>7.9250</td>\n",
       "      <td>Gita</td>\n",
       "      <td>S</td>\n",
       "      <td>G</td>\n",
       "      <td>Young</td>\n",
       "      <td>0.0</td>\n",
       "      <td>0</td>\n",
       "    </tr>\n",
       "    <tr>\n",
       "      <th>3</th>\n",
       "      <td>4</td>\n",
       "      <td>1</td>\n",
       "      <td>1</td>\n",
       "      <td>Futrelle, Mrs. Jacques Heath (Lily May Peel)</td>\n",
       "      <td>female</td>\n",
       "      <td>35</td>\n",
       "      <td>1</td>\n",
       "      <td>0</td>\n",
       "      <td>113803</td>\n",
       "      <td>53.1000</td>\n",
       "      <td>C123</td>\n",
       "      <td>S</td>\n",
       "      <td>C</td>\n",
       "      <td>Middle</td>\n",
       "      <td>1.0</td>\n",
       "      <td>1</td>\n",
       "    </tr>\n",
       "    <tr>\n",
       "      <th>4</th>\n",
       "      <td>5</td>\n",
       "      <td>0</td>\n",
       "      <td>3</td>\n",
       "      <td>Allen, Mr. William Henry</td>\n",
       "      <td>male</td>\n",
       "      <td>35</td>\n",
       "      <td>0</td>\n",
       "      <td>0</td>\n",
       "      <td>373450</td>\n",
       "      <td>8.0500</td>\n",
       "      <td>Gita</td>\n",
       "      <td>S</td>\n",
       "      <td>G</td>\n",
       "      <td>Middle</td>\n",
       "      <td>0.0</td>\n",
       "      <td>0</td>\n",
       "    </tr>\n",
       "  </tbody>\n",
       "</table>\n",
       "</div>"
      ],
      "text/plain": [
       "   PassengerId  Survived  Pclass  \\\n",
       "0            1         0       3   \n",
       "1            2         1       1   \n",
       "2            3         1       3   \n",
       "3            4         1       1   \n",
       "4            5         0       3   \n",
       "\n",
       "                                                Name     Sex  Age  SibSp  \\\n",
       "0                            Braund, Mr. Owen Harris    male   22      1   \n",
       "1  Cumings, Mrs. John Bradley (Florence Briggs Th...  female   38      1   \n",
       "2                             Heikkinen, Miss. Laina  female   26      0   \n",
       "3       Futrelle, Mrs. Jacques Heath (Lily May Peel)  female   35      1   \n",
       "4                           Allen, Mr. William Henry    male   35      0   \n",
       "\n",
       "   Parch            Ticket     Fare Cabin Embarked Cabin_gb  Age_gb  Fare_gb  \\\n",
       "0      0         A/5 21171   7.2500  Gita        S        G   Young      0.0   \n",
       "1      0          PC 17599  71.2833   C85        C        C  Middle      1.0   \n",
       "2      0  STON/O2. 3101282   7.9250  Gita        S        G   Young      0.0   \n",
       "3      0            113803  53.1000  C123        S        C  Middle      1.0   \n",
       "4      0            373450   8.0500  Gita        S        G  Middle      0.0   \n",
       "\n",
       "   Family  \n",
       "0       1  \n",
       "1       1  \n",
       "2       0  \n",
       "3       1  \n",
       "4       0  "
      ]
     },
     "execution_count": 61,
     "metadata": {},
     "output_type": "execute_result"
    }
   ],
   "source": [
    "df_raw.head()"
   ]
  },
  {
   "cell_type": "markdown",
   "id": "5ad640f4",
   "metadata": {},
   "source": [
    "# 3. 탐색적 분석"
   ]
  },
  {
   "cell_type": "markdown",
   "id": "f53c5ed5",
   "metadata": {},
   "source": [
    "### 범주형 vs 연속형"
   ]
  },
  {
   "cell_type": "markdown",
   "id": "1cbafad2",
   "metadata": {},
   "source": [
    "###### 연령, 가족 수, 요금에 따른 생존여부 확인\n"
   ]
  },
  {
   "cell_type": "code",
   "execution_count": 66,
   "id": "6cfd98e3",
   "metadata": {},
   "outputs": [
    {
     "data": {
      "text/plain": [
       "<AxesSubplot:title={'center':'Age'}, xlabel='Survived'>"
      ]
     },
     "execution_count": 66,
     "metadata": {},
     "output_type": "execute_result"
    },
    {
     "data": {
      "image/png": "[encoded data removed]",
      "text/plain": [
       "<Figure size 432x288 with 1 Axes>"
      ]
     },
     "metadata": {
      "needs_background": "light"
     },
     "output_type": "display_data"
    }
   ],
   "source": [
    "df_raw.boxplot(column=['Age'], by = 'Survived')"
   ]
  },
  {
   "cell_type": "code",
   "execution_count": 65,
   "id": "f70115d5",
   "metadata": {},
   "outputs": [
    {
     "data": {
      "text/plain": [
       "<AxesSubplot:title={'center':'Family'}, xlabel='Survived'>"
      ]
     },
     "execution_count": 65,
     "metadata": {},
     "output_type": "execute_result"
    },
    {
     "data": {
      "image/png": "[encoded data removed]",
      "text/plain": [
       "<Figure size 432x288 with 1 Axes>"
      ]
     },
     "metadata": {
      "needs_background": "light"
     },
     "output_type": "display_data"
    }
   ],
   "source": [
    "df_raw.boxplot(column=['Family'], by = 'Survived')"
   ]
  },
  {
   "cell_type": "code",
   "execution_count": 67,
   "id": "d975f42e",
   "metadata": {},
   "outputs": [
    {
     "data": {
      "text/plain": [
       "<AxesSubplot:title={'center':'Fare'}, xlabel='Survived'>"
      ]
     },
     "execution_count": 67,
     "metadata": {},
     "output_type": "execute_result"
    },
    {
     "data": {
      "image/png": "[encoded data removed]",
      "text/plain": [
       "<Figure size 432x288 with 1 Axes>"
      ]
     },
     "metadata": {
      "needs_background": "light"
     },
     "output_type": "display_data"
    }
   ],
   "source": [
    "df_raw.boxplot(column=['Fare'], by = 'Survived')"
   ]
  },
  {
   "cell_type": "markdown",
   "id": "0965a3d6",
   "metadata": {},
   "source": [
    "### 범주형 vs 범주형 "
   ]
  },
  {
   "cell_type": "markdown",
   "id": "67427d27",
   "metadata": {},
   "source": [
    "###### 성별, 선실구분, 탑승지에 따른 생존여부 확인"
   ]
  },
  {
   "cell_type": "markdown",
   "id": "7e3d441a",
   "metadata": {},
   "source": [
    "- 성별"
   ]
  },
  {
   "cell_type": "code",
   "execution_count": 69,
   "id": "0947a36a",
   "metadata": {},
   "outputs": [
    {
     "data": {
      "text/html": [
       "<div>\n",
       "<style scoped>\n",
       "    .dataframe tbody tr th:only-of-type {\n",
       "        vertical-align: middle;\n",
       "    }\n",
       "\n",
       "    .dataframe tbody tr th {\n",
       "        vertical-align: top;\n",
       "    }\n",
       "\n",
       "    .dataframe thead th {\n",
       "        text-align: right;\n",
       "    }\n",
       "</style>\n",
       "<table border=\"1\" class=\"dataframe\">\n",
       "  <thead>\n",
       "    <tr style=\"text-align: right;\">\n",
       "      <th>Sex</th>\n",
       "      <th>female</th>\n",
       "      <th>male</th>\n",
       "    </tr>\n",
       "    <tr>\n",
       "      <th>Survived</th>\n",
       "      <th></th>\n",
       "      <th></th>\n",
       "    </tr>\n",
       "  </thead>\n",
       "  <tbody>\n",
       "    <tr>\n",
       "      <th>0</th>\n",
       "      <td>81</td>\n",
       "      <td>468</td>\n",
       "    </tr>\n",
       "    <tr>\n",
       "      <th>1</th>\n",
       "      <td>233</td>\n",
       "      <td>109</td>\n",
       "    </tr>\n",
       "  </tbody>\n",
       "</table>\n",
       "</div>"
      ],
      "text/plain": [
       "Sex       female  male\n",
       "Survived              \n",
       "0             81   468\n",
       "1            233   109"
      ]
     },
     "execution_count": 69,
     "metadata": {},
     "output_type": "execute_result"
    }
   ],
   "source": [
    "df_pivot = df_raw.pivot_table(index = 'Survived', columns = 'Sex', values = 'Age', aggfunc='count')\n",
    "# values = 'Age' 한 이유는 단순히 카운트하기위해서인가..\n",
    "df_pivot"
   ]
  },
  {
   "cell_type": "code",
   "execution_count": 70,
   "id": "40b4fdde",
   "metadata": {},
   "outputs": [
    {
     "data": {
      "text/plain": [
       "<AxesSubplot:xlabel='Sex', ylabel='Survived'>"
      ]
     },
     "execution_count": 70,
     "metadata": {},
     "output_type": "execute_result"
    },
    {
     "data": {
      "image/png": "[encoded data removed]",
      "text/plain": [
       "<Figure size 720x288 with 2 Axes>"
      ]
     },
     "metadata": {
      "needs_background": "light"
     },
     "output_type": "display_data"
    }
   ],
   "source": [
    "plt.figure(figsize=(10, 4))\n",
    "sns.heatmap(df_pivot, annot = True, cmap = 'viridis')"
   ]
  },
  {
   "cell_type": "markdown",
   "id": "137cdc9c",
   "metadata": {},
   "source": [
    "- 선실 구분"
   ]
  },
  {
   "cell_type": "code",
   "execution_count": 72,
   "id": "5b0bb1af",
   "metadata": {},
   "outputs": [
    {
     "data": {
      "text/plain": [
       "<AxesSubplot:xlabel='Cabin_gb', ylabel='Survived'>"
      ]
     },
     "execution_count": 72,
     "metadata": {},
     "output_type": "execute_result"
    },
    {
     "data": {
      "image/png": "[encoded data removed]",
      "text/plain": [
       "<Figure size 720x288 with 2 Axes>"
      ]
     },
     "metadata": {
      "needs_background": "light"
     },
     "output_type": "display_data"
    }
   ],
   "source": [
    "df_pivot = df_raw.pivot_table(index = 'Survived', columns = 'Cabin_gb', values = 'Age', aggfunc='count')\n",
    "plt.figure(figsize=(10, 4))\n",
    "sns.heatmap(df_pivot, annot = True, cmap = 'viridis')"
   ]
  },
  {
   "cell_type": "markdown",
   "id": "d301187a",
   "metadata": {},
   "source": [
    "- 탑승지"
   ]
  },
  {
   "cell_type": "code",
   "execution_count": 73,
   "id": "74742d0e",
   "metadata": {},
   "outputs": [
    {
     "data": {
      "text/plain": [
       "<AxesSubplot:xlabel='Embarked', ylabel='Survived'>"
      ]
     },
     "execution_count": 73,
     "metadata": {},
     "output_type": "execute_result"
    },
    {
     "data": {
      "image/png": "[encoded data removed]",
      "text/plain": [
       "<Figure size 720x288 with 2 Axes>"
      ]
     },
     "metadata": {
      "needs_background": "light"
     },
     "output_type": "display_data"
    }
   ],
   "source": [
    "df_pivot = df_raw.pivot_table(index = 'Survived', columns = 'Embarked', values = 'Age', aggfunc='count')\n",
    "plt.figure(figsize=(10, 4))\n",
    "sns.heatmap(df_pivot, annot = True, cmap = 'viridis')"
   ]
  },
  {
   "cell_type": "markdown",
   "id": "62b70a01",
   "metadata": {},
   "source": [
    "- 연령대"
   ]
  },
  {
   "cell_type": "code",
   "execution_count": 74,
   "id": "f258150c",
   "metadata": {},
   "outputs": [
    {
     "data": {
      "text/plain": [
       "<AxesSubplot:xlabel='Age_gb', ylabel='Survived'>"
      ]
     },
     "execution_count": 74,
     "metadata": {},
     "output_type": "execute_result"
    },
    {
     "data": {
      "image/png": "[encoded data removed]",
      "text/plain": [
       "<Figure size 720x288 with 2 Axes>"
      ]
     },
     "metadata": {
      "needs_background": "light"
     },
     "output_type": "display_data"
    }
   ],
   "source": [
    "df_pivot = df_raw.pivot_table(index = 'Survived', columns = 'Age_gb', values = 'Age', aggfunc='count')\n",
    "plt.figure(figsize=(10, 4))\n",
    "sns.heatmap(df_pivot, annot = True, cmap = 'viridis')"
   ]
  },
  {
   "cell_type": "markdown",
   "id": "3e3d19c0",
   "metadata": {},
   "source": [
    "- 요금 구간"
   ]
  },
  {
   "cell_type": "code",
   "execution_count": 77,
   "id": "b089f648",
   "metadata": {},
   "outputs": [
    {
     "data": {
      "text/plain": [
       "<AxesSubplot:xlabel='Fare_gb', ylabel='Survived'>"
      ]
     },
     "execution_count": 77,
     "metadata": {},
     "output_type": "execute_result"
    },
    {
     "data": {
      "image/png": "[encoded data removed]",
      "text/plain": [
       "<Figure size 720x288 with 2 Axes>"
      ]
     },
     "metadata": {
      "needs_background": "light"
     },
     "output_type": "display_data"
    }
   ],
   "source": [
    "df_pivot = df_raw.pivot_table(index = 'Survived', columns = 'Fare_gb', values = 'Age', aggfunc='count')\n",
    "plt.figure(figsize=(10, 4))\n",
    "sns.heatmap(df_pivot, annot = True, cmap = 'viridis')"
   ]
  },
  {
   "cell_type": "markdown",
   "id": "6d031789",
   "metadata": {},
   "source": [
    "- 승객 등급"
   ]
  },
  {
   "cell_type": "code",
   "execution_count": 78,
   "id": "ffe937f3",
   "metadata": {},
   "outputs": [
    {
     "data": {
      "text/plain": [
       "<AxesSubplot:xlabel='Pclass', ylabel='Survived'>"
      ]
     },
     "execution_count": 78,
     "metadata": {},
     "output_type": "execute_result"
    },
    {
     "data": {
      "image/png": "[encoded data removed]",
      "text/plain": [
       "<Figure size 720x288 with 2 Axes>"
      ]
     },
     "metadata": {
      "needs_background": "light"
     },
     "output_type": "display_data"
    }
   ],
   "source": [
    "df_pivot = df_raw.pivot_table(index = 'Survived', columns = 'Pclass', values = 'Age', aggfunc='count')\n",
    "plt.figure(figsize=(10, 4))\n",
    "sns.heatmap(df_pivot, annot = True, cmap = 'viridis')"
   ]
  },
  {
   "cell_type": "markdown",
   "id": "79ad12f2",
   "metadata": {},
   "source": [
    "### 통계적 가설검정"
   ]
  },
  {
   "cell_type": "markdown",
   "id": "66ccef7f",
   "metadata": {},
   "source": [
    "###### 나이에 따라 생존여부에 차이가 있는지 검정\n",
    "- H0 : 차이가 없다  \n",
    "- H1 : 차이가 있다"
   ]
  },
  {
   "cell_type": "markdown",
   "id": "a37b7816",
   "metadata": {},
   "source": [
    "1. 정규성 검정"
   ]
  },
  {
   "cell_type": "code",
   "execution_count": 81,
   "id": "446bf85f",
   "metadata": {},
   "outputs": [
    {
     "name": "stdout",
     "output_type": "stream",
     "text": [
      "Shapiro-Wilk Test: statistic = 0.9363741874694824, p-value = 1.4959260840143908e-14\n",
      "Shapiro-Wilk Test: statistic = 0.9704092741012573, p-value = 1.8811008430930087e-06\n"
     ]
    }
   ],
   "source": [
    "df_age_0 = df_raw.loc[df_raw['Survived'] == 0, 'Age']\n",
    "df_age_1 = df_raw.loc[df_raw['Survived'] == 1, 'Age']\n",
    "\n",
    "statistic, p = stats.shapiro(df_age_0)\n",
    "print('Shapiro-Wilk Test: statistic = {}, p-value = {}'.format(statistic, p))\n",
    "\n",
    "statistic, p = stats.shapiro(df_age_1)\n",
    "print('Shapiro-Wilk Test: statistic = {}, p-value = {}'.format(statistic, p))"
   ]
  },
  {
   "cell_type": "markdown",
   "id": "25f48484",
   "metadata": {},
   "source": [
    "2. 맨 휘트니U 검정 ( 둘 다 정규성을 띄지 않는 경우 사용한다)"
   ]
  },
  {
   "cell_type": "code",
   "execution_count": 82,
   "id": "1e49196c",
   "metadata": {},
   "outputs": [
    {
     "data": {
      "text/plain": [
       "MannwhitneyuResult(statistic=97982.0, pvalue=0.26945959587471746)"
      ]
     },
     "execution_count": 82,
     "metadata": {},
     "output_type": "execute_result"
    }
   ],
   "source": [
    "stats.mannwhitneyu(df_age_0, df_age_1)"
   ]
  },
  {
   "cell_type": "markdown",
   "id": "ec8443e6",
   "metadata": {},
   "source": [
    "- H0 채택, 나이에 따른 생존여부에는 차이가 없음"
   ]
  },
  {
   "cell_type": "markdown",
   "id": "f819fff1",
   "metadata": {},
   "source": [
    "###### 요금에 따라 생존여부에 차이가 있는지 검정\n",
    "- H0 : 차이가 없다  \n",
    "- H1 : 차이가 있다"
   ]
  },
  {
   "cell_type": "markdown",
   "id": "422511cf",
   "metadata": {},
   "source": [
    "1. 정규성 검정"
   ]
  },
  {
   "cell_type": "code",
   "execution_count": 83,
   "id": "8fe727f2",
   "metadata": {},
   "outputs": [
    {
     "name": "stdout",
     "output_type": "stream",
     "text": [
      "Shapiro-Wilk Test: statistic = 0.513036847114563, p-value = 3.233740189307736e-36\n",
      "Shapiro-Wilk Test: statistic = 0.5967270731925964, p-value = 1.8337420335182354e-27\n"
     ]
    }
   ],
   "source": [
    "df_fare_0 = df_raw.loc[df_raw['Survived'] == 0, 'Fare']\n",
    "df_fare_1 = df_raw.loc[df_raw['Survived'] == 1, 'Fare']\n",
    "\n",
    "statistic, p = stats.shapiro(df_fare_0)\n",
    "print('Shapiro-Wilk Test: statistic = {}, p-value = {}'.format(statistic, p))\n",
    "\n",
    "statistic, p = stats.shapiro(df_fare_1)\n",
    "print('Shapiro-Wilk Test: statistic = {}, p-value = {}'.format(statistic, p))"
   ]
  },
  {
   "cell_type": "markdown",
   "id": "ce88762c",
   "metadata": {},
   "source": [
    "2. 맨 휘트니U 검정 ( 둘 다 정규성을 띄지 않는 경우 사용한다)"
   ]
  },
  {
   "cell_type": "code",
   "execution_count": 84,
   "id": "7f80a524",
   "metadata": {},
   "outputs": [
    {
     "data": {
      "text/plain": [
       "MannwhitneyuResult(statistic=57806.5, pvalue=4.553477179250237e-22)"
      ]
     },
     "execution_count": 84,
     "metadata": {},
     "output_type": "execute_result"
    }
   ],
   "source": [
    "stats.mannwhitneyu(df_fare_0, df_fare_1)"
   ]
  },
  {
   "cell_type": "markdown",
   "id": "a73b390a",
   "metadata": {},
   "source": [
    "- H1 채택, 요금에 따른 생존여부에는 차이가 있음"
   ]
  },
  {
   "cell_type": "markdown",
   "id": "8a6fa8de",
   "metadata": {},
   "source": [
    "###### 가족 수에 따라 생존여부에 차이가 있는지 검정\n",
    "- H0 : 차이가 없다  \n",
    "- H1 : 차이가 있다"
   ]
  },
  {
   "cell_type": "markdown",
   "id": "c85c212d",
   "metadata": {},
   "source": [
    "1. 정규성 검정"
   ]
  },
  {
   "cell_type": "code",
   "execution_count": 85,
   "id": "ded1ddf8",
   "metadata": {},
   "outputs": [
    {
     "name": "stdout",
     "output_type": "stream",
     "text": [
      "Shapiro-Wilk Test: statistic = 0.5514746904373169, p-value = 3.8590348812949254e-35\n",
      "Shapiro-Wilk Test: statistic = 0.7630345821380615, p-value = 7.26207325452501e-22\n"
     ]
    }
   ],
   "source": [
    "df_fam_0 = df_raw.loc[df_raw['Survived'] == 0, 'Family']\n",
    "df_fam_1 = df_raw.loc[df_raw['Survived'] == 1, 'Family']\n",
    "\n",
    "statistic, p = stats.shapiro(df_fam_0)\n",
    "print('Shapiro-Wilk Test: statistic = {}, p-value = {}'.format(statistic, p))\n",
    "\n",
    "statistic, p = stats.shapiro(df_fam_1)\n",
    "print('Shapiro-Wilk Test: statistic = {}, p-value = {}'.format(statistic, p))"
   ]
  },
  {
   "cell_type": "markdown",
   "id": "a3f4f38a",
   "metadata": {},
   "source": [
    "2. 맨 휘트니U 검정 ( 둘 다 정규성을 띄지 않는 경우 사용한다)"
   ]
  },
  {
   "cell_type": "code",
   "execution_count": 87,
   "id": "1f64d58f",
   "metadata": {},
   "outputs": [
    {
     "data": {
      "text/plain": [
       "MannwhitneyuResult(statistic=77659.0, pvalue=7.970801270915872e-07)"
      ]
     },
     "execution_count": 87,
     "metadata": {},
     "output_type": "execute_result"
    }
   ],
   "source": [
    "stats.mannwhitneyu(df_fam_0, df_fam_1)"
   ]
  },
  {
   "cell_type": "markdown",
   "id": "0d84a6cd",
   "metadata": {},
   "source": [
    "- H1 채택, 가족 수에 따른 생존여부에는 차이가 있음"
   ]
  },
  {
   "cell_type": "markdown",
   "id": "1afc3915",
   "metadata": {},
   "source": [
    "###### 성별에 따라 생존여부에 차이가 있는지 검정\n",
    "- H0 : 차이가 없다  \n",
    "- H1 : 차이가 있다"
   ]
  },
  {
   "cell_type": "markdown",
   "id": "bb40556a",
   "metadata": {},
   "source": [
    "1. Chi square 검정"
   ]
  },
  {
   "cell_type": "code",
   "execution_count": 88,
   "id": "e02c2d06",
   "metadata": {},
   "outputs": [
    {
     "data": {
      "text/html": [
       "<div>\n",
       "<style scoped>\n",
       "    .dataframe tbody tr th:only-of-type {\n",
       "        vertical-align: middle;\n",
       "    }\n",
       "\n",
       "    .dataframe tbody tr th {\n",
       "        vertical-align: top;\n",
       "    }\n",
       "\n",
       "    .dataframe thead th {\n",
       "        text-align: right;\n",
       "    }\n",
       "</style>\n",
       "<table border=\"1\" class=\"dataframe\">\n",
       "  <thead>\n",
       "    <tr style=\"text-align: right;\">\n",
       "      <th>Sex</th>\n",
       "      <th>female</th>\n",
       "      <th>male</th>\n",
       "    </tr>\n",
       "    <tr>\n",
       "      <th>Survived</th>\n",
       "      <th></th>\n",
       "      <th></th>\n",
       "    </tr>\n",
       "  </thead>\n",
       "  <tbody>\n",
       "    <tr>\n",
       "      <th>0</th>\n",
       "      <td>81</td>\n",
       "      <td>468</td>\n",
       "    </tr>\n",
       "    <tr>\n",
       "      <th>1</th>\n",
       "      <td>233</td>\n",
       "      <td>109</td>\n",
       "    </tr>\n",
       "  </tbody>\n",
       "</table>\n",
       "</div>"
      ],
      "text/plain": [
       "Sex       female  male\n",
       "Survived              \n",
       "0             81   468\n",
       "1            233   109"
      ]
     },
     "execution_count": 88,
     "metadata": {},
     "output_type": "execute_result"
    }
   ],
   "source": [
    "df_pivot = df_raw.pivot_table(index = 'Survived', columns = 'Sex', values = 'Age', aggfunc='count')\n",
    "df_pivot"
   ]
  },
  {
   "cell_type": "code",
   "execution_count": 93,
   "id": "e4a4e61a",
   "metadata": {},
   "outputs": [
    {
     "name": "stdout",
     "output_type": "stream",
     "text": [
      "P-value = 1.1973570627755645e-58\n"
     ]
    }
   ],
   "source": [
    "chi, pval, dof, expected = stats.chi2_contingency(df_pivot)\n",
    "print('P-value =', pval)"
   ]
  },
  {
   "cell_type": "markdown",
   "id": "ea0b9864",
   "metadata": {},
   "source": [
    "- H1 채택, 성별에 따른 생존여부에는 차이가 있음"
   ]
  },
  {
   "cell_type": "markdown",
   "id": "842babaf",
   "metadata": {},
   "source": [
    "###### 탑승지에 따라 생존여부에 차이가 있는지 검정\n",
    "- H0 : 차이가 없다  \n",
    "- H1 : 차이가 있다"
   ]
  },
  {
   "cell_type": "markdown",
   "id": "aa6c7adf",
   "metadata": {},
   "source": [
    "1. Chi square 검정"
   ]
  },
  {
   "cell_type": "code",
   "execution_count": 95,
   "id": "d14a167f",
   "metadata": {},
   "outputs": [
    {
     "data": {
      "text/html": [
       "<div>\n",
       "<style scoped>\n",
       "    .dataframe tbody tr th:only-of-type {\n",
       "        vertical-align: middle;\n",
       "    }\n",
       "\n",
       "    .dataframe tbody tr th {\n",
       "        vertical-align: top;\n",
       "    }\n",
       "\n",
       "    .dataframe thead th {\n",
       "        text-align: right;\n",
       "    }\n",
       "</style>\n",
       "<table border=\"1\" class=\"dataframe\">\n",
       "  <thead>\n",
       "    <tr style=\"text-align: right;\">\n",
       "      <th>Embarked</th>\n",
       "      <th>C</th>\n",
       "      <th>Q</th>\n",
       "      <th>S</th>\n",
       "    </tr>\n",
       "    <tr>\n",
       "      <th>Survived</th>\n",
       "      <th></th>\n",
       "      <th></th>\n",
       "      <th></th>\n",
       "    </tr>\n",
       "  </thead>\n",
       "  <tbody>\n",
       "    <tr>\n",
       "      <th>0</th>\n",
       "      <td>75</td>\n",
       "      <td>47</td>\n",
       "      <td>427</td>\n",
       "    </tr>\n",
       "    <tr>\n",
       "      <th>1</th>\n",
       "      <td>93</td>\n",
       "      <td>30</td>\n",
       "      <td>219</td>\n",
       "    </tr>\n",
       "  </tbody>\n",
       "</table>\n",
       "</div>"
      ],
      "text/plain": [
       "Embarked   C   Q    S\n",
       "Survived             \n",
       "0         75  47  427\n",
       "1         93  30  219"
      ]
     },
     "execution_count": 95,
     "metadata": {},
     "output_type": "execute_result"
    }
   ],
   "source": [
    "df_pivot = df_raw.pivot_table(index = 'Survived', columns = 'Embarked', values = 'Age', aggfunc='count')\n",
    "df_pivot"
   ]
  },
  {
   "cell_type": "code",
   "execution_count": 96,
   "id": "be22ca4c",
   "metadata": {},
   "outputs": [
    {
     "name": "stdout",
     "output_type": "stream",
     "text": [
      "P-value = 2.3008626481449577e-06\n"
     ]
    }
   ],
   "source": [
    "chi, pval, dof, expected = stats.chi2_contingency(df_pivot)\n",
    "print('P-value =', pval)"
   ]
  },
  {
   "cell_type": "markdown",
   "id": "354bcfa0",
   "metadata": {},
   "source": [
    "- H1 채택, 탑승지에 따른 생존여부에는 차이가 있음"
   ]
  },
  {
   "cell_type": "markdown",
   "id": "4260fc2e",
   "metadata": {},
   "source": [
    "###### 좌석 등급에 따라 생존여부에 차이가 있는지 검정\n",
    "- H0 : 차이가 없다  \n",
    "- H1 : 차이가 있다"
   ]
  },
  {
   "cell_type": "markdown",
   "id": "b999d489",
   "metadata": {},
   "source": [
    "1. Chi square 검정"
   ]
  },
  {
   "cell_type": "code",
   "execution_count": 97,
   "id": "bd1e8e01",
   "metadata": {},
   "outputs": [
    {
     "data": {
      "text/html": [
       "<div>\n",
       "<style scoped>\n",
       "    .dataframe tbody tr th:only-of-type {\n",
       "        vertical-align: middle;\n",
       "    }\n",
       "\n",
       "    .dataframe tbody tr th {\n",
       "        vertical-align: top;\n",
       "    }\n",
       "\n",
       "    .dataframe thead th {\n",
       "        text-align: right;\n",
       "    }\n",
       "</style>\n",
       "<table border=\"1\" class=\"dataframe\">\n",
       "  <thead>\n",
       "    <tr style=\"text-align: right;\">\n",
       "      <th>Pclass</th>\n",
       "      <th>1</th>\n",
       "      <th>2</th>\n",
       "      <th>3</th>\n",
       "    </tr>\n",
       "    <tr>\n",
       "      <th>Survived</th>\n",
       "      <th></th>\n",
       "      <th></th>\n",
       "      <th></th>\n",
       "    </tr>\n",
       "  </thead>\n",
       "  <tbody>\n",
       "    <tr>\n",
       "      <th>0</th>\n",
       "      <td>80</td>\n",
       "      <td>97</td>\n",
       "      <td>372</td>\n",
       "    </tr>\n",
       "    <tr>\n",
       "      <th>1</th>\n",
       "      <td>136</td>\n",
       "      <td>87</td>\n",
       "      <td>119</td>\n",
       "    </tr>\n",
       "  </tbody>\n",
       "</table>\n",
       "</div>"
      ],
      "text/plain": [
       "Pclass      1   2    3\n",
       "Survived              \n",
       "0          80  97  372\n",
       "1         136  87  119"
      ]
     },
     "execution_count": 97,
     "metadata": {},
     "output_type": "execute_result"
    }
   ],
   "source": [
    "df_pivot = df_raw.pivot_table(index = 'Survived', columns = 'Pclass', values = 'Age', aggfunc='count')\n",
    "df_pivot"
   ]
  },
  {
   "cell_type": "code",
   "execution_count": 98,
   "id": "369a29b7",
   "metadata": {},
   "outputs": [
    {
     "name": "stdout",
     "output_type": "stream",
     "text": [
      "P-value = 4.549251711298793e-23\n"
     ]
    }
   ],
   "source": [
    "chi, pval, dof, expected = stats.chi2_contingency(df_pivot)\n",
    "print('P-value =', pval)"
   ]
  },
  {
   "cell_type": "markdown",
   "id": "e7a61d09",
   "metadata": {},
   "source": [
    "- H1 채택, 좌석 등급에 따른 생존여부에는 차이가 있음"
   ]
  },
  {
   "cell_type": "markdown",
   "id": "6ed1ffa9",
   "metadata": {},
   "source": [
    "###### 선실 구분에 따라 생존여부에 차이가 있는지 검정\n",
    "- H0 : 차이가 없다  \n",
    "- H1 : 차이가 있다"
   ]
  },
  {
   "cell_type": "markdown",
   "id": "50183b6d",
   "metadata": {},
   "source": [
    "1. Chi square 검정"
   ]
  },
  {
   "cell_type": "code",
   "execution_count": 101,
   "id": "c22591e6",
   "metadata": {},
   "outputs": [],
   "source": [
    "df_pivot = df_raw.pivot_table(index = 'Survived', columns = 'Cabin_gb', values = 'Age', aggfunc='count')\n",
    "df_pivot.drop(columns = 'T', inplace = True)"
   ]
  },
  {
   "cell_type": "code",
   "execution_count": 102,
   "id": "ee9d6b1d",
   "metadata": {},
   "outputs": [
    {
     "name": "stdout",
     "output_type": "stream",
     "text": [
      "P-value = 7.128796757994192e-19\n"
     ]
    }
   ],
   "source": [
    "chi, pval, dof, expected = stats.chi2_contingency(df_pivot)\n",
    "print('P-value =', pval)"
   ]
  },
  {
   "cell_type": "markdown",
   "id": "d7384e2f",
   "metadata": {},
   "source": [
    "- H1 채택, 선실 구분에 따른 생존여부에는 차이가 있음"
   ]
  },
  {
   "cell_type": "markdown",
   "id": "87f0167c",
   "metadata": {},
   "source": [
    "###### 연령대에 따라 생존여부에 차이가 있는지 검정\n",
    "- H0 : 차이가 없다  \n",
    "- H1 : 차이가 있다"
   ]
  },
  {
   "cell_type": "markdown",
   "id": "a770384e",
   "metadata": {},
   "source": [
    "1. Chi square 검정"
   ]
  },
  {
   "cell_type": "code",
   "execution_count": 104,
   "id": "1d4968d4",
   "metadata": {},
   "outputs": [
    {
     "data": {
      "text/html": [
       "<div>\n",
       "<style scoped>\n",
       "    .dataframe tbody tr th:only-of-type {\n",
       "        vertical-align: middle;\n",
       "    }\n",
       "\n",
       "    .dataframe tbody tr th {\n",
       "        vertical-align: top;\n",
       "    }\n",
       "\n",
       "    .dataframe thead th {\n",
       "        text-align: right;\n",
       "    }\n",
       "</style>\n",
       "<table border=\"1\" class=\"dataframe\">\n",
       "  <thead>\n",
       "    <tr style=\"text-align: right;\">\n",
       "      <th>Age_gb</th>\n",
       "      <th>Child</th>\n",
       "      <th>Middle</th>\n",
       "      <th>OLD</th>\n",
       "      <th>Prime</th>\n",
       "      <th>Young</th>\n",
       "    </tr>\n",
       "    <tr>\n",
       "      <th>Survived</th>\n",
       "      <th></th>\n",
       "      <th></th>\n",
       "      <th></th>\n",
       "      <th></th>\n",
       "      <th></th>\n",
       "    </tr>\n",
       "  </thead>\n",
       "  <tbody>\n",
       "    <tr>\n",
       "      <th>0</th>\n",
       "      <td>33</td>\n",
       "      <td>251</td>\n",
       "      <td>25</td>\n",
       "      <td>57</td>\n",
       "      <td>183</td>\n",
       "    </tr>\n",
       "    <tr>\n",
       "      <th>1</th>\n",
       "      <td>45</td>\n",
       "      <td>147</td>\n",
       "      <td>10</td>\n",
       "      <td>37</td>\n",
       "      <td>103</td>\n",
       "    </tr>\n",
       "  </tbody>\n",
       "</table>\n",
       "</div>"
      ],
      "text/plain": [
       "Age_gb    Child  Middle  OLD  Prime  Young\n",
       "Survived                                  \n",
       "0            33     251   25     57    183\n",
       "1            45     147   10     37    103"
      ]
     },
     "execution_count": 104,
     "metadata": {},
     "output_type": "execute_result"
    }
   ],
   "source": [
    "df_pivot = df_raw.pivot_table(index = 'Survived', columns = 'Age_gb', values = 'Age', aggfunc='count')\n",
    "df_pivot"
   ]
  },
  {
   "cell_type": "code",
   "execution_count": 105,
   "id": "5cc83269",
   "metadata": {},
   "outputs": [
    {
     "name": "stdout",
     "output_type": "stream",
     "text": [
      "P-value = 0.005154994879112913\n"
     ]
    }
   ],
   "source": [
    "chi, pval, dof, expected = stats.chi2_contingency(df_pivot)\n",
    "print('P-value =', pval)"
   ]
  },
  {
   "cell_type": "markdown",
   "id": "e87e90df",
   "metadata": {},
   "source": [
    "- H0 채택, 연령대에 따른 생존여부에는 차이가 없음"
   ]
  },
  {
   "cell_type": "markdown",
   "id": "d97f2384",
   "metadata": {},
   "source": [
    "###### 요금구간에 따라 생존여부에 차이가 있는지 검정\n",
    "- H0 : 차이가 없다  \n",
    "- H1 : 차이가 있다"
   ]
  },
  {
   "cell_type": "markdown",
   "id": "83489390",
   "metadata": {},
   "source": [
    "1. Chi square 검정"
   ]
  },
  {
   "cell_type": "code",
   "execution_count": 106,
   "id": "fca1132e",
   "metadata": {},
   "outputs": [
    {
     "data": {
      "text/html": [
       "<div>\n",
       "<style scoped>\n",
       "    .dataframe tbody tr th:only-of-type {\n",
       "        vertical-align: middle;\n",
       "    }\n",
       "\n",
       "    .dataframe tbody tr th {\n",
       "        vertical-align: top;\n",
       "    }\n",
       "\n",
       "    .dataframe thead th {\n",
       "        text-align: right;\n",
       "    }\n",
       "</style>\n",
       "<table border=\"1\" class=\"dataframe\">\n",
       "  <thead>\n",
       "    <tr style=\"text-align: right;\">\n",
       "      <th>Fare_gb</th>\n",
       "      <th>0.0</th>\n",
       "      <th>1.0</th>\n",
       "      <th>2.0</th>\n",
       "      <th>3.0</th>\n",
       "      <th>4.0</th>\n",
       "    </tr>\n",
       "    <tr>\n",
       "      <th>Survived</th>\n",
       "      <th></th>\n",
       "      <th></th>\n",
       "      <th></th>\n",
       "      <th></th>\n",
       "      <th></th>\n",
       "    </tr>\n",
       "  </thead>\n",
       "  <tbody>\n",
       "    <tr>\n",
       "      <th>0</th>\n",
       "      <td>498</td>\n",
       "      <td>37</td>\n",
       "      <td>5</td>\n",
       "      <td>3</td>\n",
       "      <td>6</td>\n",
       "    </tr>\n",
       "    <tr>\n",
       "      <th>1</th>\n",
       "      <td>233</td>\n",
       "      <td>70</td>\n",
       "      <td>19</td>\n",
       "      <td>6</td>\n",
       "      <td>14</td>\n",
       "    </tr>\n",
       "  </tbody>\n",
       "</table>\n",
       "</div>"
      ],
      "text/plain": [
       "Fare_gb   0.0  1.0  2.0  3.0  4.0\n",
       "Survived                         \n",
       "0         498   37    5    3    6\n",
       "1         233   70   19    6   14"
      ]
     },
     "execution_count": 106,
     "metadata": {},
     "output_type": "execute_result"
    }
   ],
   "source": [
    "df_pivot = df_raw.pivot_table(index = 'Survived', columns = 'Fare_gb', values = 'Age', aggfunc='count')\n",
    "df_pivot"
   ]
  },
  {
   "cell_type": "code",
   "execution_count": 107,
   "id": "fd735317",
   "metadata": {},
   "outputs": [
    {
     "name": "stdout",
     "output_type": "stream",
     "text": [
      "P-value = 2.4882912074733852e-15\n"
     ]
    }
   ],
   "source": [
    "chi, pval, dof, expected = stats.chi2_contingency(df_pivot)\n",
    "print('P-value =', pval)"
   ]
  },
  {
   "cell_type": "markdown",
   "id": "5a969cab",
   "metadata": {},
   "source": [
    "- H1 채택, 요금 구간에 따른 생존여부에는 차이가 있음"
   ]
  },
  {
   "cell_type": "markdown",
   "id": "dffe6d89",
   "metadata": {},
   "source": [
    "### 상관 분석"
   ]
  },
  {
   "cell_type": "code",
   "execution_count": 108,
   "id": "8f6931cf",
   "metadata": {},
   "outputs": [
    {
     "data": {
      "text/plain": [
       "<AxesSubplot:>"
      ]
     },
     "execution_count": 108,
     "metadata": {},
     "output_type": "execute_result"
    },
    {
     "data": {
      "image/png": "[encoded data removed]",
      "text/plain": [
       "<Figure size 720x360 with 2 Axes>"
      ]
     },
     "metadata": {
      "needs_background": "light"
     },
     "output_type": "display_data"
    }
   ],
   "source": [
    "df_cor = df_raw.corr(method = 'pearson')\n",
    "plt.figure(figsize = (10, 5))\n",
    "sns.heatmap(df_cor, annot = True, cmap = 'viridis')"
   ]
  },
  {
   "cell_type": "markdown",
   "id": "5c96285e",
   "metadata": {},
   "source": [
    "### 주요 영향 인자 도출\n",
    "- 성별  \n",
    "    남성의 사망자가 높게 나타남\n",
    "- 탑승지  \n",
    "     G에서 탑승한 사람의 생존율이 높게 나타남\n",
    "- 승객 등급  \n",
    "     2등급의 승객의 생존율이 높게 나타남\n",
    "- 선실 구분  \n",
    "     G선실의 승객의 생존율이 높게 나타남\n",
    "-  연령대  \n",
    "    Middle 연령대의 승객의 생존율이 높게 나타남\n",
    "- 요금  \n",
    "    요금이 높은 승객의 생존율이 높게 나타남"
   ]
  },
  {
   "cell_type": "markdown",
   "id": "35516803",
   "metadata": {},
   "source": [
    "# 4. 모델링"
   ]
  },
  {
   "cell_type": "code",
   "execution_count": 152,
   "id": "28e0e5de",
   "metadata": {},
   "outputs": [],
   "source": [
    "from sklearn.model_selection import train_test_split\n",
    "from sklearn.tree import DecisionTreeClassifier\n",
    "from sklearn.ensemble import RandomForestClassifier\n",
    "from sklearn.ensemble import GradientBoostingClassifier\n",
    "from xgboost import XGBClassifier\n",
    "\n",
    "from sklearn.preprocessing import StandardScaler\n",
    "\n",
    "from sklearn.svm import SVC\n",
    "\n",
    "from sklearn.model_selection import GridSearchCV\n",
    "from sklearn.model_selection import RandomizedSearchCV\n",
    "\n",
    "from sklearn.metrics import confusion_matrix, classification_report, f1_score, roc_curve, auc"
   ]
  },
  {
   "cell_type": "markdown",
   "id": "a2ac63e9",
   "metadata": {},
   "source": [
    "### 의사결정나무 분석"
   ]
  },
  {
   "cell_type": "code",
   "execution_count": 112,
   "id": "7eb8dbf5",
   "metadata": {},
   "outputs": [
    {
     "data": {
      "text/html": [
       "<div>\n",
       "<style scoped>\n",
       "    .dataframe tbody tr th:only-of-type {\n",
       "        vertical-align: middle;\n",
       "    }\n",
       "\n",
       "    .dataframe tbody tr th {\n",
       "        vertical-align: top;\n",
       "    }\n",
       "\n",
       "    .dataframe thead th {\n",
       "        text-align: right;\n",
       "    }\n",
       "</style>\n",
       "<table border=\"1\" class=\"dataframe\">\n",
       "  <thead>\n",
       "    <tr style=\"text-align: right;\">\n",
       "      <th></th>\n",
       "      <th>Survived</th>\n",
       "      <th>Pclass</th>\n",
       "      <th>Sex</th>\n",
       "      <th>Age</th>\n",
       "      <th>SibSp</th>\n",
       "      <th>Parch</th>\n",
       "      <th>Fare</th>\n",
       "      <th>Cabin</th>\n",
       "      <th>Embarked</th>\n",
       "      <th>Cabin_gb</th>\n",
       "      <th>Age_gb</th>\n",
       "      <th>Fare_gb</th>\n",
       "      <th>Family</th>\n",
       "    </tr>\n",
       "  </thead>\n",
       "  <tbody>\n",
       "    <tr>\n",
       "      <th>0</th>\n",
       "      <td>0</td>\n",
       "      <td>3</td>\n",
       "      <td>male</td>\n",
       "      <td>22</td>\n",
       "      <td>1</td>\n",
       "      <td>0</td>\n",
       "      <td>7.2500</td>\n",
       "      <td>Gita</td>\n",
       "      <td>S</td>\n",
       "      <td>G</td>\n",
       "      <td>Young</td>\n",
       "      <td>0.0</td>\n",
       "      <td>1</td>\n",
       "    </tr>\n",
       "    <tr>\n",
       "      <th>1</th>\n",
       "      <td>1</td>\n",
       "      <td>1</td>\n",
       "      <td>female</td>\n",
       "      <td>38</td>\n",
       "      <td>1</td>\n",
       "      <td>0</td>\n",
       "      <td>71.2833</td>\n",
       "      <td>C85</td>\n",
       "      <td>C</td>\n",
       "      <td>C</td>\n",
       "      <td>Middle</td>\n",
       "      <td>1.0</td>\n",
       "      <td>1</td>\n",
       "    </tr>\n",
       "    <tr>\n",
       "      <th>2</th>\n",
       "      <td>1</td>\n",
       "      <td>3</td>\n",
       "      <td>female</td>\n",
       "      <td>26</td>\n",
       "      <td>0</td>\n",
       "      <td>0</td>\n",
       "      <td>7.9250</td>\n",
       "      <td>Gita</td>\n",
       "      <td>S</td>\n",
       "      <td>G</td>\n",
       "      <td>Young</td>\n",
       "      <td>0.0</td>\n",
       "      <td>0</td>\n",
       "    </tr>\n",
       "    <tr>\n",
       "      <th>3</th>\n",
       "      <td>1</td>\n",
       "      <td>1</td>\n",
       "      <td>female</td>\n",
       "      <td>35</td>\n",
       "      <td>1</td>\n",
       "      <td>0</td>\n",
       "      <td>53.1000</td>\n",
       "      <td>C123</td>\n",
       "      <td>S</td>\n",
       "      <td>C</td>\n",
       "      <td>Middle</td>\n",
       "      <td>1.0</td>\n",
       "      <td>1</td>\n",
       "    </tr>\n",
       "    <tr>\n",
       "      <th>4</th>\n",
       "      <td>0</td>\n",
       "      <td>3</td>\n",
       "      <td>male</td>\n",
       "      <td>35</td>\n",
       "      <td>0</td>\n",
       "      <td>0</td>\n",
       "      <td>8.0500</td>\n",
       "      <td>Gita</td>\n",
       "      <td>S</td>\n",
       "      <td>G</td>\n",
       "      <td>Middle</td>\n",
       "      <td>0.0</td>\n",
       "      <td>0</td>\n",
       "    </tr>\n",
       "  </tbody>\n",
       "</table>\n",
       "</div>"
      ],
      "text/plain": [
       "   Survived  Pclass     Sex  Age  SibSp  Parch     Fare Cabin Embarked  \\\n",
       "0         0       3    male   22      1      0   7.2500  Gita        S   \n",
       "1         1       1  female   38      1      0  71.2833   C85        C   \n",
       "2         1       3  female   26      0      0   7.9250  Gita        S   \n",
       "3         1       1  female   35      1      0  53.1000  C123        S   \n",
       "4         0       3    male   35      0      0   8.0500  Gita        S   \n",
       "\n",
       "  Cabin_gb  Age_gb  Fare_gb  Family  \n",
       "0        G   Young      0.0       1  \n",
       "1        C  Middle      1.0       1  \n",
       "2        G   Young      0.0       0  \n",
       "3        C  Middle      1.0       1  \n",
       "4        G  Middle      0.0       0  "
      ]
     },
     "execution_count": 112,
     "metadata": {},
     "output_type": "execute_result"
    }
   ],
   "source": [
    "df1 = df_raw.drop(columns = ['PassengerId', 'Ticket', 'Name'])\n",
    "df1.head(5)"
   ]
  },
  {
   "cell_type": "code",
   "execution_count": 113,
   "id": "d3cdcdd8",
   "metadata": {},
   "outputs": [],
   "source": [
    "df1_dummy = pd.get_dummies(df1)"
   ]
  },
  {
   "cell_type": "code",
   "execution_count": 114,
   "id": "ec7801a3",
   "metadata": {},
   "outputs": [
    {
     "data": {
      "text/html": [
       "<div>\n",
       "<style scoped>\n",
       "    .dataframe tbody tr th:only-of-type {\n",
       "        vertical-align: middle;\n",
       "    }\n",
       "\n",
       "    .dataframe tbody tr th {\n",
       "        vertical-align: top;\n",
       "    }\n",
       "\n",
       "    .dataframe thead th {\n",
       "        text-align: right;\n",
       "    }\n",
       "</style>\n",
       "<table border=\"1\" class=\"dataframe\">\n",
       "  <thead>\n",
       "    <tr style=\"text-align: right;\">\n",
       "      <th></th>\n",
       "      <th>Survived</th>\n",
       "      <th>Pclass</th>\n",
       "      <th>Age</th>\n",
       "      <th>SibSp</th>\n",
       "      <th>Parch</th>\n",
       "      <th>Fare</th>\n",
       "      <th>Fare_gb</th>\n",
       "      <th>Family</th>\n",
       "      <th>Sex_female</th>\n",
       "      <th>Sex_male</th>\n",
       "      <th>...</th>\n",
       "      <th>Cabin_gb_D</th>\n",
       "      <th>Cabin_gb_E</th>\n",
       "      <th>Cabin_gb_F</th>\n",
       "      <th>Cabin_gb_G</th>\n",
       "      <th>Cabin_gb_T</th>\n",
       "      <th>Age_gb_Child</th>\n",
       "      <th>Age_gb_Middle</th>\n",
       "      <th>Age_gb_OLD</th>\n",
       "      <th>Age_gb_Prime</th>\n",
       "      <th>Age_gb_Young</th>\n",
       "    </tr>\n",
       "  </thead>\n",
       "  <tbody>\n",
       "    <tr>\n",
       "      <th>0</th>\n",
       "      <td>0</td>\n",
       "      <td>3</td>\n",
       "      <td>22</td>\n",
       "      <td>1</td>\n",
       "      <td>0</td>\n",
       "      <td>7.2500</td>\n",
       "      <td>0.0</td>\n",
       "      <td>1</td>\n",
       "      <td>0</td>\n",
       "      <td>1</td>\n",
       "      <td>...</td>\n",
       "      <td>0</td>\n",
       "      <td>0</td>\n",
       "      <td>0</td>\n",
       "      <td>1</td>\n",
       "      <td>0</td>\n",
       "      <td>0</td>\n",
       "      <td>0</td>\n",
       "      <td>0</td>\n",
       "      <td>0</td>\n",
       "      <td>1</td>\n",
       "    </tr>\n",
       "    <tr>\n",
       "      <th>1</th>\n",
       "      <td>1</td>\n",
       "      <td>1</td>\n",
       "      <td>38</td>\n",
       "      <td>1</td>\n",
       "      <td>0</td>\n",
       "      <td>71.2833</td>\n",
       "      <td>1.0</td>\n",
       "      <td>1</td>\n",
       "      <td>1</td>\n",
       "      <td>0</td>\n",
       "      <td>...</td>\n",
       "      <td>0</td>\n",
       "      <td>0</td>\n",
       "      <td>0</td>\n",
       "      <td>0</td>\n",
       "      <td>0</td>\n",
       "      <td>0</td>\n",
       "      <td>1</td>\n",
       "      <td>0</td>\n",
       "      <td>0</td>\n",
       "      <td>0</td>\n",
       "    </tr>\n",
       "    <tr>\n",
       "      <th>2</th>\n",
       "      <td>1</td>\n",
       "      <td>3</td>\n",
       "      <td>26</td>\n",
       "      <td>0</td>\n",
       "      <td>0</td>\n",
       "      <td>7.9250</td>\n",
       "      <td>0.0</td>\n",
       "      <td>0</td>\n",
       "      <td>1</td>\n",
       "      <td>0</td>\n",
       "      <td>...</td>\n",
       "      <td>0</td>\n",
       "      <td>0</td>\n",
       "      <td>0</td>\n",
       "      <td>1</td>\n",
       "      <td>0</td>\n",
       "      <td>0</td>\n",
       "      <td>0</td>\n",
       "      <td>0</td>\n",
       "      <td>0</td>\n",
       "      <td>1</td>\n",
       "    </tr>\n",
       "    <tr>\n",
       "      <th>3</th>\n",
       "      <td>1</td>\n",
       "      <td>1</td>\n",
       "      <td>35</td>\n",
       "      <td>1</td>\n",
       "      <td>0</td>\n",
       "      <td>53.1000</td>\n",
       "      <td>1.0</td>\n",
       "      <td>1</td>\n",
       "      <td>1</td>\n",
       "      <td>0</td>\n",
       "      <td>...</td>\n",
       "      <td>0</td>\n",
       "      <td>0</td>\n",
       "      <td>0</td>\n",
       "      <td>0</td>\n",
       "      <td>0</td>\n",
       "      <td>0</td>\n",
       "      <td>1</td>\n",
       "      <td>0</td>\n",
       "      <td>0</td>\n",
       "      <td>0</td>\n",
       "    </tr>\n",
       "    <tr>\n",
       "      <th>4</th>\n",
       "      <td>0</td>\n",
       "      <td>3</td>\n",
       "      <td>35</td>\n",
       "      <td>0</td>\n",
       "      <td>0</td>\n",
       "      <td>8.0500</td>\n",
       "      <td>0.0</td>\n",
       "      <td>0</td>\n",
       "      <td>0</td>\n",
       "      <td>1</td>\n",
       "      <td>...</td>\n",
       "      <td>0</td>\n",
       "      <td>0</td>\n",
       "      <td>0</td>\n",
       "      <td>1</td>\n",
       "      <td>0</td>\n",
       "      <td>0</td>\n",
       "      <td>1</td>\n",
       "      <td>0</td>\n",
       "      <td>0</td>\n",
       "      <td>0</td>\n",
       "    </tr>\n",
       "  </tbody>\n",
       "</table>\n",
       "<p>5 rows × 174 columns</p>\n",
       "</div>"
      ],
      "text/plain": [
       "   Survived  Pclass  Age  SibSp  Parch     Fare  Fare_gb  Family  Sex_female  \\\n",
       "0         0       3   22      1      0   7.2500      0.0       1           0   \n",
       "1         1       1   38      1      0  71.2833      1.0       1           1   \n",
       "2         1       3   26      0      0   7.9250      0.0       0           1   \n",
       "3         1       1   35      1      0  53.1000      1.0       1           1   \n",
       "4         0       3   35      0      0   8.0500      0.0       0           0   \n",
       "\n",
       "   Sex_male  ...  Cabin_gb_D  Cabin_gb_E  Cabin_gb_F  Cabin_gb_G  Cabin_gb_T  \\\n",
       "0         1  ...           0           0           0           1           0   \n",
       "1         0  ...           0           0           0           0           0   \n",
       "2         0  ...           0           0           0           1           0   \n",
       "3         0  ...           0           0           0           0           0   \n",
       "4         1  ...           0           0           0           1           0   \n",
       "\n",
       "   Age_gb_Child  Age_gb_Middle  Age_gb_OLD  Age_gb_Prime  Age_gb_Young  \n",
       "0             0              0           0             0             1  \n",
       "1             0              1           0             0             0  \n",
       "2             0              0           0             0             1  \n",
       "3             0              1           0             0             0  \n",
       "4             0              1           0             0             0  \n",
       "\n",
       "[5 rows x 174 columns]"
      ]
     },
     "execution_count": 114,
     "metadata": {},
     "output_type": "execute_result"
    }
   ],
   "source": [
    "df1_dummy.head(5)"
   ]
  },
  {
   "cell_type": "code",
   "execution_count": 115,
   "id": "65cca3ca",
   "metadata": {},
   "outputs": [
    {
     "name": "stdout",
     "output_type": "stream",
     "text": [
      "학습용 데이터 크기:  (623, 174)\n",
      "평가용 데이터 크기:  (268, 174)\n"
     ]
    }
   ],
   "source": [
    "df_train, df_test = train_test_split(df1_dummy, test_size = 0.3, random_state = 1234)\n",
    "print('학습용 데이터 크기: ', df_train.shape)\n",
    "print('평가용 데이터 크기: ', df_test.shape)"
   ]
  },
  {
   "cell_type": "code",
   "execution_count": 116,
   "id": "ccab8950",
   "metadata": {},
   "outputs": [],
   "source": [
    "df_train_y = df_train['Survived']\n",
    "df_train_x = df_train.drop(columns = 'Survived')\n",
    "\n",
    "df_test_y = df_test['Survived']\n",
    "df_test_x = df_test.drop(columns = 'Survived')"
   ]
  },
  {
   "cell_type": "code",
   "execution_count": 117,
   "id": "4ef6fe84",
   "metadata": {},
   "outputs": [
    {
     "name": "stdout",
     "output_type": "stream",
     "text": [
      "(623,)\n",
      "(623, 173)\n",
      "(268,)\n",
      "(268, 173)\n"
     ]
    }
   ],
   "source": [
    "print(df_train_y.shape)\n",
    "print(df_train_x.shape)\n",
    "print(df_test_y.shape)\n",
    "print(df_test_x.shape)"
   ]
  },
  {
   "cell_type": "markdown",
   "id": "196d72e0",
   "metadata": {},
   "source": [
    "###### Grid search 이용"
   ]
  },
  {
   "cell_type": "code",
   "execution_count": 120,
   "id": "d0a42d15",
   "metadata": {},
   "outputs": [],
   "source": [
    "para_depth = [depth for depth in range(1, 11)]\n",
    "para_split = [split for split in range(2, 31, 2)]\n",
    "para_leaf = [leaf for leaf in range(1, 11)]"
   ]
  },
  {
   "cell_type": "code",
   "execution_count": 121,
   "id": "cb94bef7",
   "metadata": {},
   "outputs": [
    {
     "name": "stdout",
     "output_type": "stream",
     "text": [
      "best estimator model: \n",
      "DecisionTreeClassifier(max_depth=10, min_samples_split=4, random_state=1234)\n",
      "\n",
      "best parameter: \n",
      "{'max_depth': 10, 'min_samples_leaf': 1, 'min_samples_split': 4}\n",
      "\n",
      "best score: \n",
      "0.752\n"
     ]
    }
   ],
   "source": [
    "estimator = DecisionTreeClassifier(random_state=1234)\n",
    "\n",
    "param_grid = {'max_depth': para_depth, 'min_samples_split': para_split, 'min_samples_leaf': para_leaf}\n",
    "grid_dt = GridSearchCV(estimator, param_grid,scoring = 'f1', n_jobs = -1)\n",
    "grid_dt.fit(df_train_x, df_train_y)\n",
    "\n",
    "print('best estimator model: \\n{}'.format(grid_dt.best_estimator_))\n",
    "print('\\nbest parameter: \\n{}'.format(grid_dt.best_params_))\n",
    "print('\\nbest score: \\n{}'.format(grid_dt.best_score_.round(3)))"
   ]
  },
  {
   "cell_type": "code",
   "execution_count": 140,
   "id": "771172e1",
   "metadata": {},
   "outputs": [],
   "source": [
    "dt_final = DecisionTreeClassifier(random_state=1234, max_depth = 10, min_samples_leaf=1, min_samples_split= 4)\n",
    "dt_final.fit(df_train_x, df_train_y)\n",
    "\n",
    "pred_train_dt = dt_final.predict(df_train_x)\n",
    "pred_test_dt = dt_final.predict(df_test_x)\n",
    "\n"
   ]
  },
  {
   "cell_type": "code",
   "execution_count": 141,
   "id": "8dcd33ab",
   "metadata": {},
   "outputs": [
    {
     "name": "stdout",
     "output_type": "stream",
     "text": [
      "학습용 데이터 Accuracy:  0.9486356340288925\n",
      "학습용 데이터 Accuracy:  0.8395522388059702\n",
      "학습용 데이터 F1 score:  0.9307359307359309\n",
      "평가용 데이터 F1 score:  0.7881773399014778\n",
      "\n",
      "학습용 데이터 혼동행렬: \n",
      " [[376   7]\n",
      " [ 25 215]]\n",
      "평가용 데이터 혼동행렬: \n",
      " [[145  21]\n",
      " [ 22  80]]\n",
      "\n",
      "학습용 데이터\n",
      "               precision    recall  f1-score   support\n",
      "\n",
      "           0       0.94      0.98      0.96       383\n",
      "           1       0.97      0.90      0.93       240\n",
      "\n",
      "    accuracy                           0.95       623\n",
      "   macro avg       0.95      0.94      0.94       623\n",
      "weighted avg       0.95      0.95      0.95       623\n",
      "\n",
      "평가용 데이터\n",
      "               precision    recall  f1-score   support\n",
      "\n",
      "           0       0.87      0.87      0.87       166\n",
      "           1       0.79      0.78      0.79       102\n",
      "\n",
      "    accuracy                           0.84       268\n",
      "   macro avg       0.83      0.83      0.83       268\n",
      "weighted avg       0.84      0.84      0.84       268\n",
      "\n"
     ]
    }
   ],
   "source": [
    "print('학습용 데이터 Accuracy: ', dt_final.score(df_train_x, df_train_y))\n",
    "print('학습용 데이터 Accuracy: ', dt_final.score(df_test_x, df_test_y))\n",
    "\n",
    "print('학습용 데이터 F1 score: ', f1_score(df_train_y, pred_train_dt))\n",
    "print('평가용 데이터 F1 score: ', f1_score(df_test_y, pred_test_dt))\n",
    "\n",
    "print('\\n학습용 데이터 혼동행렬: \\n', confusion_matrix(df_train_y, pred_train_dt))\n",
    "print('평가용 데이터 혼동행렬: \\n', confusion_matrix(df_test_y, pred_test_dt))\n",
    "\n",
    "print('\\n학습용 데이터\\n', classification_report(df_train_y, pred_train_dt))\n",
    "print('평가용 데이터\\n', classification_report(df_test_y, pred_test_dt))"
   ]
  },
  {
   "cell_type": "markdown",
   "id": "bc3a9cc2",
   "metadata": {},
   "source": [
    "### 랜덤 포레스트"
   ]
  },
  {
   "cell_type": "markdown",
   "id": "f6827fa1",
   "metadata": {},
   "source": [
    "###### GridSearch 이용"
   ]
  },
  {
   "cell_type": "code",
   "execution_count": 126,
   "id": "17d01461",
   "metadata": {},
   "outputs": [
    {
     "name": "stdout",
     "output_type": "stream",
     "text": [
      "best estimator model: \n",
      "RandomForestClassifier(max_depth=10, min_samples_split=4, random_state=1234)\n",
      "\n",
      "best parameter: \n",
      "{'max_depth': 10, 'min_samples_leaf': 1, 'min_samples_split': 4}\n",
      "\n",
      "best score: \n",
      "0.758\n"
     ]
    }
   ],
   "source": [
    "estimator = RandomForestClassifier(random_state=1234)\n",
    "\n",
    "param_grid = {'max_depth': para_depth, 'min_samples_split': para_split, 'min_samples_leaf': para_leaf}\n",
    "grid_rf = GridSearchCV(estimator, param_grid,scoring = 'f1', n_jobs = -1)\n",
    "grid_rf.fit(df_train_x, df_train_y)\n",
    "\n",
    "print('best estimator model: \\n{}'.format(grid_rf.best_estimator_))\n",
    "print('\\nbest parameter: \\n{}'.format(grid_rf.best_params_))\n",
    "print('\\nbest score: \\n{}'.format(grid_rf.best_score_.round(3)))"
   ]
  },
  {
   "cell_type": "code",
   "execution_count": 142,
   "id": "530a0951",
   "metadata": {},
   "outputs": [],
   "source": [
    "rf_final = RandomForestClassifier(random_state=1234, max_depth = 10, min_samples_leaf=1, min_samples_split= 4)\n",
    "rf_final.fit(df_train_x, df_train_y)\n",
    "\n",
    "pred_train_rf = rf_final.predict(df_train_x)\n",
    "pred_test_rf = rf_final.predict(df_test_x)"
   ]
  },
  {
   "cell_type": "code",
   "execution_count": 143,
   "id": "b3bce253",
   "metadata": {},
   "outputs": [
    {
     "name": "stdout",
     "output_type": "stream",
     "text": [
      "학습용 데이터 Accuracy:  0.9149277688603531\n",
      "학습용 데이터 Accuracy:  0.8432835820895522\n",
      "학습용 데이터 F1 score:  0.8819599109131402\n",
      "평가용 데이터 F1 score:  0.7666666666666666\n",
      "\n",
      "학습용 데이터 혼동행렬: \n",
      " [[372  11]\n",
      " [ 42 198]]\n",
      "평가용 데이터 혼동행렬: \n",
      " [[157   9]\n",
      " [ 33  69]]\n",
      "\n",
      "학습용 데이터\n",
      "               precision    recall  f1-score   support\n",
      "\n",
      "           0       0.90      0.97      0.93       383\n",
      "           1       0.95      0.82      0.88       240\n",
      "\n",
      "    accuracy                           0.91       623\n",
      "   macro avg       0.92      0.90      0.91       623\n",
      "weighted avg       0.92      0.91      0.91       623\n",
      "\n",
      "평가용 데이터\n",
      "               precision    recall  f1-score   support\n",
      "\n",
      "           0       0.83      0.95      0.88       166\n",
      "           1       0.88      0.68      0.77       102\n",
      "\n",
      "    accuracy                           0.84       268\n",
      "   macro avg       0.86      0.81      0.82       268\n",
      "weighted avg       0.85      0.84      0.84       268\n",
      "\n"
     ]
    }
   ],
   "source": [
    "print('학습용 데이터 Accuracy: ', rf_final.score(df_train_x, df_train_y))\n",
    "print('학습용 데이터 Accuracy: ', rf_final.score(df_test_x, df_test_y))\n",
    "\n",
    "print('학습용 데이터 F1 score: ', f1_score(df_train_y, pred_train_rf))\n",
    "print('평가용 데이터 F1 score: ', f1_score(df_test_y, pred_test_rf))\n",
    "\n",
    "print('\\n학습용 데이터 혼동행렬: \\n', confusion_matrix(df_train_y, pred_train_rf))\n",
    "print('평가용 데이터 혼동행렬: \\n', confusion_matrix(df_test_y, pred_test_rf))\n",
    "\n",
    "print('\\n학습용 데이터\\n', classification_report(df_train_y, pred_train_rf))\n",
    "print('평가용 데이터\\n', classification_report(df_test_y, pred_test_rf))"
   ]
  },
  {
   "cell_type": "markdown",
   "id": "9aba8c5c",
   "metadata": {},
   "source": [
    "### 그래디언트 부스팅"
   ]
  },
  {
   "cell_type": "markdown",
   "id": "faadd2de",
   "metadata": {},
   "source": [
    "###### Random Search"
   ]
  },
  {
   "cell_type": "code",
   "execution_count": 129,
   "id": "b958e392",
   "metadata": {},
   "outputs": [],
   "source": [
    "para_lr = [lr * 0.1 for lr in range(1, 6)]\n",
    "para_depth = [depth for depth in range(1, 10)]\n",
    "\n",
    "estimator = GradientBoostingClassifier(n_estimators=100, random_state=1234)\n",
    "param_grid = {'learning_rate': para_lr, 'max_depth': para_depth}"
   ]
  },
  {
   "cell_type": "code",
   "execution_count": 136,
   "id": "591308a7",
   "metadata": {},
   "outputs": [
    {
     "name": "stdout",
     "output_type": "stream",
     "text": [
      "best estimator model: \n",
      "GradientBoostingClassifier(learning_rate=0.2, max_depth=5, random_state=1234)\n",
      "\n",
      "best parameter: \n",
      "{'max_depth': 5, 'learning_rate': 0.2}\n",
      "\n",
      "best score: \n",
      "0.74\n"
     ]
    }
   ],
   "source": [
    "grid_gb = RandomizedSearchCV(estimator, param_grid, scoring = 'f1', n_jobs = -1)\n",
    "grid_gb.fit(df_train_x, df_train_y)\n",
    "\n",
    "print('best estimator model: \\n{}'.format(grid_gb.best_estimator_))\n",
    "print('\\nbest parameter: \\n{}'.format(grid_gb.best_params_))\n",
    "print('\\nbest score: \\n{}'.format(grid_gb.best_score_.round(3)))"
   ]
  },
  {
   "cell_type": "code",
   "execution_count": 144,
   "id": "cb40aab8",
   "metadata": {},
   "outputs": [],
   "source": [
    "gb_final = GradientBoostingClassifier(random_state=1234, max_depth = 5, n_estimators=100, learning_rate=0.2)\n",
    "gb_final.fit(df_train_x, df_train_y)\n",
    "\n",
    "pred_train_gb = gb_final.predict(df_train_x)\n",
    "pred_test_gb = gb_final.predict(df_test_x)"
   ]
  },
  {
   "cell_type": "code",
   "execution_count": 145,
   "id": "3d1d88a0",
   "metadata": {},
   "outputs": [
    {
     "name": "stdout",
     "output_type": "stream",
     "text": [
      "학습용 데이터 Accuracy:  0.9678972712680578\n",
      "학습용 데이터 Accuracy:  0.832089552238806\n",
      "학습용 데이터 F1 score:  0.9572649572649572\n",
      "평가용 데이터 F1 score:  0.7567567567567568\n",
      "\n",
      "학습용 데이터 혼동행렬: \n",
      " [[379   4]\n",
      " [ 16 224]]\n",
      "평가용 데이터 혼동행렬: \n",
      " [[153  13]\n",
      " [ 32  70]]\n",
      "\n",
      "학습용 데이터\n",
      "               precision    recall  f1-score   support\n",
      "\n",
      "           0       0.96      0.99      0.97       383\n",
      "           1       0.98      0.93      0.96       240\n",
      "\n",
      "    accuracy                           0.97       623\n",
      "   macro avg       0.97      0.96      0.97       623\n",
      "weighted avg       0.97      0.97      0.97       623\n",
      "\n",
      "평가용 데이터\n",
      "               precision    recall  f1-score   support\n",
      "\n",
      "           0       0.83      0.92      0.87       166\n",
      "           1       0.84      0.69      0.76       102\n",
      "\n",
      "    accuracy                           0.83       268\n",
      "   macro avg       0.84      0.80      0.81       268\n",
      "weighted avg       0.83      0.83      0.83       268\n",
      "\n"
     ]
    }
   ],
   "source": [
    "print('학습용 데이터 Accuracy: ', gb_final.score(df_train_x, df_train_y))\n",
    "print('학습용 데이터 Accuracy: ', gb_final.score(df_test_x, df_test_y))\n",
    "\n",
    "print('학습용 데이터 F1 score: ', f1_score(df_train_y, pred_train_gb))\n",
    "print('평가용 데이터 F1 score: ', f1_score(df_test_y, pred_test_gb))\n",
    "\n",
    "print('\\n학습용 데이터 혼동행렬: \\n', confusion_matrix(df_train_y, pred_train_gb))\n",
    "print('평가용 데이터 혼동행렬: \\n', confusion_matrix(df_test_y, pred_test_gb))\n",
    "\n",
    "print('\\n학습용 데이터\\n', classification_report(df_train_y, pred_train_gb))\n",
    "print('평가용 데이터\\n', classification_report(df_test_y, pred_test_gb))"
   ]
  },
  {
   "cell_type": "markdown",
   "id": "90276c2e",
   "metadata": {},
   "source": [
    "### XGBoost"
   ]
  },
  {
   "cell_type": "markdown",
   "id": "4b50753d",
   "metadata": {},
   "source": [
    "###### grid search"
   ]
  },
  {
   "cell_type": "code",
   "execution_count": 146,
   "id": "4fd2ed3d",
   "metadata": {},
   "outputs": [],
   "source": [
    "para_lr = [lr * 0.1 for lr in range(1, 6)]\n",
    "para_depth = [depth for depth in range(1, 10)]\n",
    "\n",
    "estimator = XGBClassifier(n_estimators = 100, random_state = 1234)\n",
    "param_grid = {'learning_rate': para_lr, 'max_depth': para_depth}"
   ]
  },
  {
   "cell_type": "code",
   "execution_count": 147,
   "id": "e3a8dcbc",
   "metadata": {},
   "outputs": [
    {
     "name": "stdout",
     "output_type": "stream",
     "text": [
      "[17:19:50] WARNING: C:/Users/Administrator/workspace/xgboost-win64_release_1.5.1/src/learner.cc:1115: Starting in XGBoost 1.3.0, the default evaluation metric used with the objective 'binary:logistic' was changed from 'error' to 'logloss'. Explicitly set eval_metric if you'd like to restore the old behavior.\n",
      "best estimator model: \n",
      "XGBClassifier(base_score=0.5, booster='gbtree', colsample_bylevel=1,\n",
      "              colsample_bynode=1, colsample_bytree=1, enable_categorical=False,\n",
      "              gamma=0, gpu_id=-1, importance_type=None,\n",
      "              interaction_constraints='', learning_rate=0.1, max_delta_step=0,\n",
      "              max_depth=4, min_child_weight=1, missing=nan,\n",
      "              monotone_constraints='()', n_estimators=100, n_jobs=8,\n",
      "              num_parallel_tree=1, predictor='auto', random_state=1234,\n",
      "              reg_alpha=0, reg_lambda=1, scale_pos_weight=1, subsample=1,\n",
      "              tree_method='exact', validate_parameters=1, verbosity=None)\n",
      "\n",
      "best parameter: \n",
      "{'learning_rate': 0.1, 'max_depth': 4}\n",
      "\n",
      "best score: \n",
      "0.744\n"
     ]
    },
    {
     "name": "stderr",
     "output_type": "stream",
     "text": [
      "C:\\Users\\User\\anaconda3\\lib\\site-packages\\xgboost\\sklearn.py:1224: UserWarning: The use of label encoder in XGBClassifier is deprecated and will be removed in a future release. To remove this warning, do the following: 1) Pass option use_label_encoder=False when constructing XGBClassifier object; and 2) Encode your labels (y) as integers starting with 0, i.e. 0, 1, 2, ..., [num_class - 1].\n",
      "  warnings.warn(label_encoder_deprecation_msg, UserWarning)\n"
     ]
    }
   ],
   "source": [
    "grid_xgb = GridSearchCV(estimator, param_grid, scoring='f1', n_jobs=-1)\n",
    "grid_xgb.fit(df_train_x, df_train_y)\n",
    "\n",
    "print('best estimator model: \\n{}'.format(grid_xgb.best_estimator_))\n",
    "print('\\nbest parameter: \\n{}'.format(grid_xgb.best_params_))\n",
    "print('\\nbest score: \\n{}'.format(grid_xgb.best_score_.round(3)))"
   ]
  },
  {
   "cell_type": "code",
   "execution_count": 148,
   "id": "b67f81d7",
   "metadata": {},
   "outputs": [
    {
     "name": "stdout",
     "output_type": "stream",
     "text": [
      "[17:21:21] WARNING: C:/Users/Administrator/workspace/xgboost-win64_release_1.5.1/src/learner.cc:1115: Starting in XGBoost 1.3.0, the default evaluation metric used with the objective 'binary:logistic' was changed from 'error' to 'logloss'. Explicitly set eval_metric if you'd like to restore the old behavior.\n"
     ]
    },
    {
     "name": "stderr",
     "output_type": "stream",
     "text": [
      "C:\\Users\\User\\anaconda3\\lib\\site-packages\\xgboost\\sklearn.py:1224: UserWarning: The use of label encoder in XGBClassifier is deprecated and will be removed in a future release. To remove this warning, do the following: 1) Pass option use_label_encoder=False when constructing XGBClassifier object; and 2) Encode your labels (y) as integers starting with 0, i.e. 0, 1, 2, ..., [num_class - 1].\n",
      "  warnings.warn(label_encoder_deprecation_msg, UserWarning)\n"
     ]
    }
   ],
   "source": [
    "xgb_final = XGBClassifier(random_state=1234, max_depth = 4, n_estimators=100, learning_rate=0.1)\n",
    "xgb_final.fit(df_train_x, df_train_y)\n",
    "\n",
    "pred_train_xgb = xgb_final.predict(df_train_x)\n",
    "pred_test_xgb = xgb_final.predict(df_test_x)"
   ]
  },
  {
   "cell_type": "code",
   "execution_count": 149,
   "id": "f5e8261b",
   "metadata": {},
   "outputs": [
    {
     "name": "stdout",
     "output_type": "stream",
     "text": [
      "학습용 데이터 Accuracy:  0.9101123595505618\n",
      "학습용 데이터 Accuracy:  0.832089552238806\n",
      "학습용 데이터 F1 score:  0.9572649572649572\n",
      "평가용 데이터 F1 score:  0.7567567567567568\n",
      "\n",
      "학습용 데이터 혼동행렬: \n",
      " [[379   4]\n",
      " [ 16 224]]\n",
      "평가용 데이터 혼동행렬: \n",
      " [[153  13]\n",
      " [ 32  70]]\n",
      "\n",
      "학습용 데이터\n",
      "               precision    recall  f1-score   support\n",
      "\n",
      "           0       0.96      0.99      0.97       383\n",
      "           1       0.98      0.93      0.96       240\n",
      "\n",
      "    accuracy                           0.97       623\n",
      "   macro avg       0.97      0.96      0.97       623\n",
      "weighted avg       0.97      0.97      0.97       623\n",
      "\n",
      "평가용 데이터\n",
      "               precision    recall  f1-score   support\n",
      "\n",
      "           0       0.83      0.92      0.87       166\n",
      "           1       0.84      0.69      0.76       102\n",
      "\n",
      "    accuracy                           0.83       268\n",
      "   macro avg       0.84      0.80      0.81       268\n",
      "weighted avg       0.83      0.83      0.83       268\n",
      "\n"
     ]
    }
   ],
   "source": [
    "print('학습용 데이터 Accuracy: ', xgb_final.score(df_train_x, df_train_y))\n",
    "print('학습용 데이터 Accuracy: ', gb_final.score(df_test_x, df_test_y))\n",
    "\n",
    "print('학습용 데이터 F1 score: ', f1_score(df_train_y, pred_train_gb))\n",
    "print('평가용 데이터 F1 score: ', f1_score(df_test_y, pred_test_gb))\n",
    "\n",
    "print('\\n학습용 데이터 혼동행렬: \\n', confusion_matrix(df_train_y, pred_train_gb))\n",
    "print('평가용 데이터 혼동행렬: \\n', confusion_matrix(df_test_y, pred_test_gb))\n",
    "\n",
    "print('\\n학습용 데이터\\n', classification_report(df_train_y, pred_train_gb))\n",
    "print('평가용 데이터\\n', classification_report(df_test_y, pred_test_gb))"
   ]
  },
  {
   "cell_type": "markdown",
   "id": "8b1d7b9f",
   "metadata": {},
   "source": [
    "### SVM"
   ]
  },
  {
   "cell_type": "code",
   "execution_count": 150,
   "id": "09de5c45",
   "metadata": {},
   "outputs": [],
   "source": [
    "v_feature_name = df_train_x.columns\n",
    "\n",
    "scaler = StandardScaler()\n",
    "df_scaled_train_x = scaler.fit_transform(df_train_x)\n",
    "df_scaled_train_x = pd.DataFrame(df_scaled_train_x, columns = v_feature_name)\n",
    "\n",
    "df_scaled_test_x = scaler.fit_transform(df_test_x)\n",
    "df_scaled_test_x = pd.DataFrame(df_scaled_test_x, columns = v_feature_name)"
   ]
  },
  {
   "cell_type": "code",
   "execution_count": 154,
   "id": "6656efc0",
   "metadata": {},
   "outputs": [
    {
     "name": "stdout",
     "output_type": "stream",
     "text": [
      "학습용 데이터 크기:  0.8346709470304976\n",
      "평가용 데이터 크기:  0.7947761194029851\n"
     ]
    }
   ],
   "source": [
    "svm_scaled = SVC(random_state=1234)\n",
    "svm_scaled.fit(df_scaled_train_x, df_train_y)\n",
    "\n",
    "print('학습용 데이터 크기: ', svm_scaled.score(df_scaled_train_x, df_train_y))\n",
    "print('평가용 데이터 크기: ', svm_scaled.score(df_scaled_test_x, df_test_y))"
   ]
  },
  {
   "cell_type": "markdown",
   "id": "2b1f5c4c",
   "metadata": {},
   "source": [
    "###### gridSearch"
   ]
  },
  {
   "cell_type": "code",
   "execution_count": 156,
   "id": "f05af746",
   "metadata": {},
   "outputs": [],
   "source": [
    "para_c = [10 ** c for c in range(-2, 2)]\n",
    "para_gamma = [10 ** gamma for gamma in range(-2, 2)]\n",
    "\n",
    "estimator = SVC(random_state=1234)\n",
    "param_grid = {'C': para_c, 'gamma': para_gamma}"
   ]
  },
  {
   "cell_type": "code",
   "execution_count": 157,
   "id": "21508059",
   "metadata": {},
   "outputs": [
    {
     "name": "stdout",
     "output_type": "stream",
     "text": [
      "best estimator model: \n",
      "SVC(C=10, gamma=0.01, random_state=1234)\n",
      "\n",
      "best parameter: \n",
      "{'C': 10, 'gamma': 0.01}\n",
      "\n",
      "best score: \n",
      "0.749\n"
     ]
    }
   ],
   "source": [
    "grid_svc = GridSearchCV(estimator, param_grid, scoring = 'f1', n_jobs= -1)\n",
    "grid_svc.fit(df_scaled_train_x, df_train_y)\n",
    "\n",
    "print('best estimator model: \\n{}'.format(grid_svc.best_estimator_))\n",
    "print('\\nbest parameter: \\n{}'.format(grid_svc.best_params_))\n",
    "print('\\nbest score: \\n{}'.format(grid_svc.best_score_.round(3)))"
   ]
  },
  {
   "cell_type": "code",
   "execution_count": null,
   "id": "d0eefb32",
   "metadata": {},
   "outputs": [],
   "source": [
    "svc_final = SVC(random_state=1234, C = 10, n_estimators=100, gamma = 0.01)\n",
    "svc_final.fit(df_scaled_train_x, df_train_y)\n",
    "\n",
    "pred_train_svc = svc_final.predict(df_train_x)\n",
    "pred_test_svc = svc_final.predict(df_test_x)\n"
   ]
  }
 ],
 "metadata": {
  "kernelspec": {
   "display_name": "Python 3 (ipykernel)",
   "language": "python",
   "name": "python3"
  },
  "language_info": {
   "codemirror_mode": {
    "name": "ipython",
    "version": 3
   },
   "file_extension": ".py",
   "mimetype": "text/x-python",
   "name": "python",
   "nbconvert_exporter": "python",
   "pygments_lexer": "ipython3",
   "version": "3.8.12"
  }
 },
 "nbformat": 4,
 "nbformat_minor": 5
}
